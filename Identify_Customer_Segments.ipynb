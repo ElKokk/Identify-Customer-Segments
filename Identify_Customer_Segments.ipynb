{
 "cells": [
  {
   "cell_type": "markdown",
   "metadata": {},
   "source": [
    "# Project: Identify Customer Segments\n",
    "\n",
    "In this project, you will apply unsupervised learning techniques to identify segments of the population that form the core customer base for a mail-order sales company in Germany. These segments can then be used to direct marketing campaigns towards audiences that will have the highest expected rate of returns. The data that you will use has been provided by our partners at Bertelsmann Arvato Analytics, and represents a real-life data science task.\n",
    "\n",
    "This notebook will help you complete this task by providing a framework within which you will perform your analysis steps. In each step of the project, you will see some text describing the subtask that you will perform, followed by one or more code cells for you to complete your work. **Feel free to add additional code and markdown cells as you go along so that you can explore everything in precise chunks.** The code cells provided in the base template will outline only the major tasks, and will usually not be enough to cover all of the minor tasks that comprise it.\n",
    "\n",
    "It should be noted that while there will be precise guidelines on how you should handle certain tasks in the project, there will also be places where an exact specification is not provided. **There will be times in the project where you will need to make and justify your own decisions on how to treat the data.** These are places where there may not be only one way to handle the data. In real-life tasks, there may be many valid ways to approach an analysis task. One of the most important things you can do is clearly document your approach so that other scientists can understand the decisions you've made.\n",
    "\n",
    "At the end of most sections, there will be a Markdown cell labeled **Discussion**. In these cells, you will report your findings for the completed section, as well as document the decisions that you made in your approach to each subtask. **Your project will be evaluated not just on the code used to complete the tasks outlined, but also your communication about your observations and conclusions at each stage.**"
   ]
  },
  {
   "cell_type": "code",
   "execution_count": 93,
   "metadata": {},
   "outputs": [
    {
     "data": {
      "text/plain": [
       "'\\nImport note: The classroom currently uses sklearn version 0.19.\\nIf you need to use an imputer, it is available in sklearn.preprocessing.Imputer,\\ninstead of sklearn.impute as in newer versions of sklearn.\\n'"
      ]
     },
     "execution_count": 93,
     "metadata": {},
     "output_type": "execute_result"
    }
   ],
   "source": [
    "# import libraries here; add more as necessary\n",
    "import numpy as np\n",
    "import pandas as pd\n",
    "import matplotlib.pyplot as plt\n",
    "import seaborn as sns\n",
    "from sklearn.preprocessing import Imputer,StandardScaler\n",
    "from sklearn.decomposition import PCA\n",
    "from sklearn.cluster import KMeans\n",
    "\n",
    "\n",
    "# magic word for producing visualizations in notebook\n",
    "%matplotlib inline\n",
    "\n",
    "'''\n",
    "Import note: The classroom currently uses sklearn version 0.19.\n",
    "If you need to use an imputer, it is available in sklearn.preprocessing.Imputer,\n",
    "instead of sklearn.impute as in newer versions of sklearn.\n",
    "'''"
   ]
  },
  {
   "cell_type": "markdown",
   "metadata": {},
   "source": [
    "### Step 0: Load the Data\n",
    "\n",
    "There are four files associated with this project (not including this one):\n",
    "\n",
    "- `Udacity_AZDIAS_Subset.csv`: Demographics data for the general population of Germany; 891211 persons (rows) x 85 features (columns).\n",
    "- `Udacity_CUSTOMERS_Subset.csv`: Demographics data for customers of a mail-order company; 191652 persons (rows) x 85 features (columns).\n",
    "- `Data_Dictionary.md`: Detailed information file about the features in the provided datasets.\n",
    "- `AZDIAS_Feature_Summary.csv`: Summary of feature attributes for demographics data; 85 features (rows) x 4 columns\n",
    "\n",
    "Each row of the demographics files represents a single person, but also includes information outside of individuals, including information about their household, building, and neighborhood. You will use this information to cluster the general population into groups with similar demographic properties. Then, you will see how the people in the customers dataset fit into those created clusters. The hope here is that certain clusters are over-represented in the customers data, as compared to the general population; those over-represented clusters will be assumed to be part of the core userbase. This information can then be used for further applications, such as targeting for a marketing campaign.\n",
    "\n",
    "To start off with, load in the demographics data for the general population into a pandas DataFrame, and do the same for the feature attributes summary. Note for all of the `.csv` data files in this project: they're semicolon (`;`) delimited, so you'll need an additional argument in your [`read_csv()`](https://pandas.pydata.org/pandas-docs/stable/generated/pandas.read_csv.html) call to read in the data properly. Also, considering the size of the main dataset, it may take some time for it to load completely.\n",
    "\n",
    "Once the dataset is loaded, it's recommended that you take a little bit of time just browsing the general structure of the dataset and feature summary file. You'll be getting deep into the innards of the cleaning in the first major step of the project, so gaining some general familiarity can help you get your bearings."
   ]
  },
  {
   "cell_type": "code",
   "execution_count": 2,
   "metadata": {},
   "outputs": [],
   "source": [
    "# Check the structure of the data after it's loaded (e.g. print the number of\n",
    "# rows and columns, print the first few rows).\n",
    "\n"
   ]
  },
  {
   "cell_type": "code",
   "execution_count": 3,
   "metadata": {},
   "outputs": [],
   "source": [
    "# Load in the general demographics data.\n",
    "azdias = pd.read_csv('Udacity_AZDIAS_Subset.csv',sep=';',)\n",
    "\n",
    "# Load in the feature summary file.\n",
    "feat_info = pd.read_csv('AZDIAS_Feature_Summary.csv',sep=';')"
   ]
  },
  {
   "cell_type": "code",
   "execution_count": 4,
   "metadata": {},
   "outputs": [
    {
     "name": "stdout",
     "output_type": "stream",
     "text": [
      "Shape of Demographic data for general population: (891221, 85)\n",
      "Shape of Feature Summary for degmographic data: (85, 4)\n"
     ]
    }
   ],
   "source": [
    "print(\"Shape of Demographic data for general population:\", azdias.shape)\n",
    "print(\"Shape of Feature Summary for degmographic data:\", feat_info.shape)"
   ]
  },
  {
   "cell_type": "code",
   "execution_count": 5,
   "metadata": {},
   "outputs": [
    {
     "data": {
      "text/html": [
       "<div>\n",
       "<style scoped>\n",
       "    .dataframe tbody tr th:only-of-type {\n",
       "        vertical-align: middle;\n",
       "    }\n",
       "\n",
       "    .dataframe tbody tr th {\n",
       "        vertical-align: top;\n",
       "    }\n",
       "\n",
       "    .dataframe thead th {\n",
       "        text-align: right;\n",
       "    }\n",
       "</style>\n",
       "<table border=\"1\" class=\"dataframe\">\n",
       "  <thead>\n",
       "    <tr style=\"text-align: right;\">\n",
       "      <th></th>\n",
       "      <th>AGER_TYP</th>\n",
       "      <th>ALTERSKATEGORIE_GROB</th>\n",
       "      <th>ANREDE_KZ</th>\n",
       "      <th>CJT_GESAMTTYP</th>\n",
       "      <th>FINANZ_MINIMALIST</th>\n",
       "      <th>FINANZ_SPARER</th>\n",
       "      <th>FINANZ_VORSORGER</th>\n",
       "      <th>FINANZ_ANLEGER</th>\n",
       "      <th>FINANZ_UNAUFFAELLIGER</th>\n",
       "      <th>FINANZ_HAUSBAUER</th>\n",
       "      <th>...</th>\n",
       "      <th>PLZ8_ANTG1</th>\n",
       "      <th>PLZ8_ANTG2</th>\n",
       "      <th>PLZ8_ANTG3</th>\n",
       "      <th>PLZ8_ANTG4</th>\n",
       "      <th>PLZ8_BAUMAX</th>\n",
       "      <th>PLZ8_HHZ</th>\n",
       "      <th>PLZ8_GBZ</th>\n",
       "      <th>ARBEIT</th>\n",
       "      <th>ORTSGR_KLS9</th>\n",
       "      <th>RELAT_AB</th>\n",
       "    </tr>\n",
       "  </thead>\n",
       "  <tbody>\n",
       "    <tr>\n",
       "      <th>0</th>\n",
       "      <td>-1</td>\n",
       "      <td>2</td>\n",
       "      <td>1</td>\n",
       "      <td>2.0</td>\n",
       "      <td>3</td>\n",
       "      <td>4</td>\n",
       "      <td>3</td>\n",
       "      <td>5</td>\n",
       "      <td>5</td>\n",
       "      <td>3</td>\n",
       "      <td>...</td>\n",
       "      <td>NaN</td>\n",
       "      <td>NaN</td>\n",
       "      <td>NaN</td>\n",
       "      <td>NaN</td>\n",
       "      <td>NaN</td>\n",
       "      <td>NaN</td>\n",
       "      <td>NaN</td>\n",
       "      <td>NaN</td>\n",
       "      <td>NaN</td>\n",
       "      <td>NaN</td>\n",
       "    </tr>\n",
       "    <tr>\n",
       "      <th>1</th>\n",
       "      <td>-1</td>\n",
       "      <td>1</td>\n",
       "      <td>2</td>\n",
       "      <td>5.0</td>\n",
       "      <td>1</td>\n",
       "      <td>5</td>\n",
       "      <td>2</td>\n",
       "      <td>5</td>\n",
       "      <td>4</td>\n",
       "      <td>5</td>\n",
       "      <td>...</td>\n",
       "      <td>2.0</td>\n",
       "      <td>3.0</td>\n",
       "      <td>2.0</td>\n",
       "      <td>1.0</td>\n",
       "      <td>1.0</td>\n",
       "      <td>5.0</td>\n",
       "      <td>4.0</td>\n",
       "      <td>3.0</td>\n",
       "      <td>5.0</td>\n",
       "      <td>4.0</td>\n",
       "    </tr>\n",
       "    <tr>\n",
       "      <th>2</th>\n",
       "      <td>-1</td>\n",
       "      <td>3</td>\n",
       "      <td>2</td>\n",
       "      <td>3.0</td>\n",
       "      <td>1</td>\n",
       "      <td>4</td>\n",
       "      <td>1</td>\n",
       "      <td>2</td>\n",
       "      <td>3</td>\n",
       "      <td>5</td>\n",
       "      <td>...</td>\n",
       "      <td>3.0</td>\n",
       "      <td>3.0</td>\n",
       "      <td>1.0</td>\n",
       "      <td>0.0</td>\n",
       "      <td>1.0</td>\n",
       "      <td>4.0</td>\n",
       "      <td>4.0</td>\n",
       "      <td>3.0</td>\n",
       "      <td>5.0</td>\n",
       "      <td>2.0</td>\n",
       "    </tr>\n",
       "    <tr>\n",
       "      <th>3</th>\n",
       "      <td>2</td>\n",
       "      <td>4</td>\n",
       "      <td>2</td>\n",
       "      <td>2.0</td>\n",
       "      <td>4</td>\n",
       "      <td>2</td>\n",
       "      <td>5</td>\n",
       "      <td>2</td>\n",
       "      <td>1</td>\n",
       "      <td>2</td>\n",
       "      <td>...</td>\n",
       "      <td>2.0</td>\n",
       "      <td>2.0</td>\n",
       "      <td>2.0</td>\n",
       "      <td>0.0</td>\n",
       "      <td>1.0</td>\n",
       "      <td>3.0</td>\n",
       "      <td>4.0</td>\n",
       "      <td>2.0</td>\n",
       "      <td>3.0</td>\n",
       "      <td>3.0</td>\n",
       "    </tr>\n",
       "    <tr>\n",
       "      <th>4</th>\n",
       "      <td>-1</td>\n",
       "      <td>3</td>\n",
       "      <td>1</td>\n",
       "      <td>5.0</td>\n",
       "      <td>4</td>\n",
       "      <td>3</td>\n",
       "      <td>4</td>\n",
       "      <td>1</td>\n",
       "      <td>3</td>\n",
       "      <td>2</td>\n",
       "      <td>...</td>\n",
       "      <td>2.0</td>\n",
       "      <td>4.0</td>\n",
       "      <td>2.0</td>\n",
       "      <td>1.0</td>\n",
       "      <td>2.0</td>\n",
       "      <td>3.0</td>\n",
       "      <td>3.0</td>\n",
       "      <td>4.0</td>\n",
       "      <td>6.0</td>\n",
       "      <td>5.0</td>\n",
       "    </tr>\n",
       "  </tbody>\n",
       "</table>\n",
       "<p>5 rows × 85 columns</p>\n",
       "</div>"
      ],
      "text/plain": [
       "   AGER_TYP  ALTERSKATEGORIE_GROB  ANREDE_KZ  CJT_GESAMTTYP  \\\n",
       "0        -1                     2          1            2.0   \n",
       "1        -1                     1          2            5.0   \n",
       "2        -1                     3          2            3.0   \n",
       "3         2                     4          2            2.0   \n",
       "4        -1                     3          1            5.0   \n",
       "\n",
       "   FINANZ_MINIMALIST  FINANZ_SPARER  FINANZ_VORSORGER  FINANZ_ANLEGER  \\\n",
       "0                  3              4                 3               5   \n",
       "1                  1              5                 2               5   \n",
       "2                  1              4                 1               2   \n",
       "3                  4              2                 5               2   \n",
       "4                  4              3                 4               1   \n",
       "\n",
       "   FINANZ_UNAUFFAELLIGER  FINANZ_HAUSBAUER    ...     PLZ8_ANTG1  PLZ8_ANTG2  \\\n",
       "0                      5                 3    ...            NaN         NaN   \n",
       "1                      4                 5    ...            2.0         3.0   \n",
       "2                      3                 5    ...            3.0         3.0   \n",
       "3                      1                 2    ...            2.0         2.0   \n",
       "4                      3                 2    ...            2.0         4.0   \n",
       "\n",
       "   PLZ8_ANTG3  PLZ8_ANTG4  PLZ8_BAUMAX  PLZ8_HHZ  PLZ8_GBZ  ARBEIT  \\\n",
       "0         NaN         NaN          NaN       NaN       NaN     NaN   \n",
       "1         2.0         1.0          1.0       5.0       4.0     3.0   \n",
       "2         1.0         0.0          1.0       4.0       4.0     3.0   \n",
       "3         2.0         0.0          1.0       3.0       4.0     2.0   \n",
       "4         2.0         1.0          2.0       3.0       3.0     4.0   \n",
       "\n",
       "   ORTSGR_KLS9  RELAT_AB  \n",
       "0          NaN       NaN  \n",
       "1          5.0       4.0  \n",
       "2          5.0       2.0  \n",
       "3          3.0       3.0  \n",
       "4          6.0       5.0  \n",
       "\n",
       "[5 rows x 85 columns]"
      ]
     },
     "execution_count": 5,
     "metadata": {},
     "output_type": "execute_result"
    }
   ],
   "source": [
    "azdias.head()"
   ]
  },
  {
   "cell_type": "code",
   "execution_count": 6,
   "metadata": {},
   "outputs": [
    {
     "data": {
      "text/html": [
       "<div>\n",
       "<style scoped>\n",
       "    .dataframe tbody tr th:only-of-type {\n",
       "        vertical-align: middle;\n",
       "    }\n",
       "\n",
       "    .dataframe tbody tr th {\n",
       "        vertical-align: top;\n",
       "    }\n",
       "\n",
       "    .dataframe thead th {\n",
       "        text-align: right;\n",
       "    }\n",
       "</style>\n",
       "<table border=\"1\" class=\"dataframe\">\n",
       "  <thead>\n",
       "    <tr style=\"text-align: right;\">\n",
       "      <th></th>\n",
       "      <th>AGER_TYP</th>\n",
       "      <th>ALTERSKATEGORIE_GROB</th>\n",
       "      <th>ANREDE_KZ</th>\n",
       "      <th>CJT_GESAMTTYP</th>\n",
       "      <th>FINANZ_MINIMALIST</th>\n",
       "      <th>FINANZ_SPARER</th>\n",
       "      <th>FINANZ_VORSORGER</th>\n",
       "      <th>FINANZ_ANLEGER</th>\n",
       "      <th>FINANZ_UNAUFFAELLIGER</th>\n",
       "      <th>FINANZ_HAUSBAUER</th>\n",
       "      <th>...</th>\n",
       "      <th>PLZ8_ANTG1</th>\n",
       "      <th>PLZ8_ANTG2</th>\n",
       "      <th>PLZ8_ANTG3</th>\n",
       "      <th>PLZ8_ANTG4</th>\n",
       "      <th>PLZ8_BAUMAX</th>\n",
       "      <th>PLZ8_HHZ</th>\n",
       "      <th>PLZ8_GBZ</th>\n",
       "      <th>ARBEIT</th>\n",
       "      <th>ORTSGR_KLS9</th>\n",
       "      <th>RELAT_AB</th>\n",
       "    </tr>\n",
       "  </thead>\n",
       "  <tbody>\n",
       "    <tr>\n",
       "      <th>count</th>\n",
       "      <td>891221.000000</td>\n",
       "      <td>891221.000000</td>\n",
       "      <td>891221.000000</td>\n",
       "      <td>886367.000000</td>\n",
       "      <td>891221.000000</td>\n",
       "      <td>891221.000000</td>\n",
       "      <td>891221.000000</td>\n",
       "      <td>891221.000000</td>\n",
       "      <td>891221.000000</td>\n",
       "      <td>891221.000000</td>\n",
       "      <td>...</td>\n",
       "      <td>774706.000000</td>\n",
       "      <td>774706.000000</td>\n",
       "      <td>774706.000000</td>\n",
       "      <td>774706.000000</td>\n",
       "      <td>774706.000000</td>\n",
       "      <td>774706.000000</td>\n",
       "      <td>774706.000000</td>\n",
       "      <td>794005.000000</td>\n",
       "      <td>794005.000000</td>\n",
       "      <td>794005.00000</td>\n",
       "    </tr>\n",
       "    <tr>\n",
       "      <th>mean</th>\n",
       "      <td>-0.358435</td>\n",
       "      <td>2.777398</td>\n",
       "      <td>1.522098</td>\n",
       "      <td>3.632838</td>\n",
       "      <td>3.074528</td>\n",
       "      <td>2.821039</td>\n",
       "      <td>3.401106</td>\n",
       "      <td>3.033328</td>\n",
       "      <td>2.874167</td>\n",
       "      <td>3.075121</td>\n",
       "      <td>...</td>\n",
       "      <td>2.253330</td>\n",
       "      <td>2.801858</td>\n",
       "      <td>1.595426</td>\n",
       "      <td>0.699166</td>\n",
       "      <td>1.943913</td>\n",
       "      <td>3.612821</td>\n",
       "      <td>3.381087</td>\n",
       "      <td>3.167854</td>\n",
       "      <td>5.293002</td>\n",
       "      <td>3.07222</td>\n",
       "    </tr>\n",
       "    <tr>\n",
       "      <th>std</th>\n",
       "      <td>1.198724</td>\n",
       "      <td>1.068775</td>\n",
       "      <td>0.499512</td>\n",
       "      <td>1.595021</td>\n",
       "      <td>1.321055</td>\n",
       "      <td>1.464749</td>\n",
       "      <td>1.322134</td>\n",
       "      <td>1.529603</td>\n",
       "      <td>1.486731</td>\n",
       "      <td>1.353248</td>\n",
       "      <td>...</td>\n",
       "      <td>0.972008</td>\n",
       "      <td>0.920309</td>\n",
       "      <td>0.986736</td>\n",
       "      <td>0.727137</td>\n",
       "      <td>1.459654</td>\n",
       "      <td>0.973967</td>\n",
       "      <td>1.111598</td>\n",
       "      <td>1.002376</td>\n",
       "      <td>2.303739</td>\n",
       "      <td>1.36298</td>\n",
       "    </tr>\n",
       "    <tr>\n",
       "      <th>min</th>\n",
       "      <td>-1.000000</td>\n",
       "      <td>1.000000</td>\n",
       "      <td>1.000000</td>\n",
       "      <td>1.000000</td>\n",
       "      <td>1.000000</td>\n",
       "      <td>1.000000</td>\n",
       "      <td>1.000000</td>\n",
       "      <td>1.000000</td>\n",
       "      <td>1.000000</td>\n",
       "      <td>1.000000</td>\n",
       "      <td>...</td>\n",
       "      <td>0.000000</td>\n",
       "      <td>0.000000</td>\n",
       "      <td>0.000000</td>\n",
       "      <td>0.000000</td>\n",
       "      <td>1.000000</td>\n",
       "      <td>1.000000</td>\n",
       "      <td>1.000000</td>\n",
       "      <td>1.000000</td>\n",
       "      <td>0.000000</td>\n",
       "      <td>1.00000</td>\n",
       "    </tr>\n",
       "    <tr>\n",
       "      <th>25%</th>\n",
       "      <td>-1.000000</td>\n",
       "      <td>2.000000</td>\n",
       "      <td>1.000000</td>\n",
       "      <td>2.000000</td>\n",
       "      <td>2.000000</td>\n",
       "      <td>1.000000</td>\n",
       "      <td>3.000000</td>\n",
       "      <td>2.000000</td>\n",
       "      <td>2.000000</td>\n",
       "      <td>2.000000</td>\n",
       "      <td>...</td>\n",
       "      <td>1.000000</td>\n",
       "      <td>2.000000</td>\n",
       "      <td>1.000000</td>\n",
       "      <td>0.000000</td>\n",
       "      <td>1.000000</td>\n",
       "      <td>3.000000</td>\n",
       "      <td>3.000000</td>\n",
       "      <td>3.000000</td>\n",
       "      <td>4.000000</td>\n",
       "      <td>2.00000</td>\n",
       "    </tr>\n",
       "    <tr>\n",
       "      <th>50%</th>\n",
       "      <td>-1.000000</td>\n",
       "      <td>3.000000</td>\n",
       "      <td>2.000000</td>\n",
       "      <td>4.000000</td>\n",
       "      <td>3.000000</td>\n",
       "      <td>3.000000</td>\n",
       "      <td>3.000000</td>\n",
       "      <td>3.000000</td>\n",
       "      <td>3.000000</td>\n",
       "      <td>3.000000</td>\n",
       "      <td>...</td>\n",
       "      <td>2.000000</td>\n",
       "      <td>3.000000</td>\n",
       "      <td>2.000000</td>\n",
       "      <td>1.000000</td>\n",
       "      <td>1.000000</td>\n",
       "      <td>4.000000</td>\n",
       "      <td>3.000000</td>\n",
       "      <td>3.000000</td>\n",
       "      <td>5.000000</td>\n",
       "      <td>3.00000</td>\n",
       "    </tr>\n",
       "    <tr>\n",
       "      <th>75%</th>\n",
       "      <td>-1.000000</td>\n",
       "      <td>4.000000</td>\n",
       "      <td>2.000000</td>\n",
       "      <td>5.000000</td>\n",
       "      <td>4.000000</td>\n",
       "      <td>4.000000</td>\n",
       "      <td>5.000000</td>\n",
       "      <td>5.000000</td>\n",
       "      <td>4.000000</td>\n",
       "      <td>4.000000</td>\n",
       "      <td>...</td>\n",
       "      <td>3.000000</td>\n",
       "      <td>3.000000</td>\n",
       "      <td>2.000000</td>\n",
       "      <td>1.000000</td>\n",
       "      <td>3.000000</td>\n",
       "      <td>4.000000</td>\n",
       "      <td>4.000000</td>\n",
       "      <td>4.000000</td>\n",
       "      <td>7.000000</td>\n",
       "      <td>4.00000</td>\n",
       "    </tr>\n",
       "    <tr>\n",
       "      <th>max</th>\n",
       "      <td>3.000000</td>\n",
       "      <td>9.000000</td>\n",
       "      <td>2.000000</td>\n",
       "      <td>6.000000</td>\n",
       "      <td>5.000000</td>\n",
       "      <td>5.000000</td>\n",
       "      <td>5.000000</td>\n",
       "      <td>5.000000</td>\n",
       "      <td>5.000000</td>\n",
       "      <td>5.000000</td>\n",
       "      <td>...</td>\n",
       "      <td>4.000000</td>\n",
       "      <td>4.000000</td>\n",
       "      <td>3.000000</td>\n",
       "      <td>2.000000</td>\n",
       "      <td>5.000000</td>\n",
       "      <td>5.000000</td>\n",
       "      <td>5.000000</td>\n",
       "      <td>9.000000</td>\n",
       "      <td>9.000000</td>\n",
       "      <td>9.00000</td>\n",
       "    </tr>\n",
       "  </tbody>\n",
       "</table>\n",
       "<p>8 rows × 81 columns</p>\n",
       "</div>"
      ],
      "text/plain": [
       "            AGER_TYP  ALTERSKATEGORIE_GROB      ANREDE_KZ  CJT_GESAMTTYP  \\\n",
       "count  891221.000000         891221.000000  891221.000000  886367.000000   \n",
       "mean       -0.358435              2.777398       1.522098       3.632838   \n",
       "std         1.198724              1.068775       0.499512       1.595021   \n",
       "min        -1.000000              1.000000       1.000000       1.000000   \n",
       "25%        -1.000000              2.000000       1.000000       2.000000   \n",
       "50%        -1.000000              3.000000       2.000000       4.000000   \n",
       "75%        -1.000000              4.000000       2.000000       5.000000   \n",
       "max         3.000000              9.000000       2.000000       6.000000   \n",
       "\n",
       "       FINANZ_MINIMALIST  FINANZ_SPARER  FINANZ_VORSORGER  FINANZ_ANLEGER  \\\n",
       "count      891221.000000  891221.000000     891221.000000   891221.000000   \n",
       "mean            3.074528       2.821039          3.401106        3.033328   \n",
       "std             1.321055       1.464749          1.322134        1.529603   \n",
       "min             1.000000       1.000000          1.000000        1.000000   \n",
       "25%             2.000000       1.000000          3.000000        2.000000   \n",
       "50%             3.000000       3.000000          3.000000        3.000000   \n",
       "75%             4.000000       4.000000          5.000000        5.000000   \n",
       "max             5.000000       5.000000          5.000000        5.000000   \n",
       "\n",
       "       FINANZ_UNAUFFAELLIGER  FINANZ_HAUSBAUER      ...          PLZ8_ANTG1  \\\n",
       "count          891221.000000     891221.000000      ...       774706.000000   \n",
       "mean                2.874167          3.075121      ...            2.253330   \n",
       "std                 1.486731          1.353248      ...            0.972008   \n",
       "min                 1.000000          1.000000      ...            0.000000   \n",
       "25%                 2.000000          2.000000      ...            1.000000   \n",
       "50%                 3.000000          3.000000      ...            2.000000   \n",
       "75%                 4.000000          4.000000      ...            3.000000   \n",
       "max                 5.000000          5.000000      ...            4.000000   \n",
       "\n",
       "          PLZ8_ANTG2     PLZ8_ANTG3     PLZ8_ANTG4    PLZ8_BAUMAX  \\\n",
       "count  774706.000000  774706.000000  774706.000000  774706.000000   \n",
       "mean        2.801858       1.595426       0.699166       1.943913   \n",
       "std         0.920309       0.986736       0.727137       1.459654   \n",
       "min         0.000000       0.000000       0.000000       1.000000   \n",
       "25%         2.000000       1.000000       0.000000       1.000000   \n",
       "50%         3.000000       2.000000       1.000000       1.000000   \n",
       "75%         3.000000       2.000000       1.000000       3.000000   \n",
       "max         4.000000       3.000000       2.000000       5.000000   \n",
       "\n",
       "            PLZ8_HHZ       PLZ8_GBZ         ARBEIT    ORTSGR_KLS9  \\\n",
       "count  774706.000000  774706.000000  794005.000000  794005.000000   \n",
       "mean        3.612821       3.381087       3.167854       5.293002   \n",
       "std         0.973967       1.111598       1.002376       2.303739   \n",
       "min         1.000000       1.000000       1.000000       0.000000   \n",
       "25%         3.000000       3.000000       3.000000       4.000000   \n",
       "50%         4.000000       3.000000       3.000000       5.000000   \n",
       "75%         4.000000       4.000000       4.000000       7.000000   \n",
       "max         5.000000       5.000000       9.000000       9.000000   \n",
       "\n",
       "           RELAT_AB  \n",
       "count  794005.00000  \n",
       "mean        3.07222  \n",
       "std         1.36298  \n",
       "min         1.00000  \n",
       "25%         2.00000  \n",
       "50%         3.00000  \n",
       "75%         4.00000  \n",
       "max         9.00000  \n",
       "\n",
       "[8 rows x 81 columns]"
      ]
     },
     "execution_count": 6,
     "metadata": {},
     "output_type": "execute_result"
    }
   ],
   "source": [
    "azdias.describe()"
   ]
  },
  {
   "cell_type": "code",
   "execution_count": 7,
   "metadata": {},
   "outputs": [
    {
     "data": {
      "text/html": [
       "<div>\n",
       "<style scoped>\n",
       "    .dataframe tbody tr th:only-of-type {\n",
       "        vertical-align: middle;\n",
       "    }\n",
       "\n",
       "    .dataframe tbody tr th {\n",
       "        vertical-align: top;\n",
       "    }\n",
       "\n",
       "    .dataframe thead th {\n",
       "        text-align: right;\n",
       "    }\n",
       "</style>\n",
       "<table border=\"1\" class=\"dataframe\">\n",
       "  <thead>\n",
       "    <tr style=\"text-align: right;\">\n",
       "      <th></th>\n",
       "      <th>attribute</th>\n",
       "      <th>information_level</th>\n",
       "      <th>type</th>\n",
       "      <th>missing_or_unknown</th>\n",
       "    </tr>\n",
       "  </thead>\n",
       "  <tbody>\n",
       "    <tr>\n",
       "      <th>count</th>\n",
       "      <td>85</td>\n",
       "      <td>85</td>\n",
       "      <td>85</td>\n",
       "      <td>85</td>\n",
       "    </tr>\n",
       "    <tr>\n",
       "      <th>unique</th>\n",
       "      <td>85</td>\n",
       "      <td>9</td>\n",
       "      <td>5</td>\n",
       "      <td>9</td>\n",
       "    </tr>\n",
       "    <tr>\n",
       "      <th>top</th>\n",
       "      <td>ORTSGR_KLS9</td>\n",
       "      <td>person</td>\n",
       "      <td>ordinal</td>\n",
       "      <td>[-1]</td>\n",
       "    </tr>\n",
       "    <tr>\n",
       "      <th>freq</th>\n",
       "      <td>1</td>\n",
       "      <td>43</td>\n",
       "      <td>49</td>\n",
       "      <td>26</td>\n",
       "    </tr>\n",
       "  </tbody>\n",
       "</table>\n",
       "</div>"
      ],
      "text/plain": [
       "          attribute information_level     type missing_or_unknown\n",
       "count            85                85       85                 85\n",
       "unique           85                 9        5                  9\n",
       "top     ORTSGR_KLS9            person  ordinal               [-1]\n",
       "freq              1                43       49                 26"
      ]
     },
     "execution_count": 7,
     "metadata": {},
     "output_type": "execute_result"
    }
   ],
   "source": [
    "feat_info.describe()"
   ]
  },
  {
   "cell_type": "code",
   "execution_count": 8,
   "metadata": {},
   "outputs": [
    {
     "data": {
      "text/html": [
       "<div>\n",
       "<style scoped>\n",
       "    .dataframe tbody tr th:only-of-type {\n",
       "        vertical-align: middle;\n",
       "    }\n",
       "\n",
       "    .dataframe tbody tr th {\n",
       "        vertical-align: top;\n",
       "    }\n",
       "\n",
       "    .dataframe thead th {\n",
       "        text-align: right;\n",
       "    }\n",
       "</style>\n",
       "<table border=\"1\" class=\"dataframe\">\n",
       "  <thead>\n",
       "    <tr style=\"text-align: right;\">\n",
       "      <th></th>\n",
       "      <th>attribute</th>\n",
       "      <th>information_level</th>\n",
       "      <th>type</th>\n",
       "      <th>missing_or_unknown</th>\n",
       "    </tr>\n",
       "  </thead>\n",
       "  <tbody>\n",
       "    <tr>\n",
       "      <th>0</th>\n",
       "      <td>AGER_TYP</td>\n",
       "      <td>person</td>\n",
       "      <td>categorical</td>\n",
       "      <td>[-1,0]</td>\n",
       "    </tr>\n",
       "    <tr>\n",
       "      <th>1</th>\n",
       "      <td>ALTERSKATEGORIE_GROB</td>\n",
       "      <td>person</td>\n",
       "      <td>ordinal</td>\n",
       "      <td>[-1,0,9]</td>\n",
       "    </tr>\n",
       "    <tr>\n",
       "      <th>2</th>\n",
       "      <td>ANREDE_KZ</td>\n",
       "      <td>person</td>\n",
       "      <td>categorical</td>\n",
       "      <td>[-1,0]</td>\n",
       "    </tr>\n",
       "    <tr>\n",
       "      <th>3</th>\n",
       "      <td>CJT_GESAMTTYP</td>\n",
       "      <td>person</td>\n",
       "      <td>categorical</td>\n",
       "      <td>[0]</td>\n",
       "    </tr>\n",
       "    <tr>\n",
       "      <th>4</th>\n",
       "      <td>FINANZ_MINIMALIST</td>\n",
       "      <td>person</td>\n",
       "      <td>ordinal</td>\n",
       "      <td>[-1]</td>\n",
       "    </tr>\n",
       "  </tbody>\n",
       "</table>\n",
       "</div>"
      ],
      "text/plain": [
       "              attribute information_level         type missing_or_unknown\n",
       "0              AGER_TYP            person  categorical             [-1,0]\n",
       "1  ALTERSKATEGORIE_GROB            person      ordinal           [-1,0,9]\n",
       "2             ANREDE_KZ            person  categorical             [-1,0]\n",
       "3         CJT_GESAMTTYP            person  categorical                [0]\n",
       "4     FINANZ_MINIMALIST            person      ordinal               [-1]"
      ]
     },
     "execution_count": 8,
     "metadata": {},
     "output_type": "execute_result"
    }
   ],
   "source": [
    "feat_info.head()"
   ]
  },
  {
   "cell_type": "markdown",
   "metadata": {},
   "source": [
    "> **Tip**: Add additional cells to keep everything in reasonably-sized chunks! Keyboard shortcut `esc --> a` (press escape to enter command mode, then press the 'A' key) adds a new cell before the active cell, and `esc --> b` adds a new cell after the active cell. If you need to convert an active cell to a markdown cell, use `esc --> m` and to convert to a code cell, use `esc --> y`. \n",
    "\n",
    "## Step 1: Preprocessing\n",
    "\n",
    "### Step 1.1: Assess Missing Data\n",
    "\n",
    "The feature summary file contains a summary of properties for each demographics data column. You will use this file to help you make cleaning decisions during this stage of the project. First of all, you should assess the demographics data in terms of missing data. Pay attention to the following points as you perform your analysis, and take notes on what you observe. Make sure that you fill in the **Discussion** cell with your findings and decisions at the end of each step that has one!\n",
    "\n",
    "#### Step 1.1.1: Convert Missing Value Codes to NaNs\n",
    "The fourth column of the feature attributes summary (loaded in above as `feat_info`) documents the codes from the data dictionary that indicate missing or unknown data. While the file encodes this as a list (e.g. `[-1,0]`), this will get read in as a string object. You'll need to do a little bit of parsing to make use of it to identify and clean the data. Convert data that matches a 'missing' or 'unknown' value code into a numpy NaN value. You might want to see how much data takes on a 'missing' or 'unknown' code, and how much data is naturally missing, as a point of interest.\n",
    "\n",
    "**As one more reminder, you are encouraged to add additional cells to break up your analysis into manageable chunks.**"
   ]
  },
  {
   "cell_type": "code",
   "execution_count": 9,
   "metadata": {},
   "outputs": [],
   "source": [
    "# Identify missing or unknown data values and convert them to NaNs.\n",
    "\n"
   ]
  },
  {
   "cell_type": "code",
   "execution_count": 10,
   "metadata": {},
   "outputs": [],
   "source": [
    "for i in range(len(feat_info)):\n",
    "    try:\n",
    "        To_list=eval(feat_info[\"missing_or_unknown\"][i])\n",
    "        feat_info[\"missing_or_unknown\"][i]=To_list\n",
    "        \n",
    "    except:\n",
    "        string=feat_info[\"missing_or_unknown\"][i][1:len(feat_info[\"missing_or_unknown\"][i])-1]\n",
    "        List=string.split(',')\n",
    "        \n",
    "        manual_list=[]\n",
    "        \n",
    "        for j in List:\n",
    "            try:\n",
    "                x=int(j)\n",
    "                manual_list.append(x)\n",
    "            except:\n",
    "                manual_list.append(j)\n",
    "        feat_info[\"missing_or_unknown\"][i]=manual_list\n",
    "                "
   ]
  },
  {
   "cell_type": "code",
   "execution_count": 11,
   "metadata": {},
   "outputs": [],
   "source": [
    "for i in range(len(feat_info)):\n",
    "    for j in feat_info[\"missing_or_unknown\"][i]:\n",
    "        azdias[azdias.columns[i]]=azdias[azdias.columns[i]].replace(j,np.nan)"
   ]
  },
  {
   "cell_type": "markdown",
   "metadata": {},
   "source": [
    "#### Step 1.1.2: Assess Missing Data in Each Column\n",
    "\n",
    "How much missing data is present in each column? There are a few columns that are outliers in terms of the proportion of values that are missing. You will want to use matplotlib's [`hist()`](https://matplotlib.org/api/_as_gen/matplotlib.pyplot.hist.html) function to visualize the distribution of missing value counts to find these columns. Identify and document these columns. While some of these columns might have justifications for keeping or re-encoding the data, for this project you should just remove them from the dataframe. (Feel free to make remarks about these outlier columns in the discussion, however!)\n",
    "\n",
    "For the remaining features, are there any patterns in which columns have, or share, missing data?"
   ]
  },
  {
   "cell_type": "code",
   "execution_count": 12,
   "metadata": {
    "scrolled": true
   },
   "outputs": [
    {
     "data": {
      "text/plain": [
       "AGER_TYP                 685843\n",
       "ALTERSKATEGORIE_GROB       2881\n",
       "ANREDE_KZ                     0\n",
       "CJT_GESAMTTYP              4854\n",
       "FINANZ_MINIMALIST             0\n",
       "FINANZ_SPARER                 0\n",
       "FINANZ_VORSORGER              0\n",
       "FINANZ_ANLEGER                0\n",
       "FINANZ_UNAUFFAELLIGER         0\n",
       "FINANZ_HAUSBAUER              0\n",
       "FINANZTYP                     0\n",
       "GEBURTSJAHR              392318\n",
       "GFK_URLAUBERTYP            4854\n",
       "GREEN_AVANTGARDE              0\n",
       "HEALTH_TYP               111196\n",
       "LP_LEBENSPHASE_FEIN       97632\n",
       "LP_LEBENSPHASE_GROB       94572\n",
       "LP_FAMILIE_FEIN           77792\n",
       "LP_FAMILIE_GROB           77792\n",
       "LP_STATUS_FEIN             4854\n",
       "LP_STATUS_GROB             4854\n",
       "NATIONALITAET_KZ         108315\n",
       "PRAEGENDE_JUGENDJAHRE    108164\n",
       "RETOURTYP_BK_S             4854\n",
       "SEMIO_SOZ                     0\n",
       "SEMIO_FAM                     0\n",
       "SEMIO_REL                     0\n",
       "SEMIO_MAT                     0\n",
       "SEMIO_VERT                    0\n",
       "SEMIO_LUST                    0\n",
       "                          ...  \n",
       "OST_WEST_KZ               93148\n",
       "WOHNLAGE                  93148\n",
       "CAMEO_DEUG_2015           99352\n",
       "CAMEO_DEU_2015            99352\n",
       "CAMEO_INTL_2015           99352\n",
       "KBA05_ANTG1              133324\n",
       "KBA05_ANTG2              133324\n",
       "KBA05_ANTG3              133324\n",
       "KBA05_ANTG4              133324\n",
       "KBA05_BAUMAX             476524\n",
       "KBA05_GBZ                133324\n",
       "BALLRAUM                  93740\n",
       "EWDICHTE                  93740\n",
       "INNENSTADT                93740\n",
       "GEBAEUDETYP_RASTER        93155\n",
       "KKK                      158064\n",
       "MOBI_REGIO               133324\n",
       "ONLINE_AFFINITAET          4854\n",
       "REGIOTYP                 158064\n",
       "KBA13_ANZAHL_PKW         105800\n",
       "PLZ8_ANTG1               116515\n",
       "PLZ8_ANTG2               116515\n",
       "PLZ8_ANTG3               116515\n",
       "PLZ8_ANTG4               116515\n",
       "PLZ8_BAUMAX              116515\n",
       "PLZ8_HHZ                 116515\n",
       "PLZ8_GBZ                 116515\n",
       "ARBEIT                    97375\n",
       "ORTSGR_KLS9               97274\n",
       "RELAT_AB                  97375\n",
       "Length: 85, dtype: int64"
      ]
     },
     "execution_count": 12,
     "metadata": {},
     "output_type": "execute_result"
    }
   ],
   "source": [
    "# Perform an assessment of how much missing data there is in each column of the\n",
    "# dataset.\n",
    "azdias.isna().sum()\n"
   ]
  },
  {
   "cell_type": "code",
   "execution_count": 13,
   "metadata": {},
   "outputs": [],
   "source": [
    "# Investigate patterns in the amount of missing data in each column."
   ]
  },
  {
   "cell_type": "code",
   "execution_count": 14,
   "metadata": {
    "scrolled": false
   },
   "outputs": [
    {
     "data": {
      "image/png": "[encoded data removed]",
      "text/plain": [
       "<matplotlib.figure.Figure at 0x7fe332a30240>"
      ]
     },
     "metadata": {
      "needs_background": "light"
     },
     "output_type": "display_data"
    }
   ],
   "source": [
    "x=azdias.isna().sum()\n",
    "plt.figure(figsize=(40,15))\n",
    "plt.bar(x.index,x.values)\n",
    "plt.show()"
   ]
  },
  {
   "cell_type": "code",
   "execution_count": 15,
   "metadata": {},
   "outputs": [
    {
     "data": {
      "text/plain": [
       "(array([ 32.,   0.,   7.,  31.,   7.,   2.,   0.,   0.,   0.,   0.,   1.,\n",
       "          0.,   0.,   1.,   0.,   1.,   0.,   0.,   0.,   1.,   0.,   0.,\n",
       "          1.,   0.,   0.,   0.,   0.,   0.,   0.,   1.]),\n",
       " array([      0.,   30000.,   60000.,   90000.,  120000.,  150000.,\n",
       "         180000.,  210000.,  240000.,  270000.,  300000.,  330000.,\n",
       "         360000.,  390000.,  420000.,  450000.,  480000.,  510000.,\n",
       "         540000.,  570000.,  600000.,  630000.,  660000.,  690000.,\n",
       "         720000.,  750000.,  780000.,  810000.,  840000.,  870000.,  900000.]),\n",
       " <a list of 30 Patch objects>)"
      ]
     },
     "execution_count": 15,
     "metadata": {},
     "output_type": "execute_result"
    },
    {
     "data": {
      "image/png": "[encoded data removed]",
      "text/plain": [
       "<matplotlib.figure.Figure at 0x7fe332a70ba8>"
      ]
     },
     "metadata": {
      "needs_background": "light"
     },
     "output_type": "display_data"
    }
   ],
   "source": [
    "plt.hist(x.values,bins=30,range=(0,900000))"
   ]
  },
  {
   "cell_type": "code",
   "execution_count": 16,
   "metadata": {},
   "outputs": [
    {
     "name": "stdout",
     "output_type": "stream",
     "text": [
      "TITEL_KZ        889061\n",
      "AGER_TYP        685843\n",
      "KK_KUNDENTYP    584612\n",
      "KBA05_BAUMAX    476524\n",
      "GEBURTSJAHR     392318\n",
      "ALTER_HH        310267\n",
      "dtype: int64\n"
     ]
    }
   ],
   "source": [
    "Most_Missing=x.nlargest(6)\n",
    "print(Most_Missing)"
   ]
  },
  {
   "cell_type": "code",
   "execution_count": 17,
   "metadata": {},
   "outputs": [
    {
     "data": {
      "text/plain": [
       "count        85.000000\n",
       "mean      98516.811765\n",
       "std      146604.203317\n",
       "min           0.000000\n",
       "25%           0.000000\n",
       "50%       93148.000000\n",
       "75%      116515.000000\n",
       "max      889061.000000\n",
       "dtype: float64"
      ]
     },
     "execution_count": 17,
     "metadata": {},
     "output_type": "execute_result"
    }
   ],
   "source": [
    "x.describe()"
   ]
  },
  {
   "cell_type": "code",
   "execution_count": 18,
   "metadata": {},
   "outputs": [],
   "source": [
    "# Remove the outlier columns from the dataset. (You'll perform other data\n",
    "# engineering tasks such as re-encoding and imputation later.)\n",
    "\n"
   ]
  },
  {
   "cell_type": "code",
   "execution_count": 19,
   "metadata": {},
   "outputs": [
    {
     "data": {
      "text/plain": [
       "(891221, 79)"
      ]
     },
     "execution_count": 19,
     "metadata": {},
     "output_type": "execute_result"
    }
   ],
   "source": [
    "#Drop the outliers\n",
    "\n",
    "for column in Most_Missing.index:\n",
    "    azdias.drop(labels=column,axis=1,inplace=True)\n",
    "azdias.shape"
   ]
  },
  {
   "cell_type": "code",
   "execution_count": 20,
   "metadata": {},
   "outputs": [],
   "source": [
    "m=azdias.isnull().sum()"
   ]
  },
  {
   "cell_type": "code",
   "execution_count": 21,
   "metadata": {},
   "outputs": [
    {
     "data": {
      "text/plain": [
       "<matplotlib.axes._subplots.AxesSubplot at 0x7fe33075f0f0>"
      ]
     },
     "execution_count": 21,
     "metadata": {},
     "output_type": "execute_result"
    },
    {
     "data": {
      "image/png": "[encoded data removed]",
      "text/plain": [
       "<matplotlib.figure.Figure at 0x7fe330787d30>"
      ]
     },
     "metadata": {
      "needs_background": "light"
     },
     "output_type": "display_data"
    }
   ],
   "source": [
    "m.hist()"
   ]
  },
  {
   "cell_type": "code",
   "execution_count": 22,
   "metadata": {},
   "outputs": [
    {
     "name": "stdout",
     "output_type": "stream",
     "text": [
      "0         24\n",
      "116515     7\n",
      "4854       6\n",
      "133324     6\n",
      "93148      4\n",
      "73499      4\n",
      "111196     3\n",
      "99352      3\n",
      "93740      3\n",
      "77792      2\n",
      "97375      2\n",
      "158064     2\n",
      "97632      1\n",
      "93155      1\n",
      "94572      1\n",
      "105800     1\n",
      "2881       1\n",
      "18348      1\n",
      "97008      1\n",
      "108315     1\n",
      "73969      1\n",
      "99611      1\n",
      "147988     1\n",
      "108164     1\n",
      "97274      1\n",
      "dtype: int64\n"
     ]
    }
   ],
   "source": [
    "y=m.value_counts()\n",
    "print(y)"
   ]
  },
  {
   "cell_type": "code",
   "execution_count": 23,
   "metadata": {},
   "outputs": [],
   "source": [
    "#I create a dictionary with the groups of features that appear to have the same amount of missing values\n",
    "# Just in case I may need to refer to it later\n",
    "\n",
    "dict_of_missing={}\n",
    "for index in y.head(12).index:\n",
    "    for i in range(len(x)):\n",
    "        if index==x.values[i]:\n",
    "            if index not in dict_of_missing:\n",
    "                dict_of_missing[index]=[]\n",
    "                dict_of_missing[index].append(x.index[i])\n",
    "            else:\n",
    "                dict_of_missing[index].append(x.index[i])"
   ]
  },
  {
   "cell_type": "code",
   "execution_count": 24,
   "metadata": {},
   "outputs": [
    {
     "data": {
      "text/plain": [
       "{0: ['ANREDE_KZ',\n",
       "  'FINANZ_MINIMALIST',\n",
       "  'FINANZ_SPARER',\n",
       "  'FINANZ_VORSORGER',\n",
       "  'FINANZ_ANLEGER',\n",
       "  'FINANZ_UNAUFFAELLIGER',\n",
       "  'FINANZ_HAUSBAUER',\n",
       "  'FINANZTYP',\n",
       "  'GREEN_AVANTGARDE',\n",
       "  'SEMIO_SOZ',\n",
       "  'SEMIO_FAM',\n",
       "  'SEMIO_REL',\n",
       "  'SEMIO_MAT',\n",
       "  'SEMIO_VERT',\n",
       "  'SEMIO_LUST',\n",
       "  'SEMIO_ERL',\n",
       "  'SEMIO_KULT',\n",
       "  'SEMIO_RAT',\n",
       "  'SEMIO_KRIT',\n",
       "  'SEMIO_DOM',\n",
       "  'SEMIO_KAEM',\n",
       "  'SEMIO_PFLICHT',\n",
       "  'SEMIO_TRADV',\n",
       "  'ZABEOTYP'],\n",
       " 116515: ['PLZ8_ANTG1',\n",
       "  'PLZ8_ANTG2',\n",
       "  'PLZ8_ANTG3',\n",
       "  'PLZ8_ANTG4',\n",
       "  'PLZ8_BAUMAX',\n",
       "  'PLZ8_HHZ',\n",
       "  'PLZ8_GBZ'],\n",
       " 4854: ['CJT_GESAMTTYP',\n",
       "  'GFK_URLAUBERTYP',\n",
       "  'LP_STATUS_FEIN',\n",
       "  'LP_STATUS_GROB',\n",
       "  'RETOURTYP_BK_S',\n",
       "  'ONLINE_AFFINITAET'],\n",
       " 133324: ['KBA05_ANTG1',\n",
       "  'KBA05_ANTG2',\n",
       "  'KBA05_ANTG3',\n",
       "  'KBA05_ANTG4',\n",
       "  'KBA05_GBZ',\n",
       "  'MOBI_REGIO'],\n",
       " 93148: ['GEBAEUDETYP', 'MIN_GEBAEUDEJAHR', 'OST_WEST_KZ', 'WOHNLAGE'],\n",
       " 73499: ['SOHO_KZ', 'ANZ_PERSONEN', 'ANZ_TITEL', 'WOHNDAUER_2008'],\n",
       " 111196: ['HEALTH_TYP', 'SHOPPER_TYP', 'VERS_TYP'],\n",
       " 99352: ['CAMEO_DEUG_2015', 'CAMEO_DEU_2015', 'CAMEO_INTL_2015'],\n",
       " 93740: ['BALLRAUM', 'EWDICHTE', 'INNENSTADT'],\n",
       " 77792: ['LP_FAMILIE_FEIN', 'LP_FAMILIE_GROB'],\n",
       " 97375: ['ARBEIT', 'RELAT_AB'],\n",
       " 158064: ['KKK', 'REGIOTYP']}"
      ]
     },
     "execution_count": 24,
     "metadata": {},
     "output_type": "execute_result"
    }
   ],
   "source": [
    "dict_of_missing"
   ]
  },
  {
   "cell_type": "markdown",
   "metadata": {},
   "source": [
    "#### Discussion 1.1.2: Assess Missing Data in Each Column\n",
    "\n",
    "From the bar graph above we notice that there are 6 columns/features with significantly more missing values than the rest. Those are the outliers that will be removed: \n",
    "\n",
    "TITEL_KZ        889061, \n",
    "AGER_TYP        685843, \n",
    "KK_KUNDENTYP    584612, \n",
    "KBA05_BAUMAX    476524, \n",
    "GEBURTSJAHR     392318, \n",
    "ALTER_HH        310267\n",
    "\n",
    "In addition, from the first histogram and the examination of the data we are able to see that most labels have missing values up to ~117.000 and their distribution is positively skewd. The 6 outliers are again visible towards the tail of the distribution.\n",
    "\n",
    "After dropping the outliers, we notice in the second histogram that there's a dense group of labels around 0 missing values and a group around 60000-160000 that seem to follow a normal distribution.\n",
    "\n",
    "By looking further into them we notice that there are several clusters of features with the same exact number of missing values. Those are features that may have something in common and have been stored in the dictionary dict_of_missing. \n",
    "24 of them appear to have exact 0 missing values which mostly explains the first dense group in the second histogram\n",
    "\n"
   ]
  },
  {
   "cell_type": "markdown",
   "metadata": {},
   "source": [
    "#### Step 1.1.3: Assess Missing Data in Each Row\n",
    "\n",
    "Now, you'll perform a similar assessment for the rows of the dataset. How much data is missing in each row? As with the columns, you should see some groups of points that have a very different numbers of missing values. Divide the data into two subsets: one for data points that are above some threshold for missing values, and a second subset for points below that threshold.\n",
    "\n",
    "In order to know what to do with the outlier rows, we should see if the distribution of data values on columns that are not missing data (or are missing very little data) are similar or different between the two groups. Select at least five of these columns and compare the distribution of values.\n",
    "- You can use seaborn's [`countplot()`](https://seaborn.pydata.org/generated/seaborn.countplot.html) function to create a bar chart of code frequencies and matplotlib's [`subplot()`](https://matplotlib.org/api/_as_gen/matplotlib.pyplot.subplot.html) function to put bar charts for the two subplots side by side.\n",
    "- To reduce repeated code, you might want to write a function that can perform this comparison, taking as one of its arguments a column to be compared.\n",
    "\n",
    "Depending on what you observe in your comparison, this will have implications on how you approach your conclusions later in the analysis. If the distributions of non-missing features look similar between the data with many missing values and the data with few or no missing values, then we could argue that simply dropping those points from the analysis won't present a major issue. On the other hand, if the data with many missing values looks very different from the data with few or no missing values, then we should make a note on those data as special. We'll revisit these data later on. **Either way, you should continue your analysis for now using just the subset of the data with few or no missing values.**"
   ]
  },
  {
   "cell_type": "code",
   "execution_count": 25,
   "metadata": {
    "scrolled": false
   },
   "outputs": [
    {
     "name": "stdout",
     "output_type": "stream",
     "text": [
      "0    43\n",
      "1     0\n",
      "2     0\n",
      "3     7\n",
      "4     0\n",
      "dtype: int64\n"
     ]
    },
    {
     "data": {
      "image/png": "[encoded data removed]",
      "text/plain": [
       "<matplotlib.figure.Figure at 0x7fe3307336d8>"
      ]
     },
     "metadata": {
      "needs_background": "light"
     },
     "output_type": "display_data"
    }
   ],
   "source": [
    "# How much data is missing in each row of the dataset?\n",
    "rm=azdias.isna().sum(axis=1)\n",
    "rm.hist()\n",
    "print(rm.head())"
   ]
  },
  {
   "cell_type": "code",
   "execution_count": 26,
   "metadata": {},
   "outputs": [
    {
     "name": "stdout",
     "output_type": "stream",
     "text": [
      "69.9275488346886\n",
      "71.69344079639058\n",
      "74.82689478816141\n",
      "76.80496756696712\n",
      "78.21954374953015\n",
      "80.74585316100047\n",
      "82.29103667889333\n",
      "83.82982447675717\n",
      "86.5891849496365\n",
      "Rows with less than 9  missing values, include 86.5891849496365 of the total data\n"
     ]
    }
   ],
   "source": [
    "#Finding out at how many vissing values per row, we can include more than 85% of the data.\n",
    "\n",
    "threshold=1\n",
    "while True:\n",
    "    percentage=0\n",
    "    count=0\n",
    "    for i in rm:\n",
    "        if i<threshold:\n",
    "            count+=1\n",
    "    percentage=(count/len(rm))*100\n",
    "    print(percentage)\n",
    "    if percentage>=85:\n",
    "        print(\"Rows with less than\", threshold, ' missing values, include',percentage,'of the total data')\n",
    "        break\n",
    "    else:\n",
    "        threshold=threshold+1"
   ]
  },
  {
   "cell_type": "code",
   "execution_count": 27,
   "metadata": {},
   "outputs": [],
   "source": [
    "# Write code to divide the data into two subsets based on the number of missing\n",
    "# values in each row.\n",
    "subset1=azdias[rm<threshold]\n",
    "subset2=azdias[rm>=threshold]\n"
   ]
  },
  {
   "cell_type": "code",
   "execution_count": 28,
   "metadata": {},
   "outputs": [],
   "source": [
    "# Compare the distribution of values for at least five columns where there are\n",
    "# no or few missing values, between the two subsets.\n"
   ]
  },
  {
   "cell_type": "code",
   "execution_count": 29,
   "metadata": {
    "scrolled": false
   },
   "outputs": [
    {
     "data": {
      "image/png": "[encoded data removed]",
      "text/plain": [
       "<matplotlib.figure.Figure at 0x7fe330743550>"
      ]
     },
     "metadata": {
      "needs_background": "light"
     },
     "output_type": "display_data"
    },
    {
     "data": {
      "image/png": "[encoded data removed]",
      "text/plain": [
       "<matplotlib.figure.Figure at 0x7fe32631fc18>"
      ]
     },
     "metadata": {
      "needs_background": "light"
     },
     "output_type": "display_data"
    },
    {
     "data": {
      "image/png": "[encoded data removed]",
      "text/plain": [
       "<matplotlib.figure.Figure at 0x7fe32630c588>"
      ]
     },
     "metadata": {
      "needs_background": "light"
     },
     "output_type": "display_data"
    },
    {
     "data": {
      "image/png": "[encoded data removed]",
      "text/plain": [
       "<matplotlib.figure.Figure at 0x7fe31353aeb8>"
      ]
     },
     "metadata": {
      "needs_background": "light"
     },
     "output_type": "display_data"
    },
    {
     "data": {
      "image/png": "[encoded data removed]",
      "text/plain": [
       "<matplotlib.figure.Figure at 0x7fe313508438>"
      ]
     },
     "metadata": {
      "needs_background": "light"
     },
     "output_type": "display_data"
    },
    {
     "data": {
      "image/png": "[encoded data removed]",
      "text/plain": [
       "<matplotlib.figure.Figure at 0x7fe313461f28>"
      ]
     },
     "metadata": {
      "needs_background": "light"
     },
     "output_type": "display_data"
    },
    {
     "data": {
      "image/png": "[encoded data removed]",
      "text/plain": [
       "<matplotlib.figure.Figure at 0x7fe31338c5c0>"
      ]
     },
     "metadata": {
      "needs_background": "light"
     },
     "output_type": "display_data"
    },
    {
     "data": {
      "image/png": "[encoded data removed]",
      "text/plain": [
       "<matplotlib.figure.Figure at 0x7fe3133b0550>"
      ]
     },
     "metadata": {
      "needs_background": "light"
     },
     "output_type": "display_data"
    },
    {
     "data": {
      "image/png": "[encoded data removed]",
      "text/plain": [
       "<matplotlib.figure.Figure at 0x7fe3132a0e48>"
      ]
     },
     "metadata": {
      "needs_background": "light"
     },
     "output_type": "display_data"
    },
    {
     "data": {
      "image/png": "[encoded data removed]",
      "text/plain": [
       "<matplotlib.figure.Figure at 0x7fe3132080f0>"
      ]
     },
     "metadata": {
      "needs_background": "light"
     },
     "output_type": "display_data"
    }
   ],
   "source": [
    "for i in dict_of_missing[0][0:10]:\n",
    "    fig,ax=plt.subplots(1,2)\n",
    "    ax[0].title.set_text(\"Subset1\")\n",
    "    ax[1].title.set_text(\"Subset2\")\n",
    "    sns.countplot(x=subset1[i],data=subset1,ax=ax[0])\n",
    "    sns.countplot(x=subset2[i],data=subset2,ax=ax[1])"
   ]
  },
  {
   "cell_type": "markdown",
   "metadata": {},
   "source": [
    "#### Discussion 1.1.3: Assess Missing Data in Each Row\n",
    "\n",
    "More than 86% of the data points have less than 8 missing values. Therefore we divided the data into two subsets with 86.49% of the data being the subset of no or few missing values, and 13.51% of the data points being the subset of more missing values.\n",
    "\n",
    "Then we compared the distributions on each subset of 10 features that have zero missing values. For that purpose we used the dictionary dict_of_missing where groups of features with the same amount of missing values were stored.\n",
    "\n",
    "By observing the results we can see that for most features the distributions show significant differences between the two subsets."
   ]
  },
  {
   "cell_type": "markdown",
   "metadata": {},
   "source": [
    "### Step 1.2: Select and Re-Encode Features\n",
    "\n",
    "Checking for missing data isn't the only way in which you can prepare a dataset for analysis. Since the unsupervised learning techniques to be used will only work on data that is encoded numerically, you need to make a few encoding changes or additional assumptions to be able to make progress. In addition, while almost all of the values in the dataset are encoded using numbers, not all of them represent numeric values. Check the third column of the feature summary (`feat_info`) for a summary of types of measurement.\n",
    "- For numeric and interval data, these features can be kept without changes.\n",
    "- Most of the variables in the dataset are ordinal in nature. While ordinal values may technically be non-linear in spacing, make the simplifying assumption that the ordinal variables can be treated as being interval in nature (that is, kept without any changes).\n",
    "- Special handling may be necessary for the remaining two variable types: categorical, and 'mixed'.\n",
    "\n",
    "In the first two parts of this sub-step, you will perform an investigation of the categorical and mixed-type features and make a decision on each of them, whether you will keep, drop, or re-encode each. Then, in the last part, you will create a new data frame with only the selected and engineered columns.\n",
    "\n",
    "Data wrangling is often the trickiest part of the data analysis process, and there's a lot of it to be done here. But stick with it: once you're done with this step, you'll be ready to get to the machine learning parts of the project!"
   ]
  },
  {
   "cell_type": "code",
   "execution_count": 30,
   "metadata": {},
   "outputs": [
    {
     "data": {
      "text/plain": [
       "array(['categorical', 'ordinal', 'numeric', 'mixed', 'interval'], dtype=object)"
      ]
     },
     "execution_count": 30,
     "metadata": {},
     "output_type": "execute_result"
    }
   ],
   "source": [
    "#Checking all the different kinds of types:\n",
    "\n",
    "feat_info[\"type\"].unique()"
   ]
  },
  {
   "cell_type": "code",
   "execution_count": 31,
   "metadata": {},
   "outputs": [
    {
     "data": {
      "text/plain": [
       "ordinal        49\n",
       "categorical    21\n",
       "mixed           7\n",
       "numeric         7\n",
       "interval        1\n",
       "Name: type, dtype: int64"
      ]
     },
     "execution_count": 31,
     "metadata": {},
     "output_type": "execute_result"
    }
   ],
   "source": [
    "# How many features are there of each data type?\n",
    "\n",
    "feat_info[\"type\"].value_counts()\n"
   ]
  },
  {
   "cell_type": "markdown",
   "metadata": {},
   "source": [
    "#### Step 1.2.1: Re-Encode Categorical Features\n",
    "\n",
    "For categorical data, you would ordinarily need to encode the levels as dummy variables. Depending on the number of categories, perform one of the following:\n",
    "- For binary (two-level) categoricals that take numeric values, you can keep them without needing to do anything.\n",
    "- There is one binary variable that takes on non-numeric values. For this one, you need to re-encode the values as numbers or create a dummy variable.\n",
    "- For multi-level categoricals (three or more values), you can choose to encode the values using multiple dummy variables (e.g. via [OneHotEncoder](http://scikit-learn.org/stable/modules/generated/sklearn.preprocessing.OneHotEncoder.html)), or (to keep things straightforward) just drop them from the analysis. As always, document your choices in the Discussion section."
   ]
  },
  {
   "cell_type": "code",
   "execution_count": 32,
   "metadata": {},
   "outputs": [],
   "source": [
    "# Assess categorical variables: which are binary, which are multi-level, and\n",
    "# which one needs to be re-encoded?\n",
    "\n"
   ]
  },
  {
   "cell_type": "code",
   "execution_count": 33,
   "metadata": {},
   "outputs": [
    {
     "data": {
      "text/html": [
       "<div>\n",
       "<style scoped>\n",
       "    .dataframe tbody tr th:only-of-type {\n",
       "        vertical-align: middle;\n",
       "    }\n",
       "\n",
       "    .dataframe tbody tr th {\n",
       "        vertical-align: top;\n",
       "    }\n",
       "\n",
       "    .dataframe thead th {\n",
       "        text-align: right;\n",
       "    }\n",
       "</style>\n",
       "<table border=\"1\" class=\"dataframe\">\n",
       "  <thead>\n",
       "    <tr style=\"text-align: right;\">\n",
       "      <th></th>\n",
       "      <th>attribute</th>\n",
       "      <th>information_level</th>\n",
       "      <th>type</th>\n",
       "      <th>missing_or_unknown</th>\n",
       "    </tr>\n",
       "  </thead>\n",
       "  <tbody>\n",
       "    <tr>\n",
       "      <th>0</th>\n",
       "      <td>AGER_TYP</td>\n",
       "      <td>person</td>\n",
       "      <td>categorical</td>\n",
       "      <td>[-1, 0]</td>\n",
       "    </tr>\n",
       "    <tr>\n",
       "      <th>2</th>\n",
       "      <td>ANREDE_KZ</td>\n",
       "      <td>person</td>\n",
       "      <td>categorical</td>\n",
       "      <td>[-1, 0]</td>\n",
       "    </tr>\n",
       "    <tr>\n",
       "      <th>3</th>\n",
       "      <td>CJT_GESAMTTYP</td>\n",
       "      <td>person</td>\n",
       "      <td>categorical</td>\n",
       "      <td>[0]</td>\n",
       "    </tr>\n",
       "    <tr>\n",
       "      <th>10</th>\n",
       "      <td>FINANZTYP</td>\n",
       "      <td>person</td>\n",
       "      <td>categorical</td>\n",
       "      <td>[-1]</td>\n",
       "    </tr>\n",
       "    <tr>\n",
       "      <th>12</th>\n",
       "      <td>GFK_URLAUBERTYP</td>\n",
       "      <td>person</td>\n",
       "      <td>categorical</td>\n",
       "      <td>[]</td>\n",
       "    </tr>\n",
       "  </tbody>\n",
       "</table>\n",
       "</div>"
      ],
      "text/plain": [
       "          attribute information_level         type missing_or_unknown\n",
       "0          AGER_TYP            person  categorical            [-1, 0]\n",
       "2         ANREDE_KZ            person  categorical            [-1, 0]\n",
       "3     CJT_GESAMTTYP            person  categorical                [0]\n",
       "10        FINANZTYP            person  categorical               [-1]\n",
       "12  GFK_URLAUBERTYP            person  categorical                 []"
      ]
     },
     "execution_count": 33,
     "metadata": {},
     "output_type": "execute_result"
    }
   ],
   "source": [
    "#storing all categorical attributes from feat_info to a variable called categoricals\n",
    "\n",
    "categoricals=feat_info[feat_info[\"type\"]=='categorical']\n",
    "categoricals.head()"
   ]
  },
  {
   "cell_type": "code",
   "execution_count": 34,
   "metadata": {},
   "outputs": [
    {
     "name": "stdout",
     "output_type": "stream",
     "text": [
      "ANREDE_KZ [2 1]\n",
      "CJT_GESAMTTYP [ 5.  3.  2.  4.  1.  6.]\n",
      "FINANZTYP [1 6 5 2 4 3]\n",
      "GFK_URLAUBERTYP [ 10.   1.   5.  12.   9.   3.   8.  11.   4.   7.   2.   6.]\n",
      "GREEN_AVANTGARDE [0 1]\n",
      "LP_FAMILIE_FEIN [  5.   1.  nan  10.   2.   7.  11.   8.   4.   6.   9.   3.]\n",
      "LP_FAMILIE_GROB [  3.   1.  nan   5.   2.   4.]\n",
      "LP_STATUS_FEIN [  2.   3.   9.   4.   1.  10.   5.   8.   6.   7.]\n",
      "LP_STATUS_GROB [ 1.  2.  4.  5.  3.]\n",
      "NATIONALITAET_KZ [  1.   3.   2.  nan]\n",
      "SHOPPER_TYP [  3.   2.   1.   0.  nan]\n",
      "SOHO_KZ [ 1.  0.]\n",
      "VERS_TYP [  2.   1.  nan]\n",
      "ZABEOTYP [5 3 4 1 6 2]\n",
      "GEBAEUDETYP [ 8.  1.  3.  2.  6.  4.  5.]\n",
      "OST_WEST_KZ ['W' 'O']\n",
      "CAMEO_DEUG_2015 ['8' '4' '2' '6' '1' '9' '5' '7' '3' nan]\n",
      "CAMEO_DEU_2015 ['8A' '4C' '2A' '6B' '8C' '4A' '2D' '1A' '1E' '9D' '5C' '8B' '7A' '5D' '9E'\n",
      " '9B' '1B' '3D' nan '4E' '4B' '3C' '5A' '7B' '9A' '6D' '6E' '2C' '7C' '9C'\n",
      " '7D' '5E' '1D' '8D' '6C' '6A' '5B' '4D' '3A' '2B' '7E' '3B' '6F' '5F' '1C']\n",
      "\n",
      "List of categorical features in subset1: ['ANREDE_KZ', 'CJT_GESAMTTYP', 'FINANZTYP', 'GFK_URLAUBERTYP', 'GREEN_AVANTGARDE', 'LP_FAMILIE_FEIN', 'LP_FAMILIE_GROB', 'LP_STATUS_FEIN', 'LP_STATUS_GROB', 'NATIONALITAET_KZ', 'SHOPPER_TYP', 'SOHO_KZ', 'VERS_TYP', 'ZABEOTYP', 'GEBAEUDETYP', 'OST_WEST_KZ', 'CAMEO_DEUG_2015', 'CAMEO_DEU_2015']\n"
     ]
    }
   ],
   "source": [
    "#Checking the kind of categoricals that exist in subset1 (subset without or few missing values) and storing them\n",
    "#in a list.\n",
    "\n",
    "categoricals_subset1=[]\n",
    "for i in categoricals[\"attribute\"]:\n",
    "    try:\n",
    "        print(i,subset1[i].unique())\n",
    "        categoricals_subset1.append(i)\n",
    "    except:\n",
    "        continue\n",
    "print(\"\\nList of categorical features in subset1:\",categoricals_subset1)"
   ]
  },
  {
   "cell_type": "code",
   "execution_count": 35,
   "metadata": {},
   "outputs": [
    {
     "name": "stderr",
     "output_type": "stream",
     "text": [
      "/opt/conda/lib/python3.6/site-packages/pandas/core/frame.py:3697: SettingWithCopyWarning: \n",
      "A value is trying to be set on a copy of a slice from a DataFrame\n",
      "\n",
      "See the caveats in the documentation: http://pandas.pydata.org/pandas-docs/stable/indexing.html#indexing-view-versus-copy\n",
      "  errors=errors)\n"
     ]
    }
   ],
   "source": [
    "#We will drop the attribute \"CAMEO_DEU_2015\" for the shake of simplicity\n",
    "#as it appears to have too many levels in comparison to the rest\n",
    "#of the features\n",
    "\n",
    "subset1.drop(\"CAMEO_DEU_2015\",axis=1,inplace=True)"
   ]
  },
  {
   "cell_type": "code",
   "execution_count": 36,
   "metadata": {},
   "outputs": [],
   "source": [
    "#we will also remove it from our list\n",
    "categoricals_subset1.remove('CAMEO_DEU_2015')"
   ]
  },
  {
   "cell_type": "code",
   "execution_count": 37,
   "metadata": {},
   "outputs": [
    {
     "name": "stderr",
     "output_type": "stream",
     "text": [
      "/opt/conda/lib/python3.6/site-packages/ipykernel_launcher.py:4: SettingWithCopyWarning: \n",
      "A value is trying to be set on a copy of a slice from a DataFrame.\n",
      "Try using .loc[row_indexer,col_indexer] = value instead\n",
      "\n",
      "See the caveats in the documentation: http://pandas.pydata.org/pandas-docs/stable/indexing.html#indexing-view-versus-copy\n",
      "  after removing the cwd from sys.path.\n"
     ]
    }
   ],
   "source": [
    "#We notice that there is one binary categorical feature that doesn't take numerical values\n",
    "#We will re encode it.\n",
    "\n",
    "subset1[\"OST_WEST_KZ\"]=subset1[\"OST_WEST_KZ\"].map({'W':0,'O':1})"
   ]
  },
  {
   "cell_type": "code",
   "execution_count": 38,
   "metadata": {},
   "outputs": [
    {
     "data": {
      "text/plain": [
       "array([0, 1])"
      ]
     },
     "execution_count": 38,
     "metadata": {},
     "output_type": "execute_result"
    }
   ],
   "source": [
    "#checking\n",
    "\n",
    "subset1[\"OST_WEST_KZ\"].unique()"
   ]
  },
  {
   "cell_type": "code",
   "execution_count": 39,
   "metadata": {},
   "outputs": [],
   "source": [
    "#Storing the multi level categories present in subset1 to a list\n",
    "\n",
    "list_of_multi_cat=[]\n",
    "for i in categoricals_subset1:\n",
    "    if len(subset1[i].unique())>2:\n",
    "        list_of_multi_cat.append(i)\n",
    "        "
   ]
  },
  {
   "cell_type": "code",
   "execution_count": 40,
   "metadata": {},
   "outputs": [
    {
     "data": {
      "text/plain": [
       "['CJT_GESAMTTYP',\n",
       " 'FINANZTYP',\n",
       " 'GFK_URLAUBERTYP',\n",
       " 'LP_FAMILIE_FEIN',\n",
       " 'LP_FAMILIE_GROB',\n",
       " 'LP_STATUS_FEIN',\n",
       " 'LP_STATUS_GROB',\n",
       " 'NATIONALITAET_KZ',\n",
       " 'SHOPPER_TYP',\n",
       " 'VERS_TYP',\n",
       " 'ZABEOTYP',\n",
       " 'GEBAEUDETYP',\n",
       " 'CAMEO_DEUG_2015']"
      ]
     },
     "execution_count": 40,
     "metadata": {},
     "output_type": "execute_result"
    }
   ],
   "source": [
    "list_of_multi_cat"
   ]
  },
  {
   "cell_type": "code",
   "execution_count": 41,
   "metadata": {},
   "outputs": [],
   "source": [
    "#re encoding the multi level categorical features\n",
    "\n",
    "subset1=pd.get_dummies(subset1,columns=list_of_multi_cat)"
   ]
  },
  {
   "cell_type": "code",
   "execution_count": 42,
   "metadata": {},
   "outputs": [
    {
     "data": {
      "text/plain": [
       "(771701, 151)"
      ]
     },
     "execution_count": 42,
     "metadata": {},
     "output_type": "execute_result"
    }
   ],
   "source": [
    "subset1.shape"
   ]
  },
  {
   "cell_type": "markdown",
   "metadata": {},
   "source": [
    "#### Discussion 1.2.1: Re-Encode Categorical Features\n",
    "\n",
    "There are 4 binary categorical features. One of them that did not contain numerical values was re encoded to values 0 and 1.\n",
    "Out of the multi level categorical features, one was dropped for the shake of simplicity of the analysis as it appeared to have a significantly larger number of levels than the rest of the multi level features.\n",
    "\n",
    "The rest of the multi level attributes were re encoded into the dataframe of none or few missing values, subset1, using pd.get_dummies()"
   ]
  },
  {
   "cell_type": "markdown",
   "metadata": {},
   "source": [
    "#### Step 1.2.2: Engineer Mixed-Type Features\n",
    "\n",
    "There are a handful of features that are marked as \"mixed\" in the feature summary that require special treatment in order to be included in the analysis. There are two in particular that deserve attention; the handling of the rest are up to your own choices:\n",
    "- \"PRAEGENDE_JUGENDJAHRE\" combines information on three dimensions: generation by decade, movement (mainstream vs. avantgarde), and nation (east vs. west). While there aren't enough levels to disentangle east from west, you should create two new variables to capture the other two dimensions: an interval-type variable for decade, and a binary variable for movement.\n",
    "- \"CAMEO_INTL_2015\" combines information on two axes: wealth and life stage. Break up the two-digit codes by their 'tens'-place and 'ones'-place digits into two new ordinal variables (which, for the purposes of this project, is equivalent to just treating them as their raw numeric values).\n",
    "- If you decide to keep or engineer new features around the other mixed-type features, make sure you note your steps in the Discussion section.\n",
    "\n",
    "Be sure to check `Data_Dictionary.md` for the details needed to finish these tasks."
   ]
  },
  {
   "cell_type": "code",
   "execution_count": 43,
   "metadata": {},
   "outputs": [
    {
     "data": {
      "text/html": [
       "<div>\n",
       "<style scoped>\n",
       "    .dataframe tbody tr th:only-of-type {\n",
       "        vertical-align: middle;\n",
       "    }\n",
       "\n",
       "    .dataframe tbody tr th {\n",
       "        vertical-align: top;\n",
       "    }\n",
       "\n",
       "    .dataframe thead th {\n",
       "        text-align: right;\n",
       "    }\n",
       "</style>\n",
       "<table border=\"1\" class=\"dataframe\">\n",
       "  <thead>\n",
       "    <tr style=\"text-align: right;\">\n",
       "      <th></th>\n",
       "      <th>attribute</th>\n",
       "      <th>information_level</th>\n",
       "      <th>type</th>\n",
       "      <th>missing_or_unknown</th>\n",
       "    </tr>\n",
       "  </thead>\n",
       "  <tbody>\n",
       "    <tr>\n",
       "      <th>15</th>\n",
       "      <td>LP_LEBENSPHASE_FEIN</td>\n",
       "      <td>person</td>\n",
       "      <td>mixed</td>\n",
       "      <td>[0]</td>\n",
       "    </tr>\n",
       "    <tr>\n",
       "      <th>16</th>\n",
       "      <td>LP_LEBENSPHASE_GROB</td>\n",
       "      <td>person</td>\n",
       "      <td>mixed</td>\n",
       "      <td>[0]</td>\n",
       "    </tr>\n",
       "    <tr>\n",
       "      <th>22</th>\n",
       "      <td>PRAEGENDE_JUGENDJAHRE</td>\n",
       "      <td>person</td>\n",
       "      <td>mixed</td>\n",
       "      <td>[-1, 0]</td>\n",
       "    </tr>\n",
       "    <tr>\n",
       "      <th>56</th>\n",
       "      <td>WOHNLAGE</td>\n",
       "      <td>building</td>\n",
       "      <td>mixed</td>\n",
       "      <td>[-1]</td>\n",
       "    </tr>\n",
       "    <tr>\n",
       "      <th>59</th>\n",
       "      <td>CAMEO_INTL_2015</td>\n",
       "      <td>microcell_rr4</td>\n",
       "      <td>mixed</td>\n",
       "      <td>[-1, XX]</td>\n",
       "    </tr>\n",
       "    <tr>\n",
       "      <th>64</th>\n",
       "      <td>KBA05_BAUMAX</td>\n",
       "      <td>microcell_rr3</td>\n",
       "      <td>mixed</td>\n",
       "      <td>[-1, 0]</td>\n",
       "    </tr>\n",
       "    <tr>\n",
       "      <th>79</th>\n",
       "      <td>PLZ8_BAUMAX</td>\n",
       "      <td>macrocell_plz8</td>\n",
       "      <td>mixed</td>\n",
       "      <td>[-1, 0]</td>\n",
       "    </tr>\n",
       "  </tbody>\n",
       "</table>\n",
       "</div>"
      ],
      "text/plain": [
       "                attribute information_level   type missing_or_unknown\n",
       "15    LP_LEBENSPHASE_FEIN            person  mixed                [0]\n",
       "16    LP_LEBENSPHASE_GROB            person  mixed                [0]\n",
       "22  PRAEGENDE_JUGENDJAHRE            person  mixed            [-1, 0]\n",
       "56               WOHNLAGE          building  mixed               [-1]\n",
       "59        CAMEO_INTL_2015     microcell_rr4  mixed           [-1, XX]\n",
       "64           KBA05_BAUMAX     microcell_rr3  mixed            [-1, 0]\n",
       "79            PLZ8_BAUMAX    macrocell_plz8  mixed            [-1, 0]"
      ]
     },
     "execution_count": 43,
     "metadata": {},
     "output_type": "execute_result"
    }
   ],
   "source": [
    "#Finding out which attributes are of mixed type\n",
    "\n",
    "mixed=feat_info[feat_info[\"type\"]=='mixed']\n",
    "mixed"
   ]
  },
  {
   "cell_type": "code",
   "execution_count": 44,
   "metadata": {},
   "outputs": [
    {
     "data": {
      "text/plain": [
       "14.0    177055\n",
       "8.0     137517\n",
       "10.0     83180\n",
       "5.0      82984\n",
       "3.0      52645\n",
       "15.0     40684\n",
       "11.0     34300\n",
       "9.0      32901\n",
       "6.0      25293\n",
       "12.0     23861\n",
       "4.0      20175\n",
       "1.0      19974\n",
       "2.0       7372\n",
       "13.0      5497\n",
       "7.0       3934\n",
       "Name: PRAEGENDE_JUGENDJAHRE, dtype: int64"
      ]
     },
     "execution_count": 44,
     "metadata": {},
     "output_type": "execute_result"
    }
   ],
   "source": [
    "subset1[\"PRAEGENDE_JUGENDJAHRE\"].value_counts()"
   ]
  },
  {
   "cell_type": "code",
   "execution_count": 45,
   "metadata": {},
   "outputs": [],
   "source": [
    "#By looking into the details of Data_Dictionary.md, we create a new column by replacing\n",
    "#the corresponding values to the integer part of the decade (eg 40 from 40s)\n",
    "\n",
    "subset1[\"PRAEGENDE_JUGENDJAHRE_Date\"]=subset1[\"PRAEGENDE_JUGENDJAHRE\"].replace([1,2],40)\n",
    "subset1[\"PRAEGENDE_JUGENDJAHRE_Date\"]=subset1[\"PRAEGENDE_JUGENDJAHRE_Date\"].replace([3,4],50)\n",
    "subset1[\"PRAEGENDE_JUGENDJAHRE_Date\"]=subset1[\"PRAEGENDE_JUGENDJAHRE_Date\"].replace([5,6,7],60)\n",
    "subset1[\"PRAEGENDE_JUGENDJAHRE_Date\"]=subset1[\"PRAEGENDE_JUGENDJAHRE_Date\"].replace([8,9],70)\n",
    "subset1[\"PRAEGENDE_JUGENDJAHRE_Date\"]=subset1[\"PRAEGENDE_JUGENDJAHRE_Date\"].replace([10,11,12,13],80)\n",
    "subset1[\"PRAEGENDE_JUGENDJAHRE_Date\"]=subset1[\"PRAEGENDE_JUGENDJAHRE_Date\"].replace([14,15],90)"
   ]
  },
  {
   "cell_type": "code",
   "execution_count": 46,
   "metadata": {},
   "outputs": [
    {
     "data": {
      "text/plain": [
       "90.0    217739\n",
       "70.0    170418\n",
       "80.0    146838\n",
       "60.0    112211\n",
       "50.0     72820\n",
       "40.0     27346\n",
       "Name: PRAEGENDE_JUGENDJAHRE_Date, dtype: int64"
      ]
     },
     "execution_count": 46,
     "metadata": {},
     "output_type": "execute_result"
    }
   ],
   "source": [
    "#checking\n",
    "\n",
    "subset1[\"PRAEGENDE_JUGENDJAHRE_Date\"].value_counts()"
   ]
  },
  {
   "cell_type": "code",
   "execution_count": 47,
   "metadata": {},
   "outputs": [],
   "source": [
    "#we do the same thing by creating a column for the movement. \n",
    "#This is a binary variable so we will replace the values with 0 and 1\n",
    "\n",
    "subset1[\"PRAEGENDE_JUGENDJAHRE_Movement\"]=subset1[\"PRAEGENDE_JUGENDJAHRE\"].replace([1,3,5,8,10,12,14],0)\n",
    "subset1[\"PRAEGENDE_JUGENDJAHRE_Movement\"]=subset1[\"PRAEGENDE_JUGENDJAHRE_Movement\"].replace([2,4,6,7,9,11,13,15],1)"
   ]
  },
  {
   "cell_type": "code",
   "execution_count": 48,
   "metadata": {},
   "outputs": [
    {
     "data": {
      "text/plain": [
       "0.0    577216\n",
       "1.0    170156\n",
       "Name: PRAEGENDE_JUGENDJAHRE_Movement, dtype: int64"
      ]
     },
     "execution_count": 48,
     "metadata": {},
     "output_type": "execute_result"
    }
   ],
   "source": [
    "#checking\n",
    "\n",
    "subset1[\"PRAEGENDE_JUGENDJAHRE_Movement\"].value_counts()"
   ]
  },
  {
   "cell_type": "code",
   "execution_count": 49,
   "metadata": {},
   "outputs": [],
   "source": [
    "#we will now drop the feature \"PRAEGENDE_JUGENDJAHRE\" as we do not need it anymore\n",
    "\n",
    "subset1.drop(\"PRAEGENDE_JUGENDJAHRE\",axis=1,inplace=True)"
   ]
  },
  {
   "cell_type": "code",
   "execution_count": 50,
   "metadata": {},
   "outputs": [],
   "source": [
    "#By looking into the data_dictionary, we see that the tens digits correspond to wealth and ones digits to life stage\n",
    "#We replace them accordingly to new columns/features\n",
    "\n",
    "subset1[\"CAMEO_INTL_2015_Wealth\"]=subset1[\"CAMEO_INTL_2015\"].replace(['11','12','13','14','15'],10)\n",
    "subset1[\"CAMEO_INTL_2015_Wealth\"]=subset1[\"CAMEO_INTL_2015_Wealth\"].replace(['21','22','23','24','25'],20)\n",
    "subset1[\"CAMEO_INTL_2015_Wealth\"]=subset1[\"CAMEO_INTL_2015_Wealth\"].replace(['31','32','33','34','35'],30)\n",
    "subset1[\"CAMEO_INTL_2015_Wealth\"]=subset1[\"CAMEO_INTL_2015_Wealth\"].replace(['41','42','43','44','44','45'],40)\n",
    "subset1[\"CAMEO_INTL_2015_Wealth\"]=subset1[\"CAMEO_INTL_2015_Wealth\"].replace(['51','52','53','54','55'],50)"
   ]
  },
  {
   "cell_type": "code",
   "execution_count": 51,
   "metadata": {},
   "outputs": [
    {
     "data": {
      "text/plain": [
       "50.0    219852\n",
       "40.0    185463\n",
       "20.0    182423\n",
       "10.0    115294\n",
       "30.0     65330\n",
       "Name: CAMEO_INTL_2015_Wealth, dtype: int64"
      ]
     },
     "execution_count": 51,
     "metadata": {},
     "output_type": "execute_result"
    }
   ],
   "source": [
    "#checking\n",
    "subset1[\"CAMEO_INTL_2015_Wealth\"].value_counts()"
   ]
  },
  {
   "cell_type": "code",
   "execution_count": 52,
   "metadata": {},
   "outputs": [],
   "source": [
    "subset1[\"CAMEO_INTL_2015_LifeStage\"]=subset1[\"CAMEO_INTL_2015\"].replace(['11','21','31','41','51'],1)\n",
    "subset1[\"CAMEO_INTL_2015_LifeStage\"]=subset1[\"CAMEO_INTL_2015_LifeStage\"].replace(['12','22','32','42','52'],2)\n",
    "subset1[\"CAMEO_INTL_2015_LifeStage\"]=subset1[\"CAMEO_INTL_2015_LifeStage\"].replace(['13','23','33','43','53'],3)\n",
    "subset1[\"CAMEO_INTL_2015_LifeStage\"]=subset1[\"CAMEO_INTL_2015_LifeStage\"].replace(['14','24','34','44','54'],4)\n",
    "subset1[\"CAMEO_INTL_2015_LifeStage\"]=subset1[\"CAMEO_INTL_2015_LifeStage\"].replace(['15','25','35','45','55'],5)"
   ]
  },
  {
   "cell_type": "code",
   "execution_count": 53,
   "metadata": {},
   "outputs": [
    {
     "data": {
      "text/plain": [
       "1.0    239595\n",
       "4.0    226171\n",
       "3.0    114036\n",
       "5.0    113856\n",
       "2.0     74704\n",
       "Name: CAMEO_INTL_2015_LifeStage, dtype: int64"
      ]
     },
     "execution_count": 53,
     "metadata": {},
     "output_type": "execute_result"
    }
   ],
   "source": [
    "#checking\n",
    "subset1[\"CAMEO_INTL_2015_LifeStage\"].value_counts()"
   ]
  },
  {
   "cell_type": "code",
   "execution_count": 54,
   "metadata": {},
   "outputs": [],
   "source": [
    "#We'll now drop the column \"CAMEO_INTL_2015\" as we do not need it\n",
    "subset1.drop(\"CAMEO_INTL_2015\",axis=1,inplace=True)"
   ]
  },
  {
   "cell_type": "markdown",
   "metadata": {},
   "source": [
    "#### Discussion 1.2.2: Engineer Mixed-Type Features\n",
    "\n",
    "By looking into the details of Data_Dictionary.md, we create a new column by replacing the values that correspond to each decade with the integer part of the decade (eg 40 for 40s)\n",
    "Then we replace the rest of the values by modifying the same column for the rest of the decades.\n",
    "\n",
    "The same process is followed for the movement variable but since it is binary so we just replace the values with 0 and 1.\n",
    "\n",
    "Similarly for the CAMEO_INTL_2015, we divide into Wealth and LifeStage columns. \n",
    "We notice that the data in this feature are strings.\n",
    "Since the tens of the values correspond to wealth, we replace each bunch of tens for each wealth category and the ones for each Life Stage.\n",
    "\n",
    "Then the two initial columns are dropped since we do not need them anymore and they will interfere with the analysis later.\n",
    "\n",
    "Every other mixed feature is kept as is."
   ]
  },
  {
   "cell_type": "markdown",
   "metadata": {},
   "source": [
    "#### Step 1.2.3: Complete Feature Selection\n",
    "\n",
    "In order to finish this step up, you need to make sure that your data frame now only has the columns that you want to keep. To summarize, the dataframe should consist of the following:\n",
    "- All numeric, interval, and ordinal type columns from the original dataset.\n",
    "- Binary categorical features (all numerically-encoded).\n",
    "- Engineered features from other multi-level categorical features and mixed features.\n",
    "\n",
    "Make sure that for any new columns that you have engineered, that you've excluded the original columns from the final dataset. Otherwise, their values will interfere with the analysis later on the project. For example, you should not keep \"PRAEGENDE_JUGENDJAHRE\", since its values won't be useful for the algorithm: only the values derived from it in the engineered features you created should be retained. As a reminder, your data should only be from **the subset with few or no missing values**."
   ]
  },
  {
   "cell_type": "code",
   "execution_count": 55,
   "metadata": {},
   "outputs": [],
   "source": [
    "# If there are other re-engineering tasks you need to perform, make sure you\n",
    "# take care of them here. (Dealing with missing data will come in step 2.1.)\n",
    "\n"
   ]
  },
  {
   "cell_type": "code",
   "execution_count": 56,
   "metadata": {},
   "outputs": [],
   "source": [
    "# Do whatever you need to in order to ensure that the dataframe only contains\n",
    "# the columns that should be passed to the algorithm functions.\n",
    "\n"
   ]
  },
  {
   "cell_type": "code",
   "execution_count": 57,
   "metadata": {},
   "outputs": [],
   "source": [
    "#we will one hot encode the new feature column PRAEGENDE_JUGENDJAHRE_Date\n",
    "\n",
    "subset1=pd.get_dummies(subset1,columns=[\"PRAEGENDE_JUGENDJAHRE_Date\"])"
   ]
  },
  {
   "cell_type": "code",
   "execution_count": 58,
   "metadata": {},
   "outputs": [],
   "source": [
    "#we will re encode the column \"CAMEO_INTL_2015_Wealth\"\n",
    "\n",
    "subset1=pd.get_dummies(subset1,columns=[\"CAMEO_INTL_2015_Wealth\"])"
   ]
  },
  {
   "cell_type": "code",
   "execution_count": 59,
   "metadata": {},
   "outputs": [],
   "source": [
    "# We will one hot encode the new column CAMEO_INTL_2015_LifeStage\n",
    "subset1=pd.get_dummies(subset1,columns=[\"CAMEO_INTL_2015_LifeStage\"])"
   ]
  },
  {
   "cell_type": "code",
   "execution_count": 60,
   "metadata": {},
   "outputs": [
    {
     "data": {
      "text/plain": [
       "(771701, 166)"
      ]
     },
     "execution_count": 60,
     "metadata": {},
     "output_type": "execute_result"
    }
   ],
   "source": [
    "subset1.shape"
   ]
  },
  {
   "cell_type": "markdown",
   "metadata": {},
   "source": [
    "### Step 1.3: Create a Cleaning Function\n",
    "\n",
    "Even though you've finished cleaning up the general population demographics data, it's important to look ahead to the future and realize that you'll need to perform the same cleaning steps on the customer demographics data. In this substep, complete the function below to execute the main feature selection, encoding, and re-engineering steps you performed above. Then, when it comes to looking at the customer data in Step 3, you can just run this function on that DataFrame to get the trimmed dataset in a single step."
   ]
  },
  {
   "cell_type": "code",
   "execution_count": 61,
   "metadata": {},
   "outputs": [],
   "source": [
    "def clean_data(df):\n",
    "    \"\"\"\n",
    "    Perform feature trimming, re-encoding, and engineering for demographics\n",
    "    data\n",
    "    \n",
    "    INPUT: Demographics DataFrame\n",
    "    OUTPUT: Trimmed and cleaned demographics DataFrame\n",
    "    \"\"\"\n",
    "    \n",
    "    # Put in code here to execute all main cleaning steps:\n",
    "    # convert missing value codes into NaNs, ...\n",
    "    \n",
    "    feat_info = pd.read_csv('AZDIAS_Feature_Summary.csv', delimiter=';')\n",
    "    \n",
    "    for i in range(len(feat_info)):\n",
    "        for j in feat_info[\"missing_or_unknown\"][i]:\n",
    "            df[df.columns[i]]=df[df.columns[i]].replace(j,np.nan)\n",
    "        \n",
    "    \n",
    "    # remove selected columns and rows, ...\n",
    "    \n",
    "    drop_columns=['TITEL_KZ','AGER_TYP','KK_KUNDENTYP','KBA05_BAUMAK','GEBURTSJAHR','ALTER_HH']\n",
    "    \n",
    "    for column in drop_columns:\n",
    "        df.drop(labels=column,axis=1,inplace=True)\n",
    "    \n",
    "    \n",
    "    \n",
    "    \n",
    "    rm=df.isna().sum()\n",
    "    \n",
    "    threshold=1\n",
    "    while True:\n",
    "        percentage=0\n",
    "        count=0\n",
    "        for i in rm:\n",
    "            if i<threshold:\n",
    "                count+=1\n",
    "        percentage=(count/len(rm))*100\n",
    "        if percentage>=85:\n",
    "            break\n",
    "        else:\n",
    "            threshold=threshold+1\n",
    "    \n",
    "    subset1=df[rm<threshold]\n",
    "    subset2=df[rm>=threshold]\n",
    "\n",
    "    \n",
    "    # select, re-encode, and engineer column values.\n",
    "    \n",
    "    categoricals=feat_info[feat_info[\"type\"]=='categorical']\n",
    "    \n",
    "    categoricals_subset1=[]\n",
    "    for i in categoricals[\"attribute\"]:\n",
    "        try:\n",
    "            print(i,subset1[i].unique())\n",
    "            categoricals_subset1.append(i)\n",
    "        except:\n",
    "            continue\n",
    "    \n",
    "    subset1.drop(\"CAMEO_DEU_2015\",axis=1,inplace=True)\n",
    "    categoricals_subset1.remove('CAMEO_DEU_2015')\n",
    "    subset1[\"OST_WEST_KZ\"]=subset1[\"OST_WEST_KZ\"].map({'W':0,'O':1})\n",
    "    \n",
    "    list_of_multi_cat=[]\n",
    "    for i in categoricals_subset1:\n",
    "        if len(subset1[i].unique())>2:\n",
    "            list_of_multi_cat.append(i)\n",
    "            \n",
    "    \n",
    "    subset1=pd.get_dummies(subset1,columns=list_of_multi_cat)\n",
    "    \n",
    "    subset1[\"PRAEGENDE_JUGENDJAHRE_Date\"]=subset1[\"PRAEGENDE_JUGENDJAHRE\"].replace([1,2],40)\n",
    "    subset1[\"PRAEGENDE_JUGENDJAHRE_Date\"]=subset1[\"PRAEGENDE_JUGENDJAHRE_Date\"].replace([3,4],50)\n",
    "    subset1[\"PRAEGENDE_JUGENDJAHRE_Date\"]=subset1[\"PRAEGENDE_JUGENDJAHRE_Date\"].replace([5,6,7],60)\n",
    "    subset1[\"PRAEGENDE_JUGENDJAHRE_Date\"]=subset1[\"PRAEGENDE_JUGENDJAHRE_Date\"].replace([8,9],70)\n",
    "    subset1[\"PRAEGENDE_JUGENDJAHRE_Date\"]=subset1[\"PRAEGENDE_JUGENDJAHRE_Date\"].replace([10,11,12,13],80)\n",
    "    subset1[\"PRAEGENDE_JUGENDJAHRE_Date\"]=subset1[\"PRAEGENDE_JUGENDJAHRE_Date\"].replace([14,15],90)\n",
    "    \n",
    "    subset1[\"PRAEGENDE_JUGENDJAHRE_Movement\"]=subset1[\"PRAEGENDE_JUGENDJAHRE\"].replace([1,3,5,8,10,12,14],0)\n",
    "    subset1[\"PRAEGENDE_JUGENDJAHRE_Movement\"]=subset1[\"PRAEGENDE_JUGENDJAHRE_Movement\"].replace([2,4,6,7,9,11,13,15],1)\n",
    "    \n",
    "    subset1.drop(\"PRAEGENDE_JUGENDJAHRE\",axis=1,inplace=True)\n",
    "    \n",
    "    subset1[\"CAMEO_INTL_2015_LifeStage\"]=subset1[\"CAMEO_INTL_2015\"].replace(['11','21','31','41','51'],1)\n",
    "    subset1[\"CAMEO_INTL_2015_LifeStage\"]=subset1[\"CAMEO_INTL_2015_LifeStage\"].replace(['12','22','32','42','52'],2)\n",
    "    subset1[\"CAMEO_INTL_2015_LifeStage\"]=subset1[\"CAMEO_INTL_2015_LifeStage\"].replace(['13','23','33','43','53'],3)\n",
    "    subset1[\"CAMEO_INTL_2015_LifeStage\"]=subset1[\"CAMEO_INTL_2015_LifeStage\"].replace(['14','24','34','44','54'],4)\n",
    "    subset1[\"CAMEO_INTL_2015_LifeStage\"]=subset1[\"CAMEO_INTL_2015_LifeStage\"].replace(['15','25','35','45','55'],5)\n",
    "    \n",
    "    subset1.drop(\"CAMEO_INTL_2015\",axis=1,inplace=True)\n",
    "    \n",
    "    subset1=pd.get_dummies(subset1,columns=[\"PRAEGENDE_JUGENDJAHRE_Date\",\"CAMEO_INTL_2015_Wealth\",\"CAMEO_INTL_2015_LifeStage\"])\n",
    "    \n",
    "    \n",
    "    # Return the cleaned dataframe.\n",
    "    \n",
    "    return subset1\n",
    "    \n",
    "    "
   ]
  },
  {
   "cell_type": "markdown",
   "metadata": {},
   "source": [
    "## Step 2: Feature Transformation\n",
    "\n",
    "### Step 2.1: Apply Feature Scaling\n",
    "\n",
    "Before we apply dimensionality reduction techniques to the data, we need to perform feature scaling so that the principal component vectors are not influenced by the natural differences in scale for features. Starting from this part of the project, you'll want to keep an eye on the [API reference page for sklearn](http://scikit-learn.org/stable/modules/classes.html) to help you navigate to all of the classes and functions that you'll need. In this substep, you'll need to check the following:\n",
    "\n",
    "- sklearn requires that data not have missing values in order for its estimators to work properly. So, before applying the scaler to your data, make sure that you've cleaned the DataFrame of the remaining missing values. This can be as simple as just removing all data points with missing data, or applying an [Imputer](http://scikit-learn.org/stable/modules/generated/sklearn.preprocessing.Imputer.html) to replace all missing values. You might also try a more complicated procedure where you temporarily remove missing values in order to compute the scaling parameters before re-introducing those missing values and applying imputation. Think about how much missing data you have and what possible effects each approach might have on your analysis, and justify your decision in the discussion section below.\n",
    "- For the actual scaling function, a [StandardScaler](http://scikit-learn.org/stable/modules/generated/sklearn.preprocessing.StandardScaler.html) instance is suggested, scaling each feature to mean 0 and standard deviation 1.\n",
    "- For these classes, you can make use of the `.fit_transform()` method to both fit a procedure to the data as well as apply the transformation to the data at the same time. Don't forget to keep the fit sklearn objects handy, since you'll be applying them to the customer demographics data towards the end of the project."
   ]
  },
  {
   "cell_type": "code",
   "execution_count": 62,
   "metadata": {},
   "outputs": [
    {
     "data": {
      "text/plain": [
       "510446"
      ]
     },
     "execution_count": 62,
     "metadata": {},
     "output_type": "execute_result"
    }
   ],
   "source": [
    "subset1.isna().sum().sum()"
   ]
  },
  {
   "cell_type": "code",
   "execution_count": null,
   "metadata": {},
   "outputs": [],
   "source": [
    "# If you've not yet cleaned the dataset of all NaN values, then investigate and\n",
    "# do that now.\n",
    "Imp_mean=Imputer()\n",
    "X=Imp_mean.fit_transform(subset1)\n",
    "X=pd.DataFrame(X,columns=subset1.columns)"
   ]
  },
  {
   "cell_type": "code",
   "execution_count": 64,
   "metadata": {},
   "outputs": [],
   "source": [
    "# Apply feature scaling to the general population demographics data.\n",
    "scaler=StandardScaler()\n",
    "X_ss=StandardScaler().fit_transform(X)"
   ]
  },
  {
   "cell_type": "code",
   "execution_count": 65,
   "metadata": {},
   "outputs": [],
   "source": [
    "X_ss=pd.DataFrame(X_ss,columns=subset1.columns)"
   ]
  },
  {
   "cell_type": "markdown",
   "metadata": {},
   "source": [
    "### Discussion 2.1: Apply Feature Scaling\n",
    "\n",
    "The missing values are filled with the mean, along columns, using an Imputer. It is probably a better decision as dropping completely the data points would have repercusions in our analysis.\n",
    "\n",
    "We also use the subset1 data set which is already the set with reduced missing values.\n",
    "\n",
    "Then the features are scaled, using a Standard Scaler"
   ]
  },
  {
   "cell_type": "markdown",
   "metadata": {},
   "source": [
    "### Step 2.2: Perform Dimensionality Reduction\n",
    "\n",
    "On your scaled data, you are now ready to apply dimensionality reduction techniques.\n",
    "\n",
    "- Use sklearn's [PCA](http://scikit-learn.org/stable/modules/generated/sklearn.decomposition.PCA.html) class to apply principal component analysis on the data, thus finding the vectors of maximal variance in the data. To start, you should not set any parameters (so all components are computed) or set a number of components that is at least half the number of features (so there's enough features to see the general trend in variability).\n",
    "- Check out the ratio of variance explained by each principal component as well as the cumulative variance explained. Try plotting the cumulative or sequential values using matplotlib's [`plot()`](https://matplotlib.org/api/_as_gen/matplotlib.pyplot.plot.html) function. Based on what you find, select a value for the number of transformed features you'll retain for the clustering part of the project.\n",
    "- Once you've made a choice for the number of components to keep, make sure you re-fit a PCA instance to perform the decided-on transformation."
   ]
  },
  {
   "cell_type": "code",
   "execution_count": 66,
   "metadata": {},
   "outputs": [],
   "source": [
    "# Apply PCA to the data.\n",
    "pca=PCA()\n",
    "X_pca=pca.fit_transform(X_ss)\n"
   ]
  },
  {
   "cell_type": "code",
   "execution_count": 67,
   "metadata": {},
   "outputs": [
    {
     "data": {
      "text/plain": [
       "(771701, 166)"
      ]
     },
     "execution_count": 67,
     "metadata": {},
     "output_type": "execute_result"
    }
   ],
   "source": [
    "X_pca.shape"
   ]
  },
  {
   "cell_type": "code",
   "execution_count": 68,
   "metadata": {},
   "outputs": [],
   "source": [
    "# Investigate the variance accounted for by each principal component.\n",
    "\n",
    "def scree_plot(pca):\n",
    "    num_components=len(pca.explained_variance_ratio_)\n",
    "    ind = np.arange(num_components)\n",
    "    vals = pca.explained_variance_ratio_\n",
    " \n",
    "    plt.figure(figsize=(10, 6))\n",
    "    ax = plt.subplot(111)\n",
    "    cumvals = np.cumsum(vals)\n",
    "    ax.bar(ind, vals)\n",
    "    ax.plot(ind, cumvals)\n",
    "    ax.xaxis.set_tick_params(width=0)\n",
    "    ax.yaxis.set_tick_params(width=2, length=12)\n",
    " \n",
    "    ax.set_xlabel(\"Principal Component\")\n",
    "    ax.set_ylabel(\"Variance Explained (%)\")\n",
    "    plt.title('Explained Variance Per Principal Component')"
   ]
  },
  {
   "cell_type": "code",
   "execution_count": 69,
   "metadata": {},
   "outputs": [
    {
     "data": {
      "image/png": "[encoded data removed]",
      "text/plain": [
       "<matplotlib.figure.Figure at 0x7fe3133c9c18>"
      ]
     },
     "metadata": {
      "needs_background": "light"
     },
     "output_type": "display_data"
    }
   ],
   "source": [
    "scree_plot(pca)"
   ]
  },
  {
   "cell_type": "code",
   "execution_count": 79,
   "metadata": {},
   "outputs": [],
   "source": [
    "# Re-apply PCA to the data while selecting for number of components to retain.\n",
    "pca=PCA(n_components=70)\n",
    "X_pca=pca.fit_transform(X_ss)\n"
   ]
  },
  {
   "cell_type": "code",
   "execution_count": 80,
   "metadata": {},
   "outputs": [
    {
     "data": {
      "image/png": "[encoded data removed]",
      "text/plain": [
       "<matplotlib.figure.Figure at 0x7fe313471ba8>"
      ]
     },
     "metadata": {
      "needs_background": "light"
     },
     "output_type": "display_data"
    }
   ],
   "source": [
    "scree_plot(pca)"
   ]
  },
  {
   "cell_type": "markdown",
   "metadata": {},
   "source": [
    "### Discussion 2.2: Perform Dimensionality Reduction\n",
    "\n",
    "From the 2 scree plots we can see that 100% of the variance is explained at around 130 principal components. While more than 80% could be explained with just 70 variables. Therefore we decided to reduce the components by 60."
   ]
  },
  {
   "cell_type": "markdown",
   "metadata": {},
   "source": [
    "### Step 2.3: Interpret Principal Components\n",
    "\n",
    "Now that we have our transformed principal components, it's a nice idea to check out the weight of each variable on the first few components to see if they can be interpreted in some fashion.\n",
    "\n",
    "As a reminder, each principal component is a unit vector that points in the direction of highest variance (after accounting for the variance captured by earlier principal components). The further a weight is from zero, the more the principal component is in the direction of the corresponding feature. If two features have large weights of the same sign (both positive or both negative), then increases in one tend expect to be associated with increases in the other. To contrast, features with different signs can be expected to show a negative correlation: increases in one variable should result in a decrease in the other.\n",
    "\n",
    "- To investigate the features, you should map each weight to their corresponding feature name, then sort the features according to weight. The most interesting features for each principal component, then, will be those at the beginning and end of the sorted list. Use the data dictionary document to help you understand these most prominent features, their relationships, and what a positive or negative value on the principal component might indicate.\n",
    "- You should investigate and interpret feature associations from the first three principal components in this substep. To help facilitate this, you should write a function that you can call at any time to print the sorted list of feature weights, for the *i*-th principal component. This might come in handy in the next step of the project, when you interpret the tendencies of the discovered clusters."
   ]
  },
  {
   "cell_type": "code",
   "execution_count": 86,
   "metadata": {},
   "outputs": [],
   "source": [
    "# Map weights for the first principal component to corresponding feature names\n",
    "# and then print the linked values, sorted by weight.\n",
    "# HINT: Try defining a function here or in a new cell that you can reuse in the\n",
    "# other cells.\n",
    "\n",
    "\n",
    "def mapping_weights(pca,number):\n",
    "    components=pca.components_\n",
    "    components_df=pd.DataFrame(components,columns=X_ss.keys())\n",
    "    map_dict={}\n",
    "    for j in range(len(components_df.columns)):\n",
    "        map_dict[components_df.columns[j]]= components_df.iloc[number,j]\n",
    "    sorted_keys=sorted(map_dict,key=map_dict.get)\n",
    "    sorted_dict={}\n",
    "    for w in sorted_keys:\n",
    "        sorted_dict[w]=map_dict[w]\n",
    "    return sorted_dict"
   ]
  },
  {
   "cell_type": "code",
   "execution_count": 88,
   "metadata": {},
   "outputs": [],
   "source": [
    "#calculating explained variance\n",
    "\n",
    "ratios=pca.explained_variance_ratio_\n",
    "ratios_pd=pd.DataFrame(ratios)"
   ]
  },
  {
   "cell_type": "code",
   "execution_count": 89,
   "metadata": {},
   "outputs": [
    {
     "data": {
      "text/html": [
       "<div>\n",
       "<style scoped>\n",
       "    .dataframe tbody tr th:only-of-type {\n",
       "        vertical-align: middle;\n",
       "    }\n",
       "\n",
       "    .dataframe tbody tr th {\n",
       "        vertical-align: top;\n",
       "    }\n",
       "\n",
       "    .dataframe thead th {\n",
       "        text-align: right;\n",
       "    }\n",
       "</style>\n",
       "<table border=\"1\" class=\"dataframe\">\n",
       "  <thead>\n",
       "    <tr style=\"text-align: right;\">\n",
       "      <th></th>\n",
       "      <th>0</th>\n",
       "    </tr>\n",
       "  </thead>\n",
       "  <tbody>\n",
       "    <tr>\n",
       "      <th>0</th>\n",
       "      <td>0.097834</td>\n",
       "    </tr>\n",
       "    <tr>\n",
       "      <th>1</th>\n",
       "      <td>0.068875</td>\n",
       "    </tr>\n",
       "    <tr>\n",
       "      <th>2</th>\n",
       "      <td>0.041416</td>\n",
       "    </tr>\n",
       "    <tr>\n",
       "      <th>3</th>\n",
       "      <td>0.035592</td>\n",
       "    </tr>\n",
       "    <tr>\n",
       "      <th>4</th>\n",
       "      <td>0.028053</td>\n",
       "    </tr>\n",
       "  </tbody>\n",
       "</table>\n",
       "</div>"
      ],
      "text/plain": [
       "          0\n",
       "0  0.097834\n",
       "1  0.068875\n",
       "2  0.041416\n",
       "3  0.035592\n",
       "4  0.028053"
      ]
     },
     "execution_count": 89,
     "metadata": {},
     "output_type": "execute_result"
    }
   ],
   "source": [
    "ratios_pd.head()"
   ]
  },
  {
   "cell_type": "code",
   "execution_count": 87,
   "metadata": {},
   "outputs": [
    {
     "data": {
      "text/plain": [
       "{'MOBI_REGIO': -0.19889763280492112,\n",
       " 'KBA05_ANTG1': -0.1856939525608674,\n",
       " 'FINANZ_MINIMALIST': -0.18212079800736097,\n",
       " 'PLZ8_ANTG1': -0.17927531977390723,\n",
       " 'KBA05_GBZ': -0.17660540487301596,\n",
       " 'LP_LEBENSPHASE_FEIN': -0.14250535032804243,\n",
       " 'KONSUMNAEHE': -0.13405896252935934,\n",
       " 'PLZ8_GBZ': -0.13141099515049728,\n",
       " 'LP_LEBENSPHASE_GROB': -0.12915526842188799,\n",
       " 'INNENSTADT': -0.12584199618986142,\n",
       " 'LP_STATUS_FEIN_10.0': -0.11064357857560936,\n",
       " 'LP_STATUS_GROB_5.0': -0.11064357857560936,\n",
       " 'LP_STATUS_GROB_4.0': -0.109528527294142,\n",
       " 'LP_STATUS_FEIN_9.0': -0.10814352075438913,\n",
       " 'CAMEO_INTL_2015_Wealth_20.0': -0.1026971089028557,\n",
       " 'GREEN_AVANTGARDE': -0.099929758795938101,\n",
       " 'PRAEGENDE_JUGENDJAHRE_Movement': -0.09770370157661136,\n",
       " 'CAMEO_INTL_2015_Wealth_10.0': -0.096728228519266088,\n",
       " 'GEBAEUDETYP_RASTER': -0.095631948451665977,\n",
       " 'BALLRAUM': -0.095213823426325811,\n",
       " 'ZABEOTYP_1': -0.094738809599491547,\n",
       " 'ANZ_PERSONEN': -0.094410016615310954,\n",
       " 'GEBAEUDETYP_1.0': -0.086572891366757068,\n",
       " 'CAMEO_DEUG_2015_2': -0.083305409965318378,\n",
       " 'LP_FAMILIE_GROB_5.0': -0.079297958930142187,\n",
       " 'FINANZ_VORSORGER': -0.076916603325875604,\n",
       " 'ALTERSKATEGORIE_GROB': -0.076039159973062376,\n",
       " 'FINANZTYP_2': -0.073006556969726216,\n",
       " 'CAMEO_DEUG_2015_4': -0.072203550028418897,\n",
       " 'WOHNLAGE': -0.063297571517816398,\n",
       " 'CAMEO_DEUG_2015_3': -0.062755957767254636,\n",
       " 'NATIONALITAET_KZ_1.0': -0.060732077413754845,\n",
       " 'KBA13_ANZAHL_PKW': -0.060487424747851404,\n",
       " 'ONLINE_AFFINITAET': -0.060030371765520993,\n",
       " 'CAMEO_INTL_2015_LifeStage_4.0': -0.059850971833161758,\n",
       " 'LP_FAMILIE_FEIN_10.0': -0.054666870100036055,\n",
       " 'WOHNDAUER_2008': -0.054024083502724307,\n",
       " 'LP_FAMILIE_FEIN_11.0': -0.052850078549648828,\n",
       " 'FINANZTYP_3': -0.052155729242397766,\n",
       " 'CAMEO_INTL_2015_LifeStage_3.0': -0.051524820930172729,\n",
       " 'MIN_GEBAEUDEJAHR': -0.05144254099115679,\n",
       " 'ZABEOTYP_2': -0.049630027960170825,\n",
       " 'SEMIO_LUST': -0.046041924561923547,\n",
       " 'CAMEO_DEUG_2015_1': -0.043499983195306291,\n",
       " 'SEMIO_ERL': -0.043483389124159652,\n",
       " 'PRAEGENDE_JUGENDJAHRE_Date_60.0': -0.040261817596129651,\n",
       " 'SEMIO_VERT': -0.039895101460698273,\n",
       " 'CJT_GESAMTTYP_2.0': -0.039445140975506075,\n",
       " 'GFK_URLAUBERTYP_7.0': -0.036720920091535006,\n",
       " 'CAMEO_INTL_2015_LifeStage_2.0': -0.033812592197547828,\n",
       " 'LP_FAMILIE_GROB_4.0': -0.033351267633879342,\n",
       " 'SHOPPER_TYP_3.0': -0.030959464419742778,\n",
       " 'VERS_TYP_1.0': -0.028832299393119175,\n",
       " 'FINANZTYP_6': -0.028668295579911265,\n",
       " 'LP_FAMILIE_FEIN_8.0': -0.028510039958577937,\n",
       " 'LP_STATUS_GROB_3.0': -0.028179047599391556,\n",
       " 'LP_FAMILIE_FEIN_2.0': -0.027616936676032572,\n",
       " 'LP_FAMILIE_GROB_2.0': -0.027616936676032572,\n",
       " 'GFK_URLAUBERTYP_6.0': -0.027201002345965283,\n",
       " 'PRAEGENDE_JUGENDJAHRE_Date_50.0': -0.026537495691408602,\n",
       " 'LP_STATUS_FEIN_6.0': -0.024860822174901584,\n",
       " 'GFK_URLAUBERTYP_5.0': -0.024855775388505665,\n",
       " 'LP_STATUS_FEIN_5.0': -0.021903676364562884,\n",
       " 'PRAEGENDE_JUGENDJAHRE_Date_70.0': -0.021093553891015589,\n",
       " 'SHOPPER_TYP_0.0': -0.020629530781178133,\n",
       " 'LP_STATUS_FEIN_4.0': -0.019928031990081928,\n",
       " 'CAMEO_INTL_2015_LifeStage_5.0': -0.018904709856596154,\n",
       " 'GFK_URLAUBERTYP_2.0': -0.018521758816050039,\n",
       " 'LP_FAMILIE_FEIN_7.0': -0.018004727988814157,\n",
       " 'GFK_URLAUBERTYP_1.0': -0.017079456633735626,\n",
       " 'LP_STATUS_FEIN_8.0': -0.016947045438569532,\n",
       " 'GEBAEUDETYP_2.0': -0.014750711813046484,\n",
       " 'LP_STATUS_GROB_2.0': -0.013545684111907761,\n",
       " 'CJT_GESAMTTYP_1.0': -0.012849528269041953,\n",
       " 'LP_STATUS_FEIN_7.0': -0.012773344583093737,\n",
       " 'PRAEGENDE_JUGENDJAHRE_Date_40.0': -0.011968521120170333,\n",
       " 'GFK_URLAUBERTYP_3.0': -0.011937262917025782,\n",
       " 'CAMEO_DEUG_2015_5': -0.010394733643738649,\n",
       " 'LP_FAMILIE_FEIN_9.0': -0.0072356433701155441,\n",
       " 'CAMEO_INTL_2015_Wealth_30.0': -0.0070068064285042841,\n",
       " 'GFK_URLAUBERTYP_9.0': -0.0066714361566883222,\n",
       " 'ZABEOTYP_3': -0.0060162619569102734,\n",
       " 'LP_FAMILIE_FEIN_6.0': -0.0059842980346134248,\n",
       " 'RETOURTYP_BK_S': -0.0052602036565015699,\n",
       " 'ANZ_TITEL': -0.0048853919277086662,\n",
       " 'GEBAEUDETYP_4.0': -0.0046419888102799869,\n",
       " 'GEBAEUDETYP_6.0': -0.0029896808722799217,\n",
       " 'GFK_URLAUBERTYP_10.0': -0.0029168102166938496,\n",
       " 'LP_FAMILIE_FEIN_5.0': -0.0027341941325991458,\n",
       " 'SOHO_KZ': -0.0023702929704427183,\n",
       " 'CAMEO_DEUG_2015_6': 8.7488242302188123e-06,\n",
       " 'GEBAEUDETYP_5.0': 0.00035035399817388797,\n",
       " 'SHOPPER_TYP_1.0': 0.00045132579749736879,\n",
       " 'PRAEGENDE_JUGENDJAHRE_Date_80.0': 0.001762445447562591,\n",
       " 'LP_FAMILIE_GROB_3.0': 0.0026084888354680172,\n",
       " 'LP_FAMILIE_FEIN_4.0': 0.0036040818915482808,\n",
       " 'GFK_URLAUBERTYP_8.0': 0.0044478146294550484,\n",
       " 'CJT_GESAMTTYP_5.0': 0.0047054177335783456,\n",
       " 'LP_FAMILIE_FEIN_3.0': 0.0048852910249764913,\n",
       " 'FINANZTYP_4': 0.0049907948496126231,\n",
       " 'FINANZTYP_5': 0.0088557557272396659,\n",
       " 'KBA05_ANTG2': 0.010397020211615768,\n",
       " 'CJT_GESAMTTYP_6.0': 0.011727204130992522,\n",
       " 'ANREDE_KZ': 0.013114055421129339,\n",
       " 'LP_STATUS_FEIN_3.0': 0.014821732607455703,\n",
       " 'GFK_URLAUBERTYP_4.0': 0.014971051511909337,\n",
       " 'CJT_GESAMTTYP_3.0': 0.015800319061313482,\n",
       " 'VERS_TYP_2.0': 0.01671748488809547,\n",
       " 'CJT_GESAMTTYP_4.0': 0.017571699896307282,\n",
       " 'SEMIO_KRIT': 0.017887459674808079,\n",
       " 'HEALTH_TYP': 0.022948744143914984,\n",
       " 'SEMIO_SOZ': 0.023041040949322775,\n",
       " 'SEMIO_DOM': 0.023455804032794184,\n",
       " 'NATIONALITAET_KZ_3.0': 0.023752247427426623,\n",
       " 'GFK_URLAUBERTYP_11.0': 0.023753304913022986,\n",
       " 'ANZ_HH_TITEL': 0.026726974984488065,\n",
       " 'ZABEOTYP_4': 0.030450473581151664,\n",
       " 'SHOPPER_TYP_2.0': 0.032509323215518887,\n",
       " 'CAMEO_DEUG_2015_7': 0.033704011841436225,\n",
       " 'PLZ8_HHZ': 0.034534642361339872,\n",
       " 'KKK': 0.035110120831643228,\n",
       " 'CAMEO_INTL_2015_Wealth_40.0': 0.035607783215166208,\n",
       " 'SEMIO_KAEM': 0.037230703338337529,\n",
       " 'ZABEOTYP_6': 0.03839125926807839,\n",
       " 'SEMIO_KULT': 0.040151104312219452,\n",
       " 'OST_WEST_KZ': 0.041769581186601984,\n",
       " 'GEBAEUDETYP_8.0': 0.042112658507723118,\n",
       " 'NATIONALITAET_KZ_2.0': 0.043619304269410644,\n",
       " 'FINANZ_ANLEGER': 0.046118785939669421,\n",
       " 'FINANZ_UNAUFFAELLIGER': 0.046850276599983233,\n",
       " 'SEMIO_FAM': 0.048614241336417438,\n",
       " 'SEMIO_MAT': 0.050952039235113787,\n",
       " 'SEMIO_TRADV': 0.053062738426479357,\n",
       " 'W_KEIT_KIND_HH': 0.054983740826032669,\n",
       " 'REGIOTYP': 0.058308349316901133,\n",
       " 'GFK_URLAUBERTYP_12.0': 0.058984346105153199,\n",
       " 'PRAEGENDE_JUGENDJAHRE_Date_90.0': 0.060763935377333655,\n",
       " 'SEMIO_RAT': 0.062160032947467164,\n",
       " 'GEBAEUDETYP_3.0': 0.065708537258197697,\n",
       " 'SEMIO_REL': 0.071096779116854456,\n",
       " 'ZABEOTYP_5': 0.073729119828995882,\n",
       " 'SEMIO_PFLICHT': 0.074867985541599721,\n",
       " 'CAMEO_DEUG_2015_8': 0.0892588015575594,\n",
       " 'LP_FAMILIE_FEIN_1.0': 0.099429312496364025,\n",
       " 'LP_FAMILIE_GROB_1.0': 0.099429312496364025,\n",
       " 'RELAT_AB': 0.10446928858865398,\n",
       " 'FINANZTYP_1': 0.10534199430156271,\n",
       " 'FINANZ_SPARER': 0.10539383254396983,\n",
       " 'CAMEO_DEUG_2015_9': 0.10827684534030267,\n",
       " 'LP_STATUS_FEIN_2.0': 0.10859813092066267,\n",
       " 'KBA05_ANTG3': 0.11102701128597704,\n",
       " 'ARBEIT': 0.11110701124579969,\n",
       " 'ANZ_HAUSHALTE_AKTIV': 0.11219447718046048,\n",
       " 'PLZ8_ANTG2': 0.12216469777554305,\n",
       " 'KBA05_ANTG4': 0.12406581445363021,\n",
       " 'LP_STATUS_FEIN_1.0': 0.12514595527895139,\n",
       " 'CAMEO_INTL_2015_LifeStage_1.0': 0.13505205399800663,\n",
       " 'CAMEO_INTL_2015_Wealth_50.0': 0.14424618573885312,\n",
       " 'FINANZ_HAUSBAUER': 0.14631891569584968,\n",
       " 'EWDICHTE': 0.15149083284498088,\n",
       " 'ORTSGR_KLS9': 0.1530683130133042,\n",
       " 'PLZ8_BAUMAX': 0.16968519276868299,\n",
       " 'PLZ8_ANTG4': 0.17375883764985275,\n",
       " 'HH_EINKOMMEN_SCORE': 0.17868002260403815,\n",
       " 'PLZ8_ANTG3': 0.178853579264632,\n",
       " 'LP_STATUS_GROB_1.0': 0.18941298818189262}"
      ]
     },
     "execution_count": 87,
     "metadata": {},
     "output_type": "execute_result"
    }
   ],
   "source": [
    "#First component\n",
    "\n",
    "mapping_weights(pca,0)"
   ]
  },
  {
   "cell_type": "code",
   "execution_count": 90,
   "metadata": {},
   "outputs": [
    {
     "data": {
      "text/plain": [
       "0    0.835892\n",
       "dtype: float64"
      ]
     },
     "execution_count": 90,
     "metadata": {},
     "output_type": "execute_result"
    }
   ],
   "source": [
    "ratios_pd.sum()"
   ]
  },
  {
   "cell_type": "code",
   "execution_count": 91,
   "metadata": {},
   "outputs": [
    {
     "data": {
      "text/plain": [
       "{'FINANZ_SPARER': -0.22935636826592348,\n",
       " 'FINANZ_UNAUFFAELLIGER': -0.21487047523780525,\n",
       " 'SEMIO_REL': -0.21353313362168591,\n",
       " 'SEMIO_TRADV': -0.20681344583920852,\n",
       " 'SEMIO_PFLICHT': -0.20655097360230698,\n",
       " 'FINANZ_ANLEGER': -0.20535065108077738,\n",
       " 'PRAEGENDE_JUGENDJAHRE_Date_90.0': -0.20339074658946668,\n",
       " 'SEMIO_RAT': -0.16998060988316568,\n",
       " 'SEMIO_KULT': -0.16183495606107734,\n",
       " 'ONLINE_AFFINITAET': -0.15904058923666442,\n",
       " 'FINANZTYP_1': -0.13756020435624539,\n",
       " 'SEMIO_FAM': -0.13057603962342915,\n",
       " 'SEMIO_MAT': -0.12896091824895534,\n",
       " 'ZABEOTYP_4': -0.10797097054957357,\n",
       " 'LP_STATUS_FEIN_2.0': -0.099917254668883349,\n",
       " 'ZABEOTYP_5': -0.094270512060571493,\n",
       " 'FINANZTYP_4': -0.088578530645307602,\n",
       " 'LP_STATUS_FEIN_5.0': -0.079996329510274147,\n",
       " 'GFK_URLAUBERTYP_9.0': -0.073624724888697354,\n",
       " 'FINANZTYP_3': -0.070718925643028244,\n",
       " 'LP_FAMILIE_GROB_4.0': -0.067518361577572794,\n",
       " 'ANZ_PERSONEN': -0.066187406455628095,\n",
       " 'SEMIO_SOZ': -0.060052138468191581,\n",
       " 'PLZ8_ANTG1': -0.056121054735902814,\n",
       " 'CJT_GESAMTTYP_4.0': -0.053995309613753074,\n",
       " 'KBA05_GBZ': -0.05280092167460905,\n",
       " 'ZABEOTYP_1': -0.052713515002181029,\n",
       " 'MOBI_REGIO': -0.052545672243603243,\n",
       " 'PRAEGENDE_JUGENDJAHRE_Date_80.0': -0.050625823545132606,\n",
       " 'LP_LEBENSPHASE_GROB': -0.050442104276963828,\n",
       " 'HEALTH_TYP': -0.049591263498152807,\n",
       " 'NATIONALITAET_KZ_3.0': -0.049147691383829122,\n",
       " 'SHOPPER_TYP_0.0': -0.048592185563499833,\n",
       " 'LP_FAMILIE_GROB_3.0': -0.048092715238024469,\n",
       " 'LP_FAMILIE_GROB_5.0': -0.047979662797112715,\n",
       " 'KBA05_ANTG1': -0.045907016013655502,\n",
       " 'INNENSTADT': -0.045255479138813365,\n",
       " 'NATIONALITAET_KZ_2.0': -0.044865142704311321,\n",
       " 'PLZ8_GBZ': -0.044546251962627237,\n",
       " 'KONSUMNAEHE': -0.043940850091371587,\n",
       " 'LP_LEBENSPHASE_FEIN': -0.043535351336918417,\n",
       " 'CJT_GESAMTTYP_6.0': -0.043110130155601771,\n",
       " 'LP_FAMILIE_FEIN_7.0': -0.042889246483698802,\n",
       " 'GFK_URLAUBERTYP_2.0': -0.042454064920298476,\n",
       " 'GFK_URLAUBERTYP_12.0': -0.039728242287743173,\n",
       " 'MIN_GEBAEUDEJAHR': -0.038613622151996083,\n",
       " 'CAMEO_INTL_2015_Wealth_20.0': -0.038545412763891097,\n",
       " 'WOHNLAGE': -0.037298138754851634,\n",
       " 'LP_FAMILIE_FEIN_8.0': -0.037035503813247196,\n",
       " 'BALLRAUM': -0.036922034520026438,\n",
       " 'LP_FAMILIE_FEIN_6.0': -0.036155361958928968,\n",
       " 'LP_FAMILIE_FEIN_11.0': -0.03584704984551873,\n",
       " 'CJT_GESAMTTYP_3.0': -0.035415745826829298,\n",
       " 'CJT_GESAMTTYP_5.0': -0.035265155668854173,\n",
       " 'CAMEO_INTL_2015_LifeStage_2.0': -0.034064669963462343,\n",
       " 'CAMEO_DEUG_2015_4': -0.032405995003212021,\n",
       " 'LP_FAMILIE_FEIN_4.0': -0.031315209998837898,\n",
       " 'ZABEOTYP_2': -0.030175246973731584,\n",
       " 'LP_FAMILIE_FEIN_10.0': -0.028217784253012843,\n",
       " 'GEBAEUDETYP_RASTER': -0.028066179423325694,\n",
       " 'LP_FAMILIE_FEIN_5.0': -0.02649318863919127,\n",
       " 'LP_FAMILIE_FEIN_3.0': -0.025069793710569468,\n",
       " 'CAMEO_INTL_2015_LifeStage_3.0': -0.023938019626168861,\n",
       " 'KBA13_ANZAHL_PKW': -0.023227496280777721,\n",
       " 'SHOPPER_TYP_1.0': -0.021493505644366629,\n",
       " 'VERS_TYP_1.0': -0.020993000758837581,\n",
       " 'CAMEO_DEUG_2015_2': -0.020738445848343098,\n",
       " 'GFK_URLAUBERTYP_1.0': -0.019313818712601651,\n",
       " 'LP_STATUS_FEIN_4.0': -0.019229245897211533,\n",
       " 'GEBAEUDETYP_1.0': -0.018659837556722032,\n",
       " 'LP_STATUS_FEIN_8.0': -0.017786283235681134,\n",
       " 'CAMEO_DEUG_2015_3': -0.017774822399307146,\n",
       " 'SEMIO_VERT': -0.016842966402119561,\n",
       " 'CAMEO_INTL_2015_Wealth_10.0': -0.016793767116254812,\n",
       " 'GFK_URLAUBERTYP_11.0': -0.015201395759789496,\n",
       " 'LP_STATUS_GROB_2.0': -0.014486881945025256,\n",
       " 'LP_FAMILIE_FEIN_9.0': -0.011925108862996041,\n",
       " 'LP_STATUS_GROB_4.0': -0.0089252765185733537,\n",
       " 'CAMEO_INTL_2015_LifeStage_4.0': -0.0072895435689794485,\n",
       " 'LP_STATUS_FEIN_6.0': -0.0071142646114581041,\n",
       " 'KBA05_ANTG2': -0.0070562137115807036,\n",
       " 'KKK': -0.0051646642023604845,\n",
       " 'CAMEO_DEUG_2015_5': -0.0051303488795092934,\n",
       " 'CAMEO_INTL_2015_Wealth_30.0': -0.0029963665972271274,\n",
       " 'LP_STATUS_FEIN_9.0': -0.0026106168698321677,\n",
       " 'SOHO_KZ': -0.0018436391202816,\n",
       " 'GREEN_AVANTGARDE': -0.0012703871247230823,\n",
       " 'LP_STATUS_GROB_3.0': -0.0011148752534408104,\n",
       " 'PRAEGENDE_JUGENDJAHRE_Movement': -0.0004615080744398298,\n",
       " 'GEBAEUDETYP_5.0': 0.00027089123393494395,\n",
       " 'SHOPPER_TYP_2.0': 0.00058945866915081978,\n",
       " 'CAMEO_DEUG_2015_1': 0.0016106488096838541,\n",
       " 'GEBAEUDETYP_6.0': 0.0019137278597336433,\n",
       " 'GEBAEUDETYP_4.0': 0.0021671846888508079,\n",
       " 'GEBAEUDETYP_8.0': 0.0025192449187599786,\n",
       " 'ANZ_TITEL': 0.0068248155873485801,\n",
       " 'PLZ8_HHZ': 0.0074552430458206375,\n",
       " 'GFK_URLAUBERTYP_10.0': 0.0076913099387117424,\n",
       " 'GEBAEUDETYP_2.0': 0.007766635794415163,\n",
       " 'REGIOTYP': 0.0087950648516158299,\n",
       " 'CAMEO_DEUG_2015_7': 0.0098056453108157256,\n",
       " 'LP_STATUS_FEIN_7.0': 0.010193037266663258,\n",
       " 'LP_STATUS_GROB_1.0': 0.010281875394769439,\n",
       " 'CAMEO_DEUG_2015_6': 0.011167658476255757,\n",
       " 'LP_STATUS_FEIN_10.0': 0.013343119381692373,\n",
       " 'LP_STATUS_GROB_5.0': 0.013343119381692373,\n",
       " 'CAMEO_DEUG_2015_9': 0.014035391806526862,\n",
       " 'CAMEO_INTL_2015_Wealth_40.0': 0.01446339739739169,\n",
       " 'CAMEO_INTL_2015_LifeStage_1.0': 0.017379929623840367,\n",
       " 'OST_WEST_KZ': 0.01779786407613046,\n",
       " 'GEBAEUDETYP_3.0': 0.018067445576724926,\n",
       " 'GFK_URLAUBERTYP_6.0': 0.019945073752125057,\n",
       " 'GFK_URLAUBERTYP_8.0': 0.021079228930086055,\n",
       " 'ANZ_HH_TITEL': 0.022882757154556187,\n",
       " 'ZABEOTYP_6': 0.023435489998792431,\n",
       " 'KBA05_ANTG3': 0.023477637536728376,\n",
       " 'SEMIO_DOM': 0.023627075035192374,\n",
       " 'GFK_URLAUBERTYP_5.0': 0.025372984412630372,\n",
       " 'VERS_TYP_2.0': 0.027106547903384032,\n",
       " 'HH_EINKOMMEN_SCORE': 0.027661250680330925,\n",
       " 'GFK_URLAUBERTYP_3.0': 0.030067050765558892,\n",
       " 'CAMEO_DEUG_2015_8': 0.032079858700731378,\n",
       " 'ANREDE_KZ': 0.033856870127737158,\n",
       " 'CAMEO_INTL_2015_Wealth_50.0': 0.037687005788141999,\n",
       " 'LP_FAMILIE_FEIN_2.0': 0.038125917239826723,\n",
       " 'LP_FAMILIE_GROB_2.0': 0.038125917239826723,\n",
       " 'CAMEO_INTL_2015_LifeStage_5.0': 0.03901739276056556,\n",
       " 'ANZ_HAUSHALTE_AKTIV': 0.040123193697238428,\n",
       " 'PLZ8_ANTG2': 0.040380123165700547,\n",
       " 'RELAT_AB': 0.040785860435958582,\n",
       " 'GFK_URLAUBERTYP_7.0': 0.042418566435628434,\n",
       " 'KBA05_ANTG4': 0.042818011048044599,\n",
       " 'ARBEIT': 0.043231429281656499,\n",
       " 'LP_STATUS_FEIN_3.0': 0.049701432937559437,\n",
       " 'PLZ8_BAUMAX': 0.051151264396457501,\n",
       " 'SEMIO_KAEM': 0.051779334759119534,\n",
       " 'WOHNDAUER_2008': 0.054181096685747908,\n",
       " 'PLZ8_ANTG4': 0.054427549294063474,\n",
       " 'ORTSGR_KLS9': 0.0564578900625336,\n",
       " 'GFK_URLAUBERTYP_4.0': 0.057168801988435027,\n",
       " 'EWDICHTE': 0.057483157197000104,\n",
       " 'PLZ8_ANTG3': 0.057504145878523573,\n",
       " 'LP_FAMILIE_FEIN_1.0': 0.061505563679677501,\n",
       " 'LP_FAMILIE_GROB_1.0': 0.061505563679677501,\n",
       " 'PRAEGENDE_JUGENDJAHRE_Date_70.0': 0.064040244538366251,\n",
       " 'PRAEGENDE_JUGENDJAHRE_Date_40.0': 0.065400921609741536,\n",
       " 'NATIONALITAET_KZ_1.0': 0.067726763631553819,\n",
       " 'FINANZTYP_6': 0.068984177798130458,\n",
       " 'CJT_GESAMTTYP_1.0': 0.069710412241627245,\n",
       " 'SEMIO_KRIT': 0.071272359387419992,\n",
       " 'SHOPPER_TYP_3.0': 0.073615981333397251,\n",
       " 'FINANZ_HAUSBAUER': 0.074520641696149109,\n",
       " 'LP_STATUS_FEIN_1.0': 0.090313677031844578,\n",
       " 'FINANZTYP_2': 0.091941600096910367,\n",
       " 'FINANZTYP_5': 0.09702705855779617,\n",
       " 'FINANZ_MINIMALIST': 0.098099906104039625,\n",
       " 'PRAEGENDE_JUGENDJAHRE_Date_50.0': 0.10403816211658204,\n",
       " 'CJT_GESAMTTYP_2.0': 0.10752729767904236,\n",
       " 'PRAEGENDE_JUGENDJAHRE_Date_60.0': 0.11591407159586642,\n",
       " 'W_KEIT_KIND_HH': 0.12597024466918746,\n",
       " 'RETOURTYP_BK_S': 0.15640190941206134,\n",
       " 'SEMIO_LUST': 0.16151930077547277,\n",
       " 'SEMIO_ERL': 0.17738438183508545,\n",
       " 'ZABEOTYP_3': 0.19687955874666374,\n",
       " 'FINANZ_VORSORGER': 0.21993744907691323,\n",
       " 'ALTERSKATEGORIE_GROB': 0.23304918677294681}"
      ]
     },
     "execution_count": 91,
     "metadata": {},
     "output_type": "execute_result"
    }
   ],
   "source": [
    "# Map weights for the second principal component to corresponding feature names\n",
    "# and then print the linked values, sorted by weight.\n",
    "\n",
    "mapping_weights(pca,1)\n",
    "\n"
   ]
  },
  {
   "cell_type": "code",
   "execution_count": 92,
   "metadata": {},
   "outputs": [
    {
     "data": {
      "text/plain": [
       "{'ANREDE_KZ': -0.33838896961769499,\n",
       " 'SEMIO_KAEM': -0.30641954947212102,\n",
       " 'SEMIO_DOM': -0.27265008071715308,\n",
       " 'SEMIO_KRIT': -0.26338774827080091,\n",
       " 'SEMIO_ERL': -0.20553274831076174,\n",
       " 'FINANZ_ANLEGER': -0.15274565337811558,\n",
       " 'SEMIO_RAT': -0.1479012480424145,\n",
       " 'FINANZTYP_1': -0.098745242261690333,\n",
       " 'SHOPPER_TYP_2.0': -0.0929203854724822,\n",
       " 'LP_STATUS_FEIN_4.0': -0.082913436367520105,\n",
       " 'LP_STATUS_FEIN_2.0': -0.078857378620819471,\n",
       " 'FINANZ_HAUSBAUER': -0.067845212227754345,\n",
       " 'INNENSTADT': -0.065606119858754072,\n",
       " 'ZABEOTYP_4': -0.059511826502484384,\n",
       " 'BALLRAUM': -0.058951352000017145,\n",
       " 'WOHNLAGE': -0.053437049106222115,\n",
       " 'KONSUMNAEHE': -0.052716099304889782,\n",
       " 'FINANZ_SPARER': -0.052229271903373016,\n",
       " 'LP_FAMILIE_GROB_3.0': -0.052049977996765126,\n",
       " 'HH_EINKOMMEN_SCORE': -0.050030210881761086,\n",
       " 'PLZ8_ANTG1': -0.04994867586924244,\n",
       " 'SHOPPER_TYP_3.0': -0.047985792325480059,\n",
       " 'ZABEOTYP_3': -0.044873394128414956,\n",
       " 'KKK': -0.04392228652401451,\n",
       " 'GEBAEUDETYP_RASTER': -0.042251378407363184,\n",
       " 'FINANZ_UNAUFFAELLIGER': -0.040764954891957215,\n",
       " 'PRAEGENDE_JUGENDJAHRE_Date_90.0': -0.037942788705665323,\n",
       " 'LP_FAMILIE_FEIN_4.0': -0.037728447324591761,\n",
       " 'CAMEO_INTL_2015_Wealth_20.0': -0.037524606771252599,\n",
       " 'PLZ8_GBZ': -0.037019864770712195,\n",
       " 'LP_STATUS_GROB_2.0': -0.036018437614930877,\n",
       " 'CJT_GESAMTTYP_2.0': -0.033263865757801055,\n",
       " 'CAMEO_DEUG_2015_4': -0.031005306130452111,\n",
       " 'GEBAEUDETYP_1.0': -0.029119541230368327,\n",
       " 'NATIONALITAET_KZ_3.0': -0.028825146917608978,\n",
       " 'FINANZTYP_2': -0.028696497653711611,\n",
       " 'ZABEOTYP_5': -0.027263939124221471,\n",
       " 'REGIOTYP': -0.026365501103872528,\n",
       " 'LP_FAMILIE_FEIN_5.0': -0.026151825880042692,\n",
       " 'LP_FAMILIE_FEIN_3.0': -0.024989060603581192,\n",
       " 'GFK_URLAUBERTYP_9.0': -0.023896149408351424,\n",
       " 'CJT_GESAMTTYP_6.0': -0.022800248828377861,\n",
       " 'MOBI_REGIO': -0.021748001118016561,\n",
       " 'GFK_URLAUBERTYP_12.0': -0.021481826024262934,\n",
       " 'KBA13_ANZAHL_PKW': -0.021265032502760902,\n",
       " 'SEMIO_PFLICHT': -0.020767459513288754,\n",
       " 'CAMEO_INTL_2015_LifeStage_2.0': -0.020256262791342246,\n",
       " 'LP_STATUS_FEIN_5.0': -0.019996974980154885,\n",
       " 'LP_STATUS_GROB_1.0': -0.019156953413755857,\n",
       " 'LP_STATUS_GROB_4.0': -0.019137486636281422,\n",
       " 'KBA05_GBZ': -0.019108688019633759,\n",
       " 'CAMEO_INTL_2015_LifeStage_3.0': -0.018816246683860244,\n",
       " 'CAMEO_DEUG_2015_3': -0.017894992225034746,\n",
       " 'LP_STATUS_FEIN_9.0': -0.017599208438735282,\n",
       " 'MIN_GEBAEUDEJAHR': -0.016219459192951625,\n",
       " 'LP_FAMILIE_FEIN_1.0': -0.015490238488215608,\n",
       " 'LP_FAMILIE_GROB_1.0': -0.015490238488215608,\n",
       " 'SEMIO_TRADV': -0.012766833317467946,\n",
       " 'GFK_URLAUBERTYP_2.0': -0.012537102637324481,\n",
       " 'KBA05_ANTG1': -0.011851043165270872,\n",
       " 'KBA05_ANTG2': -0.0116908703798671,\n",
       " 'CAMEO_DEUG_2015_6': -0.0098975169057762807,\n",
       " 'LP_FAMILIE_FEIN_7.0': -0.0097145047116349581,\n",
       " 'LP_FAMILIE_FEIN_6.0': -0.0084371412069216677,\n",
       " 'VERS_TYP_1.0': -0.0084085075144200976,\n",
       " 'ZABEOTYP_2': -0.0083408615019115694,\n",
       " 'LP_FAMILIE_GROB_4.0': -0.0081824257722790672,\n",
       " 'LP_STATUS_FEIN_8.0': -0.0063900775261368113,\n",
       " 'FINANZTYP_6': -0.0057883838810011351,\n",
       " 'HEALTH_TYP': -0.0048156831348940303,\n",
       " 'CAMEO_INTL_2015_LifeStage_4.0': -0.004058451126996078,\n",
       " 'GFK_URLAUBERTYP_11.0': -0.0036314719004132585,\n",
       " 'ONLINE_AFFINITAET': -0.0036127785965511965,\n",
       " 'KBA05_ANTG3': -0.001041683392481613,\n",
       " 'CAMEO_INTL_2015_Wealth_40.0': -0.00083112999443551939,\n",
       " 'OST_WEST_KZ': -0.00070509557204413882,\n",
       " 'CAMEO_DEUG_2015_7': -0.00053709173530842771,\n",
       " 'PRAEGENDE_JUGENDJAHRE_Date_70.0': -0.00046294274196593155,\n",
       " 'GEBAEUDETYP_5.0': 0.00055886869932385481,\n",
       " 'SOHO_KZ': 0.00066144174302013535,\n",
       " 'CAMEO_INTL_2015_Wealth_30.0': 0.00075448576854260732,\n",
       " 'CAMEO_DEUG_2015_5': 0.00095111020843595905,\n",
       " 'GFK_URLAUBERTYP_1.0': 0.0016953959912343712,\n",
       " 'GFK_URLAUBERTYP_7.0': 0.0017759915800972742,\n",
       " 'LP_FAMILIE_FEIN_8.0': 0.0022188863361494691,\n",
       " 'GFK_URLAUBERTYP_3.0': 0.0022848740156398008,\n",
       " 'GEBAEUDETYP_2.0': 0.0024779391939267572,\n",
       " 'GEBAEUDETYP_8.0': 0.0026444772569919062,\n",
       " 'GEBAEUDETYP_6.0': 0.002730903228987629,\n",
       " 'LP_FAMILIE_FEIN_9.0': 0.0031039611986197618,\n",
       " 'GEBAEUDETYP_4.0': 0.003136105599430982,\n",
       " 'CAMEO_INTL_2015_LifeStage_5.0': 0.003432931315187938,\n",
       " 'GFK_URLAUBERTYP_6.0': 0.0059716752168698659,\n",
       " 'GFK_URLAUBERTYP_10.0': 0.0067225559098702476,\n",
       " 'PRAEGENDE_JUGENDJAHRE_Date_80.0': 0.0069459638304989607,\n",
       " 'CAMEO_DEUG_2015_2': 0.00813950318793627,\n",
       " 'GFK_URLAUBERTYP_5.0': 0.0089475474790415028,\n",
       " 'NATIONALITAET_KZ_1.0': 0.0099743246645420044,\n",
       " 'PRAEGENDE_JUGENDJAHRE_Date_40.0': 0.010798913968248457,\n",
       " 'CJT_GESAMTTYP_5.0': 0.010933095716650462,\n",
       " 'ALTERSKATEGORIE_GROB': 0.011498798064391896,\n",
       " 'GFK_URLAUBERTYP_8.0': 0.011828174413443254,\n",
       " 'CAMEO_DEUG_2015_8': 0.012582022174425172,\n",
       " 'CJT_GESAMTTYP_1.0': 0.012611186291027858,\n",
       " 'LP_FAMILIE_FEIN_11.0': 0.012879760074797028,\n",
       " 'FINANZTYP_4': 0.013365355924646992,\n",
       " 'ANZ_HH_TITEL': 0.014791429472432255,\n",
       " 'CJT_GESAMTTYP_3.0': 0.014842829750631115,\n",
       " 'ANZ_TITEL': 0.015348662591548762,\n",
       " 'CJT_GESAMTTYP_4.0': 0.015595558482570661,\n",
       " 'PLZ8_HHZ': 0.016289832417976477,\n",
       " 'LP_FAMILIE_FEIN_10.0': 0.017659510844039501,\n",
       " 'CAMEO_INTL_2015_Wealth_10.0': 0.019953385987887807,\n",
       " 'CAMEO_INTL_2015_Wealth_50.0': 0.020117109459927052,\n",
       " 'SEMIO_LUST': 0.020786555391072225,\n",
       " 'ANZ_HAUSHALTE_AKTIV': 0.021054078966806097,\n",
       " 'VERS_TYP_2.0': 0.021484239375022512,\n",
       " 'CAMEO_DEUG_2015_9': 0.021717872293377561,\n",
       " 'WOHNDAUER_2008': 0.021821112577124668,\n",
       " 'CAMEO_DEUG_2015_1': 0.022180931917830125,\n",
       " 'FINANZTYP_3': 0.023346257622319178,\n",
       " 'KBA05_ANTG4': 0.023378194711065059,\n",
       " 'LP_FAMILIE_GROB_5.0': 0.023447764659499878,\n",
       " 'ANZ_PERSONEN': 0.024299075075872749,\n",
       " 'LP_LEBENSPHASE_GROB': 0.024613400909505173,\n",
       " 'LP_LEBENSPHASE_FEIN': 0.025028450780615302,\n",
       " 'PRAEGENDE_JUGENDJAHRE_Date_50.0': 0.025741855670488221,\n",
       " 'LP_FAMILIE_FEIN_2.0': 0.025815958635197183,\n",
       " 'LP_FAMILIE_GROB_2.0': 0.025815958635197183,\n",
       " 'GFK_URLAUBERTYP_4.0': 0.0260462334924467,\n",
       " 'LP_STATUS_FEIN_6.0': 0.026581432544839575,\n",
       " 'LP_STATUS_FEIN_7.0': 0.026629346302670335,\n",
       " 'PRAEGENDE_JUGENDJAHRE_Date_60.0': 0.027635924174729824,\n",
       " 'CAMEO_INTL_2015_LifeStage_1.0': 0.028965592600561006,\n",
       " 'NATIONALITAET_KZ_2.0': 0.030718877533592464,\n",
       " 'GEBAEUDETYP_3.0': 0.031125615759468872,\n",
       " 'LP_STATUS_GROB_3.0': 0.036638516230647261,\n",
       " 'ARBEIT': 0.037919814919727381,\n",
       " 'PLZ8_ANTG2': 0.039330166686854247,\n",
       " 'RELAT_AB': 0.039803379376568769,\n",
       " 'LP_STATUS_FEIN_1.0': 0.040917586773772011,\n",
       " 'FINANZ_VORSORGER': 0.043183244511868314,\n",
       " 'LP_STATUS_FEIN_3.0': 0.045935121943850445,\n",
       " 'ZABEOTYP_6': 0.046996240543772209,\n",
       " 'SHOPPER_TYP_1.0': 0.049002272185290748,\n",
       " 'W_KEIT_KIND_HH': 0.050869994436458399,\n",
       " 'PLZ8_ANTG3': 0.054512316111104492,\n",
       " 'PLZ8_ANTG4': 0.054881141709329513,\n",
       " 'PLZ8_BAUMAX': 0.056344292371719416,\n",
       " 'LP_STATUS_FEIN_10.0': 0.068576680801411424,\n",
       " 'LP_STATUS_GROB_5.0': 0.068576680801411424,\n",
       " 'RETOURTYP_BK_S': 0.072350521899890885,\n",
       " 'EWDICHTE': 0.075150121030556988,\n",
       " 'ORTSGR_KLS9': 0.075661546015572026,\n",
       " 'SEMIO_MAT': 0.087229966549877719,\n",
       " 'PRAEGENDE_JUGENDJAHRE_Movement': 0.090863893063922049,\n",
       " 'GREEN_AVANTGARDE': 0.093037724526099944,\n",
       " 'SEMIO_REL': 0.11415719921978433,\n",
       " 'SHOPPER_TYP_0.0': 0.12145806057240303,\n",
       " 'ZABEOTYP_1': 0.12233336269014528,\n",
       " 'FINANZ_MINIMALIST': 0.13038205384046969,\n",
       " 'FINANZTYP_5': 0.1366225905069369,\n",
       " 'SEMIO_KULT': 0.24707527596989082,\n",
       " 'SEMIO_SOZ': 0.25500479472316578,\n",
       " 'SEMIO_FAM': 0.25602890119027244,\n",
       " 'SEMIO_VERT': 0.31466778351295854}"
      ]
     },
     "execution_count": 92,
     "metadata": {},
     "output_type": "execute_result"
    }
   ],
   "source": [
    "# Map weights for the third principal component to corresponding feature names\n",
    "# and then print the linked values, sorted by weight.\n",
    "mapping_weights(pca,2)\n"
   ]
  },
  {
   "cell_type": "markdown",
   "metadata": {},
   "source": [
    "### Discussion 2.3: Interpret Principal Components\n",
    "\n",
    "By investigating the explained variance ratios, we are able to see that 83.5% total variance is explained by the 70 components.\n",
    "\n",
    "The first component explains 9.78% of total variance\n",
    "The second component explains 6.88% of total variance\n",
    "The third component explains 4.14% of total variance\n",
    "\n",
    "1st component:\n",
    "\n",
    "By investigating further the weights of the first component, we are able to see that the top features are;\n",
    "'LP_STATUS_GROB_1.0': 0.18941298818189262\n",
    "'PLZ8_ANTG3': 0.178853579264632\n",
    "'HH_EINKOMMEN_SCORE': 0.17868002260403815\n",
    "PLZ8_ANTG4': 0.17375883764985275\n",
    "'PLZ8_BAUMAX': 0.16968519276868299,\n",
    "\n",
    "Which mostly translate to Social status, size of family and their estimated incomes. Specifically, LP_STATUS_GROB_1 PLZ8_ANTG3 and 4 are about 6-10 and 10+ family homes. While the PLZ8_BAUMAX feature is about the the type of buildings in the region, whether they are family ones or business buildings.\n",
    "So, we can see that for the first component, features related to Family and their income/status are the most positively weighted.\n",
    "\n",
    "On the other hand, the top negatively weighted features are:\n",
    "\n",
    "'MOBI_REGIO': -0.19889763280492112,\n",
    " 'KBA05_ANTG1': -0.1856939525608674,\n",
    " 'FINANZ_MINIMALIST': -0.18212079800736097,\n",
    " 'PLZ8_ANTG1': -0.17927531977390723,\n",
    " 'KBA05_GBZ': -0.17660540487301596,\n",
    " \n",
    " Which are about movement patterns, number of 1-2 family houses in the microcell, number of 1-2 family houses in the PLZ8 region, number of buildings in the region and financial typology. By comparing their respective values with the top positively weighted features, we can see that there's probably a prevalence of buildings of smaller family capacity.\n",
    " \n",
    " \n",
    " 2nd component:\n",
    " \n",
    " For the second component, the top positively weighted features are \n",
    " \n",
    " 'ALTERSKATEGORIE_GROB': 0.23304918677294681\n",
    " 'FINANZ_VORSORGER': 0.21993744907691323,\n",
    " 'ZABEOTYP_3': 0.19687955874666374,\n",
    " 'SEMIO_ERL': 0.17738438183508545,\n",
    " 'SEMIO_LUST': 0.16151930077547277,\n",
    " \n",
    " Which translate to estimated age, financial typology for vorosrger, energy consumption typology 3, and personality typology 'LUST'.\n",
    " \n",
    " Top negatively weighted features:\n",
    " \n",
    " FINANZ_SPARER': -0.22935636826592348,\n",
    " 'FINANZ_UNAUFFAELLIGER': -0.21487047523780525,\n",
    " 'SEMIO_REL': -0.21353313362168591,\n",
    " 'SEMIO_TRADV': -0.20681344583920852,\n",
    " 'SEMIO_PFLICHT': -0.20655097360230698\n",
    " \n",
    " Again here, the most negatively weighted features are about financial typology and personality typology.\n",
    " \n",
    " \n",
    " 3rd component:\n",
    " \n",
    " Top positive:\n",
    " \n",
    " 'SEMIO_VERT': 0.31466778351295854}\n",
    " 'SEMIO_FAM': 0.25602890119027244,\n",
    " 'SEMIO_SOZ': 0.25500479472316578,\n",
    " 'SEMIO_KULT': 0.24707527596989082,\n",
    " 'FINANZTYP_5': 0.1366225905069369,\n",
    " 'FINANZ_MINIMALIST': 0.13038205384046969,\n",
    " \n",
    " Similarly to the second component, the top weighted features are about the personality typology and financial typology.\n",
    " \n",
    " Top negative:\n",
    " \n",
    " 'ANREDE_KZ': -0.33838896961769499,\n",
    " 'SEMIO_KAEM': -0.30641954947212102,\n",
    " 'SEMIO_DOM': -0.27265008071715308,\n",
    " 'SEMIO_KRIT': -0.26338774827080091,\n",
    " 'SEMIO_ERL': -0.20553274831076174,\n",
    " 'FINANZ_ANLEGER': -0.15274565337811558,\n",
    " 'SEMIO_RAT': -0.1479012480424145,\n",
    " 'FINANZTYP_1': -0.098745242261690333,\n",
    " \n",
    " The top negative feature is about gender while the rest ones are again about personality and financial types.\n",
    " \n",
    " \n",
    " We can conclude by the examination of the first principal components that they can indeed be interpreted in a meaningful way. Specific groups of features seem to contribute more in explaining the variance.\n",
    " \n",
    " \n",
    " \n",
    " \n",
    " \n",
    " \n",
    " \n",
    " \n",
    " \n",
    "\n",
    "\n",
    "\n",
    "(Double-click this cell and replace this text with your own text, reporting your observations from detailed investigation of the first few principal components generated. Can we interpret positive and negative values from them in a meaningful way?)"
   ]
  },
  {
   "cell_type": "markdown",
   "metadata": {},
   "source": [
    "## Step 3: Clustering\n",
    "\n",
    "### Step 3.1: Apply Clustering to General Population\n",
    "\n",
    "You've assessed and cleaned the demographics data, then scaled and transformed them. Now, it's time to see how the data clusters in the principal components space. In this substep, you will apply k-means clustering to the dataset and use the average within-cluster distances from each point to their assigned cluster's centroid to decide on a number of clusters to keep.\n",
    "\n",
    "- Use sklearn's [KMeans](http://scikit-learn.org/stable/modules/generated/sklearn.cluster.KMeans.html#sklearn.cluster.KMeans) class to perform k-means clustering on the PCA-transformed data.\n",
    "- Then, compute the average difference from each point to its assigned cluster's center. **Hint**: The KMeans object's `.score()` method might be useful here, but note that in sklearn, scores tend to be defined so that larger is better. Try applying it to a small, toy dataset, or use an internet search to help your understanding.\n",
    "- Perform the above two steps for a number of different cluster counts. You can then see how the average distance decreases with an increasing number of clusters. However, each additional cluster provides a smaller net benefit. Use this fact to select a final number of clusters in which to group the data. **Warning**: because of the large size of the dataset, it can take a long time for the algorithm to resolve. The more clusters to fit, the longer the algorithm will take. You should test for cluster counts through at least 10 clusters to get the full picture, but you shouldn't need to test for a number of clusters above about 30.\n",
    "- Once you've selected a final number of clusters to use, re-fit a KMeans instance to perform the clustering operation. Make sure that you also obtain the cluster assignments for the general demographics data, since you'll be using them in the final Step 3.3."
   ]
  },
  {
   "cell_type": "code",
   "execution_count": 95,
   "metadata": {},
   "outputs": [
    {
     "name": "stderr",
     "output_type": "stream",
     "text": [
      "/opt/conda/lib/python3.6/site-packages/sklearn/cluster/k_means_.py:88: RuntimeWarning: divide by zero encountered in log\n",
      "  n_local_trials = 2 + int(np.log(n_clusters))\n"
     ]
    },
    {
     "ename": "OverflowError",
     "evalue": "cannot convert float infinity to integer",
     "output_type": "error",
     "traceback": [
      "\u001b[0;31m---------------------------------------------------------------------------\u001b[0m",
      "\u001b[0;31mOverflowError\u001b[0m                             Traceback (most recent call last)",
      "\u001b[0;32m<ipython-input-95-7ecb48759352>\u001b[0m in \u001b[0;36m<module>\u001b[0;34m()\u001b[0m\n\u001b[1;32m     10\u001b[0m \u001b[0;32mfor\u001b[0m \u001b[0mi\u001b[0m \u001b[0;32min\u001b[0m \u001b[0mrange\u001b[0m\u001b[0;34m(\u001b[0m\u001b[0;36m30\u001b[0m\u001b[0;34m)\u001b[0m\u001b[0;34m:\u001b[0m\u001b[0;34m\u001b[0m\u001b[0m\n\u001b[1;32m     11\u001b[0m     \u001b[0mkmeans\u001b[0m\u001b[0;34m=\u001b[0m\u001b[0mKMeans\u001b[0m\u001b[0;34m(\u001b[0m\u001b[0mn_clusters\u001b[0m\u001b[0;34m=\u001b[0m\u001b[0mi\u001b[0m\u001b[0;34m)\u001b[0m\u001b[0;34m\u001b[0m\u001b[0m\n\u001b[0;32m---> 12\u001b[0;31m     \u001b[0mmodel\u001b[0m\u001b[0;34m=\u001b[0m\u001b[0mkmeans\u001b[0m\u001b[0;34m.\u001b[0m\u001b[0mfit\u001b[0m\u001b[0;34m(\u001b[0m\u001b[0mX_pca\u001b[0m\u001b[0;34m)\u001b[0m\u001b[0;34m\u001b[0m\u001b[0m\n\u001b[0m\u001b[1;32m     13\u001b[0m     \u001b[0mscore\u001b[0m\u001b[0;34m=\u001b[0m\u001b[0mnp\u001b[0m\u001b[0;34m.\u001b[0m\u001b[0mabs\u001b[0m\u001b[0;34m(\u001b[0m\u001b[0mmodel\u001b[0m\u001b[0;34m.\u001b[0m\u001b[0mscore\u001b[0m\u001b[0;34m(\u001b[0m\u001b[0mX_pca\u001b[0m\u001b[0;34m)\u001b[0m\u001b[0;34m)\u001b[0m\u001b[0;34m\u001b[0m\u001b[0m\n\u001b[1;32m     14\u001b[0m     \u001b[0mprint\u001b[0m\u001b[0;34m(\u001b[0m\u001b[0mscore\u001b[0m\u001b[0;34m)\u001b[0m\u001b[0;34m\u001b[0m\u001b[0m\n",
      "\u001b[0;32m/opt/conda/lib/python3.6/site-packages/sklearn/cluster/k_means_.py\u001b[0m in \u001b[0;36mfit\u001b[0;34m(self, X, y)\u001b[0m\n\u001b[1;32m    894\u001b[0m                 \u001b[0mtol\u001b[0m\u001b[0;34m=\u001b[0m\u001b[0mself\u001b[0m\u001b[0;34m.\u001b[0m\u001b[0mtol\u001b[0m\u001b[0;34m,\u001b[0m \u001b[0mrandom_state\u001b[0m\u001b[0;34m=\u001b[0m\u001b[0mrandom_state\u001b[0m\u001b[0;34m,\u001b[0m \u001b[0mcopy_x\u001b[0m\u001b[0;34m=\u001b[0m\u001b[0mself\u001b[0m\u001b[0;34m.\u001b[0m\u001b[0mcopy_x\u001b[0m\u001b[0;34m,\u001b[0m\u001b[0;34m\u001b[0m\u001b[0m\n\u001b[1;32m    895\u001b[0m                 \u001b[0mn_jobs\u001b[0m\u001b[0;34m=\u001b[0m\u001b[0mself\u001b[0m\u001b[0;34m.\u001b[0m\u001b[0mn_jobs\u001b[0m\u001b[0;34m,\u001b[0m \u001b[0malgorithm\u001b[0m\u001b[0;34m=\u001b[0m\u001b[0mself\u001b[0m\u001b[0;34m.\u001b[0m\u001b[0malgorithm\u001b[0m\u001b[0;34m,\u001b[0m\u001b[0;34m\u001b[0m\u001b[0m\n\u001b[0;32m--> 896\u001b[0;31m                 return_n_iter=True)\n\u001b[0m\u001b[1;32m    897\u001b[0m         \u001b[0;32mreturn\u001b[0m \u001b[0mself\u001b[0m\u001b[0;34m\u001b[0m\u001b[0m\n\u001b[1;32m    898\u001b[0m \u001b[0;34m\u001b[0m\u001b[0m\n",
      "\u001b[0;32m/opt/conda/lib/python3.6/site-packages/sklearn/cluster/k_means_.py\u001b[0m in \u001b[0;36mk_means\u001b[0;34m(X, n_clusters, init, precompute_distances, n_init, max_iter, verbose, tol, random_state, copy_x, n_jobs, algorithm, return_n_iter)\u001b[0m\n\u001b[1;32m    344\u001b[0m                 \u001b[0mX\u001b[0m\u001b[0;34m,\u001b[0m \u001b[0mn_clusters\u001b[0m\u001b[0;34m,\u001b[0m \u001b[0mmax_iter\u001b[0m\u001b[0;34m=\u001b[0m\u001b[0mmax_iter\u001b[0m\u001b[0;34m,\u001b[0m \u001b[0minit\u001b[0m\u001b[0;34m=\u001b[0m\u001b[0minit\u001b[0m\u001b[0;34m,\u001b[0m \u001b[0mverbose\u001b[0m\u001b[0;34m=\u001b[0m\u001b[0mverbose\u001b[0m\u001b[0;34m,\u001b[0m\u001b[0;34m\u001b[0m\u001b[0m\n\u001b[1;32m    345\u001b[0m                 \u001b[0mprecompute_distances\u001b[0m\u001b[0;34m=\u001b[0m\u001b[0mprecompute_distances\u001b[0m\u001b[0;34m,\u001b[0m \u001b[0mtol\u001b[0m\u001b[0;34m=\u001b[0m\u001b[0mtol\u001b[0m\u001b[0;34m,\u001b[0m\u001b[0;34m\u001b[0m\u001b[0m\n\u001b[0;32m--> 346\u001b[0;31m                 x_squared_norms=x_squared_norms, random_state=random_state)\n\u001b[0m\u001b[1;32m    347\u001b[0m             \u001b[0;31m# determine if these results are the best so far\u001b[0m\u001b[0;34m\u001b[0m\u001b[0;34m\u001b[0m\u001b[0m\n\u001b[1;32m    348\u001b[0m             \u001b[0;32mif\u001b[0m \u001b[0mbest_inertia\u001b[0m \u001b[0;32mis\u001b[0m \u001b[0;32mNone\u001b[0m \u001b[0;32mor\u001b[0m \u001b[0minertia\u001b[0m \u001b[0;34m<\u001b[0m \u001b[0mbest_inertia\u001b[0m\u001b[0;34m:\u001b[0m\u001b[0;34m\u001b[0m\u001b[0m\n",
      "\u001b[0;32m/opt/conda/lib/python3.6/site-packages/sklearn/cluster/k_means_.py\u001b[0m in \u001b[0;36m_kmeans_single_elkan\u001b[0;34m(X, n_clusters, max_iter, init, verbose, x_squared_norms, random_state, tol, precompute_distances)\u001b[0m\n\u001b[1;32m    393\u001b[0m     \u001b[0;31m# init\u001b[0m\u001b[0;34m\u001b[0m\u001b[0;34m\u001b[0m\u001b[0m\n\u001b[1;32m    394\u001b[0m     centers = _init_centroids(X, n_clusters, init, random_state=random_state,\n\u001b[0;32m--> 395\u001b[0;31m                               x_squared_norms=x_squared_norms)\n\u001b[0m\u001b[1;32m    396\u001b[0m     \u001b[0mcenters\u001b[0m \u001b[0;34m=\u001b[0m \u001b[0mnp\u001b[0m\u001b[0;34m.\u001b[0m\u001b[0mascontiguousarray\u001b[0m\u001b[0;34m(\u001b[0m\u001b[0mcenters\u001b[0m\u001b[0;34m)\u001b[0m\u001b[0;34m\u001b[0m\u001b[0m\n\u001b[1;32m    397\u001b[0m     \u001b[0;32mif\u001b[0m \u001b[0mverbose\u001b[0m\u001b[0;34m:\u001b[0m\u001b[0;34m\u001b[0m\u001b[0m\n",
      "\u001b[0;32m/opt/conda/lib/python3.6/site-packages/sklearn/cluster/k_means_.py\u001b[0m in \u001b[0;36m_init_centroids\u001b[0;34m(X, k, init, random_state, x_squared_norms, init_size)\u001b[0m\n\u001b[1;32m    682\u001b[0m     \u001b[0;32mif\u001b[0m \u001b[0misinstance\u001b[0m\u001b[0;34m(\u001b[0m\u001b[0minit\u001b[0m\u001b[0;34m,\u001b[0m \u001b[0mstring_types\u001b[0m\u001b[0;34m)\u001b[0m \u001b[0;32mand\u001b[0m \u001b[0minit\u001b[0m \u001b[0;34m==\u001b[0m \u001b[0;34m'k-means++'\u001b[0m\u001b[0;34m:\u001b[0m\u001b[0;34m\u001b[0m\u001b[0m\n\u001b[1;32m    683\u001b[0m         centers = _k_init(X, k, random_state=random_state,\n\u001b[0;32m--> 684\u001b[0;31m                           x_squared_norms=x_squared_norms)\n\u001b[0m\u001b[1;32m    685\u001b[0m     \u001b[0;32melif\u001b[0m \u001b[0misinstance\u001b[0m\u001b[0;34m(\u001b[0m\u001b[0minit\u001b[0m\u001b[0;34m,\u001b[0m \u001b[0mstring_types\u001b[0m\u001b[0;34m)\u001b[0m \u001b[0;32mand\u001b[0m \u001b[0minit\u001b[0m \u001b[0;34m==\u001b[0m \u001b[0;34m'random'\u001b[0m\u001b[0;34m:\u001b[0m\u001b[0;34m\u001b[0m\u001b[0m\n\u001b[1;32m    686\u001b[0m         \u001b[0mseeds\u001b[0m \u001b[0;34m=\u001b[0m \u001b[0mrandom_state\u001b[0m\u001b[0;34m.\u001b[0m\u001b[0mpermutation\u001b[0m\u001b[0;34m(\u001b[0m\u001b[0mn_samples\u001b[0m\u001b[0;34m)\u001b[0m\u001b[0;34m[\u001b[0m\u001b[0;34m:\u001b[0m\u001b[0mk\u001b[0m\u001b[0;34m]\u001b[0m\u001b[0;34m\u001b[0m\u001b[0m\n",
      "\u001b[0;32m/opt/conda/lib/python3.6/site-packages/sklearn/cluster/k_means_.py\u001b[0m in \u001b[0;36m_k_init\u001b[0;34m(X, n_clusters, x_squared_norms, random_state, n_local_trials)\u001b[0m\n\u001b[1;32m     86\u001b[0m         \u001b[0;31m# specific results for other than mentioning in the conclusion\u001b[0m\u001b[0;34m\u001b[0m\u001b[0;34m\u001b[0m\u001b[0m\n\u001b[1;32m     87\u001b[0m         \u001b[0;31m# that it helped.\u001b[0m\u001b[0;34m\u001b[0m\u001b[0;34m\u001b[0m\u001b[0m\n\u001b[0;32m---> 88\u001b[0;31m         \u001b[0mn_local_trials\u001b[0m \u001b[0;34m=\u001b[0m \u001b[0;36m2\u001b[0m \u001b[0;34m+\u001b[0m \u001b[0mint\u001b[0m\u001b[0;34m(\u001b[0m\u001b[0mnp\u001b[0m\u001b[0;34m.\u001b[0m\u001b[0mlog\u001b[0m\u001b[0;34m(\u001b[0m\u001b[0mn_clusters\u001b[0m\u001b[0;34m)\u001b[0m\u001b[0;34m)\u001b[0m\u001b[0;34m\u001b[0m\u001b[0m\n\u001b[0m\u001b[1;32m     89\u001b[0m \u001b[0;34m\u001b[0m\u001b[0m\n\u001b[1;32m     90\u001b[0m     \u001b[0;31m# Pick first center randomly\u001b[0m\u001b[0;34m\u001b[0m\u001b[0;34m\u001b[0m\u001b[0m\n",
      "\u001b[0;31mOverflowError\u001b[0m: cannot convert float infinity to integer"
     ]
    }
   ],
   "source": [
    "# Over a number of different cluster counts...\n",
    "\n",
    "\n",
    "    # run k-means clustering on the data and...\n",
    "    \n",
    "    \n",
    "    # compute the average within-cluster distances.\n",
    "    \n",
    "scores=[]\n",
    "for i in range(30):\n",
    "    kmeans=KMeans(n_clusters=i)\n",
    "    model=kmeans.fit(X_pca)\n",
    "    score=np.abs(model.score(X_pca))\n",
    "    print(score)\n",
    "    scores.append(score)\n",
    "    \n",
    "    \n",
    "    "
   ]
  },
  {
   "cell_type": "code",
   "execution_count": null,
   "metadata": {},
   "outputs": [],
   "source": [
    "# Investigate the change in within-cluster distance across number of clusters.\n",
    "# HINT: Use matplotlib's plot function to visualize this relationship.\n",
    "\n"
   ]
  },
  {
   "cell_type": "code",
   "execution_count": null,
   "metadata": {},
   "outputs": [],
   "source": [
    "# Re-fit the k-means model with the selected number of clusters and obtain\n",
    "# cluster predictions for the general population demographics data.\n",
    "\n"
   ]
  },
  {
   "cell_type": "markdown",
   "metadata": {},
   "source": [
    "### Discussion 3.1: Apply Clustering to General Population\n",
    "\n",
    "(Double-click this cell and replace this text with your own text, reporting your findings and decisions regarding clustering. Into how many clusters have you decided to segment the population?)"
   ]
  },
  {
   "cell_type": "markdown",
   "metadata": {},
   "source": [
    "### Step 3.2: Apply All Steps to the Customer Data\n",
    "\n",
    "Now that you have clusters and cluster centers for the general population, it's time to see how the customer data maps on to those clusters. Take care to not confuse this for re-fitting all of the models to the customer data. Instead, you're going to use the fits from the general population to clean, transform, and cluster the customer data. In the last step of the project, you will interpret how the general population fits apply to the customer data.\n",
    "\n",
    "- Don't forget when loading in the customers data, that it is semicolon (`;`) delimited.\n",
    "- Apply the same feature wrangling, selection, and engineering steps to the customer demographics using the `clean_data()` function you created earlier. (You can assume that the customer demographics data has similar meaning behind missing data patterns as the general demographics data.)\n",
    "- Use the sklearn objects from the general demographics data, and apply their transformations to the customers data. That is, you should not be using a `.fit()` or `.fit_transform()` method to re-fit the old objects, nor should you be creating new sklearn objects! Carry the data through the feature scaling, PCA, and clustering steps, obtaining cluster assignments for all of the data in the customer demographics data."
   ]
  },
  {
   "cell_type": "code",
   "execution_count": null,
   "metadata": {},
   "outputs": [],
   "source": [
    "# Load in the customer demographics data.\n",
    "customers = "
   ]
  },
  {
   "cell_type": "code",
   "execution_count": null,
   "metadata": {},
   "outputs": [],
   "source": [
    "# Apply preprocessing, feature transformation, and clustering from the general\n",
    "# demographics onto the customer data, obtaining cluster predictions for the\n",
    "# customer demographics data.\n",
    "\n"
   ]
  },
  {
   "cell_type": "markdown",
   "metadata": {},
   "source": [
    "### Step 3.3: Compare Customer Data to Demographics Data\n",
    "\n",
    "At this point, you have clustered data based on demographics of the general population of Germany, and seen how the customer data for a mail-order sales company maps onto those demographic clusters. In this final substep, you will compare the two cluster distributions to see where the strongest customer base for the company is.\n",
    "\n",
    "Consider the proportion of persons in each cluster for the general population, and the proportions for the customers. If we think the company's customer base to be universal, then the cluster assignment proportions should be fairly similar between the two. If there are only particular segments of the population that are interested in the company's products, then we should see a mismatch from one to the other. If there is a higher proportion of persons in a cluster for the customer data compared to the general population (e.g. 5% of persons are assigned to a cluster for the general population, but 15% of the customer data is closest to that cluster's centroid) then that suggests the people in that cluster to be a target audience for the company. On the other hand, the proportion of the data in a cluster being larger in the general population than the customer data (e.g. only 2% of customers closest to a population centroid that captures 6% of the data) suggests that group of persons to be outside of the target demographics.\n",
    "\n",
    "Take a look at the following points in this step:\n",
    "\n",
    "- Compute the proportion of data points in each cluster for the general population and the customer data. Visualizations will be useful here: both for the individual dataset proportions, but also to visualize the ratios in cluster representation between groups. Seaborn's [`countplot()`](https://seaborn.pydata.org/generated/seaborn.countplot.html) or [`barplot()`](https://seaborn.pydata.org/generated/seaborn.barplot.html) function could be handy.\n",
    "  - Recall the analysis you performed in step 1.1.3 of the project, where you separated out certain data points from the dataset if they had more than a specified threshold of missing values. If you found that this group was qualitatively different from the main bulk of the data, you should treat this as an additional data cluster in this analysis. Make sure that you account for the number of data points in this subset, for both the general population and customer datasets, when making your computations!\n",
    "- Which cluster or clusters are overrepresented in the customer dataset compared to the general population? Select at least one such cluster and infer what kind of people might be represented by that cluster. Use the principal component interpretations from step 2.3 or look at additional components to help you make this inference. Alternatively, you can use the `.inverse_transform()` method of the PCA and StandardScaler objects to transform centroids back to the original data space and interpret the retrieved values directly.\n",
    "- Perform a similar investigation for the underrepresented clusters. Which cluster or clusters are underrepresented in the customer dataset compared to the general population, and what kinds of people are typified by these clusters?"
   ]
  },
  {
   "cell_type": "code",
   "execution_count": null,
   "metadata": {},
   "outputs": [],
   "source": [
    "# Compare the proportion of data in each cluster for the customer data to the\n",
    "# proportion of data in each cluster for the general population.\n",
    "\n"
   ]
  },
  {
   "cell_type": "code",
   "execution_count": null,
   "metadata": {},
   "outputs": [],
   "source": [
    "# What kinds of people are part of a cluster that is overrepresented in the\n",
    "# customer data compared to the general population?\n",
    "\n"
   ]
  },
  {
   "cell_type": "code",
   "execution_count": null,
   "metadata": {},
   "outputs": [],
   "source": [
    "# What kinds of people are part of a cluster that is underrepresented in the\n",
    "# customer data compared to the general population?\n",
    "\n"
   ]
  },
  {
   "cell_type": "markdown",
   "metadata": {},
   "source": [
    "### Discussion 3.3: Compare Customer Data to Demographics Data\n",
    "\n",
    "(Double-click this cell and replace this text with your own text, reporting findings and conclusions from the clustering analysis. Can we describe segments of the population that are relatively popular with the mail-order company, or relatively unpopular with the company?)"
   ]
  },
  {
   "cell_type": "markdown",
   "metadata": {},
   "source": [
    "> Congratulations on making it this far in the project! Before you finish, make sure to check through the entire notebook from top to bottom to make sure that your analysis follows a logical flow and all of your findings are documented in **Discussion** cells. Once you've checked over all of your work, you should export the notebook as an HTML document to submit for evaluation. You can do this from the menu, navigating to **File -> Download as -> HTML (.html)**. You will submit both that document and this notebook for your project submission."
   ]
  },
  {
   "cell_type": "code",
   "execution_count": null,
   "metadata": {},
   "outputs": [],
   "source": []
  }
 ],
 "metadata": {
  "kernelspec": {
   "display_name": "Python 3",
   "language": "python",
   "name": "python3"
  },
  "language_info": {
   "codemirror_mode": {
    "name": "ipython",
    "version": 3
   },
   "file_extension": ".py",
   "mimetype": "text/x-python",
   "name": "python",
   "nbconvert_exporter": "python",
   "pygments_lexer": "ipython3",
   "version": "3.6.3"
  }
 },
 "nbformat": 4,
 "nbformat_minor": 2
}
