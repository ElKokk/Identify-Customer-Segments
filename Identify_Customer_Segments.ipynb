{
 "cells": [
  {
   "cell_type": "markdown",
   "metadata": {},
   "source": [
    "# Project: Identify Customer Segments\n",
    "\n",
    "In this project, you will apply unsupervised learning techniques to identify segments of the population that form the core customer base for a mail-order sales company in Germany. These segments can then be used to direct marketing campaigns towards audiences that will have the highest expected rate of returns. The data that you will use has been provided by our partners at Bertelsmann Arvato Analytics, and represents a real-life data science task.\n",
    "\n",
    "This notebook will help you complete this task by providing a framework within which you will perform your analysis steps. In each step of the project, you will see some text describing the subtask that you will perform, followed by one or more code cells for you to complete your work. **Feel free to add additional code and markdown cells as you go along so that you can explore everything in precise chunks.** The code cells provided in the base template will outline only the major tasks, and will usually not be enough to cover all of the minor tasks that comprise it.\n",
    "\n",
    "It should be noted that while there will be precise guidelines on how you should handle certain tasks in the project, there will also be places where an exact specification is not provided. **There will be times in the project where you will need to make and justify your own decisions on how to treat the data.** These are places where there may not be only one way to handle the data. In real-life tasks, there may be many valid ways to approach an analysis task. One of the most important things you can do is clearly document your approach so that other scientists can understand the decisions you've made.\n",
    "\n",
    "At the end of most sections, there will be a Markdown cell labeled **Discussion**. In these cells, you will report your findings for the completed section, as well as document the decisions that you made in your approach to each subtask. **Your project will be evaluated not just on the code used to complete the tasks outlined, but also your communication about your observations and conclusions at each stage.**"
   ]
  },
  {
   "cell_type": "code",
   "execution_count": 1,
   "metadata": {},
   "outputs": [
    {
     "data": {
      "text/plain": [
       "'\\nImport note: The classroom currently uses sklearn version 0.19.\\nIf you need to use an imputer, it is available in sklearn.preprocessing.Imputer,\\ninstead of sklearn.impute as in newer versions of sklearn.\\n'"
      ]
     },
     "execution_count": 1,
     "metadata": {},
     "output_type": "execute_result"
    }
   ],
   "source": [
    "# import libraries here; add more as necessary\n",
    "import numpy as np\n",
    "import pandas as pd\n",
    "import matplotlib.pyplot as plt\n",
    "import seaborn as sns\n",
    "from sklearn.preprocessing import Imputer,StandardScaler\n",
    "from sklearn.decomposition import PCA\n",
    "from sklearn.cluster import KMeans\n",
    "\n",
    "\n",
    "# magic word for producing visualizations in notebook\n",
    "%matplotlib inline\n",
    "\n",
    "'''\n",
    "Import note: The classroom currently uses sklearn version 0.19.\n",
    "If you need to use an imputer, it is available in sklearn.preprocessing.Imputer,\n",
    "instead of sklearn.impute as in newer versions of sklearn.\n",
    "'''"
   ]
  },
  {
   "cell_type": "markdown",
   "metadata": {},
   "source": [
    "### Step 0: Load the Data\n",
    "\n",
    "There are four files associated with this project (not including this one):\n",
    "\n",
    "- `Udacity_AZDIAS_Subset.csv`: Demographics data for the general population of Germany; 891211 persons (rows) x 85 features (columns).\n",
    "- `Udacity_CUSTOMERS_Subset.csv`: Demographics data for customers of a mail-order company; 191652 persons (rows) x 85 features (columns).\n",
    "- `Data_Dictionary.md`: Detailed information file about the features in the provided datasets.\n",
    "- `AZDIAS_Feature_Summary.csv`: Summary of feature attributes for demographics data; 85 features (rows) x 4 columns\n",
    "\n",
    "Each row of the demographics files represents a single person, but also includes information outside of individuals, including information about their household, building, and neighborhood. You will use this information to cluster the general population into groups with similar demographic properties. Then, you will see how the people in the customers dataset fit into those created clusters. The hope here is that certain clusters are over-represented in the customers data, as compared to the general population; those over-represented clusters will be assumed to be part of the core userbase. This information can then be used for further applications, such as targeting for a marketing campaign.\n",
    "\n",
    "To start off with, load in the demographics data for the general population into a pandas DataFrame, and do the same for the feature attributes summary. Note for all of the `.csv` data files in this project: they're semicolon (`;`) delimited, so you'll need an additional argument in your [`read_csv()`](https://pandas.pydata.org/pandas-docs/stable/generated/pandas.read_csv.html) call to read in the data properly. Also, considering the size of the main dataset, it may take some time for it to load completely.\n",
    "\n",
    "Once the dataset is loaded, it's recommended that you take a little bit of time just browsing the general structure of the dataset and feature summary file. You'll be getting deep into the innards of the cleaning in the first major step of the project, so gaining some general familiarity can help you get your bearings."
   ]
  },
  {
   "cell_type": "code",
   "execution_count": 3,
   "metadata": {},
   "outputs": [],
   "source": [
    "# Check the structure of the data after it's loaded (e.g. print the number of\n",
    "# rows and columns, print the first few rows).\n",
    "\n"
   ]
  },
  {
   "cell_type": "code",
   "execution_count": 174,
   "metadata": {},
   "outputs": [],
   "source": [
    "# Load in the general demographics data.\n",
    "azdias = pd.read_csv('Udacity_AZDIAS_Subset.csv',sep=';',)\n",
    "\n",
    "# Load in the feature summary file.\n",
    "feat_info = pd.read_csv('AZDIAS_Feature_Summary.csv',sep=';')"
   ]
  },
  {
   "cell_type": "code",
   "execution_count": 121,
   "metadata": {},
   "outputs": [
    {
     "name": "stdout",
     "output_type": "stream",
     "text": [
      "Shape of Demographic data for general population: (891221, 85)\n",
      "Shape of Feature Summary for degmographic data: (85, 4)\n"
     ]
    }
   ],
   "source": [
    "print(\"Shape of Demographic data for general population:\", azdias.shape)\n",
    "print(\"Shape of Feature Summary for degmographic data:\", feat_info.shape)"
   ]
  },
  {
   "cell_type": "code",
   "execution_count": 6,
   "metadata": {},
   "outputs": [
    {
     "data": {
      "text/html": [
       "<div>\n",
       "<style scoped>\n",
       "    .dataframe tbody tr th:only-of-type {\n",
       "        vertical-align: middle;\n",
       "    }\n",
       "\n",
       "    .dataframe tbody tr th {\n",
       "        vertical-align: top;\n",
       "    }\n",
       "\n",
       "    .dataframe thead th {\n",
       "        text-align: right;\n",
       "    }\n",
       "</style>\n",
       "<table border=\"1\" class=\"dataframe\">\n",
       "  <thead>\n",
       "    <tr style=\"text-align: right;\">\n",
       "      <th></th>\n",
       "      <th>AGER_TYP</th>\n",
       "      <th>ALTERSKATEGORIE_GROB</th>\n",
       "      <th>ANREDE_KZ</th>\n",
       "      <th>CJT_GESAMTTYP</th>\n",
       "      <th>FINANZ_MINIMALIST</th>\n",
       "      <th>FINANZ_SPARER</th>\n",
       "      <th>FINANZ_VORSORGER</th>\n",
       "      <th>FINANZ_ANLEGER</th>\n",
       "      <th>FINANZ_UNAUFFAELLIGER</th>\n",
       "      <th>FINANZ_HAUSBAUER</th>\n",
       "      <th>...</th>\n",
       "      <th>PLZ8_ANTG1</th>\n",
       "      <th>PLZ8_ANTG2</th>\n",
       "      <th>PLZ8_ANTG3</th>\n",
       "      <th>PLZ8_ANTG4</th>\n",
       "      <th>PLZ8_BAUMAX</th>\n",
       "      <th>PLZ8_HHZ</th>\n",
       "      <th>PLZ8_GBZ</th>\n",
       "      <th>ARBEIT</th>\n",
       "      <th>ORTSGR_KLS9</th>\n",
       "      <th>RELAT_AB</th>\n",
       "    </tr>\n",
       "  </thead>\n",
       "  <tbody>\n",
       "    <tr>\n",
       "      <th>0</th>\n",
       "      <td>-1</td>\n",
       "      <td>2</td>\n",
       "      <td>1</td>\n",
       "      <td>2.0</td>\n",
       "      <td>3</td>\n",
       "      <td>4</td>\n",
       "      <td>3</td>\n",
       "      <td>5</td>\n",
       "      <td>5</td>\n",
       "      <td>3</td>\n",
       "      <td>...</td>\n",
       "      <td>NaN</td>\n",
       "      <td>NaN</td>\n",
       "      <td>NaN</td>\n",
       "      <td>NaN</td>\n",
       "      <td>NaN</td>\n",
       "      <td>NaN</td>\n",
       "      <td>NaN</td>\n",
       "      <td>NaN</td>\n",
       "      <td>NaN</td>\n",
       "      <td>NaN</td>\n",
       "    </tr>\n",
       "    <tr>\n",
       "      <th>1</th>\n",
       "      <td>-1</td>\n",
       "      <td>1</td>\n",
       "      <td>2</td>\n",
       "      <td>5.0</td>\n",
       "      <td>1</td>\n",
       "      <td>5</td>\n",
       "      <td>2</td>\n",
       "      <td>5</td>\n",
       "      <td>4</td>\n",
       "      <td>5</td>\n",
       "      <td>...</td>\n",
       "      <td>2.0</td>\n",
       "      <td>3.0</td>\n",
       "      <td>2.0</td>\n",
       "      <td>1.0</td>\n",
       "      <td>1.0</td>\n",
       "      <td>5.0</td>\n",
       "      <td>4.0</td>\n",
       "      <td>3.0</td>\n",
       "      <td>5.0</td>\n",
       "      <td>4.0</td>\n",
       "    </tr>\n",
       "    <tr>\n",
       "      <th>2</th>\n",
       "      <td>-1</td>\n",
       "      <td>3</td>\n",
       "      <td>2</td>\n",
       "      <td>3.0</td>\n",
       "      <td>1</td>\n",
       "      <td>4</td>\n",
       "      <td>1</td>\n",
       "      <td>2</td>\n",
       "      <td>3</td>\n",
       "      <td>5</td>\n",
       "      <td>...</td>\n",
       "      <td>3.0</td>\n",
       "      <td>3.0</td>\n",
       "      <td>1.0</td>\n",
       "      <td>0.0</td>\n",
       "      <td>1.0</td>\n",
       "      <td>4.0</td>\n",
       "      <td>4.0</td>\n",
       "      <td>3.0</td>\n",
       "      <td>5.0</td>\n",
       "      <td>2.0</td>\n",
       "    </tr>\n",
       "    <tr>\n",
       "      <th>3</th>\n",
       "      <td>2</td>\n",
       "      <td>4</td>\n",
       "      <td>2</td>\n",
       "      <td>2.0</td>\n",
       "      <td>4</td>\n",
       "      <td>2</td>\n",
       "      <td>5</td>\n",
       "      <td>2</td>\n",
       "      <td>1</td>\n",
       "      <td>2</td>\n",
       "      <td>...</td>\n",
       "      <td>2.0</td>\n",
       "      <td>2.0</td>\n",
       "      <td>2.0</td>\n",
       "      <td>0.0</td>\n",
       "      <td>1.0</td>\n",
       "      <td>3.0</td>\n",
       "      <td>4.0</td>\n",
       "      <td>2.0</td>\n",
       "      <td>3.0</td>\n",
       "      <td>3.0</td>\n",
       "    </tr>\n",
       "    <tr>\n",
       "      <th>4</th>\n",
       "      <td>-1</td>\n",
       "      <td>3</td>\n",
       "      <td>1</td>\n",
       "      <td>5.0</td>\n",
       "      <td>4</td>\n",
       "      <td>3</td>\n",
       "      <td>4</td>\n",
       "      <td>1</td>\n",
       "      <td>3</td>\n",
       "      <td>2</td>\n",
       "      <td>...</td>\n",
       "      <td>2.0</td>\n",
       "      <td>4.0</td>\n",
       "      <td>2.0</td>\n",
       "      <td>1.0</td>\n",
       "      <td>2.0</td>\n",
       "      <td>3.0</td>\n",
       "      <td>3.0</td>\n",
       "      <td>4.0</td>\n",
       "      <td>6.0</td>\n",
       "      <td>5.0</td>\n",
       "    </tr>\n",
       "  </tbody>\n",
       "</table>\n",
       "<p>5 rows × 85 columns</p>\n",
       "</div>"
      ],
      "text/plain": [
       "   AGER_TYP  ALTERSKATEGORIE_GROB  ANREDE_KZ  CJT_GESAMTTYP  \\\n",
       "0        -1                     2          1            2.0   \n",
       "1        -1                     1          2            5.0   \n",
       "2        -1                     3          2            3.0   \n",
       "3         2                     4          2            2.0   \n",
       "4        -1                     3          1            5.0   \n",
       "\n",
       "   FINANZ_MINIMALIST  FINANZ_SPARER  FINANZ_VORSORGER  FINANZ_ANLEGER  \\\n",
       "0                  3              4                 3               5   \n",
       "1                  1              5                 2               5   \n",
       "2                  1              4                 1               2   \n",
       "3                  4              2                 5               2   \n",
       "4                  4              3                 4               1   \n",
       "\n",
       "   FINANZ_UNAUFFAELLIGER  FINANZ_HAUSBAUER    ...     PLZ8_ANTG1  PLZ8_ANTG2  \\\n",
       "0                      5                 3    ...            NaN         NaN   \n",
       "1                      4                 5    ...            2.0         3.0   \n",
       "2                      3                 5    ...            3.0         3.0   \n",
       "3                      1                 2    ...            2.0         2.0   \n",
       "4                      3                 2    ...            2.0         4.0   \n",
       "\n",
       "   PLZ8_ANTG3  PLZ8_ANTG4  PLZ8_BAUMAX  PLZ8_HHZ  PLZ8_GBZ  ARBEIT  \\\n",
       "0         NaN         NaN          NaN       NaN       NaN     NaN   \n",
       "1         2.0         1.0          1.0       5.0       4.0     3.0   \n",
       "2         1.0         0.0          1.0       4.0       4.0     3.0   \n",
       "3         2.0         0.0          1.0       3.0       4.0     2.0   \n",
       "4         2.0         1.0          2.0       3.0       3.0     4.0   \n",
       "\n",
       "   ORTSGR_KLS9  RELAT_AB  \n",
       "0          NaN       NaN  \n",
       "1          5.0       4.0  \n",
       "2          5.0       2.0  \n",
       "3          3.0       3.0  \n",
       "4          6.0       5.0  \n",
       "\n",
       "[5 rows x 85 columns]"
      ]
     },
     "execution_count": 6,
     "metadata": {},
     "output_type": "execute_result"
    }
   ],
   "source": [
    "azdias.head()"
   ]
  },
  {
   "cell_type": "code",
   "execution_count": 7,
   "metadata": {},
   "outputs": [
    {
     "data": {
      "text/html": [
       "<div>\n",
       "<style scoped>\n",
       "    .dataframe tbody tr th:only-of-type {\n",
       "        vertical-align: middle;\n",
       "    }\n",
       "\n",
       "    .dataframe tbody tr th {\n",
       "        vertical-align: top;\n",
       "    }\n",
       "\n",
       "    .dataframe thead th {\n",
       "        text-align: right;\n",
       "    }\n",
       "</style>\n",
       "<table border=\"1\" class=\"dataframe\">\n",
       "  <thead>\n",
       "    <tr style=\"text-align: right;\">\n",
       "      <th></th>\n",
       "      <th>AGER_TYP</th>\n",
       "      <th>ALTERSKATEGORIE_GROB</th>\n",
       "      <th>ANREDE_KZ</th>\n",
       "      <th>CJT_GESAMTTYP</th>\n",
       "      <th>FINANZ_MINIMALIST</th>\n",
       "      <th>FINANZ_SPARER</th>\n",
       "      <th>FINANZ_VORSORGER</th>\n",
       "      <th>FINANZ_ANLEGER</th>\n",
       "      <th>FINANZ_UNAUFFAELLIGER</th>\n",
       "      <th>FINANZ_HAUSBAUER</th>\n",
       "      <th>...</th>\n",
       "      <th>PLZ8_ANTG1</th>\n",
       "      <th>PLZ8_ANTG2</th>\n",
       "      <th>PLZ8_ANTG3</th>\n",
       "      <th>PLZ8_ANTG4</th>\n",
       "      <th>PLZ8_BAUMAX</th>\n",
       "      <th>PLZ8_HHZ</th>\n",
       "      <th>PLZ8_GBZ</th>\n",
       "      <th>ARBEIT</th>\n",
       "      <th>ORTSGR_KLS9</th>\n",
       "      <th>RELAT_AB</th>\n",
       "    </tr>\n",
       "  </thead>\n",
       "  <tbody>\n",
       "    <tr>\n",
       "      <th>count</th>\n",
       "      <td>891221.000000</td>\n",
       "      <td>891221.000000</td>\n",
       "      <td>891221.000000</td>\n",
       "      <td>886367.000000</td>\n",
       "      <td>891221.000000</td>\n",
       "      <td>891221.000000</td>\n",
       "      <td>891221.000000</td>\n",
       "      <td>891221.000000</td>\n",
       "      <td>891221.000000</td>\n",
       "      <td>891221.000000</td>\n",
       "      <td>...</td>\n",
       "      <td>774706.000000</td>\n",
       "      <td>774706.000000</td>\n",
       "      <td>774706.000000</td>\n",
       "      <td>774706.000000</td>\n",
       "      <td>774706.000000</td>\n",
       "      <td>774706.000000</td>\n",
       "      <td>774706.000000</td>\n",
       "      <td>794005.000000</td>\n",
       "      <td>794005.000000</td>\n",
       "      <td>794005.00000</td>\n",
       "    </tr>\n",
       "    <tr>\n",
       "      <th>mean</th>\n",
       "      <td>-0.358435</td>\n",
       "      <td>2.777398</td>\n",
       "      <td>1.522098</td>\n",
       "      <td>3.632838</td>\n",
       "      <td>3.074528</td>\n",
       "      <td>2.821039</td>\n",
       "      <td>3.401106</td>\n",
       "      <td>3.033328</td>\n",
       "      <td>2.874167</td>\n",
       "      <td>3.075121</td>\n",
       "      <td>...</td>\n",
       "      <td>2.253330</td>\n",
       "      <td>2.801858</td>\n",
       "      <td>1.595426</td>\n",
       "      <td>0.699166</td>\n",
       "      <td>1.943913</td>\n",
       "      <td>3.612821</td>\n",
       "      <td>3.381087</td>\n",
       "      <td>3.167854</td>\n",
       "      <td>5.293002</td>\n",
       "      <td>3.07222</td>\n",
       "    </tr>\n",
       "    <tr>\n",
       "      <th>std</th>\n",
       "      <td>1.198724</td>\n",
       "      <td>1.068775</td>\n",
       "      <td>0.499512</td>\n",
       "      <td>1.595021</td>\n",
       "      <td>1.321055</td>\n",
       "      <td>1.464749</td>\n",
       "      <td>1.322134</td>\n",
       "      <td>1.529603</td>\n",
       "      <td>1.486731</td>\n",
       "      <td>1.353248</td>\n",
       "      <td>...</td>\n",
       "      <td>0.972008</td>\n",
       "      <td>0.920309</td>\n",
       "      <td>0.986736</td>\n",
       "      <td>0.727137</td>\n",
       "      <td>1.459654</td>\n",
       "      <td>0.973967</td>\n",
       "      <td>1.111598</td>\n",
       "      <td>1.002376</td>\n",
       "      <td>2.303739</td>\n",
       "      <td>1.36298</td>\n",
       "    </tr>\n",
       "    <tr>\n",
       "      <th>min</th>\n",
       "      <td>-1.000000</td>\n",
       "      <td>1.000000</td>\n",
       "      <td>1.000000</td>\n",
       "      <td>1.000000</td>\n",
       "      <td>1.000000</td>\n",
       "      <td>1.000000</td>\n",
       "      <td>1.000000</td>\n",
       "      <td>1.000000</td>\n",
       "      <td>1.000000</td>\n",
       "      <td>1.000000</td>\n",
       "      <td>...</td>\n",
       "      <td>0.000000</td>\n",
       "      <td>0.000000</td>\n",
       "      <td>0.000000</td>\n",
       "      <td>0.000000</td>\n",
       "      <td>1.000000</td>\n",
       "      <td>1.000000</td>\n",
       "      <td>1.000000</td>\n",
       "      <td>1.000000</td>\n",
       "      <td>0.000000</td>\n",
       "      <td>1.00000</td>\n",
       "    </tr>\n",
       "    <tr>\n",
       "      <th>25%</th>\n",
       "      <td>-1.000000</td>\n",
       "      <td>2.000000</td>\n",
       "      <td>1.000000</td>\n",
       "      <td>2.000000</td>\n",
       "      <td>2.000000</td>\n",
       "      <td>1.000000</td>\n",
       "      <td>3.000000</td>\n",
       "      <td>2.000000</td>\n",
       "      <td>2.000000</td>\n",
       "      <td>2.000000</td>\n",
       "      <td>...</td>\n",
       "      <td>1.000000</td>\n",
       "      <td>2.000000</td>\n",
       "      <td>1.000000</td>\n",
       "      <td>0.000000</td>\n",
       "      <td>1.000000</td>\n",
       "      <td>3.000000</td>\n",
       "      <td>3.000000</td>\n",
       "      <td>3.000000</td>\n",
       "      <td>4.000000</td>\n",
       "      <td>2.00000</td>\n",
       "    </tr>\n",
       "    <tr>\n",
       "      <th>50%</th>\n",
       "      <td>-1.000000</td>\n",
       "      <td>3.000000</td>\n",
       "      <td>2.000000</td>\n",
       "      <td>4.000000</td>\n",
       "      <td>3.000000</td>\n",
       "      <td>3.000000</td>\n",
       "      <td>3.000000</td>\n",
       "      <td>3.000000</td>\n",
       "      <td>3.000000</td>\n",
       "      <td>3.000000</td>\n",
       "      <td>...</td>\n",
       "      <td>2.000000</td>\n",
       "      <td>3.000000</td>\n",
       "      <td>2.000000</td>\n",
       "      <td>1.000000</td>\n",
       "      <td>1.000000</td>\n",
       "      <td>4.000000</td>\n",
       "      <td>3.000000</td>\n",
       "      <td>3.000000</td>\n",
       "      <td>5.000000</td>\n",
       "      <td>3.00000</td>\n",
       "    </tr>\n",
       "    <tr>\n",
       "      <th>75%</th>\n",
       "      <td>-1.000000</td>\n",
       "      <td>4.000000</td>\n",
       "      <td>2.000000</td>\n",
       "      <td>5.000000</td>\n",
       "      <td>4.000000</td>\n",
       "      <td>4.000000</td>\n",
       "      <td>5.000000</td>\n",
       "      <td>5.000000</td>\n",
       "      <td>4.000000</td>\n",
       "      <td>4.000000</td>\n",
       "      <td>...</td>\n",
       "      <td>3.000000</td>\n",
       "      <td>3.000000</td>\n",
       "      <td>2.000000</td>\n",
       "      <td>1.000000</td>\n",
       "      <td>3.000000</td>\n",
       "      <td>4.000000</td>\n",
       "      <td>4.000000</td>\n",
       "      <td>4.000000</td>\n",
       "      <td>7.000000</td>\n",
       "      <td>4.00000</td>\n",
       "    </tr>\n",
       "    <tr>\n",
       "      <th>max</th>\n",
       "      <td>3.000000</td>\n",
       "      <td>9.000000</td>\n",
       "      <td>2.000000</td>\n",
       "      <td>6.000000</td>\n",
       "      <td>5.000000</td>\n",
       "      <td>5.000000</td>\n",
       "      <td>5.000000</td>\n",
       "      <td>5.000000</td>\n",
       "      <td>5.000000</td>\n",
       "      <td>5.000000</td>\n",
       "      <td>...</td>\n",
       "      <td>4.000000</td>\n",
       "      <td>4.000000</td>\n",
       "      <td>3.000000</td>\n",
       "      <td>2.000000</td>\n",
       "      <td>5.000000</td>\n",
       "      <td>5.000000</td>\n",
       "      <td>5.000000</td>\n",
       "      <td>9.000000</td>\n",
       "      <td>9.000000</td>\n",
       "      <td>9.00000</td>\n",
       "    </tr>\n",
       "  </tbody>\n",
       "</table>\n",
       "<p>8 rows × 81 columns</p>\n",
       "</div>"
      ],
      "text/plain": [
       "            AGER_TYP  ALTERSKATEGORIE_GROB      ANREDE_KZ  CJT_GESAMTTYP  \\\n",
       "count  891221.000000         891221.000000  891221.000000  886367.000000   \n",
       "mean       -0.358435              2.777398       1.522098       3.632838   \n",
       "std         1.198724              1.068775       0.499512       1.595021   \n",
       "min        -1.000000              1.000000       1.000000       1.000000   \n",
       "25%        -1.000000              2.000000       1.000000       2.000000   \n",
       "50%        -1.000000              3.000000       2.000000       4.000000   \n",
       "75%        -1.000000              4.000000       2.000000       5.000000   \n",
       "max         3.000000              9.000000       2.000000       6.000000   \n",
       "\n",
       "       FINANZ_MINIMALIST  FINANZ_SPARER  FINANZ_VORSORGER  FINANZ_ANLEGER  \\\n",
       "count      891221.000000  891221.000000     891221.000000   891221.000000   \n",
       "mean            3.074528       2.821039          3.401106        3.033328   \n",
       "std             1.321055       1.464749          1.322134        1.529603   \n",
       "min             1.000000       1.000000          1.000000        1.000000   \n",
       "25%             2.000000       1.000000          3.000000        2.000000   \n",
       "50%             3.000000       3.000000          3.000000        3.000000   \n",
       "75%             4.000000       4.000000          5.000000        5.000000   \n",
       "max             5.000000       5.000000          5.000000        5.000000   \n",
       "\n",
       "       FINANZ_UNAUFFAELLIGER  FINANZ_HAUSBAUER      ...          PLZ8_ANTG1  \\\n",
       "count          891221.000000     891221.000000      ...       774706.000000   \n",
       "mean                2.874167          3.075121      ...            2.253330   \n",
       "std                 1.486731          1.353248      ...            0.972008   \n",
       "min                 1.000000          1.000000      ...            0.000000   \n",
       "25%                 2.000000          2.000000      ...            1.000000   \n",
       "50%                 3.000000          3.000000      ...            2.000000   \n",
       "75%                 4.000000          4.000000      ...            3.000000   \n",
       "max                 5.000000          5.000000      ...            4.000000   \n",
       "\n",
       "          PLZ8_ANTG2     PLZ8_ANTG3     PLZ8_ANTG4    PLZ8_BAUMAX  \\\n",
       "count  774706.000000  774706.000000  774706.000000  774706.000000   \n",
       "mean        2.801858       1.595426       0.699166       1.943913   \n",
       "std         0.920309       0.986736       0.727137       1.459654   \n",
       "min         0.000000       0.000000       0.000000       1.000000   \n",
       "25%         2.000000       1.000000       0.000000       1.000000   \n",
       "50%         3.000000       2.000000       1.000000       1.000000   \n",
       "75%         3.000000       2.000000       1.000000       3.000000   \n",
       "max         4.000000       3.000000       2.000000       5.000000   \n",
       "\n",
       "            PLZ8_HHZ       PLZ8_GBZ         ARBEIT    ORTSGR_KLS9  \\\n",
       "count  774706.000000  774706.000000  794005.000000  794005.000000   \n",
       "mean        3.612821       3.381087       3.167854       5.293002   \n",
       "std         0.973967       1.111598       1.002376       2.303739   \n",
       "min         1.000000       1.000000       1.000000       0.000000   \n",
       "25%         3.000000       3.000000       3.000000       4.000000   \n",
       "50%         4.000000       3.000000       3.000000       5.000000   \n",
       "75%         4.000000       4.000000       4.000000       7.000000   \n",
       "max         5.000000       5.000000       9.000000       9.000000   \n",
       "\n",
       "           RELAT_AB  \n",
       "count  794005.00000  \n",
       "mean        3.07222  \n",
       "std         1.36298  \n",
       "min         1.00000  \n",
       "25%         2.00000  \n",
       "50%         3.00000  \n",
       "75%         4.00000  \n",
       "max         9.00000  \n",
       "\n",
       "[8 rows x 81 columns]"
      ]
     },
     "execution_count": 7,
     "metadata": {},
     "output_type": "execute_result"
    }
   ],
   "source": [
    "azdias.describe()"
   ]
  },
  {
   "cell_type": "code",
   "execution_count": 8,
   "metadata": {},
   "outputs": [
    {
     "data": {
      "text/html": [
       "<div>\n",
       "<style scoped>\n",
       "    .dataframe tbody tr th:only-of-type {\n",
       "        vertical-align: middle;\n",
       "    }\n",
       "\n",
       "    .dataframe tbody tr th {\n",
       "        vertical-align: top;\n",
       "    }\n",
       "\n",
       "    .dataframe thead th {\n",
       "        text-align: right;\n",
       "    }\n",
       "</style>\n",
       "<table border=\"1\" class=\"dataframe\">\n",
       "  <thead>\n",
       "    <tr style=\"text-align: right;\">\n",
       "      <th></th>\n",
       "      <th>attribute</th>\n",
       "      <th>information_level</th>\n",
       "      <th>type</th>\n",
       "      <th>missing_or_unknown</th>\n",
       "    </tr>\n",
       "  </thead>\n",
       "  <tbody>\n",
       "    <tr>\n",
       "      <th>count</th>\n",
       "      <td>85</td>\n",
       "      <td>85</td>\n",
       "      <td>85</td>\n",
       "      <td>85</td>\n",
       "    </tr>\n",
       "    <tr>\n",
       "      <th>unique</th>\n",
       "      <td>85</td>\n",
       "      <td>9</td>\n",
       "      <td>5</td>\n",
       "      <td>9</td>\n",
       "    </tr>\n",
       "    <tr>\n",
       "      <th>top</th>\n",
       "      <td>SHOPPER_TYP</td>\n",
       "      <td>person</td>\n",
       "      <td>ordinal</td>\n",
       "      <td>[-1]</td>\n",
       "    </tr>\n",
       "    <tr>\n",
       "      <th>freq</th>\n",
       "      <td>1</td>\n",
       "      <td>43</td>\n",
       "      <td>49</td>\n",
       "      <td>26</td>\n",
       "    </tr>\n",
       "  </tbody>\n",
       "</table>\n",
       "</div>"
      ],
      "text/plain": [
       "          attribute information_level     type missing_or_unknown\n",
       "count            85                85       85                 85\n",
       "unique           85                 9        5                  9\n",
       "top     SHOPPER_TYP            person  ordinal               [-1]\n",
       "freq              1                43       49                 26"
      ]
     },
     "execution_count": 8,
     "metadata": {},
     "output_type": "execute_result"
    }
   ],
   "source": [
    "feat_info.describe()"
   ]
  },
  {
   "cell_type": "code",
   "execution_count": 9,
   "metadata": {},
   "outputs": [
    {
     "data": {
      "text/html": [
       "<div>\n",
       "<style scoped>\n",
       "    .dataframe tbody tr th:only-of-type {\n",
       "        vertical-align: middle;\n",
       "    }\n",
       "\n",
       "    .dataframe tbody tr th {\n",
       "        vertical-align: top;\n",
       "    }\n",
       "\n",
       "    .dataframe thead th {\n",
       "        text-align: right;\n",
       "    }\n",
       "</style>\n",
       "<table border=\"1\" class=\"dataframe\">\n",
       "  <thead>\n",
       "    <tr style=\"text-align: right;\">\n",
       "      <th></th>\n",
       "      <th>attribute</th>\n",
       "      <th>information_level</th>\n",
       "      <th>type</th>\n",
       "      <th>missing_or_unknown</th>\n",
       "    </tr>\n",
       "  </thead>\n",
       "  <tbody>\n",
       "    <tr>\n",
       "      <th>0</th>\n",
       "      <td>AGER_TYP</td>\n",
       "      <td>person</td>\n",
       "      <td>categorical</td>\n",
       "      <td>[-1,0]</td>\n",
       "    </tr>\n",
       "    <tr>\n",
       "      <th>1</th>\n",
       "      <td>ALTERSKATEGORIE_GROB</td>\n",
       "      <td>person</td>\n",
       "      <td>ordinal</td>\n",
       "      <td>[-1,0,9]</td>\n",
       "    </tr>\n",
       "    <tr>\n",
       "      <th>2</th>\n",
       "      <td>ANREDE_KZ</td>\n",
       "      <td>person</td>\n",
       "      <td>categorical</td>\n",
       "      <td>[-1,0]</td>\n",
       "    </tr>\n",
       "    <tr>\n",
       "      <th>3</th>\n",
       "      <td>CJT_GESAMTTYP</td>\n",
       "      <td>person</td>\n",
       "      <td>categorical</td>\n",
       "      <td>[0]</td>\n",
       "    </tr>\n",
       "    <tr>\n",
       "      <th>4</th>\n",
       "      <td>FINANZ_MINIMALIST</td>\n",
       "      <td>person</td>\n",
       "      <td>ordinal</td>\n",
       "      <td>[-1]</td>\n",
       "    </tr>\n",
       "  </tbody>\n",
       "</table>\n",
       "</div>"
      ],
      "text/plain": [
       "              attribute information_level         type missing_or_unknown\n",
       "0              AGER_TYP            person  categorical             [-1,0]\n",
       "1  ALTERSKATEGORIE_GROB            person      ordinal           [-1,0,9]\n",
       "2             ANREDE_KZ            person  categorical             [-1,0]\n",
       "3         CJT_GESAMTTYP            person  categorical                [0]\n",
       "4     FINANZ_MINIMALIST            person      ordinal               [-1]"
      ]
     },
     "execution_count": 9,
     "metadata": {},
     "output_type": "execute_result"
    }
   ],
   "source": [
    "feat_info.head()"
   ]
  },
  {
   "cell_type": "markdown",
   "metadata": {},
   "source": [
    "> **Tip**: Add additional cells to keep everything in reasonably-sized chunks! Keyboard shortcut `esc --> a` (press escape to enter command mode, then press the 'A' key) adds a new cell before the active cell, and `esc --> b` adds a new cell after the active cell. If you need to convert an active cell to a markdown cell, use `esc --> m` and to convert to a code cell, use `esc --> y`. \n",
    "\n",
    "## Step 1: Preprocessing\n",
    "\n",
    "### Step 1.1: Assess Missing Data\n",
    "\n",
    "The feature summary file contains a summary of properties for each demographics data column. You will use this file to help you make cleaning decisions during this stage of the project. First of all, you should assess the demographics data in terms of missing data. Pay attention to the following points as you perform your analysis, and take notes on what you observe. Make sure that you fill in the **Discussion** cell with your findings and decisions at the end of each step that has one!\n",
    "\n",
    "#### Step 1.1.1: Convert Missing Value Codes to NaNs\n",
    "The fourth column of the feature attributes summary (loaded in above as `feat_info`) documents the codes from the data dictionary that indicate missing or unknown data. While the file encodes this as a list (e.g. `[-1,0]`), this will get read in as a string object. You'll need to do a little bit of parsing to make use of it to identify and clean the data. Convert data that matches a 'missing' or 'unknown' value code into a numpy NaN value. You might want to see how much data takes on a 'missing' or 'unknown' code, and how much data is naturally missing, as a point of interest.\n",
    "\n",
    "**As one more reminder, you are encouraged to add additional cells to break up your analysis into manageable chunks.**"
   ]
  },
  {
   "cell_type": "code",
   "execution_count": 241,
   "metadata": {},
   "outputs": [],
   "source": [
    "# Identify missing or unknown data values and convert them to NaNs."
   ]
  },
  {
   "cell_type": "code",
   "execution_count": 175,
   "metadata": {},
   "outputs": [],
   "source": [
    "for i in range(len(feat_info)):\n",
    "    string=feat_info[\"missing_or_unknown\"][i][1:len(feat_info[\"missing_or_unknown\"][i])-1]\n",
    "    List=string.split(',')\n",
    "    \n",
    "    manual_list=[]\n",
    "        \n",
    "        \n",
    "    for j in List:\n",
    "        try:\n",
    "            x=int(j)\n",
    "            manual_list.append(x)\n",
    "        except:\n",
    "            manual_list.append(j)\n",
    "    feat_info[\"missing_or_unknown\"][i]=manual_list\n",
    "                "
   ]
  },
  {
   "cell_type": "code",
   "execution_count": 176,
   "metadata": {},
   "outputs": [],
   "source": [
    "for i in range(len(feat_info)):\n",
    "    for j in feat_info[\"missing_or_unknown\"][i]:\n",
    "        azdias[azdias.columns[i]]=azdias[azdias.columns[i]].replace(j,np.nan)"
   ]
  },
  {
   "cell_type": "code",
   "execution_count": 177,
   "metadata": {},
   "outputs": [
    {
     "name": "stdout",
     "output_type": "stream",
     "text": [
      "Total number of missing values after conversion is 8373929\n"
     ]
    }
   ],
   "source": [
    "print('Total number of missing values after conversion is {}'.format(azdias.isnull().sum().sum()))"
   ]
  },
  {
   "cell_type": "markdown",
   "metadata": {},
   "source": [
    "#### Step 1.1.2: Assess Missing Data in Each Column\n",
    "\n",
    "How much missing data is present in each column? There are a few columns that are outliers in terms of the proportion of values that are missing. You will want to use matplotlib's [`hist()`](https://matplotlib.org/api/_as_gen/matplotlib.pyplot.hist.html) function to visualize the distribution of missing value counts to find these columns. Identify and document these columns. While some of these columns might have justifications for keeping or re-encoding the data, for this project you should just remove them from the dataframe. (Feel free to make remarks about these outlier columns in the discussion, however!)\n",
    "\n",
    "For the remaining features, are there any patterns in which columns have, or share, missing data?"
   ]
  },
  {
   "cell_type": "code",
   "execution_count": 178,
   "metadata": {
    "scrolled": true
   },
   "outputs": [
    {
     "data": {
      "text/plain": [
       "AGER_TYP                 685843\n",
       "ALTERSKATEGORIE_GROB       2881\n",
       "ANREDE_KZ                     0\n",
       "CJT_GESAMTTYP              4854\n",
       "FINANZ_MINIMALIST             0\n",
       "FINANZ_SPARER                 0\n",
       "FINANZ_VORSORGER              0\n",
       "FINANZ_ANLEGER                0\n",
       "FINANZ_UNAUFFAELLIGER         0\n",
       "FINANZ_HAUSBAUER              0\n",
       "FINANZTYP                     0\n",
       "GEBURTSJAHR              392318\n",
       "GFK_URLAUBERTYP            4854\n",
       "GREEN_AVANTGARDE              0\n",
       "HEALTH_TYP               111196\n",
       "LP_LEBENSPHASE_FEIN       97632\n",
       "LP_LEBENSPHASE_GROB       94572\n",
       "LP_FAMILIE_FEIN           77792\n",
       "LP_FAMILIE_GROB           77792\n",
       "LP_STATUS_FEIN             4854\n",
       "LP_STATUS_GROB             4854\n",
       "NATIONALITAET_KZ         108315\n",
       "PRAEGENDE_JUGENDJAHRE    108164\n",
       "RETOURTYP_BK_S             4854\n",
       "SEMIO_SOZ                     0\n",
       "SEMIO_FAM                     0\n",
       "SEMIO_REL                     0\n",
       "SEMIO_MAT                     0\n",
       "SEMIO_VERT                    0\n",
       "SEMIO_LUST                    0\n",
       "                          ...  \n",
       "OST_WEST_KZ               93148\n",
       "WOHNLAGE                  93148\n",
       "CAMEO_DEUG_2015           99352\n",
       "CAMEO_DEU_2015            99352\n",
       "CAMEO_INTL_2015           99352\n",
       "KBA05_ANTG1              133324\n",
       "KBA05_ANTG2              133324\n",
       "KBA05_ANTG3              133324\n",
       "KBA05_ANTG4              133324\n",
       "KBA05_BAUMAX             476524\n",
       "KBA05_GBZ                133324\n",
       "BALLRAUM                  93740\n",
       "EWDICHTE                  93740\n",
       "INNENSTADT                93740\n",
       "GEBAEUDETYP_RASTER        93155\n",
       "KKK                      158064\n",
       "MOBI_REGIO               133324\n",
       "ONLINE_AFFINITAET          4854\n",
       "REGIOTYP                 158064\n",
       "KBA13_ANZAHL_PKW         105800\n",
       "PLZ8_ANTG1               116515\n",
       "PLZ8_ANTG2               116515\n",
       "PLZ8_ANTG3               116515\n",
       "PLZ8_ANTG4               116515\n",
       "PLZ8_BAUMAX              116515\n",
       "PLZ8_HHZ                 116515\n",
       "PLZ8_GBZ                 116515\n",
       "ARBEIT                    97375\n",
       "ORTSGR_KLS9               97274\n",
       "RELAT_AB                  97375\n",
       "Length: 85, dtype: int64"
      ]
     },
     "execution_count": 178,
     "metadata": {},
     "output_type": "execute_result"
    }
   ],
   "source": [
    "# Perform an assessment of how much missing data there is in each column of the\n",
    "# dataset.\n",
    "azdias.isna().sum()\n"
   ]
  },
  {
   "cell_type": "code",
   "execution_count": 179,
   "metadata": {},
   "outputs": [],
   "source": [
    "# Investigate patterns in the amount of missing data in each column."
   ]
  },
  {
   "cell_type": "code",
   "execution_count": 180,
   "metadata": {
    "scrolled": false
   },
   "outputs": [
    {
     "data": {
      "image/png": "[encoded data removed]",
      "text/plain": [
       "<matplotlib.figure.Figure at 0x7f2c5cc59128>"
      ]
     },
     "metadata": {
      "needs_background": "light"
     },
     "output_type": "display_data"
    }
   ],
   "source": [
    "x=azdias.isna().sum()\n",
    "plt.figure(figsize=(40,15))\n",
    "plt.bar(x.index,x.values)\n",
    "plt.show()"
   ]
  },
  {
   "cell_type": "code",
   "execution_count": 181,
   "metadata": {},
   "outputs": [
    {
     "data": {
      "text/plain": [
       "(array([ 32.,   0.,   7.,  31.,   7.,   2.,   0.,   0.,   0.,   0.,   1.,\n",
       "          0.,   0.,   1.,   0.,   1.,   0.,   0.,   0.,   1.,   0.,   0.,\n",
       "          1.,   0.,   0.,   0.,   0.,   0.,   0.,   1.]),\n",
       " array([      0.,   30000.,   60000.,   90000.,  120000.,  150000.,\n",
       "         180000.,  210000.,  240000.,  270000.,  300000.,  330000.,\n",
       "         360000.,  390000.,  420000.,  450000.,  480000.,  510000.,\n",
       "         540000.,  570000.,  600000.,  630000.,  660000.,  690000.,\n",
       "         720000.,  750000.,  780000.,  810000.,  840000.,  870000.,  900000.]),\n",
       " <a list of 30 Patch objects>)"
      ]
     },
     "execution_count": 181,
     "metadata": {},
     "output_type": "execute_result"
    },
    {
     "data": {
      "image/png": "[encoded data removed]",
      "text/plain": [
       "<matplotlib.figure.Figure at 0x7f2c5ce3bb70>"
      ]
     },
     "metadata": {
      "needs_background": "light"
     },
     "output_type": "display_data"
    }
   ],
   "source": [
    "plt.hist(x.values,bins=30,range=(0,900000))"
   ]
  },
  {
   "cell_type": "code",
   "execution_count": 182,
   "metadata": {},
   "outputs": [
    {
     "name": "stdout",
     "output_type": "stream",
     "text": [
      "TITEL_KZ        889061\n",
      "AGER_TYP        685843\n",
      "KK_KUNDENTYP    584612\n",
      "KBA05_BAUMAX    476524\n",
      "GEBURTSJAHR     392318\n",
      "ALTER_HH        310267\n",
      "dtype: int64\n"
     ]
    }
   ],
   "source": [
    "Most_Missing=x.nlargest(6)\n",
    "print(Most_Missing)"
   ]
  },
  {
   "cell_type": "code",
   "execution_count": 183,
   "metadata": {},
   "outputs": [],
   "source": [
    "#Double checking those findings by creating a sorted dictionary with the percentage of missing values\n",
    "#per column\n",
    "\n",
    "percentage_of_nans={}\n",
    "for i in azdias.columns:\n",
    "    percentage_of_nans[i]=azdias[i].isna().sum()/len(azdias[i])\n",
    "sorted_keys=sorted(percentage_of_nans,key=percentage_of_nans.get)\n",
    "sorted_percentage={}\n",
    "for w in sorted_keys:\n",
    "    sorted_percentage[w]=percentage_of_nans[w]"
   ]
  },
  {
   "cell_type": "code",
   "execution_count": 184,
   "metadata": {},
   "outputs": [
    {
     "data": {
      "text/plain": [
       "{'ANREDE_KZ': 0.0,\n",
       " 'FINANZ_MINIMALIST': 0.0,\n",
       " 'FINANZ_SPARER': 0.0,\n",
       " 'FINANZ_VORSORGER': 0.0,\n",
       " 'FINANZ_ANLEGER': 0.0,\n",
       " 'FINANZ_UNAUFFAELLIGER': 0.0,\n",
       " 'FINANZ_HAUSBAUER': 0.0,\n",
       " 'FINANZTYP': 0.0,\n",
       " 'GREEN_AVANTGARDE': 0.0,\n",
       " 'SEMIO_SOZ': 0.0,\n",
       " 'SEMIO_FAM': 0.0,\n",
       " 'SEMIO_REL': 0.0,\n",
       " 'SEMIO_MAT': 0.0,\n",
       " 'SEMIO_VERT': 0.0,\n",
       " 'SEMIO_LUST': 0.0,\n",
       " 'SEMIO_ERL': 0.0,\n",
       " 'SEMIO_KULT': 0.0,\n",
       " 'SEMIO_RAT': 0.0,\n",
       " 'SEMIO_KRIT': 0.0,\n",
       " 'SEMIO_DOM': 0.0,\n",
       " 'SEMIO_KAEM': 0.0,\n",
       " 'SEMIO_PFLICHT': 0.0,\n",
       " 'SEMIO_TRADV': 0.0,\n",
       " 'ZABEOTYP': 0.0,\n",
       " 'ALTERSKATEGORIE_GROB': 0.0032326437550282143,\n",
       " 'CJT_GESAMTTYP': 0.0054464605299920001,\n",
       " 'GFK_URLAUBERTYP': 0.0054464605299920001,\n",
       " 'LP_STATUS_FEIN': 0.0054464605299920001,\n",
       " 'LP_STATUS_GROB': 0.0054464605299920001,\n",
       " 'RETOURTYP_BK_S': 0.0054464605299920001,\n",
       " 'ONLINE_AFFINITAET': 0.0054464605299920001,\n",
       " 'HH_EINKOMMEN_SCORE': 0.020587486156632306,\n",
       " 'SOHO_KZ': 0.082470004634091876,\n",
       " 'ANZ_PERSONEN': 0.082470004634091876,\n",
       " 'ANZ_TITEL': 0.082470004634091876,\n",
       " 'WOHNDAUER_2008': 0.082470004634091876,\n",
       " 'KONSUMNAEHE': 0.082997371022451222,\n",
       " 'LP_FAMILIE_FEIN': 0.087286991666489011,\n",
       " 'LP_FAMILIE_GROB': 0.087286991666489011,\n",
       " 'GEBAEUDETYP': 0.10451728583594866,\n",
       " 'MIN_GEBAEUDEJAHR': 0.10451728583594866,\n",
       " 'OST_WEST_KZ': 0.10451728583594866,\n",
       " 'WOHNLAGE': 0.10451728583594866,\n",
       " 'GEBAEUDETYP_RASTER': 0.10452514022896678,\n",
       " 'BALLRAUM': 0.10518154307405234,\n",
       " 'EWDICHTE': 0.10518154307405234,\n",
       " 'INNENSTADT': 0.10518154307405234,\n",
       " 'LP_LEBENSPHASE_GROB': 0.10611509378706292,\n",
       " 'ANZ_HH_TITEL': 0.10884842255736793,\n",
       " 'ORTSGR_KLS9': 0.10914688949205641,\n",
       " 'ARBEIT': 0.10926021716274639,\n",
       " 'RELAT_AB': 0.10926021716274639,\n",
       " 'LP_LEBENSPHASE_FEIN': 0.10954858559212585,\n",
       " 'CAMEO_DEUG_2015': 0.11147852216229195,\n",
       " 'CAMEO_DEU_2015': 0.11147852216229195,\n",
       " 'CAMEO_INTL_2015': 0.11147852216229195,\n",
       " 'ANZ_HAUSHALTE_AKTIV': 0.11176913470396231,\n",
       " 'KBA13_ANZAHL_PKW': 0.11871354018812394,\n",
       " 'PRAEGENDE_JUGENDJAHRE': 0.12136608091595687,\n",
       " 'NATIONALITAET_KZ': 0.12153551139391913,\n",
       " 'HEALTH_TYP': 0.12476815514894735,\n",
       " 'SHOPPER_TYP': 0.12476815514894735,\n",
       " 'VERS_TYP': 0.12476815514894735,\n",
       " 'PLZ8_ANTG1': 0.13073637178657146,\n",
       " 'PLZ8_ANTG2': 0.13073637178657146,\n",
       " 'PLZ8_ANTG3': 0.13073637178657146,\n",
       " 'PLZ8_ANTG4': 0.13073637178657146,\n",
       " 'PLZ8_BAUMAX': 0.13073637178657146,\n",
       " 'PLZ8_HHZ': 0.13073637178657146,\n",
       " 'PLZ8_GBZ': 0.13073637178657146,\n",
       " 'KBA05_ANTG1': 0.14959701353536328,\n",
       " 'KBA05_ANTG2': 0.14959701353536328,\n",
       " 'KBA05_ANTG3': 0.14959701353536328,\n",
       " 'KBA05_ANTG4': 0.14959701353536328,\n",
       " 'KBA05_GBZ': 0.14959701353536328,\n",
       " 'MOBI_REGIO': 0.14959701353536328,\n",
       " 'W_KEIT_KIND_HH': 0.16605084485217472,\n",
       " 'KKK': 0.17735668257368262,\n",
       " 'REGIOTYP': 0.17735668257368262,\n",
       " 'ALTER_HH': 0.34813699407890975,\n",
       " 'GEBURTSJAHR': 0.44020282286885071,\n",
       " 'KBA05_BAUMAX': 0.53468668265222652,\n",
       " 'KK_KUNDENTYP': 0.65596748730112953,\n",
       " 'AGER_TYP': 0.76955435296071339,\n",
       " 'TITEL_KZ': 0.99757635872583794}"
      ]
     },
     "execution_count": 184,
     "metadata": {},
     "output_type": "execute_result"
    }
   ],
   "source": [
    "#showing the dictionary. As we can see, the highest % columns are the same with the outliers\n",
    "#that we found before.\n",
    "sorted_percentage"
   ]
  },
  {
   "cell_type": "code",
   "execution_count": 185,
   "metadata": {},
   "outputs": [
    {
     "data": {
      "text/plain": [
       "count        85.000000\n",
       "mean      98516.811765\n",
       "std      146604.203317\n",
       "min           0.000000\n",
       "25%           0.000000\n",
       "50%       93148.000000\n",
       "75%      116515.000000\n",
       "max      889061.000000\n",
       "dtype: float64"
      ]
     },
     "execution_count": 185,
     "metadata": {},
     "output_type": "execute_result"
    }
   ],
   "source": [
    "x.describe()"
   ]
  },
  {
   "cell_type": "code",
   "execution_count": 186,
   "metadata": {},
   "outputs": [],
   "source": [
    "# Remove the outlier columns from the dataset. (You'll perform other data\n",
    "# engineering tasks such as re-encoding and imputation later.)\n",
    "\n"
   ]
  },
  {
   "cell_type": "code",
   "execution_count": 187,
   "metadata": {},
   "outputs": [
    {
     "data": {
      "text/plain": [
       "(891221, 79)"
      ]
     },
     "execution_count": 187,
     "metadata": {},
     "output_type": "execute_result"
    }
   ],
   "source": [
    "#Drop the outliers\n",
    "\n",
    "for column in Most_Missing.index:\n",
    "    azdias.drop(labels=column,axis=1,inplace=True)\n",
    "azdias.shape"
   ]
  },
  {
   "cell_type": "code",
   "execution_count": 188,
   "metadata": {},
   "outputs": [],
   "source": [
    "m=azdias.isnull().sum()"
   ]
  },
  {
   "cell_type": "code",
   "execution_count": 189,
   "metadata": {},
   "outputs": [
    {
     "data": {
      "text/plain": [
       "<matplotlib.axes._subplots.AxesSubplot at 0x7f2c5d0a6d30>"
      ]
     },
     "execution_count": 189,
     "metadata": {},
     "output_type": "execute_result"
    },
    {
     "data": {
      "image/png": "[encoded data removed]",
      "text/plain": [
       "<matplotlib.figure.Figure at 0x7f2c5cc6fc88>"
      ]
     },
     "metadata": {
      "needs_background": "light"
     },
     "output_type": "display_data"
    }
   ],
   "source": [
    "m.hist()"
   ]
  },
  {
   "cell_type": "code",
   "execution_count": 190,
   "metadata": {},
   "outputs": [
    {
     "name": "stdout",
     "output_type": "stream",
     "text": [
      "0         24\n",
      "116515     7\n",
      "4854       6\n",
      "133324     6\n",
      "93148      4\n",
      "73499      4\n",
      "111196     3\n",
      "99352      3\n",
      "93740      3\n",
      "77792      2\n",
      "97375      2\n",
      "158064     2\n",
      "97632      1\n",
      "93155      1\n",
      "94572      1\n",
      "105800     1\n",
      "2881       1\n",
      "18348      1\n",
      "97008      1\n",
      "108315     1\n",
      "73969      1\n",
      "99611      1\n",
      "147988     1\n",
      "108164     1\n",
      "97274      1\n",
      "dtype: int64\n"
     ]
    }
   ],
   "source": [
    "y=m.value_counts()\n",
    "print(y)"
   ]
  },
  {
   "cell_type": "code",
   "execution_count": 191,
   "metadata": {},
   "outputs": [],
   "source": [
    "#I create a dictionary with the groups of features that appear to have the same amount of missing values\n",
    "# Just in case I may need to refer to it later\n",
    "\n",
    "dict_of_missing={}\n",
    "for index in y.head(12).index:\n",
    "    for i in range(len(x)):\n",
    "        if index==x.values[i]:\n",
    "            if index not in dict_of_missing:\n",
    "                dict_of_missing[index]=[]\n",
    "                dict_of_missing[index].append(x.index[i])\n",
    "            else:\n",
    "                dict_of_missing[index].append(x.index[i])"
   ]
  },
  {
   "cell_type": "code",
   "execution_count": 192,
   "metadata": {},
   "outputs": [
    {
     "data": {
      "text/plain": [
       "{0: ['ANREDE_KZ',\n",
       "  'FINANZ_MINIMALIST',\n",
       "  'FINANZ_SPARER',\n",
       "  'FINANZ_VORSORGER',\n",
       "  'FINANZ_ANLEGER',\n",
       "  'FINANZ_UNAUFFAELLIGER',\n",
       "  'FINANZ_HAUSBAUER',\n",
       "  'FINANZTYP',\n",
       "  'GREEN_AVANTGARDE',\n",
       "  'SEMIO_SOZ',\n",
       "  'SEMIO_FAM',\n",
       "  'SEMIO_REL',\n",
       "  'SEMIO_MAT',\n",
       "  'SEMIO_VERT',\n",
       "  'SEMIO_LUST',\n",
       "  'SEMIO_ERL',\n",
       "  'SEMIO_KULT',\n",
       "  'SEMIO_RAT',\n",
       "  'SEMIO_KRIT',\n",
       "  'SEMIO_DOM',\n",
       "  'SEMIO_KAEM',\n",
       "  'SEMIO_PFLICHT',\n",
       "  'SEMIO_TRADV',\n",
       "  'ZABEOTYP'],\n",
       " 116515: ['PLZ8_ANTG1',\n",
       "  'PLZ8_ANTG2',\n",
       "  'PLZ8_ANTG3',\n",
       "  'PLZ8_ANTG4',\n",
       "  'PLZ8_BAUMAX',\n",
       "  'PLZ8_HHZ',\n",
       "  'PLZ8_GBZ'],\n",
       " 4854: ['CJT_GESAMTTYP',\n",
       "  'GFK_URLAUBERTYP',\n",
       "  'LP_STATUS_FEIN',\n",
       "  'LP_STATUS_GROB',\n",
       "  'RETOURTYP_BK_S',\n",
       "  'ONLINE_AFFINITAET'],\n",
       " 133324: ['KBA05_ANTG1',\n",
       "  'KBA05_ANTG2',\n",
       "  'KBA05_ANTG3',\n",
       "  'KBA05_ANTG4',\n",
       "  'KBA05_GBZ',\n",
       "  'MOBI_REGIO'],\n",
       " 93148: ['GEBAEUDETYP', 'MIN_GEBAEUDEJAHR', 'OST_WEST_KZ', 'WOHNLAGE'],\n",
       " 73499: ['SOHO_KZ', 'ANZ_PERSONEN', 'ANZ_TITEL', 'WOHNDAUER_2008'],\n",
       " 111196: ['HEALTH_TYP', 'SHOPPER_TYP', 'VERS_TYP'],\n",
       " 99352: ['CAMEO_DEUG_2015', 'CAMEO_DEU_2015', 'CAMEO_INTL_2015'],\n",
       " 93740: ['BALLRAUM', 'EWDICHTE', 'INNENSTADT'],\n",
       " 77792: ['LP_FAMILIE_FEIN', 'LP_FAMILIE_GROB'],\n",
       " 97375: ['ARBEIT', 'RELAT_AB'],\n",
       " 158064: ['KKK', 'REGIOTYP']}"
      ]
     },
     "execution_count": 192,
     "metadata": {},
     "output_type": "execute_result"
    }
   ],
   "source": [
    "dict_of_missing"
   ]
  },
  {
   "cell_type": "markdown",
   "metadata": {},
   "source": [
    "#### Discussion 1.1.2: Assess Missing Data in Each Column\n",
    "\n",
    "From the bar graph above we notice that there are 6 columns/features with significantly more missing values than the rest. Those are the outliers that will be removed: \n",
    "\n",
    "TITEL_KZ        889061, \n",
    "AGER_TYP        685843, \n",
    "KK_KUNDENTYP    584612, \n",
    "KBA05_BAUMAX    476524, \n",
    "GEBURTSJAHR     392318, \n",
    "ALTER_HH        310267\n",
    "\n",
    "In addition, from the first histogram and the examination of the data we are able to see that most labels have missing values up to ~117.000 and their distribution is positively skewd. The 6 outliers are again visible towards the tail of the distribution.\n",
    "\n",
    "After dropping the outliers, we notice in the second histogram that there's a dense group of labels around 0 missing values and a group around 60000-160000 that seem to follow a normal distribution and then they are being verified by checking their percentages\n",
    "\n",
    "By looking further into them we notice that there are several clusters of features with the same exact number of missing values. Those are features that may have something in common and we stored them in the dictionary dict_of_missing just in case we need them later.\n",
    "24 of them appear to have exact 0 missing values which mostly explains the first dense group in the second histogram.\n",
    "We also notice that their names in each group are very similar and by checking the data_dictionary file we can verify that they are talking about the same thing (eg financial,family,personality typologies etc).\n",
    "\n"
   ]
  },
  {
   "cell_type": "markdown",
   "metadata": {},
   "source": [
    "#### Step 1.1.3: Assess Missing Data in Each Row\n",
    "\n",
    "Now, you'll perform a similar assessment for the rows of the dataset. How much data is missing in each row? As with the columns, you should see some groups of points that have a very different numbers of missing values. Divide the data into two subsets: one for data points that are above some threshold for missing values, and a second subset for points below that threshold.\n",
    "\n",
    "In order to know what to do with the outlier rows, we should see if the distribution of data values on columns that are not missing data (or are missing very little data) are similar or different between the two groups. Select at least five of these columns and compare the distribution of values.\n",
    "- You can use seaborn's [`countplot()`](https://seaborn.pydata.org/generated/seaborn.countplot.html) function to create a bar chart of code frequencies and matplotlib's [`subplot()`](https://matplotlib.org/api/_as_gen/matplotlib.pyplot.subplot.html) function to put bar charts for the two subplots side by side.\n",
    "- To reduce repeated code, you might want to write a function that can perform this comparison, taking as one of its arguments a column to be compared.\n",
    "\n",
    "Depending on what you observe in your comparison, this will have implications on how you approach your conclusions later in the analysis. If the distributions of non-missing features look similar between the data with many missing values and the data with few or no missing values, then we could argue that simply dropping those points from the analysis won't present a major issue. On the other hand, if the data with many missing values looks very different from the data with few or no missing values, then we should make a note on those data as special. We'll revisit these data later on. **Either way, you should continue your analysis for now using just the subset of the data with few or no missing values.**"
   ]
  },
  {
   "cell_type": "code",
   "execution_count": 195,
   "metadata": {
    "scrolled": false
   },
   "outputs": [
    {
     "name": "stdout",
     "output_type": "stream",
     "text": [
      "0    43\n",
      "1     0\n",
      "2     0\n",
      "3     7\n",
      "4     0\n",
      "dtype: int64\n"
     ]
    },
    {
     "data": {
      "image/png": "[encoded data removed]",
      "text/plain": [
       "<matplotlib.figure.Figure at 0x7f2c7016a588>"
      ]
     },
     "metadata": {
      "needs_background": "light"
     },
     "output_type": "display_data"
    }
   ],
   "source": [
    "# How much data is missing in each row of the dataset?\n",
    "rm=azdias.isna().sum(axis=1)\n",
    "rm.hist()\n",
    "print(rm.head())"
   ]
  },
  {
   "cell_type": "code",
   "execution_count": 196,
   "metadata": {},
   "outputs": [
    {
     "name": "stdout",
     "output_type": "stream",
     "text": [
      "69.9275488346886\n",
      "71.69344079639058\n",
      "74.82689478816141\n",
      "76.80496756696712\n",
      "78.21954374953015\n",
      "80.74585316100047\n",
      "82.29103667889333\n",
      "83.82982447675717\n",
      "86.5891849496365\n",
      "Rows with less than 9  missing values, include 86.5891849496365 of the total data\n"
     ]
    }
   ],
   "source": [
    "#Finding out at how many missing values per row, we can include a certain % of the data.\n",
    "\n",
    "threshold=1\n",
    "while True:\n",
    "    percentage=0\n",
    "    count=0\n",
    "    for i in rm:\n",
    "        if i<threshold:\n",
    "            count+=1\n",
    "    percentage=(count/len(rm))*100\n",
    "    print(percentage)\n",
    "    if percentage>85:\n",
    "        print(\"Rows with less than\", threshold, ' missing values, include',percentage,'of the total data')\n",
    "        break\n",
    "    else:\n",
    "        threshold=threshold+1"
   ]
  },
  {
   "cell_type": "code",
   "execution_count": 197,
   "metadata": {},
   "outputs": [],
   "source": [
    "# Write code to divide the data into two subsets based on the number of missing\n",
    "# values in each row.\n",
    "subset1=azdias[rm<threshold]\n",
    "subset2=azdias[rm>=threshold]\n"
   ]
  },
  {
   "cell_type": "code",
   "execution_count": 198,
   "metadata": {},
   "outputs": [
    {
     "data": {
      "text/plain": [
       "(771701, 79)"
      ]
     },
     "execution_count": 198,
     "metadata": {},
     "output_type": "execute_result"
    }
   ],
   "source": [
    "subset1.shape"
   ]
  },
  {
   "cell_type": "code",
   "execution_count": 199,
   "metadata": {},
   "outputs": [],
   "source": [
    "# Compare the distribution of values for at least five columns where there are\n",
    "# no or few missing values, between the two subsets.\n"
   ]
  },
  {
   "cell_type": "code",
   "execution_count": 200,
   "metadata": {
    "scrolled": true
   },
   "outputs": [
    {
     "data": {
      "image/png": "[encoded data removed]",
      "text/plain": [
       "<matplotlib.figure.Figure at 0x7f2c725a6e48>"
      ]
     },
     "metadata": {
      "needs_background": "light"
     },
     "output_type": "display_data"
    },
    {
     "data": {
      "image/png": "[encoded data removed]",
      "text/plain": [
       "<matplotlib.figure.Figure at 0x7f2c72592c50>"
      ]
     },
     "metadata": {
      "needs_background": "light"
     },
     "output_type": "display_data"
    },
    {
     "data": {
      "image/png": "[encoded data removed]",
      "text/plain": [
       "<matplotlib.figure.Figure at 0x7f2c7259fb38>"
      ]
     },
     "metadata": {
      "needs_background": "light"
     },
     "output_type": "display_data"
    },
    {
     "data": {
      "image/png": "[encoded data removed]",
      "text/plain": [
       "<matplotlib.figure.Figure at 0x7f2c7260d828>"
      ]
     },
     "metadata": {
      "needs_background": "light"
     },
     "output_type": "display_data"
    },
    {
     "data": {
      "image/png": "[encoded data removed]",
      "text/plain": [
       "<matplotlib.figure.Figure at 0x7f2c7264c978>"
      ]
     },
     "metadata": {
      "needs_background": "light"
     },
     "output_type": "display_data"
    },
    {
     "data": {
      "image/png": "[encoded data removed]",
      "text/plain": [
       "<matplotlib.figure.Figure at 0x7f2c72696860>"
      ]
     },
     "metadata": {
      "needs_background": "light"
     },
     "output_type": "display_data"
    },
    {
     "data": {
      "image/png": "[encoded data removed]",
      "text/plain": [
       "<matplotlib.figure.Figure at 0x7f2c6fda2fd0>"
      ]
     },
     "metadata": {
      "needs_background": "light"
     },
     "output_type": "display_data"
    },
    {
     "data": {
      "image/png": "[encoded data removed]",
      "text/plain": [
       "<matplotlib.figure.Figure at 0x7f2c6fd39f98>"
      ]
     },
     "metadata": {
      "needs_background": "light"
     },
     "output_type": "display_data"
    },
    {
     "data": {
      "image/png": "[encoded data removed]",
      "text/plain": [
       "<matplotlib.figure.Figure at 0x7f2c701b3b00>"
      ]
     },
     "metadata": {
      "needs_background": "light"
     },
     "output_type": "display_data"
    },
    {
     "data": {
      "image/png": "[encoded data removed]",
      "text/plain": [
       "<matplotlib.figure.Figure at 0x7f2c5ce886a0>"
      ]
     },
     "metadata": {
      "needs_background": "light"
     },
     "output_type": "display_data"
    }
   ],
   "source": [
    "for i in dict_of_missing[0][0:10]:\n",
    "    fig,ax=plt.subplots(1,2)\n",
    "    ax[0].title.set_text(\"Subset1\")\n",
    "    ax[1].title.set_text(\"Subset2\")\n",
    "    sns.countplot(x=subset1[i],data=subset1,ax=ax[0])\n",
    "    sns.countplot(x=subset2[i],data=subset2,ax=ax[1])"
   ]
  },
  {
   "cell_type": "markdown",
   "metadata": {},
   "source": [
    "#### Discussion 1.1.3: Assess Missing Data in Each Row\n",
    "\n",
    "As we saw, rows with less than 11 missing values are able to include more than 87% of the data. Therefore we divided the data into two subsets with ~87% of the data being the subset of no or few missing values, and ~13% of the data points being the subset of more missing values.\n",
    "\n",
    "Then we compared the distributions on each subset of 10 features that have zero missing values. For that purpose we used the dictionary dict_of_missing where groups of features with the same amount of missing values were stored.\n",
    "\n",
    "By observing the results we can see that for most features the distributions show significant differences between the two subsets. 2 of them are very similar, like the GREEN_AVANTGARDE and the ANREDE_KZ. While some others show some similarities like the high Green column of FINANZ_MINIMALIST."
   ]
  },
  {
   "cell_type": "markdown",
   "metadata": {},
   "source": [
    "### Step 1.2: Select and Re-Encode Features\n",
    "\n",
    "Checking for missing data isn't the only way in which you can prepare a dataset for analysis. Since the unsupervised learning techniques to be used will only work on data that is encoded numerically, you need to make a few encoding changes or additional assumptions to be able to make progress. In addition, while almost all of the values in the dataset are encoded using numbers, not all of them represent numeric values. Check the third column of the feature summary (`feat_info`) for a summary of types of measurement.\n",
    "- For numeric and interval data, these features can be kept without changes.\n",
    "- Most of the variables in the dataset are ordinal in nature. While ordinal values may technically be non-linear in spacing, make the simplifying assumption that the ordinal variables can be treated as being interval in nature (that is, kept without any changes).\n",
    "- Special handling may be necessary for the remaining two variable types: categorical, and 'mixed'.\n",
    "\n",
    "In the first two parts of this sub-step, you will perform an investigation of the categorical and mixed-type features and make a decision on each of them, whether you will keep, drop, or re-encode each. Then, in the last part, you will create a new data frame with only the selected and engineered columns.\n",
    "\n",
    "Data wrangling is often the trickiest part of the data analysis process, and there's a lot of it to be done here. But stick with it: once you're done with this step, you'll be ready to get to the machine learning parts of the project!"
   ]
  },
  {
   "cell_type": "code",
   "execution_count": 201,
   "metadata": {},
   "outputs": [
    {
     "data": {
      "text/plain": [
       "array(['categorical', 'ordinal', 'numeric', 'mixed', 'interval'], dtype=object)"
      ]
     },
     "execution_count": 201,
     "metadata": {},
     "output_type": "execute_result"
    }
   ],
   "source": [
    "#Checking all the different kinds of types:\n",
    "\n",
    "feat_info[\"type\"].unique()"
   ]
  },
  {
   "cell_type": "code",
   "execution_count": 202,
   "metadata": {},
   "outputs": [
    {
     "data": {
      "text/plain": [
       "ordinal        49\n",
       "categorical    21\n",
       "mixed           7\n",
       "numeric         7\n",
       "interval        1\n",
       "Name: type, dtype: int64"
      ]
     },
     "execution_count": 202,
     "metadata": {},
     "output_type": "execute_result"
    }
   ],
   "source": [
    "# How many features are there of each data type?\n",
    "\n",
    "feat_info[\"type\"].value_counts()\n"
   ]
  },
  {
   "cell_type": "markdown",
   "metadata": {},
   "source": [
    "#### Step 1.2.1: Re-Encode Categorical Features\n",
    "\n",
    "For categorical data, you would ordinarily need to encode the levels as dummy variables. Depending on the number of categories, perform one of the following:\n",
    "- For binary (two-level) categoricals that take numeric values, you can keep them without needing to do anything.\n",
    "- There is one binary variable that takes on non-numeric values. For this one, you need to re-encode the values as numbers or create a dummy variable.\n",
    "- For multi-level categoricals (three or more values), you can choose to encode the values using multiple dummy variables (e.g. via [OneHotEncoder](http://scikit-learn.org/stable/modules/generated/sklearn.preprocessing.OneHotEncoder.html)), or (to keep things straightforward) just drop them from the analysis. As always, document your choices in the Discussion section."
   ]
  },
  {
   "cell_type": "code",
   "execution_count": 203,
   "metadata": {},
   "outputs": [],
   "source": [
    "# Assess categorical variables: which are binary, which are multi-level, and\n",
    "# which one needs to be re-encoded?\n",
    "\n"
   ]
  },
  {
   "cell_type": "code",
   "execution_count": 204,
   "metadata": {},
   "outputs": [
    {
     "data": {
      "text/html": [
       "<div>\n",
       "<style scoped>\n",
       "    .dataframe tbody tr th:only-of-type {\n",
       "        vertical-align: middle;\n",
       "    }\n",
       "\n",
       "    .dataframe tbody tr th {\n",
       "        vertical-align: top;\n",
       "    }\n",
       "\n",
       "    .dataframe thead th {\n",
       "        text-align: right;\n",
       "    }\n",
       "</style>\n",
       "<table border=\"1\" class=\"dataframe\">\n",
       "  <thead>\n",
       "    <tr style=\"text-align: right;\">\n",
       "      <th></th>\n",
       "      <th>attribute</th>\n",
       "      <th>information_level</th>\n",
       "      <th>type</th>\n",
       "      <th>missing_or_unknown</th>\n",
       "    </tr>\n",
       "  </thead>\n",
       "  <tbody>\n",
       "    <tr>\n",
       "      <th>0</th>\n",
       "      <td>AGER_TYP</td>\n",
       "      <td>person</td>\n",
       "      <td>categorical</td>\n",
       "      <td>[-1, 0]</td>\n",
       "    </tr>\n",
       "    <tr>\n",
       "      <th>2</th>\n",
       "      <td>ANREDE_KZ</td>\n",
       "      <td>person</td>\n",
       "      <td>categorical</td>\n",
       "      <td>[-1, 0]</td>\n",
       "    </tr>\n",
       "    <tr>\n",
       "      <th>3</th>\n",
       "      <td>CJT_GESAMTTYP</td>\n",
       "      <td>person</td>\n",
       "      <td>categorical</td>\n",
       "      <td>[0]</td>\n",
       "    </tr>\n",
       "    <tr>\n",
       "      <th>10</th>\n",
       "      <td>FINANZTYP</td>\n",
       "      <td>person</td>\n",
       "      <td>categorical</td>\n",
       "      <td>[-1]</td>\n",
       "    </tr>\n",
       "    <tr>\n",
       "      <th>12</th>\n",
       "      <td>GFK_URLAUBERTYP</td>\n",
       "      <td>person</td>\n",
       "      <td>categorical</td>\n",
       "      <td>[]</td>\n",
       "    </tr>\n",
       "    <tr>\n",
       "      <th>13</th>\n",
       "      <td>GREEN_AVANTGARDE</td>\n",
       "      <td>person</td>\n",
       "      <td>categorical</td>\n",
       "      <td>[]</td>\n",
       "    </tr>\n",
       "    <tr>\n",
       "      <th>17</th>\n",
       "      <td>LP_FAMILIE_FEIN</td>\n",
       "      <td>person</td>\n",
       "      <td>categorical</td>\n",
       "      <td>[0]</td>\n",
       "    </tr>\n",
       "    <tr>\n",
       "      <th>18</th>\n",
       "      <td>LP_FAMILIE_GROB</td>\n",
       "      <td>person</td>\n",
       "      <td>categorical</td>\n",
       "      <td>[0]</td>\n",
       "    </tr>\n",
       "    <tr>\n",
       "      <th>19</th>\n",
       "      <td>LP_STATUS_FEIN</td>\n",
       "      <td>person</td>\n",
       "      <td>categorical</td>\n",
       "      <td>[0]</td>\n",
       "    </tr>\n",
       "    <tr>\n",
       "      <th>20</th>\n",
       "      <td>LP_STATUS_GROB</td>\n",
       "      <td>person</td>\n",
       "      <td>categorical</td>\n",
       "      <td>[0]</td>\n",
       "    </tr>\n",
       "    <tr>\n",
       "      <th>21</th>\n",
       "      <td>NATIONALITAET_KZ</td>\n",
       "      <td>person</td>\n",
       "      <td>categorical</td>\n",
       "      <td>[-1, 0]</td>\n",
       "    </tr>\n",
       "    <tr>\n",
       "      <th>38</th>\n",
       "      <td>SHOPPER_TYP</td>\n",
       "      <td>person</td>\n",
       "      <td>categorical</td>\n",
       "      <td>[-1]</td>\n",
       "    </tr>\n",
       "    <tr>\n",
       "      <th>39</th>\n",
       "      <td>SOHO_KZ</td>\n",
       "      <td>person</td>\n",
       "      <td>categorical</td>\n",
       "      <td>[-1]</td>\n",
       "    </tr>\n",
       "    <tr>\n",
       "      <th>40</th>\n",
       "      <td>TITEL_KZ</td>\n",
       "      <td>person</td>\n",
       "      <td>categorical</td>\n",
       "      <td>[-1, 0]</td>\n",
       "    </tr>\n",
       "    <tr>\n",
       "      <th>41</th>\n",
       "      <td>VERS_TYP</td>\n",
       "      <td>person</td>\n",
       "      <td>categorical</td>\n",
       "      <td>[-1]</td>\n",
       "    </tr>\n",
       "    <tr>\n",
       "      <th>42</th>\n",
       "      <td>ZABEOTYP</td>\n",
       "      <td>person</td>\n",
       "      <td>categorical</td>\n",
       "      <td>[-1, 9]</td>\n",
       "    </tr>\n",
       "    <tr>\n",
       "      <th>47</th>\n",
       "      <td>KK_KUNDENTYP</td>\n",
       "      <td>household</td>\n",
       "      <td>categorical</td>\n",
       "      <td>[-1]</td>\n",
       "    </tr>\n",
       "    <tr>\n",
       "      <th>52</th>\n",
       "      <td>GEBAEUDETYP</td>\n",
       "      <td>building</td>\n",
       "      <td>categorical</td>\n",
       "      <td>[-1, 0]</td>\n",
       "    </tr>\n",
       "    <tr>\n",
       "      <th>55</th>\n",
       "      <td>OST_WEST_KZ</td>\n",
       "      <td>building</td>\n",
       "      <td>categorical</td>\n",
       "      <td>[-1]</td>\n",
       "    </tr>\n",
       "    <tr>\n",
       "      <th>57</th>\n",
       "      <td>CAMEO_DEUG_2015</td>\n",
       "      <td>microcell_rr4</td>\n",
       "      <td>categorical</td>\n",
       "      <td>[-1, X]</td>\n",
       "    </tr>\n",
       "    <tr>\n",
       "      <th>58</th>\n",
       "      <td>CAMEO_DEU_2015</td>\n",
       "      <td>microcell_rr4</td>\n",
       "      <td>categorical</td>\n",
       "      <td>[XX]</td>\n",
       "    </tr>\n",
       "  </tbody>\n",
       "</table>\n",
       "</div>"
      ],
      "text/plain": [
       "           attribute information_level         type missing_or_unknown\n",
       "0           AGER_TYP            person  categorical            [-1, 0]\n",
       "2          ANREDE_KZ            person  categorical            [-1, 0]\n",
       "3      CJT_GESAMTTYP            person  categorical                [0]\n",
       "10         FINANZTYP            person  categorical               [-1]\n",
       "12   GFK_URLAUBERTYP            person  categorical                 []\n",
       "13  GREEN_AVANTGARDE            person  categorical                 []\n",
       "17   LP_FAMILIE_FEIN            person  categorical                [0]\n",
       "18   LP_FAMILIE_GROB            person  categorical                [0]\n",
       "19    LP_STATUS_FEIN            person  categorical                [0]\n",
       "20    LP_STATUS_GROB            person  categorical                [0]\n",
       "21  NATIONALITAET_KZ            person  categorical            [-1, 0]\n",
       "38       SHOPPER_TYP            person  categorical               [-1]\n",
       "39           SOHO_KZ            person  categorical               [-1]\n",
       "40          TITEL_KZ            person  categorical            [-1, 0]\n",
       "41          VERS_TYP            person  categorical               [-1]\n",
       "42          ZABEOTYP            person  categorical            [-1, 9]\n",
       "47      KK_KUNDENTYP         household  categorical               [-1]\n",
       "52       GEBAEUDETYP          building  categorical            [-1, 0]\n",
       "55       OST_WEST_KZ          building  categorical               [-1]\n",
       "57   CAMEO_DEUG_2015     microcell_rr4  categorical            [-1, X]\n",
       "58    CAMEO_DEU_2015     microcell_rr4  categorical               [XX]"
      ]
     },
     "execution_count": 204,
     "metadata": {},
     "output_type": "execute_result"
    }
   ],
   "source": [
    "#storing all categorical attributes from feat_info to a variable called categoricals\n",
    "\n",
    "categoricals=feat_info[feat_info[\"type\"]=='categorical']\n",
    "categoricals"
   ]
  },
  {
   "cell_type": "code",
   "execution_count": 205,
   "metadata": {},
   "outputs": [
    {
     "name": "stderr",
     "output_type": "stream",
     "text": [
      "/opt/conda/lib/python3.6/site-packages/pandas/core/frame.py:3697: SettingWithCopyWarning: \n",
      "A value is trying to be set on a copy of a slice from a DataFrame\n",
      "\n",
      "See the caveats in the documentation: http://pandas.pydata.org/pandas-docs/stable/indexing.html#indexing-view-versus-copy\n",
      "  errors=errors)\n"
     ]
    },
    {
     "name": "stdout",
     "output_type": "stream",
     "text": [
      "ANREDE_KZ [2 1]\n",
      "CJT_GESAMTTYP [ 5.  3.  2.  4.  1.  6.]\n",
      "FINANZTYP [1 6 5 2 4 3]\n",
      "GFK_URLAUBERTYP [ 10.   1.   5.  12.   9.   3.   8.  11.   4.   7.   2.   6.]\n",
      "GREEN_AVANTGARDE [0 1]\n",
      "LP_FAMILIE_FEIN [  5.   1.  nan  10.   2.   7.  11.   8.   4.   6.   9.   3.]\n",
      "LP_FAMILIE_GROB [  3.   1.  nan   5.   2.   4.]\n",
      "LP_STATUS_FEIN [  2.   3.   9.   4.   1.  10.   5.   8.   6.   7.]\n",
      "LP_STATUS_GROB [ 1.  2.  4.  5.  3.]\n",
      "NATIONALITAET_KZ [  1.   3.   2.  nan]\n",
      "SHOPPER_TYP [  3.   2.   1.   0.  nan]\n",
      "SOHO_KZ [ 1.  0.]\n",
      "VERS_TYP [  2.   1.  nan]\n",
      "ZABEOTYP [5 3 4 1 6 2]\n",
      "GEBAEUDETYP [ 8.  1.  3.  2.  6.  4.  5.]\n",
      "OST_WEST_KZ ['W' 'O']\n",
      "CAMEO_DEUG_2015 ['8' '4' '2' '6' '1' '9' '5' '7' '3' nan]\n",
      "CAMEO_DEU_2015 ['8A' '4C' '2A' '6B' '8C' '4A' '2D' '1A' '1E' '9D' '5C' '8B' '7A' '5D' '9E'\n",
      " '9B' '1B' '3D' nan '4E' '4B' '3C' '5A' '7B' '9A' '6D' '6E' '2C' '7C' '9C'\n",
      " '7D' '5E' '1D' '8D' '6C' '6A' '5B' '4D' '3A' '2B' '7E' '3B' '6F' '5F' '1C']\n",
      "\n",
      "List of categorical features in subset1: ['ANREDE_KZ', 'CJT_GESAMTTYP', 'FINANZTYP', 'GFK_URLAUBERTYP', 'GREEN_AVANTGARDE', 'LP_FAMILIE_FEIN', 'LP_FAMILIE_GROB', 'LP_STATUS_FEIN', 'LP_STATUS_GROB', 'NATIONALITAET_KZ', 'SHOPPER_TYP', 'SOHO_KZ', 'VERS_TYP', 'ZABEOTYP', 'GEBAEUDETYP', 'OST_WEST_KZ', 'CAMEO_DEUG_2015', 'CAMEO_DEU_2015']\n"
     ]
    }
   ],
   "source": [
    "#Checking the kind of categoricals that exist in subset1 (subset without or few missing values) and storing them\n",
    "#in a list.\n",
    "\n",
    "categoricals_subset1=[]\n",
    "for i in categoricals[\"attribute\"]:\n",
    "    if i not in subset1.columns:\n",
    "        categoricals.drop(categoricals[categoricals[\"attribute\"]==i].index.values[0],axis=0,inplace=True)\n",
    "    else:\n",
    "        print(i,subset1[i].unique())\n",
    "        categoricals_subset1.append(i)\n",
    "print(\"\\nList of categorical features in subset1:\",categoricals_subset1)"
   ]
  },
  {
   "cell_type": "code",
   "execution_count": 206,
   "metadata": {},
   "outputs": [
    {
     "name": "stderr",
     "output_type": "stream",
     "text": [
      "/opt/conda/lib/python3.6/site-packages/pandas/core/frame.py:3697: SettingWithCopyWarning: \n",
      "A value is trying to be set on a copy of a slice from a DataFrame\n",
      "\n",
      "See the caveats in the documentation: http://pandas.pydata.org/pandas-docs/stable/indexing.html#indexing-view-versus-copy\n",
      "  errors=errors)\n"
     ]
    }
   ],
   "source": [
    "#We will drop the attribute \"CAMEO_DEU_2015\" for the shake of simplicity\n",
    "#as it appears to have too many levels in comparison to the rest\n",
    "#of the features\n",
    "\n",
    "subset1.drop(\"CAMEO_DEU_2015\",axis=1,inplace=True)"
   ]
  },
  {
   "cell_type": "code",
   "execution_count": 207,
   "metadata": {
    "scrolled": true
   },
   "outputs": [
    {
     "name": "stderr",
     "output_type": "stream",
     "text": [
      "/opt/conda/lib/python3.6/site-packages/pandas/core/frame.py:3697: SettingWithCopyWarning: \n",
      "A value is trying to be set on a copy of a slice from a DataFrame\n",
      "\n",
      "See the caveats in the documentation: http://pandas.pydata.org/pandas-docs/stable/indexing.html#indexing-view-versus-copy\n",
      "  errors=errors)\n"
     ]
    }
   ],
   "source": [
    "#We will also drop the feature \"GEBAUDETYP\" as by looking into the customer's data, it turned out that it included\n",
    "#at least one level (5) that is no available in the customers' data\n",
    "\n",
    "subset1.drop(\"GEBAEUDETYP\",axis=1,inplace=True)"
   ]
  },
  {
   "cell_type": "code",
   "execution_count": 208,
   "metadata": {},
   "outputs": [
    {
     "data": {
      "text/plain": [
       "(771701, 77)"
      ]
     },
     "execution_count": 208,
     "metadata": {},
     "output_type": "execute_result"
    }
   ],
   "source": [
    "subset1.shape"
   ]
  },
  {
   "cell_type": "code",
   "execution_count": 209,
   "metadata": {},
   "outputs": [],
   "source": [
    "#we will also remove these two features it from our list\n",
    "categoricals_subset1.remove('CAMEO_DEU_2015')\n",
    "categoricals_subset1.remove('GEBAEUDETYP')"
   ]
  },
  {
   "cell_type": "code",
   "execution_count": 210,
   "metadata": {},
   "outputs": [
    {
     "name": "stderr",
     "output_type": "stream",
     "text": [
      "/opt/conda/lib/python3.6/site-packages/ipykernel_launcher.py:4: SettingWithCopyWarning: \n",
      "A value is trying to be set on a copy of a slice from a DataFrame.\n",
      "Try using .loc[row_indexer,col_indexer] = value instead\n",
      "\n",
      "See the caveats in the documentation: http://pandas.pydata.org/pandas-docs/stable/indexing.html#indexing-view-versus-copy\n",
      "  after removing the cwd from sys.path.\n"
     ]
    }
   ],
   "source": [
    "#We notice that there is one binary categorical feature that doesn't take numerical values\n",
    "#We will re encode it.\n",
    "\n",
    "subset1[\"OST_WEST_KZ\"]=subset1[\"OST_WEST_KZ\"].map({'W':0,'O':1})"
   ]
  },
  {
   "cell_type": "code",
   "execution_count": 211,
   "metadata": {},
   "outputs": [
    {
     "data": {
      "text/plain": [
       "(771701, 77)"
      ]
     },
     "execution_count": 211,
     "metadata": {},
     "output_type": "execute_result"
    }
   ],
   "source": [
    "subset1.shape"
   ]
  },
  {
   "cell_type": "code",
   "execution_count": 212,
   "metadata": {},
   "outputs": [
    {
     "data": {
      "text/plain": [
       "array([0, 1])"
      ]
     },
     "execution_count": 212,
     "metadata": {},
     "output_type": "execute_result"
    }
   ],
   "source": [
    "#checking\n",
    "\n",
    "subset1[\"OST_WEST_KZ\"].unique()"
   ]
  },
  {
   "cell_type": "code",
   "execution_count": 213,
   "metadata": {},
   "outputs": [],
   "source": [
    "#Storing the multi level categories present in subset1 to a list\n",
    "\n",
    "list_of_multi_cat=[]\n",
    "for i in categoricals_subset1:\n",
    "    if len(subset1[i].unique())>2:\n",
    "        list_of_multi_cat.append(i)\n",
    "        "
   ]
  },
  {
   "cell_type": "code",
   "execution_count": 214,
   "metadata": {},
   "outputs": [
    {
     "data": {
      "text/plain": [
       "['CJT_GESAMTTYP',\n",
       " 'FINANZTYP',\n",
       " 'GFK_URLAUBERTYP',\n",
       " 'LP_FAMILIE_FEIN',\n",
       " 'LP_FAMILIE_GROB',\n",
       " 'LP_STATUS_FEIN',\n",
       " 'LP_STATUS_GROB',\n",
       " 'NATIONALITAET_KZ',\n",
       " 'SHOPPER_TYP',\n",
       " 'VERS_TYP',\n",
       " 'ZABEOTYP',\n",
       " 'CAMEO_DEUG_2015']"
      ]
     },
     "execution_count": 214,
     "metadata": {},
     "output_type": "execute_result"
    }
   ],
   "source": [
    "list_of_multi_cat"
   ]
  },
  {
   "cell_type": "code",
   "execution_count": 215,
   "metadata": {},
   "outputs": [],
   "source": [
    "#re encoding the multi level categorical features\n",
    "\n",
    "subset1=pd.get_dummies(subset1,columns=list_of_multi_cat)"
   ]
  },
  {
   "cell_type": "code",
   "execution_count": 216,
   "metadata": {},
   "outputs": [
    {
     "data": {
      "text/plain": [
       "(771701, 144)"
      ]
     },
     "execution_count": 216,
     "metadata": {},
     "output_type": "execute_result"
    }
   ],
   "source": [
    "subset1.shape"
   ]
  },
  {
   "cell_type": "markdown",
   "metadata": {},
   "source": [
    "#### Discussion 1.2.1: Re-Encode Categorical Features\n",
    "\n",
    "There are 4 binary categorical features. One of them that did not contain numerical values was re encoded to values 0 and 1.\n",
    "Out of the multi level categorical features, one was dropped for the shake of simplicity of the analysis as it appeared to have a significantly larger number of levels than the rest of the multi level features.\n",
    "\n",
    "Finally, the attribute \"GEBAUDETYP\" was also dropped for the shake of simplicity as it is causing issues further into the analysis. At least one of the levels of this categorical variable (5) does not exist in the customer's data. Therefore when this attribute is being one hot encoded, we end up with an extra feature that has no meaning.\n",
    "\n",
    "The rest of the multi level attributes were re encoded into the dataframe of none or few missing values, subset1, using pd.get_dummies()"
   ]
  },
  {
   "cell_type": "markdown",
   "metadata": {},
   "source": [
    "#### Step 1.2.2: Engineer Mixed-Type Features\n",
    "\n",
    "There are a handful of features that are marked as \"mixed\" in the feature summary that require special treatment in order to be included in the analysis. There are two in particular that deserve attention; the handling of the rest are up to your own choices:\n",
    "- \"PRAEGENDE_JUGENDJAHRE\" combines information on three dimensions: generation by decade, movement (mainstream vs. avantgarde), and nation (east vs. west). While there aren't enough levels to disentangle east from west, you should create two new variables to capture the other two dimensions: an interval-type variable for decade, and a binary variable for movement.\n",
    "- \"CAMEO_INTL_2015\" combines information on two axes: wealth and life stage. Break up the two-digit codes by their 'tens'-place and 'ones'-place digits into two new ordinal variables (which, for the purposes of this project, is equivalent to just treating them as their raw numeric values).\n",
    "- If you decide to keep or engineer new features around the other mixed-type features, make sure you note your steps in the Discussion section.\n",
    "\n",
    "Be sure to check `Data_Dictionary.md` for the details needed to finish these tasks."
   ]
  },
  {
   "cell_type": "code",
   "execution_count": 217,
   "metadata": {},
   "outputs": [
    {
     "data": {
      "text/html": [
       "<div>\n",
       "<style scoped>\n",
       "    .dataframe tbody tr th:only-of-type {\n",
       "        vertical-align: middle;\n",
       "    }\n",
       "\n",
       "    .dataframe tbody tr th {\n",
       "        vertical-align: top;\n",
       "    }\n",
       "\n",
       "    .dataframe thead th {\n",
       "        text-align: right;\n",
       "    }\n",
       "</style>\n",
       "<table border=\"1\" class=\"dataframe\">\n",
       "  <thead>\n",
       "    <tr style=\"text-align: right;\">\n",
       "      <th></th>\n",
       "      <th>attribute</th>\n",
       "      <th>information_level</th>\n",
       "      <th>type</th>\n",
       "      <th>missing_or_unknown</th>\n",
       "    </tr>\n",
       "  </thead>\n",
       "  <tbody>\n",
       "    <tr>\n",
       "      <th>15</th>\n",
       "      <td>LP_LEBENSPHASE_FEIN</td>\n",
       "      <td>person</td>\n",
       "      <td>mixed</td>\n",
       "      <td>[0]</td>\n",
       "    </tr>\n",
       "    <tr>\n",
       "      <th>16</th>\n",
       "      <td>LP_LEBENSPHASE_GROB</td>\n",
       "      <td>person</td>\n",
       "      <td>mixed</td>\n",
       "      <td>[0]</td>\n",
       "    </tr>\n",
       "    <tr>\n",
       "      <th>22</th>\n",
       "      <td>PRAEGENDE_JUGENDJAHRE</td>\n",
       "      <td>person</td>\n",
       "      <td>mixed</td>\n",
       "      <td>[-1, 0]</td>\n",
       "    </tr>\n",
       "    <tr>\n",
       "      <th>56</th>\n",
       "      <td>WOHNLAGE</td>\n",
       "      <td>building</td>\n",
       "      <td>mixed</td>\n",
       "      <td>[-1]</td>\n",
       "    </tr>\n",
       "    <tr>\n",
       "      <th>59</th>\n",
       "      <td>CAMEO_INTL_2015</td>\n",
       "      <td>microcell_rr4</td>\n",
       "      <td>mixed</td>\n",
       "      <td>[-1, XX]</td>\n",
       "    </tr>\n",
       "    <tr>\n",
       "      <th>64</th>\n",
       "      <td>KBA05_BAUMAX</td>\n",
       "      <td>microcell_rr3</td>\n",
       "      <td>mixed</td>\n",
       "      <td>[-1, 0]</td>\n",
       "    </tr>\n",
       "    <tr>\n",
       "      <th>79</th>\n",
       "      <td>PLZ8_BAUMAX</td>\n",
       "      <td>macrocell_plz8</td>\n",
       "      <td>mixed</td>\n",
       "      <td>[-1, 0]</td>\n",
       "    </tr>\n",
       "  </tbody>\n",
       "</table>\n",
       "</div>"
      ],
      "text/plain": [
       "                attribute information_level   type missing_or_unknown\n",
       "15    LP_LEBENSPHASE_FEIN            person  mixed                [0]\n",
       "16    LP_LEBENSPHASE_GROB            person  mixed                [0]\n",
       "22  PRAEGENDE_JUGENDJAHRE            person  mixed            [-1, 0]\n",
       "56               WOHNLAGE          building  mixed               [-1]\n",
       "59        CAMEO_INTL_2015     microcell_rr4  mixed           [-1, XX]\n",
       "64           KBA05_BAUMAX     microcell_rr3  mixed            [-1, 0]\n",
       "79            PLZ8_BAUMAX    macrocell_plz8  mixed            [-1, 0]"
      ]
     },
     "execution_count": 217,
     "metadata": {},
     "output_type": "execute_result"
    }
   ],
   "source": [
    "#Finding out which attributes are of mixed type\n",
    "\n",
    "mixed=feat_info[feat_info[\"type\"]=='mixed']\n",
    "mixed"
   ]
  },
  {
   "cell_type": "code",
   "execution_count": 218,
   "metadata": {},
   "outputs": [
    {
     "data": {
      "text/plain": [
       "14.0    177055\n",
       "8.0     137517\n",
       "10.0     83180\n",
       "5.0      82984\n",
       "3.0      52645\n",
       "15.0     40684\n",
       "11.0     34300\n",
       "9.0      32901\n",
       "6.0      25293\n",
       "12.0     23861\n",
       "4.0      20175\n",
       "1.0      19974\n",
       "2.0       7372\n",
       "13.0      5497\n",
       "7.0       3934\n",
       "Name: PRAEGENDE_JUGENDJAHRE, dtype: int64"
      ]
     },
     "execution_count": 218,
     "metadata": {},
     "output_type": "execute_result"
    }
   ],
   "source": [
    "subset1[\"PRAEGENDE_JUGENDJAHRE\"].value_counts()"
   ]
  },
  {
   "cell_type": "code",
   "execution_count": 219,
   "metadata": {},
   "outputs": [],
   "source": [
    "#By looking into the details of Data_Dictionary.md, we create a new column by replacing\n",
    "#the corresponding values to the integer part of the decade (eg 40 from 40s)\n",
    "\n",
    "subset1[\"PRAEGENDE_JUGENDJAHRE_Date\"]=subset1[\"PRAEGENDE_JUGENDJAHRE\"].replace([1,2],40)\n",
    "subset1[\"PRAEGENDE_JUGENDJAHRE_Date\"]=subset1[\"PRAEGENDE_JUGENDJAHRE_Date\"].replace([3,4],50)\n",
    "subset1[\"PRAEGENDE_JUGENDJAHRE_Date\"]=subset1[\"PRAEGENDE_JUGENDJAHRE_Date\"].replace([5,6,7],60)\n",
    "subset1[\"PRAEGENDE_JUGENDJAHRE_Date\"]=subset1[\"PRAEGENDE_JUGENDJAHRE_Date\"].replace([8,9],70)\n",
    "subset1[\"PRAEGENDE_JUGENDJAHRE_Date\"]=subset1[\"PRAEGENDE_JUGENDJAHRE_Date\"].replace([10,11,12,13],80)\n",
    "subset1[\"PRAEGENDE_JUGENDJAHRE_Date\"]=subset1[\"PRAEGENDE_JUGENDJAHRE_Date\"].replace([14,15],90)"
   ]
  },
  {
   "cell_type": "code",
   "execution_count": 220,
   "metadata": {},
   "outputs": [
    {
     "data": {
      "text/plain": [
       "90.0    217739\n",
       "70.0    170418\n",
       "80.0    146838\n",
       "60.0    112211\n",
       "50.0     72820\n",
       "40.0     27346\n",
       "Name: PRAEGENDE_JUGENDJAHRE_Date, dtype: int64"
      ]
     },
     "execution_count": 220,
     "metadata": {},
     "output_type": "execute_result"
    }
   ],
   "source": [
    "#checking\n",
    "\n",
    "subset1[\"PRAEGENDE_JUGENDJAHRE_Date\"].value_counts()"
   ]
  },
  {
   "cell_type": "code",
   "execution_count": 221,
   "metadata": {},
   "outputs": [],
   "source": [
    "#we do the same thing by creating a column for the movement. \n",
    "#This is a binary variable so we will replace the values with 0 and 1\n",
    "\n",
    "subset1[\"PRAEGENDE_JUGENDJAHRE_Movement\"]=subset1[\"PRAEGENDE_JUGENDJAHRE\"].replace([1,3,5,8,10,12,14],0)\n",
    "subset1[\"PRAEGENDE_JUGENDJAHRE_Movement\"]=subset1[\"PRAEGENDE_JUGENDJAHRE_Movement\"].replace([2,4,6,7,9,11,13,15],1)"
   ]
  },
  {
   "cell_type": "code",
   "execution_count": 222,
   "metadata": {},
   "outputs": [
    {
     "data": {
      "text/plain": [
       "0.0    577216\n",
       "1.0    170156\n",
       "Name: PRAEGENDE_JUGENDJAHRE_Movement, dtype: int64"
      ]
     },
     "execution_count": 222,
     "metadata": {},
     "output_type": "execute_result"
    }
   ],
   "source": [
    "#checking\n",
    "\n",
    "subset1[\"PRAEGENDE_JUGENDJAHRE_Movement\"].value_counts()"
   ]
  },
  {
   "cell_type": "code",
   "execution_count": 223,
   "metadata": {},
   "outputs": [
    {
     "data": {
      "text/plain": [
       "(771701, 146)"
      ]
     },
     "execution_count": 223,
     "metadata": {},
     "output_type": "execute_result"
    }
   ],
   "source": [
    "subset1.shape"
   ]
  },
  {
   "cell_type": "code",
   "execution_count": 224,
   "metadata": {},
   "outputs": [],
   "source": [
    "#we will now drop the feature \"PRAEGENDE_JUGENDJAHRE\" as we do not need it anymore\n",
    "\n",
    "subset1.drop(\"PRAEGENDE_JUGENDJAHRE\",axis=1,inplace=True)"
   ]
  },
  {
   "cell_type": "code",
   "execution_count": 225,
   "metadata": {},
   "outputs": [],
   "source": [
    "#By looking into the data_dictionary, we see that the tens digits correspond to wealth and ones digits to life stage\n",
    "#We replace them accordingly to new columns/features\n",
    "\n",
    "subset1[\"CAMEO_INTL_2015_Wealth\"]=subset1[\"CAMEO_INTL_2015\"].replace(['11','12','13','14','15'],10)\n",
    "subset1[\"CAMEO_INTL_2015_Wealth\"]=subset1[\"CAMEO_INTL_2015_Wealth\"].replace(['21','22','23','24','25'],20)\n",
    "subset1[\"CAMEO_INTL_2015_Wealth\"]=subset1[\"CAMEO_INTL_2015_Wealth\"].replace(['31','32','33','34','35'],30)\n",
    "subset1[\"CAMEO_INTL_2015_Wealth\"]=subset1[\"CAMEO_INTL_2015_Wealth\"].replace(['41','42','43','44','44','45'],40)\n",
    "subset1[\"CAMEO_INTL_2015_Wealth\"]=subset1[\"CAMEO_INTL_2015_Wealth\"].replace(['51','52','53','54','55'],50)"
   ]
  },
  {
   "cell_type": "code",
   "execution_count": 226,
   "metadata": {},
   "outputs": [
    {
     "data": {
      "text/plain": [
       "50.0    219852\n",
       "40.0    185463\n",
       "20.0    182423\n",
       "10.0    115294\n",
       "30.0     65330\n",
       "Name: CAMEO_INTL_2015_Wealth, dtype: int64"
      ]
     },
     "execution_count": 226,
     "metadata": {},
     "output_type": "execute_result"
    }
   ],
   "source": [
    "#checking\n",
    "subset1[\"CAMEO_INTL_2015_Wealth\"].value_counts()"
   ]
  },
  {
   "cell_type": "code",
   "execution_count": 227,
   "metadata": {},
   "outputs": [],
   "source": [
    "subset1[\"CAMEO_INTL_2015_LifeStage\"]=subset1[\"CAMEO_INTL_2015\"].replace(['11','21','31','41','51'],1)\n",
    "subset1[\"CAMEO_INTL_2015_LifeStage\"]=subset1[\"CAMEO_INTL_2015_LifeStage\"].replace(['12','22','32','42','52'],2)\n",
    "subset1[\"CAMEO_INTL_2015_LifeStage\"]=subset1[\"CAMEO_INTL_2015_LifeStage\"].replace(['13','23','33','43','53'],3)\n",
    "subset1[\"CAMEO_INTL_2015_LifeStage\"]=subset1[\"CAMEO_INTL_2015_LifeStage\"].replace(['14','24','34','44','54'],4)\n",
    "subset1[\"CAMEO_INTL_2015_LifeStage\"]=subset1[\"CAMEO_INTL_2015_LifeStage\"].replace(['15','25','35','45','55'],5)"
   ]
  },
  {
   "cell_type": "code",
   "execution_count": 228,
   "metadata": {},
   "outputs": [
    {
     "data": {
      "text/plain": [
       "1.0    239595\n",
       "4.0    226171\n",
       "3.0    114036\n",
       "5.0    113856\n",
       "2.0     74704\n",
       "Name: CAMEO_INTL_2015_LifeStage, dtype: int64"
      ]
     },
     "execution_count": 228,
     "metadata": {},
     "output_type": "execute_result"
    }
   ],
   "source": [
    "#checking\n",
    "subset1[\"CAMEO_INTL_2015_LifeStage\"].value_counts()"
   ]
  },
  {
   "cell_type": "code",
   "execution_count": 229,
   "metadata": {},
   "outputs": [],
   "source": [
    "#We'll now drop the column \"CAMEO_INTL_2015\" as we do not need it\n",
    "subset1.drop(\"CAMEO_INTL_2015\",axis=1,inplace=True)"
   ]
  },
  {
   "cell_type": "markdown",
   "metadata": {},
   "source": [
    "#### Discussion 1.2.2: Engineer Mixed-Type Features\n",
    "\n",
    "By looking into the details of Data_Dictionary.md, we create a new column by replacing the values that correspond to each decade with the integer part of the decade (eg 40 for 40s)\n",
    "Then we replace the rest of the values by modifying the same column for the rest of the decades.\n",
    "\n",
    "The same process is followed for the movement variable but since it is binary so we just replace the values with 0 and 1.\n",
    "\n",
    "Similarly for the CAMEO_INTL_2015, we divide into Wealth and LifeStage columns. \n",
    "We notice that the data in this feature are strings.\n",
    "Since the tens of the values correspond to wealth, we replace each bunch of tens for each wealth category and the ones for each Life Stage.\n",
    "\n",
    "Then the two initial columns are dropped since we do not need them anymore and they will interfere with the analysis later.\n",
    "\n",
    "Every other mixed feature is kept as is."
   ]
  },
  {
   "cell_type": "markdown",
   "metadata": {},
   "source": [
    "#### Step 1.2.3: Complete Feature Selection\n",
    "\n",
    "In order to finish this step up, you need to make sure that your data frame now only has the columns that you want to keep. To summarize, the dataframe should consist of the following:\n",
    "- All numeric, interval, and ordinal type columns from the original dataset.\n",
    "- Binary categorical features (all numerically-encoded).\n",
    "- Engineered features from other multi-level categorical features and mixed features.\n",
    "\n",
    "Make sure that for any new columns that you have engineered, that you've excluded the original columns from the final dataset. Otherwise, their values will interfere with the analysis later on the project. For example, you should not keep \"PRAEGENDE_JUGENDJAHRE\", since its values won't be useful for the algorithm: only the values derived from it in the engineered features you created should be retained. As a reminder, your data should only be from **the subset with few or no missing values**."
   ]
  },
  {
   "cell_type": "code",
   "execution_count": 230,
   "metadata": {},
   "outputs": [],
   "source": [
    "# If there are other re-engineering tasks you need to perform, make sure you\n",
    "# take care of them here. (Dealing with missing data will come in step 2.1.)\n",
    "\n"
   ]
  },
  {
   "cell_type": "code",
   "execution_count": 231,
   "metadata": {},
   "outputs": [],
   "source": [
    "# Do whatever you need to in order to ensure that the dataframe only contains\n",
    "# the columns that should be passed to the algorithm functions.\n",
    "\n"
   ]
  },
  {
   "cell_type": "code",
   "execution_count": 232,
   "metadata": {},
   "outputs": [],
   "source": [
    "#we will one hot encode the new feature columns\n",
    "subset1=pd.get_dummies(subset1,columns=[\"PRAEGENDE_JUGENDJAHRE_Date\",\"CAMEO_INTL_2015_Wealth\",\"CAMEO_INTL_2015_LifeStage\"])"
   ]
  },
  {
   "cell_type": "code",
   "execution_count": 233,
   "metadata": {},
   "outputs": [
    {
     "data": {
      "text/plain": [
       "(771701, 159)"
      ]
     },
     "execution_count": 233,
     "metadata": {},
     "output_type": "execute_result"
    }
   ],
   "source": [
    "subset1.shape"
   ]
  },
  {
   "cell_type": "markdown",
   "metadata": {},
   "source": [
    "### Step 1.3: Create a Cleaning Function\n",
    "\n",
    "Even though you've finished cleaning up the general population demographics data, it's important to look ahead to the future and realize that you'll need to perform the same cleaning steps on the customer demographics data. In this substep, complete the function below to execute the main feature selection, encoding, and re-engineering steps you performed above. Then, when it comes to looking at the customer data in Step 3, you can just run this function on that DataFrame to get the trimmed dataset in a single step."
   ]
  },
  {
   "cell_type": "code",
   "execution_count": 234,
   "metadata": {},
   "outputs": [],
   "source": [
    "def clean_data(df):\n",
    "    \"\"\"\n",
    "    Perform feature trimming, re-encoding, and engineering for demographics\n",
    "    data\n",
    "    \n",
    "    INPUT: Demographics DataFrame\n",
    "    OUTPUT: Trimmed and cleaned demographics DataFrame\n",
    "    \"\"\"\n",
    "    \n",
    "    # Put in code here to execute all main cleaning steps:\n",
    "    # convert missing value codes into NaNs, ...\n",
    "    \n",
    "    \n",
    "    feat_info = pd.read_csv('AZDIAS_Feature_Summary.csv',sep=';')\n",
    "    \n",
    "    \n",
    "    \n",
    "    for i in range(len(feat_info)):\n",
    "        string=feat_info[\"missing_or_unknown\"][i][1:len(feat_info[\"missing_or_unknown\"][i])-1]\n",
    "        List=string.split(',')\n",
    "        \n",
    "        manual_list=[]\n",
    "        \n",
    "        for j in List:\n",
    "            try:\n",
    "                x=int(j)\n",
    "                manual_list.append(x)\n",
    "            except:\n",
    "                manual_list.append(j)\n",
    "        feat_info[\"missing_or_unknown\"][i]=manual_list\n",
    "\n",
    "    \n",
    "    \n",
    "    for i in range(len(feat_info)):\n",
    "        for j in feat_info[\"missing_or_unknown\"][i]:\n",
    "            df[df.columns[i]]=df[df.columns[i]].replace(j,np.nan)\n",
    "            \n",
    "    \n",
    "    \n",
    "    print('Total number of missing values after conversion is {}'.format(df.isnull().sum().sum()))\n",
    "        \n",
    "    \n",
    "    # remove selected columns and rows, ...\n",
    "    \n",
    "    drop_columns=['TITEL_KZ','AGER_TYP','KK_KUNDENTYP','KBA05_BAUMAX','GEBURTSJAHR','ALTER_HH']\n",
    "    \n",
    "    for column in drop_columns:\n",
    "        df.drop(labels=column,axis=1,inplace=True)\n",
    "    \n",
    "    \n",
    "    \n",
    "    \n",
    "    rm=df.isna().sum(axis=1)\n",
    "    \n",
    "    threshold=1\n",
    "    while True:\n",
    "        percentage=0\n",
    "        count=0\n",
    "        for i in rm:\n",
    "            if i<threshold:\n",
    "                count+=1\n",
    "        percentage=(count/len(rm))*100\n",
    "        if percentage>85:\n",
    "            break\n",
    "        else:\n",
    "            threshold=threshold+1\n",
    "    \n",
    "    new_subset1=df[rm<threshold]\n",
    "    new_subset2=df[rm>=threshold]\n",
    "    \n",
    "    \n",
    "\n",
    "    \n",
    "    new_subset1.dropna(axis=0,subset=[\"SOHO_KZ\"],inplace=True)\n",
    "    new_subset1.dropna(axis=0,subset=[\"OST_WEST_KZ\"],inplace=True)\n",
    "    \n",
    "    \n",
    "        \n",
    "    \n",
    "    # select, re-encode, and engineer column values.\n",
    "    \n",
    "    new_categoricals=feat_info[feat_info[\"type\"]=='categorical']\n",
    "    \n",
    "    new_categoricals_subset1=[]\n",
    "    for i in new_categoricals[\"attribute\"]:\n",
    "        if i not in new_subset1.columns:\n",
    "            new_categoricals.drop(new_categoricals[new_categoricals[\"attribute\"]==i].index.values[0],axis=0,inplace=True)\n",
    "        else:\n",
    "            new_categoricals_subset1.append(i)\n",
    "    \n",
    "    new_subset1=new_subset1.drop(\"CAMEO_DEU_2015\",axis=1)\n",
    "    \n",
    "    new_subset1.drop(\"GEBAEUDETYP\",axis=1,inplace=True)\n",
    "    \n",
    "    \n",
    "    new_categoricals_subset1.remove('CAMEO_DEU_2015')\n",
    "    new_categoricals_subset1.remove('GEBAEUDETYP')\n",
    "    \n",
    "    new_subset1[\"OST_WEST_KZ\"]=new_subset1[\"OST_WEST_KZ\"].map({'W':0,'O':1})\n",
    "    \n",
    "    \n",
    "    new_list_of_multi_cat=[]\n",
    "    for i in new_categoricals_subset1:\n",
    "        if len(new_subset1[i].unique())>2:\n",
    "            new_list_of_multi_cat.append(i)\n",
    "            \n",
    "    new_subset1=pd.get_dummies(new_subset1,columns=new_list_of_multi_cat)\n",
    "    \n",
    "    \n",
    "    new_subset1[\"PRAEGENDE_JUGENDJAHRE_Date\"]=new_subset1[\"PRAEGENDE_JUGENDJAHRE\"].replace([1,2],40)\n",
    "    new_subset1[\"PRAEGENDE_JUGENDJAHRE_Date\"]=new_subset1[\"PRAEGENDE_JUGENDJAHRE_Date\"].replace([3,4],50)\n",
    "    new_subset1[\"PRAEGENDE_JUGENDJAHRE_Date\"]=new_subset1[\"PRAEGENDE_JUGENDJAHRE_Date\"].replace([5,6,7],60)\n",
    "    new_subset1[\"PRAEGENDE_JUGENDJAHRE_Date\"]=new_subset1[\"PRAEGENDE_JUGENDJAHRE_Date\"].replace([8,9],70)\n",
    "    new_subset1[\"PRAEGENDE_JUGENDJAHRE_Date\"]=new_subset1[\"PRAEGENDE_JUGENDJAHRE_Date\"].replace([10,11,12,13],80)\n",
    "    new_subset1[\"PRAEGENDE_JUGENDJAHRE_Date\"]=new_subset1[\"PRAEGENDE_JUGENDJAHRE_Date\"].replace([14,15],90)\n",
    "    \n",
    "    new_subset1[\"PRAEGENDE_JUGENDJAHRE_Movement\"]=new_subset1[\"PRAEGENDE_JUGENDJAHRE\"].replace([1,3,5,8,10,12,14],0)\n",
    "    new_subset1[\"PRAEGENDE_JUGENDJAHRE_Movement\"]=new_subset1[\"PRAEGENDE_JUGENDJAHRE_Movement\"].replace([2,4,6,7,9,11,13,15],1)\n",
    "    \n",
    "    new_subset1.drop(\"PRAEGENDE_JUGENDJAHRE\",axis=1,inplace=True)\n",
    "    \n",
    "    \n",
    "    new_subset1[\"CAMEO_INTL_2015_Wealth\"]=new_subset1[\"CAMEO_INTL_2015\"].replace(['11','12','13','14','15'],10)\n",
    "    new_subset1[\"CAMEO_INTL_2015_Wealth\"]=new_subset1[\"CAMEO_INTL_2015_Wealth\"].replace(['21','22','23','24','25'],20)\n",
    "    new_subset1[\"CAMEO_INTL_2015_Wealth\"]=new_subset1[\"CAMEO_INTL_2015_Wealth\"].replace(['31','32','33','34','35'],30)\n",
    "    new_subset1[\"CAMEO_INTL_2015_Wealth\"]=new_subset1[\"CAMEO_INTL_2015_Wealth\"].replace(['41','42','43','44','44','45'],40)\n",
    "    new_subset1[\"CAMEO_INTL_2015_Wealth\"]=new_subset1[\"CAMEO_INTL_2015_Wealth\"].replace(['51','52','53','54','55'],50)\n",
    "    \n",
    "    new_subset1[\"CAMEO_INTL_2015_LifeStage\"]=new_subset1[\"CAMEO_INTL_2015\"].replace(['11','21','31','41','51'],1)\n",
    "    new_subset1[\"CAMEO_INTL_2015_LifeStage\"]=new_subset1[\"CAMEO_INTL_2015_LifeStage\"].replace(['12','22','32','42','52'],2)\n",
    "    new_subset1[\"CAMEO_INTL_2015_LifeStage\"]=new_subset1[\"CAMEO_INTL_2015_LifeStage\"].replace(['13','23','33','43','53'],3)\n",
    "    new_subset1[\"CAMEO_INTL_2015_LifeStage\"]=new_subset1[\"CAMEO_INTL_2015_LifeStage\"].replace(['14','24','34','44','54'],4)\n",
    "    new_subset1[\"CAMEO_INTL_2015_LifeStage\"]=new_subset1[\"CAMEO_INTL_2015_LifeStage\"].replace(['15','25','35','45','55'],5)\n",
    "    \n",
    "    new_subset1.drop(\"CAMEO_INTL_2015\",axis=1,inplace=True)\n",
    "    \n",
    "    \n",
    "    new_subset1=pd.get_dummies(new_subset1,columns=[\"PRAEGENDE_JUGENDJAHRE_Date\",\"CAMEO_INTL_2015_Wealth\",\"CAMEO_INTL_2015_LifeStage\"])\n",
    "    \n",
    "    \n",
    "    new_subset1.dropna(axis=1,how='all',inplace=True)\n",
    "    \n",
    "    \n",
    "    # Return the cleaned dataframe.\n",
    "    \n",
    "    return new_subset1\n",
    "    \n",
    "    "
   ]
  },
  {
   "cell_type": "markdown",
   "metadata": {},
   "source": [
    "## Step 2: Feature Transformation\n",
    "\n",
    "### Step 2.1: Apply Feature Scaling\n",
    "\n",
    "Before we apply dimensionality reduction techniques to the data, we need to perform feature scaling so that the principal component vectors are not influenced by the natural differences in scale for features. Starting from this part of the project, you'll want to keep an eye on the [API reference page for sklearn](http://scikit-learn.org/stable/modules/classes.html) to help you navigate to all of the classes and functions that you'll need. In this substep, you'll need to check the following:\n",
    "\n",
    "- sklearn requires that data not have missing values in order for its estimators to work properly. So, before applying the scaler to your data, make sure that you've cleaned the DataFrame of the remaining missing values. This can be as simple as just removing all data points with missing data, or applying an [Imputer](http://scikit-learn.org/stable/modules/generated/sklearn.preprocessing.Imputer.html) to replace all missing values. You might also try a more complicated procedure where you temporarily remove missing values in order to compute the scaling parameters before re-introducing those missing values and applying imputation. Think about how much missing data you have and what possible effects each approach might have on your analysis, and justify your decision in the discussion section below.\n",
    "- For the actual scaling function, a [StandardScaler](http://scikit-learn.org/stable/modules/generated/sklearn.preprocessing.StandardScaler.html) instance is suggested, scaling each feature to mean 0 and standard deviation 1.\n",
    "- For these classes, you can make use of the `.fit_transform()` method to both fit a procedure to the data as well as apply the transformation to the data at the same time. Don't forget to keep the fit sklearn objects handy, since you'll be applying them to the customer demographics data towards the end of the project."
   ]
  },
  {
   "cell_type": "code",
   "execution_count": 83,
   "metadata": {},
   "outputs": [
    {
     "data": {
      "text/plain": [
       "510446"
      ]
     },
     "execution_count": 83,
     "metadata": {},
     "output_type": "execute_result"
    }
   ],
   "source": [
    "subset1.isna().sum().sum()"
   ]
  },
  {
   "cell_type": "code",
   "execution_count": 186,
   "metadata": {},
   "outputs": [
    {
     "data": {
      "text/plain": [
       "(771701, 159)"
      ]
     },
     "execution_count": 186,
     "metadata": {},
     "output_type": "execute_result"
    }
   ],
   "source": [
    "subset1.shape"
   ]
  },
  {
   "cell_type": "code",
   "execution_count": 85,
   "metadata": {},
   "outputs": [],
   "source": [
    "subset1.dropna(axis=1,how='all',inplace=True)\n",
    "subset1.dropna(axis=0,how='all',inplace=True)"
   ]
  },
  {
   "cell_type": "code",
   "execution_count": 235,
   "metadata": {},
   "outputs": [],
   "source": [
    "# If you've not yet cleaned the dataset of all NaN values, then investigate and\n",
    "# do that now.\n",
    "Imp_mean=Imputer(strategy='mean')\n",
    "X=Imp_mean.fit_transform(subset1)\n",
    "X=pd.DataFrame(X,columns=subset1.columns)"
   ]
  },
  {
   "cell_type": "code",
   "execution_count": 71,
   "metadata": {},
   "outputs": [],
   "source": [
    "# Apply feature scaling to the general population demographics data.\n",
    "scaler=StandardScaler()\n",
    "X_ss=scaler.fit_transform(X)"
   ]
  },
  {
   "cell_type": "code",
   "execution_count": 72,
   "metadata": {},
   "outputs": [],
   "source": [
    "X_ss=pd.DataFrame(X_ss,columns=subset1.columns)"
   ]
  },
  {
   "cell_type": "markdown",
   "metadata": {},
   "source": [
    "### Discussion 2.1: Apply Feature Scaling\n",
    "\n",
    "First we tried dropna to drop rows and columns that potentially could have remained with only nan values.\n",
    "Then the rest of the missing values are filled with the mean, along columns, using an Imputer. It is probably a better decision as dropping completely the data points would have negative repercusions in our analysis.\n",
    "\n",
    "We also use the subset1 data set which is already the set with reduced missing values.\n",
    "\n",
    "Then the features are scaled, using a Standard Scaler"
   ]
  },
  {
   "cell_type": "markdown",
   "metadata": {},
   "source": [
    "### Step 2.2: Perform Dimensionality Reduction\n",
    "\n",
    "On your scaled data, you are now ready to apply dimensionality reduction techniques.\n",
    "\n",
    "- Use sklearn's [PCA](http://scikit-learn.org/stable/modules/generated/sklearn.decomposition.PCA.html) class to apply principal component analysis on the data, thus finding the vectors of maximal variance in the data. To start, you should not set any parameters (so all components are computed) or set a number of components that is at least half the number of features (so there's enough features to see the general trend in variability).\n",
    "- Check out the ratio of variance explained by each principal component as well as the cumulative variance explained. Try plotting the cumulative or sequential values using matplotlib's [`plot()`](https://matplotlib.org/api/_as_gen/matplotlib.pyplot.plot.html) function. Based on what you find, select a value for the number of transformed features you'll retain for the clustering part of the project.\n",
    "- Once you've made a choice for the number of components to keep, make sure you re-fit a PCA instance to perform the decided-on transformation."
   ]
  },
  {
   "cell_type": "code",
   "execution_count": 73,
   "metadata": {},
   "outputs": [],
   "source": [
    "# Apply PCA to the data.\n",
    "pca=PCA()\n",
    "X_pca=pca.fit_transform(X_ss)\n"
   ]
  },
  {
   "cell_type": "code",
   "execution_count": 74,
   "metadata": {},
   "outputs": [
    {
     "data": {
      "text/plain": [
       "(771701, 159)"
      ]
     },
     "execution_count": 74,
     "metadata": {},
     "output_type": "execute_result"
    }
   ],
   "source": [
    "X_pca.shape"
   ]
  },
  {
   "cell_type": "code",
   "execution_count": 75,
   "metadata": {},
   "outputs": [],
   "source": [
    "# Investigate the variance accounted for by each principal component.\n",
    "\n",
    "def scree_plot(pca):\n",
    "    num_components=len(pca.explained_variance_ratio_)\n",
    "    ind = np.arange(num_components)\n",
    "    vals = pca.explained_variance_ratio_\n",
    " \n",
    "    plt.figure(figsize=(10, 6))\n",
    "    ax = plt.subplot(111)\n",
    "    cumvals = np.cumsum(vals)\n",
    "    ax.bar(ind, vals)\n",
    "    ax.plot(ind, cumvals)\n",
    "    ax.xaxis.set_tick_params(width=0)\n",
    "    ax.yaxis.set_tick_params(width=2, length=12)\n",
    " \n",
    "    ax.set_xlabel(\"Principal Component\")\n",
    "    ax.set_ylabel(\"Variance Explained (%)\")\n",
    "    plt.title('Explained Variance Per Principal Component')\n",
    "    \n",
    "    \n",
    "    #reference code from notebook's helper functions"
   ]
  },
  {
   "cell_type": "code",
   "execution_count": 76,
   "metadata": {},
   "outputs": [
    {
     "data": {
      "image/png": "[encoded data removed]",
      "text/plain": [
       "<matplotlib.figure.Figure at 0x7f2c5cea2630>"
      ]
     },
     "metadata": {
      "needs_background": "light"
     },
     "output_type": "display_data"
    }
   ],
   "source": [
    "scree_plot(pca)"
   ]
  },
  {
   "cell_type": "code",
   "execution_count": 77,
   "metadata": {},
   "outputs": [],
   "source": [
    "# Re-apply PCA to the data while selecting for number of components to retain.\n",
    "pca=PCA(n_components=65)\n",
    "X_pca=pca.fit_transform(X_ss)\n"
   ]
  },
  {
   "cell_type": "code",
   "execution_count": 78,
   "metadata": {},
   "outputs": [
    {
     "data": {
      "image/png": "[encoded data removed]",
      "text/plain": [
       "<matplotlib.figure.Figure at 0x7f2c5cd4a6a0>"
      ]
     },
     "metadata": {
      "needs_background": "light"
     },
     "output_type": "display_data"
    }
   ],
   "source": [
    "scree_plot(pca)"
   ]
  },
  {
   "cell_type": "markdown",
   "metadata": {},
   "source": [
    "### Discussion 2.2: Perform Dimensionality Reduction\n",
    "\n",
    "From the 2 scree plots we can see that 100% of the variance is explained at around 130 principal components. While more than 80% could be explained with just 65 variables. Therefore we decided to reduce the components by half."
   ]
  },
  {
   "cell_type": "markdown",
   "metadata": {},
   "source": [
    "### Step 2.3: Interpret Principal Components\n",
    "\n",
    "Now that we have our transformed principal components, it's a nice idea to check out the weight of each variable on the first few components to see if they can be interpreted in some fashion.\n",
    "\n",
    "As a reminder, each principal component is a unit vector that points in the direction of highest variance (after accounting for the variance captured by earlier principal components). The further a weight is from zero, the more the principal component is in the direction of the corresponding feature. If two features have large weights of the same sign (both positive or both negative), then increases in one tend expect to be associated with increases in the other. To contrast, features with different signs can be expected to show a negative correlation: increases in one variable should result in a decrease in the other.\n",
    "\n",
    "- To investigate the features, you should map each weight to their corresponding feature name, then sort the features according to weight. The most interesting features for each principal component, then, will be those at the beginning and end of the sorted list. Use the data dictionary document to help you understand these most prominent features, their relationships, and what a positive or negative value on the principal component might indicate.\n",
    "- You should investigate and interpret feature associations from the first three principal components in this substep. To help facilitate this, you should write a function that you can call at any time to print the sorted list of feature weights, for the *i*-th principal component. This might come in handy in the next step of the project, when you interpret the tendencies of the discovered clusters."
   ]
  },
  {
   "cell_type": "code",
   "execution_count": 79,
   "metadata": {},
   "outputs": [],
   "source": [
    "# Map weights for the first principal component to corresponding feature names\n",
    "# and then print the linked values, sorted by weight.\n",
    "# HINT: Try defining a function here or in a new cell that you can reuse in the\n",
    "# other cells.\n",
    "\n",
    "\n",
    "def mapping_weights(pca,number):\n",
    "    components=pca.components_\n",
    "    components_df=pd.DataFrame(components,columns=X_ss.keys())\n",
    "    map_dict={}\n",
    "    for j in range(len(components_df.columns)):\n",
    "        map_dict[components_df.columns[j]]= components_df.iloc[number,j]\n",
    "    sorted_keys=sorted(map_dict,key=map_dict.get)\n",
    "    sorted_dict={}\n",
    "    for w in sorted_keys:\n",
    "        sorted_dict[w]=map_dict[w]\n",
    "    return sorted_dict"
   ]
  },
  {
   "cell_type": "code",
   "execution_count": 80,
   "metadata": {},
   "outputs": [],
   "source": [
    "#calculating explained variance\n",
    "\n",
    "ratios=pca.explained_variance_ratio_\n",
    "ratios_pd=pd.DataFrame(ratios)"
   ]
  },
  {
   "cell_type": "code",
   "execution_count": 81,
   "metadata": {},
   "outputs": [
    {
     "data": {
      "text/html": [
       "<div>\n",
       "<style scoped>\n",
       "    .dataframe tbody tr th:only-of-type {\n",
       "        vertical-align: middle;\n",
       "    }\n",
       "\n",
       "    .dataframe tbody tr th {\n",
       "        vertical-align: top;\n",
       "    }\n",
       "\n",
       "    .dataframe thead th {\n",
       "        text-align: right;\n",
       "    }\n",
       "</style>\n",
       "<table border=\"1\" class=\"dataframe\">\n",
       "  <thead>\n",
       "    <tr style=\"text-align: right;\">\n",
       "      <th></th>\n",
       "      <th>0</th>\n",
       "    </tr>\n",
       "  </thead>\n",
       "  <tbody>\n",
       "    <tr>\n",
       "      <th>0</th>\n",
       "      <td>0.100865</td>\n",
       "    </tr>\n",
       "    <tr>\n",
       "      <th>1</th>\n",
       "      <td>0.071859</td>\n",
       "    </tr>\n",
       "    <tr>\n",
       "      <th>2</th>\n",
       "      <td>0.043178</td>\n",
       "    </tr>\n",
       "    <tr>\n",
       "      <th>3</th>\n",
       "      <td>0.037085</td>\n",
       "    </tr>\n",
       "    <tr>\n",
       "      <th>4</th>\n",
       "      <td>0.029269</td>\n",
       "    </tr>\n",
       "  </tbody>\n",
       "</table>\n",
       "</div>"
      ],
      "text/plain": [
       "          0\n",
       "0  0.100865\n",
       "1  0.071859\n",
       "2  0.043178\n",
       "3  0.037085\n",
       "4  0.029269"
      ]
     },
     "execution_count": 81,
     "metadata": {},
     "output_type": "execute_result"
    }
   ],
   "source": [
    "ratios_pd.head()"
   ]
  },
  {
   "cell_type": "code",
   "execution_count": 82,
   "metadata": {},
   "outputs": [
    {
     "data": {
      "text/plain": [
       "{'MOBI_REGIO': -0.19949318450670778,\n",
       " 'KBA05_ANTG1': -0.1864344121495437,\n",
       " 'FINANZ_MINIMALIST': -0.18405989127520131,\n",
       " 'PLZ8_ANTG1': -0.17997921404445669,\n",
       " 'KBA05_GBZ': -0.17723014313357199,\n",
       " 'LP_LEBENSPHASE_FEIN': -0.1437543695501026,\n",
       " 'KONSUMNAEHE': -0.13341029481809846,\n",
       " 'PLZ8_GBZ': -0.13192122774445811,\n",
       " 'LP_LEBENSPHASE_GROB': -0.13037696194466503,\n",
       " 'INNENSTADT': -0.12613593172466622,\n",
       " 'LP_STATUS_FEIN_10.0': -0.11122198759457977,\n",
       " 'LP_STATUS_GROB_5.0': -0.11122198759457977,\n",
       " 'LP_STATUS_GROB_4.0': -0.10927224218830378,\n",
       " 'LP_STATUS_FEIN_9.0': -0.10789749729534386,\n",
       " 'CAMEO_INTL_2015_Wealth_20.0': -0.10318529173324785,\n",
       " 'GREEN_AVANTGARDE': -0.10143753525165418,\n",
       " 'PRAEGENDE_JUGENDJAHRE_Movement': -0.09922043779964973,\n",
       " 'CAMEO_INTL_2015_Wealth_10.0': -0.097519378701434387,\n",
       " 'ZABEOTYP_1': -0.095481548634485824,\n",
       " 'ANZ_PERSONEN': -0.095229219196000886,\n",
       " 'BALLRAUM': -0.095094867930640495,\n",
       " 'GEBAEUDETYP_RASTER': -0.09266276818850365,\n",
       " 'CAMEO_DEUG_2015_2': -0.083851529203635408,\n",
       " 'LP_FAMILIE_GROB_5.0': -0.080141433496757966,\n",
       " 'FINANZ_VORSORGER': -0.078303949208607879,\n",
       " 'ALTERSKATEGORIE_GROB': -0.078043941426506044,\n",
       " 'FINANZTYP_2': -0.073864780585149628,\n",
       " 'CAMEO_DEUG_2015_4': -0.072483395287306254,\n",
       " 'WOHNLAGE': -0.063771608572228272,\n",
       " 'CAMEO_DEUG_2015_3': -0.063123317002407586,\n",
       " 'NATIONALITAET_KZ_1.0': -0.061558637034895183,\n",
       " 'KBA13_ANZAHL_PKW': -0.060912443105536757,\n",
       " 'CAMEO_INTL_2015_LifeStage_4.0': -0.060431157715623303,\n",
       " 'ONLINE_AFFINITAET': -0.05984448294037388,\n",
       " 'LP_FAMILIE_FEIN_10.0': -0.055224192468319798,\n",
       " 'WOHNDAUER_2008': -0.054603711160733752,\n",
       " 'LP_FAMILIE_FEIN_11.0': -0.053430992577362654,\n",
       " 'FINANZTYP_3': -0.05195604375919409,\n",
       " 'CAMEO_INTL_2015_LifeStage_3.0': -0.051641664985120642,\n",
       " 'MIN_GEBAEUDEJAHR': -0.051285249114396345,\n",
       " 'ZABEOTYP_2': -0.049872716474109235,\n",
       " 'SEMIO_LUST': -0.047649936379207683,\n",
       " 'SEMIO_ERL': -0.044468781967303493,\n",
       " 'CAMEO_DEUG_2015_1': -0.044053259920322892,\n",
       " 'PRAEGENDE_JUGENDJAHRE_Date_60.0': -0.041213785715919819,\n",
       " 'SEMIO_VERT': -0.040670400288281325,\n",
       " 'CJT_GESAMTTYP_2.0': -0.040051430021239884,\n",
       " 'GFK_URLAUBERTYP_7.0': -0.037002877261609529,\n",
       " 'CAMEO_INTL_2015_LifeStage_2.0': -0.033675047456389606,\n",
       " 'LP_FAMILIE_GROB_4.0': -0.033238028379220942,\n",
       " 'SHOPPER_TYP_3.0': -0.03165669593042187,\n",
       " 'LP_STATUS_GROB_3.0': -0.031449321153578305,\n",
       " 'FINANZTYP_6': -0.029400609508865232,\n",
       " 'VERS_TYP_1.0': -0.028826459996742843,\n",
       " 'LP_FAMILIE_FEIN_8.0': -0.02853694888776822,\n",
       " 'LP_STATUS_FEIN_6.0': -0.028193746132919105,\n",
       " 'LP_FAMILIE_FEIN_2.0': -0.027916423836148896,\n",
       " 'LP_FAMILIE_GROB_2.0': -0.027916423836148896,\n",
       " 'PRAEGENDE_JUGENDJAHRE_Date_50.0': -0.027094699860811599,\n",
       " 'GFK_URLAUBERTYP_6.0': -0.026947718419717315,\n",
       " 'GFK_URLAUBERTYP_5.0': -0.024817403930216718,\n",
       " 'PRAEGENDE_JUGENDJAHRE_Date_70.0': -0.021903059147591868,\n",
       " 'LP_STATUS_FEIN_5.0': -0.021243109196249357,\n",
       " 'SHOPPER_TYP_0.0': -0.020484521352150831,\n",
       " 'LP_STATUS_FEIN_4.0': -0.019869468305613463,\n",
       " 'CAMEO_INTL_2015_LifeStage_5.0': -0.019051134199354024,\n",
       " 'GFK_URLAUBERTYP_2.0': -0.01829390111892755,\n",
       " 'LP_FAMILIE_FEIN_7.0': -0.017893897057432759,\n",
       " 'GFK_URLAUBERTYP_1.0': -0.017140223084013279,\n",
       " 'LP_STATUS_FEIN_8.0': -0.016888819182060998,\n",
       " 'LP_STATUS_GROB_2.0': -0.013794856727605385,\n",
       " 'LP_STATUS_FEIN_7.0': -0.013474397390329447,\n",
       " 'CJT_GESAMTTYP_1.0': -0.013333889723090971,\n",
       " 'GFK_URLAUBERTYP_3.0': -0.012337366543643338,\n",
       " 'PRAEGENDE_JUGENDJAHRE_Date_40.0': -0.012255906444112565,\n",
       " 'CAMEO_DEUG_2015_5': -0.010921305942328928,\n",
       " 'CAMEO_INTL_2015_Wealth_30.0': -0.0074436944904205321,\n",
       " 'LP_FAMILIE_FEIN_9.0': -0.007351145303106584,\n",
       " 'ZABEOTYP_3': -0.0070411856450104619,\n",
       " 'RETOURTYP_BK_S': -0.0063961826339024126,\n",
       " 'GFK_URLAUBERTYP_9.0': -0.0061207545561795043,\n",
       " 'LP_FAMILIE_FEIN_6.0': -0.0058374026603137336,\n",
       " 'ANZ_TITEL': -0.0053873112091449493,\n",
       " 'GFK_URLAUBERTYP_10.0': -0.003647265584538927,\n",
       " 'LP_FAMILIE_FEIN_5.0': -0.0025210331664767328,\n",
       " 'SOHO_KZ': -0.0023899799379530238,\n",
       " 'CAMEO_DEUG_2015_6': 0.0001728534596108488,\n",
       " 'SHOPPER_TYP_1.0': 0.00034217067762014938,\n",
       " 'PRAEGENDE_JUGENDJAHRE_Date_80.0': 0.0018839900145509274,\n",
       " 'LP_FAMILIE_GROB_3.0': 0.0030202615134506689,\n",
       " 'LP_FAMILIE_FEIN_4.0': 0.0038815635229129905,\n",
       " 'GFK_URLAUBERTYP_8.0': 0.0042496534515309402,\n",
       " 'CJT_GESAMTTYP_5.0': 0.0048869108503555242,\n",
       " 'LP_FAMILIE_FEIN_3.0': 0.0051065444866657869,\n",
       " 'FINANZTYP_4': 0.0051505451657061939,\n",
       " 'FINANZTYP_5': 0.0077984824476013473,\n",
       " 'KBA05_ANTG2': 0.01115924644093934,\n",
       " 'CJT_GESAMTTYP_6.0': 0.01208432803069619,\n",
       " 'ANREDE_KZ': 0.013610348726095,\n",
       " 'LP_STATUS_FEIN_3.0': 0.013979183099554019,\n",
       " 'GFK_URLAUBERTYP_4.0': 0.014430829579093201,\n",
       " 'CJT_GESAMTTYP_3.0': 0.016006269839765202,\n",
       " 'VERS_TYP_2.0': 0.016583473740674384,\n",
       " 'CJT_GESAMTTYP_4.0': 0.017864552160361421,\n",
       " 'SEMIO_KRIT': 0.01803986817664284,\n",
       " 'SEMIO_SOZ': 0.023051557738300719,\n",
       " 'HEALTH_TYP': 0.0232683484063574,\n",
       " 'SEMIO_DOM': 0.023815007240933085,\n",
       " 'GFK_URLAUBERTYP_11.0': 0.023954563788188922,\n",
       " 'NATIONALITAET_KZ_3.0': 0.024319853630389021,\n",
       " 'ANZ_HH_TITEL': 0.025828564569115312,\n",
       " 'ZABEOTYP_4': 0.031374508312522364,\n",
       " 'SHOPPER_TYP_2.0': 0.03301741470599228,\n",
       " 'CAMEO_DEUG_2015_7': 0.033750866827799174,\n",
       " 'PLZ8_HHZ': 0.034412309522472068,\n",
       " 'CAMEO_INTL_2015_Wealth_40.0': 0.035564112285706773,\n",
       " 'KKK': 0.036937419647183459,\n",
       " 'SEMIO_KAEM': 0.037790573277476168,\n",
       " 'ZABEOTYP_6': 0.038354337474828658,\n",
       " 'SEMIO_KULT': 0.041172535445205501,\n",
       " 'OST_WEST_KZ': 0.042009087226093055,\n",
       " 'NATIONALITAET_KZ_2.0': 0.044098485533455183,\n",
       " 'FINANZ_ANLEGER': 0.048191585939023882,\n",
       " 'FINANZ_UNAUFFAELLIGER': 0.048554736908429888,\n",
       " 'SEMIO_FAM': 0.049200348122558753,\n",
       " 'SEMIO_MAT': 0.051847949366967357,\n",
       " 'SEMIO_TRADV': 0.054582860675585348,\n",
       " 'W_KEIT_KIND_HH': 0.054968960337389572,\n",
       " 'REGIOTYP': 0.059781607731157926,\n",
       " 'GFK_URLAUBERTYP_12.0': 0.059860724700999457,\n",
       " 'PRAEGENDE_JUGENDJAHRE_Date_90.0': 0.06263762657596221,\n",
       " 'SEMIO_RAT': 0.063852043761382343,\n",
       " 'SEMIO_REL': 0.072774484407822304,\n",
       " 'ZABEOTYP_5': 0.075081361957590825,\n",
       " 'SEMIO_PFLICHT': 0.076747780790694234,\n",
       " 'CAMEO_DEUG_2015_8': 0.090031162445922616,\n",
       " 'LP_FAMILIE_FEIN_1.0': 0.10014420568780658,\n",
       " 'LP_FAMILIE_GROB_1.0': 0.10014420568780658,\n",
       " 'RELAT_AB': 0.10551240413540758,\n",
       " 'FINANZTYP_1': 0.1074723156974791,\n",
       " 'FINANZ_SPARER': 0.10760543810897383,\n",
       " 'CAMEO_DEUG_2015_9': 0.10902832980258262,\n",
       " 'LP_STATUS_FEIN_2.0': 0.110389133886892,\n",
       " 'ANZ_HAUSHALTE_AKTIV': 0.11130389873718745,\n",
       " 'ARBEIT': 0.1124273682997641,\n",
       " 'KBA05_ANTG3': 0.11269965121405114,\n",
       " 'PLZ8_ANTG2': 0.12312912759563815,\n",
       " 'KBA05_ANTG4': 0.12336147064315063,\n",
       " 'LP_STATUS_FEIN_1.0': 0.12578085614997994,\n",
       " 'CAMEO_INTL_2015_LifeStage_1.0': 0.13573142880356387,\n",
       " 'CAMEO_INTL_2015_Wealth_50.0': 0.14563586827863698,\n",
       " 'FINANZ_HAUSBAUER': 0.1468793825920563,\n",
       " 'EWDICHTE': 0.15204562755807013,\n",
       " 'ORTSGR_KLS9': 0.15360752005809208,\n",
       " 'PLZ8_BAUMAX': 0.16970407219600828,\n",
       " 'PLZ8_ANTG4': 0.17415613222991091,\n",
       " 'PLZ8_ANTG3': 0.17986229809840307,\n",
       " 'HH_EINKOMMEN_SCORE': 0.18027008221916502,\n",
       " 'LP_STATUS_GROB_1.0': 0.191253162318331}"
      ]
     },
     "execution_count": 82,
     "metadata": {},
     "output_type": "execute_result"
    }
   ],
   "source": [
    "#First component\n",
    "\n",
    "mapping_weights(pca,0)"
   ]
  },
  {
   "cell_type": "code",
   "execution_count": 83,
   "metadata": {},
   "outputs": [
    {
     "data": {
      "text/plain": [
       "0    0.833089\n",
       "dtype: float64"
      ]
     },
     "execution_count": 83,
     "metadata": {},
     "output_type": "execute_result"
    }
   ],
   "source": [
    "ratios_pd.sum()"
   ]
  },
  {
   "cell_type": "code",
   "execution_count": 84,
   "metadata": {},
   "outputs": [
    {
     "data": {
      "text/plain": [
       "{'FINANZ_SPARER': -0.22845351084231266,\n",
       " 'FINANZ_UNAUFFAELLIGER': -0.2145125692447262,\n",
       " 'SEMIO_REL': -0.21307469127949949,\n",
       " 'SEMIO_TRADV': -0.20647063479187533,\n",
       " 'SEMIO_PFLICHT': -0.20592377150957403,\n",
       " 'FINANZ_ANLEGER': -0.20476507421743337,\n",
       " 'PRAEGENDE_JUGENDJAHRE_Date_90.0': -0.20285053222965244,\n",
       " 'SEMIO_RAT': -0.1693666582680142,\n",
       " 'SEMIO_KULT': -0.16171455117581429,\n",
       " 'ONLINE_AFFINITAET': -0.15971499668444836,\n",
       " 'FINANZTYP_1': -0.13645839724315376,\n",
       " 'SEMIO_FAM': -0.130487946565888,\n",
       " 'SEMIO_MAT': -0.12868500796987301,\n",
       " 'ZABEOTYP_4': -0.10767951310223413,\n",
       " 'LP_STATUS_FEIN_2.0': -0.098807996264775252,\n",
       " 'ZABEOTYP_5': -0.093555944920261536,\n",
       " 'FINANZTYP_4': -0.088723131758767115,\n",
       " 'LP_STATUS_FEIN_5.0': -0.080119569203803989,\n",
       " 'GFK_URLAUBERTYP_9.0': -0.073646819157866583,\n",
       " 'FINANZTYP_3': -0.071181745970654589,\n",
       " 'LP_FAMILIE_GROB_4.0': -0.067833079584927888,\n",
       " 'ANZ_PERSONEN': -0.067127995296637585,\n",
       " 'SEMIO_SOZ': -0.060146049438234372,\n",
       " 'PLZ8_ANTG1': -0.057613809177164334,\n",
       " 'KBA05_GBZ': -0.054304625555241771,\n",
       " 'MOBI_REGIO': -0.054167972963067273,\n",
       " 'CJT_GESAMTTYP_4.0': -0.053908114239218811,\n",
       " 'ZABEOTYP_1': -0.053790706432741885,\n",
       " 'LP_LEBENSPHASE_GROB': -0.051781624195177726,\n",
       " 'PRAEGENDE_JUGENDJAHRE_Date_80.0': -0.050692182140288748,\n",
       " 'HEALTH_TYP': -0.049424461865253747,\n",
       " 'NATIONALITAET_KZ_3.0': -0.04891503017266495,\n",
       " 'LP_FAMILIE_GROB_5.0': -0.048845477432001946,\n",
       " 'SHOPPER_TYP_0.0': -0.048830711680286278,\n",
       " 'LP_FAMILIE_GROB_3.0': -0.048014215539951464,\n",
       " 'KBA05_ANTG1': -0.047493528160309072,\n",
       " 'INNENSTADT': -0.046234018199350753,\n",
       " 'PLZ8_GBZ': -0.045649623687105449,\n",
       " 'LP_LEBENSPHASE_FEIN': -0.044949006495404106,\n",
       " 'KONSUMNAEHE': -0.044613917449844553,\n",
       " 'NATIONALITAET_KZ_2.0': -0.044540674205026547,\n",
       " 'LP_FAMILIE_FEIN_7.0': -0.043053628309999904,\n",
       " 'CJT_GESAMTTYP_6.0': -0.043007925745518615,\n",
       " 'GFK_URLAUBERTYP_2.0': -0.042597968258925069,\n",
       " 'CAMEO_INTL_2015_Wealth_20.0': -0.039437713396636119,\n",
       " 'GFK_URLAUBERTYP_12.0': -0.039159124313893075,\n",
       " 'MIN_GEBAEUDEJAHR': -0.038982580822768551,\n",
       " 'WOHNLAGE': -0.037932027276490587,\n",
       " 'BALLRAUM': -0.037543798742586398,\n",
       " 'LP_FAMILIE_FEIN_8.0': -0.037305145464692761,\n",
       " 'LP_FAMILIE_FEIN_11.0': -0.036452838543891648,\n",
       " 'LP_FAMILIE_FEIN_6.0': -0.036219335920551696,\n",
       " 'CJT_GESAMTTYP_3.0': -0.035325649366986511,\n",
       " 'CJT_GESAMTTYP_5.0': -0.035245717569249942,\n",
       " 'CAMEO_INTL_2015_LifeStage_2.0': -0.034297510627577368,\n",
       " 'CAMEO_DEUG_2015_4': -0.033021895431182231,\n",
       " 'LP_FAMILIE_FEIN_4.0': -0.031246224300822575,\n",
       " 'ZABEOTYP_2': -0.030649610587778375,\n",
       " 'LP_FAMILIE_FEIN_10.0': -0.028787746002824723,\n",
       " 'GEBAEUDETYP_RASTER': -0.027574507808158785,\n",
       " 'LP_FAMILIE_FEIN_5.0': -0.026479589556591257,\n",
       " 'LP_FAMILIE_FEIN_3.0': -0.025010708662876593,\n",
       " 'CAMEO_INTL_2015_LifeStage_3.0': -0.024348763435023315,\n",
       " 'KBA13_ANZAHL_PKW': -0.02380090673780676,\n",
       " 'SHOPPER_TYP_1.0': -0.021606611208952235,\n",
       " 'CAMEO_DEUG_2015_2': -0.021517506630180091,\n",
       " 'VERS_TYP_1.0': -0.021227351675873644,\n",
       " 'GFK_URLAUBERTYP_1.0': -0.019477865543814286,\n",
       " 'LP_STATUS_FEIN_4.0': -0.019293485075918559,\n",
       " 'CAMEO_DEUG_2015_3': -0.018332562113289614,\n",
       " 'LP_STATUS_FEIN_8.0': -0.017923515688898366,\n",
       " 'CAMEO_INTL_2015_Wealth_10.0': -0.017741876207238574,\n",
       " 'SEMIO_VERT': -0.017536751934031657,\n",
       " 'GFK_URLAUBERTYP_11.0': -0.01499593270622508,\n",
       " 'LP_STATUS_GROB_2.0': -0.014623121710678691,\n",
       " 'LP_FAMILIE_FEIN_9.0': -0.012030502321478537,\n",
       " 'LP_STATUS_GROB_4.0': -0.0095919749224188302,\n",
       " 'LP_STATUS_FEIN_6.0': -0.0085908459211420634,\n",
       " 'CAMEO_INTL_2015_LifeStage_4.0': -0.007883609554898658,\n",
       " 'KBA05_ANTG2': -0.0067101323638312851,\n",
       " 'CAMEO_DEUG_2015_5': -0.0054101929586006766,\n",
       " 'KKK': -0.0042693837546915869,\n",
       " 'LP_STATUS_FEIN_9.0': -0.0032560027761117413,\n",
       " 'CAMEO_INTL_2015_Wealth_30.0': -0.0032183464974164236,\n",
       " 'LP_STATUS_GROB_3.0': -0.0025748251197774239,\n",
       " 'GREEN_AVANTGARDE': -0.0024970561536738051,\n",
       " 'SOHO_KZ': -0.0018722536681722972,\n",
       " 'PRAEGENDE_JUGENDJAHRE_Movement': -0.0016753255878674989,\n",
       " 'SHOPPER_TYP_2.0': 0.0010346878474724497,\n",
       " 'CAMEO_DEUG_2015_1': 0.0011295414367968818,\n",
       " 'ANZ_TITEL': 0.0066088571078973569,\n",
       " 'GFK_URLAUBERTYP_10.0': 0.0074559257845727735,\n",
       " 'PLZ8_HHZ': 0.0076344387464845403,\n",
       " 'REGIOTYP': 0.0097329504017582731,\n",
       " 'LP_STATUS_FEIN_7.0': 0.0098602810815260275,\n",
       " 'CAMEO_DEUG_2015_7': 0.01005641015510832,\n",
       " 'CAMEO_DEUG_2015_6': 0.011266172490880719,\n",
       " 'LP_STATUS_GROB_1.0': 0.012210633675395521,\n",
       " 'LP_STATUS_FEIN_10.0': 0.012431098012609335,\n",
       " 'LP_STATUS_GROB_5.0': 0.012431098012609335,\n",
       " 'CAMEO_INTL_2015_Wealth_40.0': 0.014709329963604981,\n",
       " 'CAMEO_DEUG_2015_9': 0.015008493167712312,\n",
       " 'OST_WEST_KZ': 0.018198134070293442,\n",
       " 'CAMEO_INTL_2015_LifeStage_1.0': 0.018494879610066371,\n",
       " 'GFK_URLAUBERTYP_6.0': 0.019879358808964603,\n",
       " 'GFK_URLAUBERTYP_8.0': 0.021112614827552657,\n",
       " 'ANZ_HH_TITEL': 0.022728145547723861,\n",
       " 'ZABEOTYP_6': 0.023720228752016553,\n",
       " 'SEMIO_DOM': 0.024071236714464699,\n",
       " 'KBA05_ANTG3': 0.024884346441396001,\n",
       " 'GFK_URLAUBERTYP_5.0': 0.025277194551358365,\n",
       " 'VERS_TYP_2.0': 0.02722749735330017,\n",
       " 'HH_EINKOMMEN_SCORE': 0.029504609653346683,\n",
       " 'GFK_URLAUBERTYP_3.0': 0.029901058906436351,\n",
       " 'CAMEO_DEUG_2015_8': 0.032996940795034672,\n",
       " 'ANREDE_KZ': 0.034323437235996852,\n",
       " 'LP_FAMILIE_FEIN_2.0': 0.037980010706231526,\n",
       " 'LP_FAMILIE_GROB_2.0': 0.037980010706231526,\n",
       " 'CAMEO_INTL_2015_LifeStage_5.0': 0.038934554073262601,\n",
       " 'CAMEO_INTL_2015_Wealth_50.0': 0.039183105363809791,\n",
       " 'ANZ_HAUSHALTE_AKTIV': 0.040548672668828417,\n",
       " 'PLZ8_ANTG2': 0.04158530993212127,\n",
       " 'RELAT_AB': 0.041889654375470972,\n",
       " 'GFK_URLAUBERTYP_7.0': 0.042160845150263734,\n",
       " 'KBA05_ANTG4': 0.043457986744293138,\n",
       " 'ARBEIT': 0.044487818218000401,\n",
       " 'LP_STATUS_FEIN_3.0': 0.049648283958891898,\n",
       " 'PLZ8_BAUMAX': 0.052316172025503406,\n",
       " 'SEMIO_KAEM': 0.052461881682779259,\n",
       " 'WOHNDAUER_2008': 0.053744037819673469,\n",
       " 'PLZ8_ANTG4': 0.055771355347139111,\n",
       " 'GFK_URLAUBERTYP_4.0': 0.057224266747432181,\n",
       " 'ORTSGR_KLS9': 0.057714023662387128,\n",
       " 'EWDICHTE': 0.058740749540701548,\n",
       " 'PLZ8_ANTG3': 0.05911425266630619,\n",
       " 'LP_FAMILIE_FEIN_1.0': 0.062523790346547745,\n",
       " 'LP_FAMILIE_GROB_1.0': 0.062523790346547745,\n",
       " 'PRAEGENDE_JUGENDJAHRE_Date_70.0': 0.063825564626275075,\n",
       " 'PRAEGENDE_JUGENDJAHRE_Date_40.0': 0.065322800709180118,\n",
       " 'NATIONALITAET_KZ_1.0': 0.067215149425634529,\n",
       " 'FINANZTYP_6': 0.068764702882726556,\n",
       " 'CJT_GESAMTTYP_1.0': 0.069618196569566582,\n",
       " 'SEMIO_KRIT': 0.071722151233532816,\n",
       " 'SHOPPER_TYP_3.0': 0.073347547391826015,\n",
       " 'FINANZ_HAUSBAUER': 0.07589328391389058,\n",
       " 'FINANZTYP_2': 0.091390902127580498,\n",
       " 'LP_STATUS_FEIN_1.0': 0.091585313665646872,\n",
       " 'FINANZ_MINIMALIST': 0.09640313028767003,\n",
       " 'FINANZTYP_5': 0.0968908270371764,\n",
       " 'PRAEGENDE_JUGENDJAHRE_Date_50.0': 0.10391635770391061,\n",
       " 'CJT_GESAMTTYP_2.0': 0.10730893233852233,\n",
       " 'PRAEGENDE_JUGENDJAHRE_Date_60.0': 0.11559755494872058,\n",
       " 'W_KEIT_KIND_HH': 0.12657214560555921,\n",
       " 'RETOURTYP_BK_S': 0.15633887528183543,\n",
       " 'SEMIO_LUST': 0.16104154801329337,\n",
       " 'SEMIO_ERL': 0.17729003758178433,\n",
       " 'ZABEOTYP_3': 0.19699380479101139,\n",
       " 'FINANZ_VORSORGER': 0.21947308869095236,\n",
       " 'ALTERSKATEGORIE_GROB': 0.23244126701657705}"
      ]
     },
     "execution_count": 84,
     "metadata": {},
     "output_type": "execute_result"
    }
   ],
   "source": [
    "# Map weights for the second principal component to corresponding feature names\n",
    "# and then print the linked values, sorted by weight.\n",
    "\n",
    "mapping_weights(pca,1)\n",
    "\n"
   ]
  },
  {
   "cell_type": "code",
   "execution_count": 85,
   "metadata": {},
   "outputs": [
    {
     "data": {
      "text/plain": [
       "{'ANREDE_KZ': -0.33948507892662477,\n",
       " 'SEMIO_KAEM': -0.30730280450791342,\n",
       " 'SEMIO_DOM': -0.27388146065809199,\n",
       " 'SEMIO_KRIT': -0.26387375422614034,\n",
       " 'SEMIO_ERL': -0.20608373659123255,\n",
       " 'FINANZ_ANLEGER': -0.1527118985107988,\n",
       " 'SEMIO_RAT': -0.14850587375917554,\n",
       " 'FINANZTYP_1': -0.098258811297553456,\n",
       " 'SHOPPER_TYP_2.0': -0.09279745252105788,\n",
       " 'LP_STATUS_FEIN_4.0': -0.082529606339067085,\n",
       " 'LP_STATUS_FEIN_2.0': -0.078176019030954169,\n",
       " 'FINANZ_HAUSBAUER': -0.066724815790156183,\n",
       " 'INNENSTADT': -0.065692050819707554,\n",
       " 'ZABEOTYP_4': -0.059757696730329254,\n",
       " 'BALLRAUM': -0.058523891870805464,\n",
       " 'WOHNLAGE': -0.053524039921934989,\n",
       " 'LP_FAMILIE_GROB_3.0': -0.052373991937331409,\n",
       " 'FINANZ_SPARER': -0.05215170405847451,\n",
       " 'KONSUMNAEHE': -0.051881617651858399,\n",
       " 'PLZ8_ANTG1': -0.050850220777529383,\n",
       " 'SHOPPER_TYP_3.0': -0.048682859739499533,\n",
       " 'HH_EINKOMMEN_SCORE': -0.047501410372416869,\n",
       " 'ZABEOTYP_3': -0.044139021813053063,\n",
       " 'KKK': -0.041476683741292833,\n",
       " 'FINANZ_UNAUFFAELLIGER': -0.041253884901959061,\n",
       " 'GEBAEUDETYP_RASTER': -0.038755642621476821,\n",
       " 'CAMEO_INTL_2015_Wealth_20.0': -0.038105128266430748,\n",
       " 'PRAEGENDE_JUGENDJAHRE_Date_90.0': -0.03798933047480775,\n",
       " 'LP_FAMILIE_FEIN_4.0': -0.037932118404232058,\n",
       " 'PLZ8_GBZ': -0.037776357681657588,\n",
       " 'LP_STATUS_GROB_2.0': -0.036150522530449619,\n",
       " 'CJT_GESAMTTYP_2.0': -0.032897799828781452,\n",
       " 'CAMEO_DEUG_2015_4': -0.031392396889622837,\n",
       " 'NATIONALITAET_KZ_3.0': -0.028807799528344419,\n",
       " 'FINANZTYP_2': -0.028803656070794655,\n",
       " 'ZABEOTYP_5': -0.026576963903187319,\n",
       " 'LP_FAMILIE_FEIN_5.0': -0.026358567392654939,\n",
       " 'LP_FAMILIE_FEIN_3.0': -0.025125172783687737,\n",
       " 'REGIOTYP': -0.024315676809496464,\n",
       " 'GFK_URLAUBERTYP_9.0': -0.024243541418837035,\n",
       " 'CJT_GESAMTTYP_6.0': -0.02314435801968177,\n",
       " 'MOBI_REGIO': -0.022824171000843121,\n",
       " 'KBA13_ANZAHL_PKW': -0.021919200088899193,\n",
       " 'SEMIO_PFLICHT': -0.020683167278537775,\n",
       " 'GFK_URLAUBERTYP_12.0': -0.020610313256489817,\n",
       " 'CAMEO_INTL_2015_LifeStage_2.0': -0.020338695115890312,\n",
       " 'LP_STATUS_FEIN_5.0': -0.020312494121980895,\n",
       " 'KBA05_GBZ': -0.020148165145822464,\n",
       " 'CAMEO_INTL_2015_LifeStage_3.0': -0.019035038382117262,\n",
       " 'CAMEO_DEUG_2015_3': -0.01827267434523035,\n",
       " 'LP_STATUS_GROB_4.0': -0.018184430115248802,\n",
       " 'LP_STATUS_GROB_1.0': -0.017086696062518645,\n",
       " 'LP_STATUS_FEIN_9.0': -0.016672618950316614,\n",
       " 'MIN_GEBAEUDEJAHR': -0.016371121916933198,\n",
       " 'SEMIO_TRADV': -0.013169245200508805,\n",
       " 'KBA05_ANTG1': -0.013136980927117719,\n",
       " 'LP_FAMILIE_FEIN_1.0': -0.013085938631045149,\n",
       " 'LP_FAMILIE_GROB_1.0': -0.013085938631045149,\n",
       " 'GFK_URLAUBERTYP_2.0': -0.01280691269087721,\n",
       " 'KBA05_ANTG2': -0.01075540074357703,\n",
       " 'LP_FAMILIE_FEIN_7.0': -0.010207122798984589,\n",
       " 'CAMEO_DEUG_2015_6': -0.0094981512530607961,\n",
       " 'ZABEOTYP_2': -0.0094386173771051612,\n",
       " 'LP_FAMILIE_GROB_4.0': -0.0090358320924146009,\n",
       " 'LP_FAMILIE_FEIN_6.0': -0.0087451208005479581,\n",
       " 'VERS_TYP_1.0': -0.0085242089416447588,\n",
       " 'LP_STATUS_FEIN_8.0': -0.0062044812155367599,\n",
       " 'FINANZTYP_6': -0.0056147948768297809,\n",
       " 'ONLINE_AFFINITAET': -0.0055486925826979524,\n",
       " 'CAMEO_INTL_2015_LifeStage_4.0': -0.0048445217824642974,\n",
       " 'HEALTH_TYP': -0.0048224963772062054,\n",
       " 'GFK_URLAUBERTYP_11.0': -0.0035214409688400054,\n",
       " 'CAMEO_INTL_2015_Wealth_40.0': -0.00067616500832544824,\n",
       " 'PRAEGENDE_JUGENDJAHRE_Date_70.0': -0.00065250337775511552,\n",
       " 'CAMEO_DEUG_2015_7': -0.00040054834155863167,\n",
       " 'OST_WEST_KZ': -0.00012656056117079476,\n",
       " 'CAMEO_INTL_2015_Wealth_30.0': 7.9770008758406805e-05,\n",
       " 'CAMEO_DEUG_2015_5': 0.00015466279947759057,\n",
       " 'SOHO_KZ': 0.00057711054283496256,\n",
       " 'KBA05_ANTG3': 0.0011093626436037847,\n",
       " 'GFK_URLAUBERTYP_1.0': 0.0015885876578901616,\n",
       " 'LP_FAMILIE_FEIN_8.0': 0.0016135981517084452,\n",
       " 'GFK_URLAUBERTYP_7.0': 0.001912518997172277,\n",
       " 'GFK_URLAUBERTYP_3.0': 0.0019925014934624639,\n",
       " 'LP_FAMILIE_FEIN_9.0': 0.0026955259790610001,\n",
       " 'CAMEO_INTL_2015_LifeStage_5.0': 0.0035788253982546874,\n",
       " 'GFK_URLAUBERTYP_10.0': 0.005883508855112277,\n",
       " 'GFK_URLAUBERTYP_6.0': 0.0064407388269954891,\n",
       " 'PRAEGENDE_JUGENDJAHRE_Date_80.0': 0.0065369078032426848,\n",
       " 'CAMEO_DEUG_2015_2': 0.0071785205923396624,\n",
       " 'GFK_URLAUBERTYP_5.0': 0.0092422256018623843,\n",
       " 'NATIONALITAET_KZ_1.0': 0.0098343865814811138,\n",
       " 'CJT_GESAMTTYP_5.0': 0.010788578528823888,\n",
       " 'PRAEGENDE_JUGENDJAHRE_Date_40.0': 0.011091506733366299,\n",
       " 'LP_FAMILIE_FEIN_11.0': 0.011394004253758434,\n",
       " 'ALTERSKATEGORIE_GROB': 0.011550860682790298,\n",
       " 'GFK_URLAUBERTYP_8.0': 0.011680398533387112,\n",
       " 'FINANZTYP_4': 0.012865474301236654,\n",
       " 'CJT_GESAMTTYP_1.0': 0.012918393934704302,\n",
       " 'ANZ_HH_TITEL': 0.013622484289756553,\n",
       " 'CAMEO_DEUG_2015_8': 0.0137013386802086,\n",
       " 'ANZ_TITEL': 0.014543371759517141,\n",
       " 'CJT_GESAMTTYP_3.0': 0.01468215838530206,\n",
       " 'CJT_GESAMTTYP_4.0': 0.0155673267073513,\n",
       " 'PLZ8_HHZ': 0.015905576049204395,\n",
       " 'LP_FAMILIE_FEIN_10.0': 0.016114858816162012,\n",
       " 'CAMEO_INTL_2015_Wealth_10.0': 0.018605319845419018,\n",
       " 'ANZ_HAUSHALTE_AKTIV': 0.020192036230892128,\n",
       " 'SEMIO_LUST': 0.020463859752679628,\n",
       " 'LP_FAMILIE_GROB_5.0': 0.02115670922008029,\n",
       " 'CAMEO_DEUG_2015_1': 0.021282624031996308,\n",
       " 'WOHNDAUER_2008': 0.021465923069542498,\n",
       " 'VERS_TYP_2.0': 0.021599836446843646,\n",
       " 'LP_LEBENSPHASE_GROB': 0.021709310053067428,\n",
       " 'ANZ_PERSONEN': 0.021954810271754322,\n",
       " 'CAMEO_INTL_2015_Wealth_50.0': 0.021982766913917158,\n",
       " 'LP_LEBENSPHASE_FEIN': 0.022193489162851743,\n",
       " 'LP_STATUS_FEIN_6.0': 0.022222768630522177,\n",
       " 'CAMEO_DEUG_2015_9': 0.022655157332948227,\n",
       " 'KBA05_ANTG4': 0.022819155394466641,\n",
       " 'FINANZTYP_3': 0.02284164097886824,\n",
       " 'LP_STATUS_FEIN_7.0': 0.025539143892674563,\n",
       " 'LP_FAMILIE_FEIN_2.0': 0.02600276914122273,\n",
       " 'LP_FAMILIE_GROB_2.0': 0.02600276914122273,\n",
       " 'GFK_URLAUBERTYP_4.0': 0.026142993775997245,\n",
       " 'PRAEGENDE_JUGENDJAHRE_Date_50.0': 0.026232794613362493,\n",
       " 'PRAEGENDE_JUGENDJAHRE_Date_60.0': 0.027849343217537448,\n",
       " 'CAMEO_INTL_2015_LifeStage_1.0': 0.029833026455954554,\n",
       " 'NATIONALITAET_KZ_2.0': 0.030899459036192178,\n",
       " 'LP_STATUS_GROB_3.0': 0.032274776696507405,\n",
       " 'ARBEIT': 0.03950484274661694,\n",
       " 'PLZ8_ANTG2': 0.040422465069497295,\n",
       " 'RELAT_AB': 0.040966758659623501,\n",
       " 'LP_STATUS_FEIN_1.0': 0.042684499970628814,\n",
       " 'FINANZ_VORSORGER': 0.043771472424975186,\n",
       " 'LP_STATUS_FEIN_3.0': 0.045548263260606181,\n",
       " 'ZABEOTYP_6': 0.047559626971715389,\n",
       " 'SHOPPER_TYP_1.0': 0.049103440688157175,\n",
       " 'W_KEIT_KIND_HH': 0.053002806679356813,\n",
       " 'PLZ8_ANTG4': 0.055307783075796396,\n",
       " 'PLZ8_ANTG3': 0.055639489297332125,\n",
       " 'PLZ8_BAUMAX': 0.056399336550837072,\n",
       " 'LP_STATUS_FEIN_10.0': 0.06742446035283628,\n",
       " 'LP_STATUS_GROB_5.0': 0.06742446035283628,\n",
       " 'RETOURTYP_BK_S': 0.072850866634944791,\n",
       " 'EWDICHTE': 0.075460173612845266,\n",
       " 'ORTSGR_KLS9': 0.075952530056757991,\n",
       " 'SEMIO_MAT': 0.087478965015707719,\n",
       " 'PRAEGENDE_JUGENDJAHRE_Movement': 0.088335783484701308,\n",
       " 'GREEN_AVANTGARDE': 0.090528257940804532,\n",
       " 'SEMIO_REL': 0.11472298819216471,\n",
       " 'ZABEOTYP_1': 0.12122698749585706,\n",
       " 'SHOPPER_TYP_0.0': 0.12197304412456993,\n",
       " 'FINANZ_MINIMALIST': 0.12968510278141684,\n",
       " 'FINANZTYP_5': 0.13656365311177496,\n",
       " 'SEMIO_KULT': 0.24818354354810898,\n",
       " 'SEMIO_SOZ': 0.25576411605109611,\n",
       " 'SEMIO_FAM': 0.25694234857191767,\n",
       " 'SEMIO_VERT': 0.31536545811696554}"
      ]
     },
     "execution_count": 85,
     "metadata": {},
     "output_type": "execute_result"
    }
   ],
   "source": [
    "# Map weights for the third principal component to corresponding feature names\n",
    "# and then print the linked values, sorted by weight.\n",
    "mapping_weights(pca,2)\n"
   ]
  },
  {
   "cell_type": "markdown",
   "metadata": {},
   "source": [
    "### Discussion 2.3: Interpret Principal Components\n",
    "\n",
    "By investigating the explained variance ratios, we are able to see that 83.27% total variance is explained by the 65 components.\n",
    "\n",
    "The first component explains 10.13% of total variance.\n",
    "The second component explains 7.22% of total variance.\n",
    "The third component explains 4.3% of total variance.\n",
    "\n",
    "1st component:\n",
    "\n",
    "By investigating further the weights of the first component, we are able to see that the top features are;\n",
    "\n",
    "  'PLZ8_BAUMAX': 0.16970407813741156,\n",
    " 'PLZ8_ANTG4': 0.17415614009797303,\n",
    " 'PLZ8_ANTG3': 0.17986230971142672,\n",
    " 'HH_EINKOMMEN_SCORE': 0.18027008915851428,\n",
    " 'LP_STATUS_GROB_1.0': 0.19125316225073657}\n",
    "\n",
    "Which mostly translate to Social status, size of family and their estimated incomes. Specifically, LP_STATUS_GROB_1 PLZ8_ANTG3 and 4 are about 6-10 and 10+ family homes. While the PLZ8_BAUMAX feature is about the the type of buildings in the region, whether they are family ones or business buildings.\n",
    "So, we can see that for the first component, features related to Family and their income/status are the most positively weighted.\n",
    "\n",
    "On the other hand, the top negatively weighted features are:\n",
    "\n",
    "\n",
    " 'MOBI_REGIO': -0.19949317867641753,\n",
    " 'KBA05_ANTG1': -0.18643440526260691,\n",
    " 'FINANZ_MINIMALIST': -0.1840598944135835,\n",
    " 'PLZ8_ANTG1': -0.179979224123442,\n",
    " 'KBA05_GBZ': -0.17723013529878878,\n",
    " \n",
    " Which are about movement patterns, number of 1-2 family houses in the microcell, number of 1-2 family houses in the PLZ8 region, number of buildings in the region and financial typology. By comparing their respective values with the top positively weighted features, we can see that there's probably a prevalence of buildings of smaller family capacity.\n",
    " \n",
    " \n",
    " 2nd component:\n",
    " \n",
    " For the second component, the top positively weighted features are \n",
    " \n",
    "  'SEMIO_LUST': 0.16104166037958709,\n",
    " 'SEMIO_ERL': 0.17729004052549063,\n",
    " 'ZABEOTYP_3': 0.19699362335442594,\n",
    " 'FINANZ_VORSORGER': 0.21947309153577058,\n",
    " 'ALTERSKATEGORIE_GROB': 0.23244130256013731}\n",
    " \n",
    " Which translate to estimated age, financial typology for vorosrger, energy consumption typology 3, and personality typology 'LUST'.\n",
    " \n",
    " Top negatively weighted features:\n",
    " \n",
    " 'FINANZ_SPARER': -0.22845355156095645,\n",
    " 'FINANZ_UNAUFFAELLIGER': -0.21451260764500632,\n",
    " 'SEMIO_REL': -0.2130747359507652,\n",
    " 'SEMIO_TRADV': -0.20647057621291645,\n",
    " 'SEMIO_PFLICHT': -0.20592384270766689,\n",
    " 'FINANZ_ANLEGER': -0.20476503303026469,\n",
    " \n",
    " Again here, the most negatively weighted features are about financial typology and personality typology.\n",
    " \n",
    " \n",
    " 3rd component:\n",
    " \n",
    " Top positive:\n",
    " \n",
    " 'FINANZ_MINIMALIST': 0.12968512514010153,\n",
    " 'FINANZTYP_5': 0.13656018374113874,\n",
    " 'SEMIO_KULT': 0.24818378242425221,\n",
    " 'SEMIO_SOZ': 0.2557638727088109,\n",
    " 'SEMIO_FAM': 0.25694314910653426,\n",
    " 'SEMIO_VERT': 0.31536566625022061}\n",
    " \n",
    " Similarly to the second component, the top positively weighted features are about the personality typology and financial typology.\n",
    " \n",
    " Top negative:\n",
    " \n",
    "'ANREDE_KZ': -0.33948547592697637,\n",
    " 'SEMIO_KAEM': -0.307302846624046,\n",
    " 'SEMIO_DOM': -0.27388255900167791,\n",
    " 'SEMIO_KRIT': -0.26387357724054217,\n",
    " 'SEMIO_ERL': -0.20608390786920452,\n",
    " 'FINANZ_ANLEGER': -0.15271218442958248,\n",
    " 'SEMIO_RAT': -0.14850627984069023,\n",
    " 'FINANZTYP_1': -0.098257336763275846,\n",
    " \n",
    " The top negative feature is about gender while the rest ones are again about personality and financial types.\n",
    " \n",
    " \n",
    "We can conclude by the examination of those principal components that they can indeed be interpreted in a meaningful way. The positive and negative weights show the negative correlations between the attributes which in those components had mostly to do with family types, personality and financial typology. Specific groups of features seem to contribute more in explaining the variance of those components.\n",
    " \n",
    " \n",
    " \n",
    " \n",
    " \n",
    " \n",
    " \n",
    " \n",
    " \n",
    "\n",
    "\n",
    "\n",
    "(Double-click this cell and replace this text with your own text, reporting your observations from detailed investigation of the first few principal components generated. Can we interpret positive and negative values from them in a meaningful way?)"
   ]
  },
  {
   "cell_type": "markdown",
   "metadata": {},
   "source": [
    "## Step 3: Clustering\n",
    "\n",
    "### Step 3.1: Apply Clustering to General Population\n",
    "\n",
    "You've assessed and cleaned the demographics data, then scaled and transformed them. Now, it's time to see how the data clusters in the principal components space. In this substep, you will apply k-means clustering to the dataset and use the average within-cluster distances from each point to their assigned cluster's centroid to decide on a number of clusters to keep.\n",
    "\n",
    "- Use sklearn's [KMeans](http://scikit-learn.org/stable/modules/generated/sklearn.cluster.KMeans.html#sklearn.cluster.KMeans) class to perform k-means clustering on the PCA-transformed data.\n",
    "- Then, compute the average difference from each point to its assigned cluster's center. **Hint**: The KMeans object's `.score()` method might be useful here, but note that in sklearn, scores tend to be defined so that larger is better. Try applying it to a small, toy dataset, or use an internet search to help your understanding.\n",
    "- Perform the above two steps for a number of different cluster counts. You can then see how the average distance decreases with an increasing number of clusters. However, each additional cluster provides a smaller net benefit. Use this fact to select a final number of clusters in which to group the data. **Warning**: because of the large size of the dataset, it can take a long time for the algorithm to resolve. The more clusters to fit, the longer the algorithm will take. You should test for cluster counts through at least 10 clusters to get the full picture, but you shouldn't need to test for a number of clusters above about 30.\n",
    "- Once you've selected a final number of clusters to use, re-fit a KMeans instance to perform the clustering operation. Make sure that you also obtain the cluster assignments for the general demographics data, since you'll be using them in the final Step 3.3."
   ]
  },
  {
   "cell_type": "code",
   "execution_count": 86,
   "metadata": {
    "scrolled": true
   },
   "outputs": [
    {
     "name": "stdout",
     "output_type": "stream",
     "text": [
      "132.461161728 for n_clusters= 1\n",
      "114.309266152 for n_clusters= 3\n",
      "107.3962518 for n_clusters= 5\n",
      "103.793334954 for n_clusters= 7\n",
      "101.274151835 for n_clusters= 9\n",
      "98.7062544404 for n_clusters= 11\n",
      "97.0660024517 for n_clusters= 13\n",
      "94.9525714311 for n_clusters= 15\n",
      "93.6085407413 for n_clusters= 17\n",
      "91.926508193 for n_clusters= 19\n"
     ]
    }
   ],
   "source": [
    "# Over a number of different cluster counts...\n",
    "\n",
    "\n",
    "    # run k-means clustering on the data and...\n",
    "    \n",
    "    \n",
    "    # compute the average within-cluster distances.\n",
    "    \n",
    "scores=[]\n",
    "for i in range(1,20,2):\n",
    "    kmeans=KMeans(n_clusters=i)\n",
    "    model=kmeans.fit(X_pca)\n",
    "    score=np.abs(model.score(X_pca))\n",
    "    print(score/X_pca.shape[0], \"for n_clusters=\",i)\n",
    "    scores.append(score)\n",
    "    \n",
    "    \n",
    "    "
   ]
  },
  {
   "cell_type": "code",
   "execution_count": 87,
   "metadata": {},
   "outputs": [
    {
     "data": {
      "text/plain": [
       "Text(0.5,1,'SSE vs K')"
      ]
     },
     "execution_count": 87,
     "metadata": {},
     "output_type": "execute_result"
    },
    {
     "data": {
      "image/png": "[encoded data removed]",
      "text/plain": [
       "<matplotlib.figure.Figure at 0x7f2c5cf07588>"
      ]
     },
     "metadata": {
      "needs_background": "light"
     },
     "output_type": "display_data"
    }
   ],
   "source": [
    "# Investigate the change in within-cluster distance across number of clusters.\n",
    "# HINT: Use matplotlib's plot function to visualize this relationship.\n",
    "clusters=[1,3,5,7,9,11,13,15,17,19]\n",
    "plt.plot(clusters,scores,linestyle='--',marker='o',color='r')\n",
    "plt.xlabel('K')\n",
    "plt.ylabel('SSE')\n",
    "plt.title('SSE vs K')\n"
   ]
  },
  {
   "cell_type": "code",
   "execution_count": 88,
   "metadata": {},
   "outputs": [],
   "source": [
    "# Re-fit the k-means model with the selected number of clusters and obtain\n",
    "# cluster predictions for the general population demographics data.\n",
    "new_kmeans=KMeans(n_clusters=19)\n",
    "new_model=new_kmeans.fit(X_pca)\n",
    "\n",
    "predictions=new_model.predict(X_pca)\n"
   ]
  },
  {
   "cell_type": "code",
   "execution_count": 89,
   "metadata": {},
   "outputs": [
    {
     "data": {
      "text/plain": [
       "array([10, 18, 13, ..., 18, 16,  8], dtype=int32)"
      ]
     },
     "execution_count": 89,
     "metadata": {},
     "output_type": "execute_result"
    }
   ],
   "source": [
    "predictions"
   ]
  },
  {
   "cell_type": "markdown",
   "metadata": {},
   "source": [
    "### Discussion 3.1: Apply Clustering to General Population\n",
    "\n",
    "We can see from the graph that as K points increases, the distance from the centers are decreased. By the elbow method we can see that after 5 clusters the distance decreases significantly less with every extra cluster. However, after 13 clusters we notice that the slope slightly increases again.\n",
    "We will pick 19 clusters to re fit the k means model.\n",
    "\n",
    "(Double-click this cell and replace this text with your own text, reporting your findings and decisions regarding clustering. Into how many clusters have you decided to segment the population?)"
   ]
  },
  {
   "cell_type": "markdown",
   "metadata": {},
   "source": [
    "### Step 3.2: Apply All Steps to the Customer Data\n",
    "\n",
    "Now that you have clusters and cluster centers for the general population, it's time to see how the customer data maps on to those clusters. Take care to not confuse this for re-fitting all of the models to the customer data. Instead, you're going to use the fits from the general population to clean, transform, and cluster the customer data. In the last step of the project, you will interpret how the general population fits apply to the customer data.\n",
    "\n",
    "- Don't forget when loading in the customers data, that it is semicolon (`;`) delimited.\n",
    "- Apply the same feature wrangling, selection, and engineering steps to the customer demographics using the `clean_data()` function you created earlier. (You can assume that the customer demographics data has similar meaning behind missing data patterns as the general demographics data.)\n",
    "- Use the sklearn objects from the general demographics data, and apply their transformations to the customers data. That is, you should not be using a `.fit()` or `.fit_transform()` method to re-fit the old objects, nor should you be creating new sklearn objects! Carry the data through the feature scaling, PCA, and clustering steps, obtaining cluster assignments for all of the data in the customer demographics data."
   ]
  },
  {
   "cell_type": "code",
   "execution_count": 236,
   "metadata": {},
   "outputs": [],
   "source": [
    "# Load in the customer demographics data.\n",
    "customers = pd.read_csv('Udacity_CUSTOMERS_Subset.csv',sep=';')"
   ]
  },
  {
   "cell_type": "code",
   "execution_count": 237,
   "metadata": {},
   "outputs": [
    {
     "name": "stdout",
     "output_type": "stream",
     "text": [
      "Total number of missing values after conversion is 3112918\n"
     ]
    },
    {
     "name": "stderr",
     "output_type": "stream",
     "text": [
      "/opt/conda/lib/python3.6/site-packages/ipykernel_launcher.py:74: SettingWithCopyWarning: \n",
      "A value is trying to be set on a copy of a slice from a DataFrame\n",
      "\n",
      "See the caveats in the documentation: http://pandas.pydata.org/pandas-docs/stable/indexing.html#indexing-view-versus-copy\n",
      "/opt/conda/lib/python3.6/site-packages/ipykernel_launcher.py:75: SettingWithCopyWarning: \n",
      "A value is trying to be set on a copy of a slice from a DataFrame\n",
      "\n",
      "See the caveats in the documentation: http://pandas.pydata.org/pandas-docs/stable/indexing.html#indexing-view-versus-copy\n",
      "/opt/conda/lib/python3.6/site-packages/pandas/core/frame.py:3697: SettingWithCopyWarning: \n",
      "A value is trying to be set on a copy of a slice from a DataFrame\n",
      "\n",
      "See the caveats in the documentation: http://pandas.pydata.org/pandas-docs/stable/indexing.html#indexing-view-versus-copy\n",
      "  errors=errors)\n"
     ]
    }
   ],
   "source": [
    "# Apply preprocessing, feature transformation, and clustering from the general\n",
    "# demographics onto the customer data, obtaining cluster predictions for the\n",
    "# customer demographics data.\n",
    "\n",
    "clean_customers=clean_data(customers)"
   ]
  },
  {
   "cell_type": "code",
   "execution_count": 238,
   "metadata": {},
   "outputs": [
    {
     "data": {
      "text/plain": [
       "(141725, 159)"
      ]
     },
     "execution_count": 238,
     "metadata": {},
     "output_type": "execute_result"
    }
   ],
   "source": [
    "clean_customers.shape"
   ]
  },
  {
   "cell_type": "code",
   "execution_count": 209,
   "metadata": {},
   "outputs": [
    {
     "data": {
      "text/plain": [
       "121873"
      ]
     },
     "execution_count": 209,
     "metadata": {},
     "output_type": "execute_result"
    }
   ],
   "source": [
    "clean_customers.isna().sum().sum()"
   ]
  },
  {
   "cell_type": "code",
   "execution_count": 210,
   "metadata": {},
   "outputs": [],
   "source": [
    "Imputed_clean_customers=Imp_mean.transform(clean_customers)"
   ]
  },
  {
   "cell_type": "code",
   "execution_count": 216,
   "metadata": {},
   "outputs": [],
   "source": [
    "scaled_imputed_clean_customers= scaler.transform(Imputed_clean_customers)"
   ]
  },
  {
   "cell_type": "code",
   "execution_count": 217,
   "metadata": {},
   "outputs": [],
   "source": [
    "pca_customers=pca.transform(scaled_imputed_clean_customers)"
   ]
  },
  {
   "cell_type": "code",
   "execution_count": 218,
   "metadata": {},
   "outputs": [],
   "source": [
    "predictions_customers=new_model.predict(pca_customers)"
   ]
  },
  {
   "cell_type": "code",
   "execution_count": 219,
   "metadata": {},
   "outputs": [
    {
     "data": {
      "text/plain": [
       "array([ 9,  1,  3, ..., 12,  8,  5], dtype=int32)"
      ]
     },
     "execution_count": 219,
     "metadata": {},
     "output_type": "execute_result"
    }
   ],
   "source": [
    "predictions_customers"
   ]
  },
  {
   "cell_type": "markdown",
   "metadata": {},
   "source": [
    "### Step 3.3: Compare Customer Data to Demographics Data\n",
    "\n",
    "At this point, you have clustered data based on demographics of the general population of Germany, and seen how the customer data for a mail-order sales company maps onto those demographic clusters. In this final substep, you will compare the two cluster distributions to see where the strongest customer base for the company is.\n",
    "\n",
    "Consider the proportion of persons in each cluster for the general population, and the proportions for the customers. If we think the company's customer base to be universal, then the cluster assignment proportions should be fairly similar between the two. If there are only particular segments of the population that are interested in the company's products, then we should see a mismatch from one to the other. If there is a higher proportion of persons in a cluster for the customer data compared to the general population (e.g. 5% of persons are assigned to a cluster for the general population, but 15% of the customer data is closest to that cluster's centroid) then that suggests the people in that cluster to be a target audience for the company. On the other hand, the proportion of the data in a cluster being larger in the general population than the customer data (e.g. only 2% of customers closest to a population centroid that captures 6% of the data) suggests that group of persons to be outside of the target demographics.\n",
    "\n",
    "Take a look at the following points in this step:\n",
    "\n",
    "- Compute the proportion of data points in each cluster for the general population and the customer data. Visualizations will be useful here: both for the individual dataset proportions, but also to visualize the ratios in cluster representation between groups. Seaborn's [`countplot()`](https://seaborn.pydata.org/generated/seaborn.countplot.html) or [`barplot()`](https://seaborn.pydata.org/generated/seaborn.barplot.html) function could be handy.\n",
    "  - Recall the analysis you performed in step 1.1.3 of the project, where you separated out certain data points from the dataset if they had more than a specified threshold of missing values. If you found that this group was qualitatively different from the main bulk of the data, you should treat this as an additional data cluster in this analysis. Make sure that you account for the number of data points in this subset, for both the general population and customer datasets, when making your computations!\n",
    "- Which cluster or clusters are overrepresented in the customer dataset compared to the general population? Select at least one such cluster and infer what kind of people might be represented by that cluster. Use the principal component interpretations from step 2.3 or look at additional components to help you make this inference. Alternatively, you can use the `.inverse_transform()` method of the PCA and StandardScaler objects to transform centroids back to the original data space and interpret the retrieved values directly.\n",
    "- Perform a similar investigation for the underrepresented clusters. Which cluster or clusters are underrepresented in the customer dataset compared to the general population, and what kinds of people are typified by these clusters?"
   ]
  },
  {
   "cell_type": "code",
   "execution_count": 222,
   "metadata": {},
   "outputs": [
    {
     "data": {
      "text/plain": [
       "(771701,)"
      ]
     },
     "execution_count": 222,
     "metadata": {},
     "output_type": "execute_result"
    }
   ],
   "source": [
    "predictions.shape"
   ]
  },
  {
   "cell_type": "code",
   "execution_count": 246,
   "metadata": {},
   "outputs": [
    {
     "data": {
      "text/plain": [
       "<matplotlib.axes._subplots.AxesSubplot at 0x7f86056a8710>"
      ]
     },
     "execution_count": 246,
     "metadata": {},
     "output_type": "execute_result"
    },
    {
     "data": {
      "image/png": "[encoded data removed]",
      "text/plain": [
       "<matplotlib.figure.Figure at 0x7f8622bb90b8>"
      ]
     },
     "metadata": {
      "needs_background": "light"
     },
     "output_type": "display_data"
    }
   ],
   "source": [
    "#countplot for population\n",
    "\n",
    "sns.countplot(predictions)"
   ]
  },
  {
   "cell_type": "code",
   "execution_count": 243,
   "metadata": {},
   "outputs": [
    {
     "data": {
      "text/plain": [
       "<matplotlib.axes._subplots.AxesSubplot at 0x7f860591cbe0>"
      ]
     },
     "execution_count": 243,
     "metadata": {},
     "output_type": "execute_result"
    },
    {
     "data": {
      "image/png": "[encoded data removed]",
      "text/plain": [
       "<matplotlib.figure.Figure at 0x7f860c028908>"
      ]
     },
     "metadata": {
      "needs_background": "light"
     },
     "output_type": "display_data"
    }
   ],
   "source": [
    "#countplot for customers\n",
    "\n",
    "sns.countplot(predictions_customers)"
   ]
  },
  {
   "cell_type": "code",
   "execution_count": 258,
   "metadata": {},
   "outputs": [],
   "source": [
    "preds_pop=pd.Series(predictions).value_counts().sort_index()"
   ]
  },
  {
   "cell_type": "code",
   "execution_count": 254,
   "metadata": {},
   "outputs": [
    {
     "data": {
      "text/plain": [
       "0     44265\n",
       "1     34499\n",
       "2     58858\n",
       "3     67128\n",
       "4     44986\n",
       "5     48623\n",
       "6     41703\n",
       "7     15030\n",
       "8     45692\n",
       "9     31664\n",
       "10    43611\n",
       "11    32487\n",
       "12    37312\n",
       "13    76744\n",
       "14    50566\n",
       "15     8902\n",
       "16    24247\n",
       "17    25259\n",
       "18    40125\n",
       "dtype: int64"
      ]
     },
     "execution_count": 254,
     "metadata": {},
     "output_type": "execute_result"
    }
   ],
   "source": [
    "preds_pop"
   ]
  },
  {
   "cell_type": "code",
   "execution_count": 265,
   "metadata": {},
   "outputs": [],
   "source": [
    "preds_customers=pd.Series(predictions_customers).value_counts().sort_index()"
   ]
  },
  {
   "cell_type": "code",
   "execution_count": 266,
   "metadata": {},
   "outputs": [
    {
     "data": {
      "text/plain": [
       "0      2782\n",
       "1     11700\n",
       "2       879\n",
       "3     15854\n",
       "4       611\n",
       "5     15788\n",
       "6       717\n",
       "7       779\n",
       "8     11659\n",
       "9     19710\n",
       "10     7986\n",
       "11     6475\n",
       "12    21493\n",
       "13     8450\n",
       "14      706\n",
       "15     9751\n",
       "16      813\n",
       "17     1251\n",
       "18     4321\n",
       "dtype: int64"
      ]
     },
     "execution_count": 266,
     "metadata": {},
     "output_type": "execute_result"
    }
   ],
   "source": [
    "preds_customers"
   ]
  },
  {
   "cell_type": "code",
   "execution_count": 270,
   "metadata": {},
   "outputs": [],
   "source": [
    "dataframe=pd.DataFrame({'Predictions on Population':preds_pop,'Predictions on Customers':preds_customers})"
   ]
  },
  {
   "cell_type": "code",
   "execution_count": 275,
   "metadata": {},
   "outputs": [],
   "source": [
    "dataframe['Pop_ratio']=dataframe[\"Predictions on Population\"]/dataframe[\"Predictions on Population\"].sum()\n",
    "dataframe['Customer_ratios']=dataframe[\"Predictions on Customers\"]/dataframe[\"Predictions on Customers\"].sum()"
   ]
  },
  {
   "cell_type": "code",
   "execution_count": 276,
   "metadata": {},
   "outputs": [
    {
     "data": {
      "text/html": [
       "<div>\n",
       "<style scoped>\n",
       "    .dataframe tbody tr th:only-of-type {\n",
       "        vertical-align: middle;\n",
       "    }\n",
       "\n",
       "    .dataframe tbody tr th {\n",
       "        vertical-align: top;\n",
       "    }\n",
       "\n",
       "    .dataframe thead th {\n",
       "        text-align: right;\n",
       "    }\n",
       "</style>\n",
       "<table border=\"1\" class=\"dataframe\">\n",
       "  <thead>\n",
       "    <tr style=\"text-align: right;\">\n",
       "      <th></th>\n",
       "      <th>Predictions on Population</th>\n",
       "      <th>Predictions on Customers</th>\n",
       "      <th>Pop_ratio</th>\n",
       "      <th>Customer_ratios</th>\n",
       "    </tr>\n",
       "  </thead>\n",
       "  <tbody>\n",
       "    <tr>\n",
       "      <th>0</th>\n",
       "      <td>44265</td>\n",
       "      <td>2782</td>\n",
       "      <td>0.057360</td>\n",
       "      <td>0.019630</td>\n",
       "    </tr>\n",
       "    <tr>\n",
       "      <th>1</th>\n",
       "      <td>34499</td>\n",
       "      <td>11700</td>\n",
       "      <td>0.044705</td>\n",
       "      <td>0.082554</td>\n",
       "    </tr>\n",
       "    <tr>\n",
       "      <th>2</th>\n",
       "      <td>58858</td>\n",
       "      <td>879</td>\n",
       "      <td>0.076270</td>\n",
       "      <td>0.006202</td>\n",
       "    </tr>\n",
       "    <tr>\n",
       "      <th>3</th>\n",
       "      <td>67128</td>\n",
       "      <td>15854</td>\n",
       "      <td>0.086987</td>\n",
       "      <td>0.111865</td>\n",
       "    </tr>\n",
       "    <tr>\n",
       "      <th>4</th>\n",
       "      <td>44986</td>\n",
       "      <td>611</td>\n",
       "      <td>0.058295</td>\n",
       "      <td>0.004311</td>\n",
       "    </tr>\n",
       "  </tbody>\n",
       "</table>\n",
       "</div>"
      ],
      "text/plain": [
       "   Predictions on Population  Predictions on Customers  Pop_ratio  \\\n",
       "0                      44265                      2782   0.057360   \n",
       "1                      34499                     11700   0.044705   \n",
       "2                      58858                       879   0.076270   \n",
       "3                      67128                     15854   0.086987   \n",
       "4                      44986                       611   0.058295   \n",
       "\n",
       "   Customer_ratios  \n",
       "0         0.019630  \n",
       "1         0.082554  \n",
       "2         0.006202  \n",
       "3         0.111865  \n",
       "4         0.004311  "
      ]
     },
     "execution_count": 276,
     "metadata": {},
     "output_type": "execute_result"
    }
   ],
   "source": [
    "dataframe.head()"
   ]
  },
  {
   "cell_type": "code",
   "execution_count": 287,
   "metadata": {},
   "outputs": [
    {
     "data": {
      "text/plain": [
       "<matplotlib.axes._subplots.AxesSubplot at 0x7f860b6eb9e8>"
      ]
     },
     "execution_count": 287,
     "metadata": {},
     "output_type": "execute_result"
    },
    {
     "data": {
      "image/png": "[encoded data removed]",
      "text/plain": [
       "<matplotlib.figure.Figure at 0x7f860b5887f0>"
      ]
     },
     "metadata": {
      "needs_background": "light"
     },
     "output_type": "display_data"
    }
   ],
   "source": [
    "#barplot of the ratios for the population\n",
    "\n",
    "sns.barplot(x=dataframe.index, y=dataframe['Pop_ratio'])"
   ]
  },
  {
   "cell_type": "code",
   "execution_count": 288,
   "metadata": {},
   "outputs": [
    {
     "data": {
      "text/plain": [
       "<matplotlib.axes._subplots.AxesSubplot at 0x7f860b4322e8>"
      ]
     },
     "execution_count": 288,
     "metadata": {},
     "output_type": "execute_result"
    },
    {
     "data": {
      "image/png": "[encoded data removed]",
      "text/plain": [
       "<matplotlib.figure.Figure at 0x7f860b44b278>"
      ]
     },
     "metadata": {
      "needs_background": "light"
     },
     "output_type": "display_data"
    }
   ],
   "source": [
    "#barplot of the rations for customers\n",
    "\n",
    "sns.barplot(x=dataframe.index,y=dataframe['Customer_ratios'])"
   ]
  },
  {
   "cell_type": "code",
   "execution_count": null,
   "metadata": {},
   "outputs": [],
   "source": [
    "# Compare the proportion of data in each cluster for the customer data to the\n",
    "# proportion of data in each cluster for the general population.\n",
    "sns.countplot()\n"
   ]
  },
  {
   "cell_type": "code",
   "execution_count": 290,
   "metadata": {},
   "outputs": [],
   "source": [
    "# What kinds of people are part of a cluster that is overrepresented in the\n",
    "# customer data compared to the general population?\n",
    "\n",
    "inversed=scaler.inverse_transform(pca.inverse_transform(new_model.cluster_centers_))\n",
    "\n",
    "\n",
    "#REFERENCE: https://stackoverflow.com/questions/49885007/how-to-use-scikit-learn-inverse-transform-with-new-values"
   ]
  },
  {
   "cell_type": "code",
   "execution_count": 292,
   "metadata": {},
   "outputs": [
    {
     "data": {
      "text/plain": [
       "(19, 159)"
      ]
     },
     "execution_count": 292,
     "metadata": {},
     "output_type": "execute_result"
    }
   ],
   "source": [
    "inversed.shape"
   ]
  },
  {
   "cell_type": "code",
   "execution_count": 293,
   "metadata": {},
   "outputs": [],
   "source": [
    "inversed=pd.DataFrame(inversed,columns=subset1.columns)"
   ]
  },
  {
   "cell_type": "code",
   "execution_count": 298,
   "metadata": {},
   "outputs": [
    {
     "data": {
      "text/html": [
       "<div>\n",
       "<style scoped>\n",
       "    .dataframe tbody tr th:only-of-type {\n",
       "        vertical-align: middle;\n",
       "    }\n",
       "\n",
       "    .dataframe tbody tr th {\n",
       "        vertical-align: top;\n",
       "    }\n",
       "\n",
       "    .dataframe thead th {\n",
       "        text-align: right;\n",
       "    }\n",
       "</style>\n",
       "<table border=\"1\" class=\"dataframe\">\n",
       "  <thead>\n",
       "    <tr style=\"text-align: right;\">\n",
       "      <th></th>\n",
       "      <th>ALTERSKATEGORIE_GROB</th>\n",
       "      <th>ANREDE_KZ</th>\n",
       "      <th>FINANZ_MINIMALIST</th>\n",
       "      <th>FINANZ_SPARER</th>\n",
       "      <th>FINANZ_VORSORGER</th>\n",
       "      <th>FINANZ_ANLEGER</th>\n",
       "      <th>FINANZ_UNAUFFAELLIGER</th>\n",
       "      <th>FINANZ_HAUSBAUER</th>\n",
       "      <th>GREEN_AVANTGARDE</th>\n",
       "      <th>HEALTH_TYP</th>\n",
       "      <th>...</th>\n",
       "      <th>CAMEO_INTL_2015_Wealth_10.0</th>\n",
       "      <th>CAMEO_INTL_2015_Wealth_20.0</th>\n",
       "      <th>CAMEO_INTL_2015_Wealth_30.0</th>\n",
       "      <th>CAMEO_INTL_2015_Wealth_40.0</th>\n",
       "      <th>CAMEO_INTL_2015_Wealth_50.0</th>\n",
       "      <th>CAMEO_INTL_2015_LifeStage_1.0</th>\n",
       "      <th>CAMEO_INTL_2015_LifeStage_2.0</th>\n",
       "      <th>CAMEO_INTL_2015_LifeStage_3.0</th>\n",
       "      <th>CAMEO_INTL_2015_LifeStage_4.0</th>\n",
       "      <th>CAMEO_INTL_2015_LifeStage_5.0</th>\n",
       "    </tr>\n",
       "  </thead>\n",
       "  <tbody>\n",
       "    <tr>\n",
       "      <th>0</th>\n",
       "      <td>2.969066</td>\n",
       "      <td>1.975401</td>\n",
       "      <td>2.263666</td>\n",
       "      <td>2.590495</td>\n",
       "      <td>3.760092</td>\n",
       "      <td>2.808090</td>\n",
       "      <td>2.073542</td>\n",
       "      <td>3.611935</td>\n",
       "      <td>0.001255</td>\n",
       "      <td>2.437868</td>\n",
       "      <td>...</td>\n",
       "      <td>0.028038</td>\n",
       "      <td>0.066559</td>\n",
       "      <td>0.070753</td>\n",
       "      <td>0.304554</td>\n",
       "      <td>0.527819</td>\n",
       "      <td>0.535902</td>\n",
       "      <td>0.063608</td>\n",
       "      <td>0.075357</td>\n",
       "      <td>0.205512</td>\n",
       "      <td>0.117345</td>\n",
       "    </tr>\n",
       "    <tr>\n",
       "      <th>1</th>\n",
       "      <td>3.526953</td>\n",
       "      <td>1.942268</td>\n",
       "      <td>4.333582</td>\n",
       "      <td>1.336271</td>\n",
       "      <td>4.411204</td>\n",
       "      <td>1.818959</td>\n",
       "      <td>1.988312</td>\n",
       "      <td>2.568237</td>\n",
       "      <td>0.954356</td>\n",
       "      <td>2.068867</td>\n",
       "      <td>...</td>\n",
       "      <td>0.452592</td>\n",
       "      <td>0.314918</td>\n",
       "      <td>0.071010</td>\n",
       "      <td>0.118406</td>\n",
       "      <td>0.039165</td>\n",
       "      <td>0.057430</td>\n",
       "      <td>0.079836</td>\n",
       "      <td>0.169213</td>\n",
       "      <td>0.465419</td>\n",
       "      <td>0.224193</td>\n",
       "    </tr>\n",
       "    <tr>\n",
       "      <th>2</th>\n",
       "      <td>1.855295</td>\n",
       "      <td>0.956683</td>\n",
       "      <td>1.817886</td>\n",
       "      <td>4.512349</td>\n",
       "      <td>1.903210</td>\n",
       "      <td>3.659114</td>\n",
       "      <td>3.919226</td>\n",
       "      <td>3.684002</td>\n",
       "      <td>0.099636</td>\n",
       "      <td>2.335531</td>\n",
       "      <td>...</td>\n",
       "      <td>0.018711</td>\n",
       "      <td>0.047585</td>\n",
       "      <td>0.064599</td>\n",
       "      <td>0.286904</td>\n",
       "      <td>0.578959</td>\n",
       "      <td>0.615226</td>\n",
       "      <td>0.069764</td>\n",
       "      <td>0.064412</td>\n",
       "      <td>0.163364</td>\n",
       "      <td>0.083992</td>\n",
       "    </tr>\n",
       "    <tr>\n",
       "      <th>3</th>\n",
       "      <td>3.374785</td>\n",
       "      <td>1.416864</td>\n",
       "      <td>4.583164</td>\n",
       "      <td>1.597472</td>\n",
       "      <td>4.242438</td>\n",
       "      <td>2.305586</td>\n",
       "      <td>1.815316</td>\n",
       "      <td>2.176155</td>\n",
       "      <td>-0.016101</td>\n",
       "      <td>2.229167</td>\n",
       "      <td>...</td>\n",
       "      <td>0.208410</td>\n",
       "      <td>0.448972</td>\n",
       "      <td>0.094977</td>\n",
       "      <td>0.197421</td>\n",
       "      <td>0.041393</td>\n",
       "      <td>0.116316</td>\n",
       "      <td>0.139118</td>\n",
       "      <td>0.232287</td>\n",
       "      <td>0.341495</td>\n",
       "      <td>0.161956</td>\n",
       "    </tr>\n",
       "    <tr>\n",
       "      <th>4</th>\n",
       "      <td>1.839646</td>\n",
       "      <td>1.965834</td>\n",
       "      <td>1.172501</td>\n",
       "      <td>4.535919</td>\n",
       "      <td>2.241841</td>\n",
       "      <td>4.538651</td>\n",
       "      <td>4.082533</td>\n",
       "      <td>4.159767</td>\n",
       "      <td>0.067350</td>\n",
       "      <td>2.268964</td>\n",
       "      <td>...</td>\n",
       "      <td>0.081160</td>\n",
       "      <td>0.218068</td>\n",
       "      <td>0.105881</td>\n",
       "      <td>0.387078</td>\n",
       "      <td>0.205852</td>\n",
       "      <td>0.309855</td>\n",
       "      <td>0.067044</td>\n",
       "      <td>0.204693</td>\n",
       "      <td>0.313657</td>\n",
       "      <td>0.102790</td>\n",
       "    </tr>\n",
       "    <tr>\n",
       "      <th>5</th>\n",
       "      <td>3.097124</td>\n",
       "      <td>1.459141</td>\n",
       "      <td>4.361956</td>\n",
       "      <td>2.123452</td>\n",
       "      <td>3.746874</td>\n",
       "      <td>2.834747</td>\n",
       "      <td>2.196081</td>\n",
       "      <td>1.965073</td>\n",
       "      <td>0.022613</td>\n",
       "      <td>2.158351</td>\n",
       "      <td>...</td>\n",
       "      <td>0.201603</td>\n",
       "      <td>0.461439</td>\n",
       "      <td>0.092447</td>\n",
       "      <td>0.182193</td>\n",
       "      <td>0.055915</td>\n",
       "      <td>0.103740</td>\n",
       "      <td>0.162778</td>\n",
       "      <td>0.239865</td>\n",
       "      <td>0.344763</td>\n",
       "      <td>0.142450</td>\n",
       "    </tr>\n",
       "    <tr>\n",
       "      <th>6</th>\n",
       "      <td>1.908314</td>\n",
       "      <td>1.475957</td>\n",
       "      <td>2.463553</td>\n",
       "      <td>4.006890</td>\n",
       "      <td>1.954390</td>\n",
       "      <td>4.186456</td>\n",
       "      <td>3.950776</td>\n",
       "      <td>2.821867</td>\n",
       "      <td>0.069323</td>\n",
       "      <td>2.281997</td>\n",
       "      <td>...</td>\n",
       "      <td>0.131596</td>\n",
       "      <td>0.416626</td>\n",
       "      <td>0.103422</td>\n",
       "      <td>0.240078</td>\n",
       "      <td>0.101404</td>\n",
       "      <td>0.163590</td>\n",
       "      <td>0.120007</td>\n",
       "      <td>0.211373</td>\n",
       "      <td>0.383196</td>\n",
       "      <td>0.114959</td>\n",
       "    </tr>\n",
       "    <tr>\n",
       "      <th>7</th>\n",
       "      <td>2.524044</td>\n",
       "      <td>1.450623</td>\n",
       "      <td>3.913907</td>\n",
       "      <td>2.708920</td>\n",
       "      <td>2.999515</td>\n",
       "      <td>2.991221</td>\n",
       "      <td>2.967830</td>\n",
       "      <td>1.704317</td>\n",
       "      <td>0.172433</td>\n",
       "      <td>2.093254</td>\n",
       "      <td>...</td>\n",
       "      <td>0.187515</td>\n",
       "      <td>0.356020</td>\n",
       "      <td>0.092847</td>\n",
       "      <td>0.218861</td>\n",
       "      <td>0.138100</td>\n",
       "      <td>0.195639</td>\n",
       "      <td>0.079914</td>\n",
       "      <td>0.191477</td>\n",
       "      <td>0.396844</td>\n",
       "      <td>0.129469</td>\n",
       "    </tr>\n",
       "    <tr>\n",
       "      <th>8</th>\n",
       "      <td>3.268986</td>\n",
       "      <td>1.401602</td>\n",
       "      <td>3.364612</td>\n",
       "      <td>1.722533</td>\n",
       "      <td>4.283478</td>\n",
       "      <td>1.390875</td>\n",
       "      <td>2.058577</td>\n",
       "      <td>3.778155</td>\n",
       "      <td>0.471784</td>\n",
       "      <td>2.135937</td>\n",
       "      <td>...</td>\n",
       "      <td>0.091297</td>\n",
       "      <td>0.157156</td>\n",
       "      <td>0.171287</td>\n",
       "      <td>0.378505</td>\n",
       "      <td>0.199405</td>\n",
       "      <td>0.348134</td>\n",
       "      <td>0.034690</td>\n",
       "      <td>0.116368</td>\n",
       "      <td>0.305129</td>\n",
       "      <td>0.193328</td>\n",
       "    </tr>\n",
       "    <tr>\n",
       "      <th>9</th>\n",
       "      <td>3.222497</td>\n",
       "      <td>1.040751</td>\n",
       "      <td>4.739808</td>\n",
       "      <td>1.722659</td>\n",
       "      <td>4.131148</td>\n",
       "      <td>1.505297</td>\n",
       "      <td>2.256650</td>\n",
       "      <td>2.030109</td>\n",
       "      <td>0.972041</td>\n",
       "      <td>2.058525</td>\n",
       "      <td>...</td>\n",
       "      <td>0.410202</td>\n",
       "      <td>0.310850</td>\n",
       "      <td>0.078208</td>\n",
       "      <td>0.152542</td>\n",
       "      <td>0.043383</td>\n",
       "      <td>0.093610</td>\n",
       "      <td>0.087720</td>\n",
       "      <td>0.151348</td>\n",
       "      <td>0.449537</td>\n",
       "      <td>0.212969</td>\n",
       "    </tr>\n",
       "    <tr>\n",
       "      <th>10</th>\n",
       "      <td>3.962492</td>\n",
       "      <td>1.938696</td>\n",
       "      <td>2.655714</td>\n",
       "      <td>1.296614</td>\n",
       "      <td>4.745567</td>\n",
       "      <td>1.616873</td>\n",
       "      <td>1.326364</td>\n",
       "      <td>4.710877</td>\n",
       "      <td>0.001417</td>\n",
       "      <td>1.663649</td>\n",
       "      <td>...</td>\n",
       "      <td>0.019864</td>\n",
       "      <td>0.048539</td>\n",
       "      <td>0.057890</td>\n",
       "      <td>0.282587</td>\n",
       "      <td>0.588232</td>\n",
       "      <td>0.402675</td>\n",
       "      <td>0.047048</td>\n",
       "      <td>0.031322</td>\n",
       "      <td>0.197997</td>\n",
       "      <td>0.318069</td>\n",
       "    </tr>\n",
       "    <tr>\n",
       "      <th>11</th>\n",
       "      <td>2.686171</td>\n",
       "      <td>1.481964</td>\n",
       "      <td>3.878958</td>\n",
       "      <td>2.868404</td>\n",
       "      <td>3.137998</td>\n",
       "      <td>3.201485</td>\n",
       "      <td>2.985720</td>\n",
       "      <td>1.616380</td>\n",
       "      <td>0.395870</td>\n",
       "      <td>2.285184</td>\n",
       "      <td>...</td>\n",
       "      <td>0.241049</td>\n",
       "      <td>0.424213</td>\n",
       "      <td>0.092514</td>\n",
       "      <td>0.157059</td>\n",
       "      <td>0.082017</td>\n",
       "      <td>0.111417</td>\n",
       "      <td>0.172538</td>\n",
       "      <td>0.267869</td>\n",
       "      <td>0.345230</td>\n",
       "      <td>0.099798</td>\n",
       "    </tr>\n",
       "    <tr>\n",
       "      <th>12</th>\n",
       "      <td>2.882732</td>\n",
       "      <td>1.377605</td>\n",
       "      <td>4.426959</td>\n",
       "      <td>2.360338</td>\n",
       "      <td>3.481305</td>\n",
       "      <td>2.424778</td>\n",
       "      <td>2.712032</td>\n",
       "      <td>1.618877</td>\n",
       "      <td>0.975413</td>\n",
       "      <td>2.141348</td>\n",
       "      <td>...</td>\n",
       "      <td>0.390233</td>\n",
       "      <td>0.354612</td>\n",
       "      <td>0.072794</td>\n",
       "      <td>0.132026</td>\n",
       "      <td>0.047582</td>\n",
       "      <td>0.071491</td>\n",
       "      <td>0.129499</td>\n",
       "      <td>0.183495</td>\n",
       "      <td>0.441112</td>\n",
       "      <td>0.171651</td>\n",
       "    </tr>\n",
       "    <tr>\n",
       "      <th>13</th>\n",
       "      <td>3.201398</td>\n",
       "      <td>1.033997</td>\n",
       "      <td>3.099606</td>\n",
       "      <td>2.067139</td>\n",
       "      <td>4.192162</td>\n",
       "      <td>1.684981</td>\n",
       "      <td>1.680279</td>\n",
       "      <td>3.552832</td>\n",
       "      <td>-0.015097</td>\n",
       "      <td>2.436197</td>\n",
       "      <td>...</td>\n",
       "      <td>0.015090</td>\n",
       "      <td>0.046965</td>\n",
       "      <td>0.053197</td>\n",
       "      <td>0.272346</td>\n",
       "      <td>0.609079</td>\n",
       "      <td>0.569402</td>\n",
       "      <td>0.064730</td>\n",
       "      <td>0.071256</td>\n",
       "      <td>0.167894</td>\n",
       "      <td>0.123395</td>\n",
       "    </tr>\n",
       "    <tr>\n",
       "      <th>14</th>\n",
       "      <td>1.773431</td>\n",
       "      <td>1.977290</td>\n",
       "      <td>1.043584</td>\n",
       "      <td>4.503281</td>\n",
       "      <td>2.084736</td>\n",
       "      <td>4.328533</td>\n",
       "      <td>3.759347</td>\n",
       "      <td>4.492138</td>\n",
       "      <td>0.041278</td>\n",
       "      <td>2.191253</td>\n",
       "      <td>...</td>\n",
       "      <td>0.003846</td>\n",
       "      <td>0.003776</td>\n",
       "      <td>0.050557</td>\n",
       "      <td>0.197254</td>\n",
       "      <td>0.741613</td>\n",
       "      <td>0.714600</td>\n",
       "      <td>0.076652</td>\n",
       "      <td>0.010220</td>\n",
       "      <td>0.128537</td>\n",
       "      <td>0.067037</td>\n",
       "    </tr>\n",
       "    <tr>\n",
       "      <th>15</th>\n",
       "      <td>3.072717</td>\n",
       "      <td>1.430301</td>\n",
       "      <td>3.823705</td>\n",
       "      <td>1.877611</td>\n",
       "      <td>4.096098</td>\n",
       "      <td>1.976928</td>\n",
       "      <td>2.138231</td>\n",
       "      <td>3.000204</td>\n",
       "      <td>0.629386</td>\n",
       "      <td>2.057077</td>\n",
       "      <td>...</td>\n",
       "      <td>0.350097</td>\n",
       "      <td>0.159681</td>\n",
       "      <td>0.164641</td>\n",
       "      <td>0.209676</td>\n",
       "      <td>0.112091</td>\n",
       "      <td>0.211753</td>\n",
       "      <td>0.082757</td>\n",
       "      <td>0.144975</td>\n",
       "      <td>0.361854</td>\n",
       "      <td>0.194848</td>\n",
       "    </tr>\n",
       "    <tr>\n",
       "      <th>16</th>\n",
       "      <td>1.618488</td>\n",
       "      <td>1.588643</td>\n",
       "      <td>1.923269</td>\n",
       "      <td>4.485962</td>\n",
       "      <td>2.346395</td>\n",
       "      <td>4.864547</td>\n",
       "      <td>4.636827</td>\n",
       "      <td>2.926210</td>\n",
       "      <td>0.392826</td>\n",
       "      <td>2.228257</td>\n",
       "      <td>...</td>\n",
       "      <td>0.382071</td>\n",
       "      <td>0.422378</td>\n",
       "      <td>0.078926</td>\n",
       "      <td>0.140748</td>\n",
       "      <td>-0.028891</td>\n",
       "      <td>0.084056</td>\n",
       "      <td>0.233705</td>\n",
       "      <td>0.219591</td>\n",
       "      <td>0.310907</td>\n",
       "      <td>0.146972</td>\n",
       "    </tr>\n",
       "    <tr>\n",
       "      <th>17</th>\n",
       "      <td>2.305774</td>\n",
       "      <td>1.725906</td>\n",
       "      <td>2.402422</td>\n",
       "      <td>3.551362</td>\n",
       "      <td>2.775280</td>\n",
       "      <td>3.831947</td>\n",
       "      <td>3.262194</td>\n",
       "      <td>3.018969</td>\n",
       "      <td>0.173406</td>\n",
       "      <td>2.248250</td>\n",
       "      <td>...</td>\n",
       "      <td>0.130453</td>\n",
       "      <td>0.259728</td>\n",
       "      <td>0.112405</td>\n",
       "      <td>0.225045</td>\n",
       "      <td>0.268838</td>\n",
       "      <td>0.284890</td>\n",
       "      <td>0.130904</td>\n",
       "      <td>0.205970</td>\n",
       "      <td>0.278410</td>\n",
       "      <td>0.096294</td>\n",
       "    </tr>\n",
       "    <tr>\n",
       "      <th>18</th>\n",
       "      <td>3.455466</td>\n",
       "      <td>1.739214</td>\n",
       "      <td>2.984571</td>\n",
       "      <td>1.784587</td>\n",
       "      <td>4.286156</td>\n",
       "      <td>2.863342</td>\n",
       "      <td>1.589798</td>\n",
       "      <td>4.006984</td>\n",
       "      <td>0.017360</td>\n",
       "      <td>2.116237</td>\n",
       "      <td>...</td>\n",
       "      <td>0.103257</td>\n",
       "      <td>0.312305</td>\n",
       "      <td>0.079693</td>\n",
       "      <td>0.295787</td>\n",
       "      <td>0.201491</td>\n",
       "      <td>0.185742</td>\n",
       "      <td>0.078445</td>\n",
       "      <td>0.201571</td>\n",
       "      <td>0.348905</td>\n",
       "      <td>0.177871</td>\n",
       "    </tr>\n",
       "  </tbody>\n",
       "</table>\n",
       "<p>19 rows × 159 columns</p>\n",
       "</div>"
      ],
      "text/plain": [
       "    ALTERSKATEGORIE_GROB  ANREDE_KZ  FINANZ_MINIMALIST  FINANZ_SPARER  \\\n",
       "0               2.969066   1.975401           2.263666       2.590495   \n",
       "1               3.526953   1.942268           4.333582       1.336271   \n",
       "2               1.855295   0.956683           1.817886       4.512349   \n",
       "3               3.374785   1.416864           4.583164       1.597472   \n",
       "4               1.839646   1.965834           1.172501       4.535919   \n",
       "5               3.097124   1.459141           4.361956       2.123452   \n",
       "6               1.908314   1.475957           2.463553       4.006890   \n",
       "7               2.524044   1.450623           3.913907       2.708920   \n",
       "8               3.268986   1.401602           3.364612       1.722533   \n",
       "9               3.222497   1.040751           4.739808       1.722659   \n",
       "10              3.962492   1.938696           2.655714       1.296614   \n",
       "11              2.686171   1.481964           3.878958       2.868404   \n",
       "12              2.882732   1.377605           4.426959       2.360338   \n",
       "13              3.201398   1.033997           3.099606       2.067139   \n",
       "14              1.773431   1.977290           1.043584       4.503281   \n",
       "15              3.072717   1.430301           3.823705       1.877611   \n",
       "16              1.618488   1.588643           1.923269       4.485962   \n",
       "17              2.305774   1.725906           2.402422       3.551362   \n",
       "18              3.455466   1.739214           2.984571       1.784587   \n",
       "\n",
       "    FINANZ_VORSORGER  FINANZ_ANLEGER  FINANZ_UNAUFFAELLIGER  FINANZ_HAUSBAUER  \\\n",
       "0           3.760092        2.808090               2.073542          3.611935   \n",
       "1           4.411204        1.818959               1.988312          2.568237   \n",
       "2           1.903210        3.659114               3.919226          3.684002   \n",
       "3           4.242438        2.305586               1.815316          2.176155   \n",
       "4           2.241841        4.538651               4.082533          4.159767   \n",
       "5           3.746874        2.834747               2.196081          1.965073   \n",
       "6           1.954390        4.186456               3.950776          2.821867   \n",
       "7           2.999515        2.991221               2.967830          1.704317   \n",
       "8           4.283478        1.390875               2.058577          3.778155   \n",
       "9           4.131148        1.505297               2.256650          2.030109   \n",
       "10          4.745567        1.616873               1.326364          4.710877   \n",
       "11          3.137998        3.201485               2.985720          1.616380   \n",
       "12          3.481305        2.424778               2.712032          1.618877   \n",
       "13          4.192162        1.684981               1.680279          3.552832   \n",
       "14          2.084736        4.328533               3.759347          4.492138   \n",
       "15          4.096098        1.976928               2.138231          3.000204   \n",
       "16          2.346395        4.864547               4.636827          2.926210   \n",
       "17          2.775280        3.831947               3.262194          3.018969   \n",
       "18          4.286156        2.863342               1.589798          4.006984   \n",
       "\n",
       "    GREEN_AVANTGARDE  HEALTH_TYP              ...                \\\n",
       "0           0.001255    2.437868              ...                 \n",
       "1           0.954356    2.068867              ...                 \n",
       "2           0.099636    2.335531              ...                 \n",
       "3          -0.016101    2.229167              ...                 \n",
       "4           0.067350    2.268964              ...                 \n",
       "5           0.022613    2.158351              ...                 \n",
       "6           0.069323    2.281997              ...                 \n",
       "7           0.172433    2.093254              ...                 \n",
       "8           0.471784    2.135937              ...                 \n",
       "9           0.972041    2.058525              ...                 \n",
       "10          0.001417    1.663649              ...                 \n",
       "11          0.395870    2.285184              ...                 \n",
       "12          0.975413    2.141348              ...                 \n",
       "13         -0.015097    2.436197              ...                 \n",
       "14          0.041278    2.191253              ...                 \n",
       "15          0.629386    2.057077              ...                 \n",
       "16          0.392826    2.228257              ...                 \n",
       "17          0.173406    2.248250              ...                 \n",
       "18          0.017360    2.116237              ...                 \n",
       "\n",
       "    CAMEO_INTL_2015_Wealth_10.0  CAMEO_INTL_2015_Wealth_20.0  \\\n",
       "0                      0.028038                     0.066559   \n",
       "1                      0.452592                     0.314918   \n",
       "2                      0.018711                     0.047585   \n",
       "3                      0.208410                     0.448972   \n",
       "4                      0.081160                     0.218068   \n",
       "5                      0.201603                     0.461439   \n",
       "6                      0.131596                     0.416626   \n",
       "7                      0.187515                     0.356020   \n",
       "8                      0.091297                     0.157156   \n",
       "9                      0.410202                     0.310850   \n",
       "10                     0.019864                     0.048539   \n",
       "11                     0.241049                     0.424213   \n",
       "12                     0.390233                     0.354612   \n",
       "13                     0.015090                     0.046965   \n",
       "14                     0.003846                     0.003776   \n",
       "15                     0.350097                     0.159681   \n",
       "16                     0.382071                     0.422378   \n",
       "17                     0.130453                     0.259728   \n",
       "18                     0.103257                     0.312305   \n",
       "\n",
       "    CAMEO_INTL_2015_Wealth_30.0  CAMEO_INTL_2015_Wealth_40.0  \\\n",
       "0                      0.070753                     0.304554   \n",
       "1                      0.071010                     0.118406   \n",
       "2                      0.064599                     0.286904   \n",
       "3                      0.094977                     0.197421   \n",
       "4                      0.105881                     0.387078   \n",
       "5                      0.092447                     0.182193   \n",
       "6                      0.103422                     0.240078   \n",
       "7                      0.092847                     0.218861   \n",
       "8                      0.171287                     0.378505   \n",
       "9                      0.078208                     0.152542   \n",
       "10                     0.057890                     0.282587   \n",
       "11                     0.092514                     0.157059   \n",
       "12                     0.072794                     0.132026   \n",
       "13                     0.053197                     0.272346   \n",
       "14                     0.050557                     0.197254   \n",
       "15                     0.164641                     0.209676   \n",
       "16                     0.078926                     0.140748   \n",
       "17                     0.112405                     0.225045   \n",
       "18                     0.079693                     0.295787   \n",
       "\n",
       "    CAMEO_INTL_2015_Wealth_50.0  CAMEO_INTL_2015_LifeStage_1.0  \\\n",
       "0                      0.527819                       0.535902   \n",
       "1                      0.039165                       0.057430   \n",
       "2                      0.578959                       0.615226   \n",
       "3                      0.041393                       0.116316   \n",
       "4                      0.205852                       0.309855   \n",
       "5                      0.055915                       0.103740   \n",
       "6                      0.101404                       0.163590   \n",
       "7                      0.138100                       0.195639   \n",
       "8                      0.199405                       0.348134   \n",
       "9                      0.043383                       0.093610   \n",
       "10                     0.588232                       0.402675   \n",
       "11                     0.082017                       0.111417   \n",
       "12                     0.047582                       0.071491   \n",
       "13                     0.609079                       0.569402   \n",
       "14                     0.741613                       0.714600   \n",
       "15                     0.112091                       0.211753   \n",
       "16                    -0.028891                       0.084056   \n",
       "17                     0.268838                       0.284890   \n",
       "18                     0.201491                       0.185742   \n",
       "\n",
       "    CAMEO_INTL_2015_LifeStage_2.0  CAMEO_INTL_2015_LifeStage_3.0  \\\n",
       "0                        0.063608                       0.075357   \n",
       "1                        0.079836                       0.169213   \n",
       "2                        0.069764                       0.064412   \n",
       "3                        0.139118                       0.232287   \n",
       "4                        0.067044                       0.204693   \n",
       "5                        0.162778                       0.239865   \n",
       "6                        0.120007                       0.211373   \n",
       "7                        0.079914                       0.191477   \n",
       "8                        0.034690                       0.116368   \n",
       "9                        0.087720                       0.151348   \n",
       "10                       0.047048                       0.031322   \n",
       "11                       0.172538                       0.267869   \n",
       "12                       0.129499                       0.183495   \n",
       "13                       0.064730                       0.071256   \n",
       "14                       0.076652                       0.010220   \n",
       "15                       0.082757                       0.144975   \n",
       "16                       0.233705                       0.219591   \n",
       "17                       0.130904                       0.205970   \n",
       "18                       0.078445                       0.201571   \n",
       "\n",
       "    CAMEO_INTL_2015_LifeStage_4.0  CAMEO_INTL_2015_LifeStage_5.0  \n",
       "0                        0.205512                       0.117345  \n",
       "1                        0.465419                       0.224193  \n",
       "2                        0.163364                       0.083992  \n",
       "3                        0.341495                       0.161956  \n",
       "4                        0.313657                       0.102790  \n",
       "5                        0.344763                       0.142450  \n",
       "6                        0.383196                       0.114959  \n",
       "7                        0.396844                       0.129469  \n",
       "8                        0.305129                       0.193328  \n",
       "9                        0.449537                       0.212969  \n",
       "10                       0.197997                       0.318069  \n",
       "11                       0.345230                       0.099798  \n",
       "12                       0.441112                       0.171651  \n",
       "13                       0.167894                       0.123395  \n",
       "14                       0.128537                       0.067037  \n",
       "15                       0.361854                       0.194848  \n",
       "16                       0.310907                       0.146972  \n",
       "17                       0.278410                       0.096294  \n",
       "18                       0.348905                       0.177871  \n",
       "\n",
       "[19 rows x 159 columns]"
      ]
     },
     "execution_count": 298,
     "metadata": {},
     "output_type": "execute_result"
    }
   ],
   "source": [
    "#From the bar plots above and the data frame that matches each cluster with the features it encompasses, we can see\n",
    "# that there are a few clusters that are overrepresented in the customers' set\n",
    "#two of those clusters are the 6th (5) and 13th (12) clusters.\n",
    "\n",
    "inversed"
   ]
  },
  {
   "cell_type": "code",
   "execution_count": null,
   "metadata": {},
   "outputs": [],
   "source": [
    "# What kinds of people are part of a cluster that is underrepresented in the\n",
    "# customer data compared to the general population?\n",
    "\n",
    "#Many clusters are underrepresented in the customer data, two of those clusters are the third (2) \n",
    "#and fifth (4) clusters.\n",
    "\n"
   ]
  },
  {
   "cell_type": "code",
   "execution_count": 308,
   "metadata": {},
   "outputs": [
    {
     "data": {
      "text/plain": [
       "{'LP_FAMILIE_GROB_4.0': -0.26599961617910062,\n",
       " 'CAMEO_INTL_2015_Wealth_10.0': -0.18960572258580213,\n",
       " 'LP_FAMILIE_FEIN_7.0': -0.17266386739290984,\n",
       " 'CAMEO_DEUG_2015_2': -0.17107310968051342,\n",
       " 'LP_FAMILIE_FEIN_8.0': -0.16249825048038943,\n",
       " 'KBA05_ANTG4': -0.14833391933518084,\n",
       " 'LP_FAMILIE_GROB_3.0': -0.14524704549839743,\n",
       " 'ANZ_HAUSHALTE_AKTIV': -0.11688246553062205,\n",
       " 'LP_FAMILIE_FEIN_6.0': -0.10950746959651202,\n",
       " 'GFK_URLAUBERTYP_9.0': -0.10946864741228196,\n",
       " 'SHOPPER_TYP_3.0': -0.10606986590339762,\n",
       " 'KBA13_ANZAHL_PKW': -0.10421572269025967,\n",
       " 'LP_FAMILIE_FEIN_4.0': -0.10358686328830284,\n",
       " 'ALTERSKATEGORIE_GROB': -0.095569911703891453,\n",
       " 'NATIONALITAET_KZ_1.0': -0.094193055784845395,\n",
       " 'ZABEOTYP_4': -0.085875550012013815,\n",
       " 'LP_STATUS_FEIN_10.0': -0.08506464473892722,\n",
       " 'LP_STATUS_GROB_5.0': -0.08506464473892722,\n",
       " 'CAMEO_INTL_2015_LifeStage_3.0': -0.081864118799186328,\n",
       " 'PLZ8_HHZ': -0.079952843655656053,\n",
       " 'LP_FAMILIE_FEIN_5.0': -0.079795386205213065,\n",
       " 'LP_STATUS_FEIN_4.0': -0.079070873724796056,\n",
       " 'WOHNLAGE': -0.074514842537789158,\n",
       " 'CAMEO_DEUG_2015_1': -0.07390971310876901,\n",
       " 'INNENSTADT': -0.069618504229039244,\n",
       " 'OST_WEST_KZ': -0.069037427626206557,\n",
       " 'BALLRAUM': -0.065920525298834354,\n",
       " 'FINANZ_ANLEGER': -0.065854736694428526,\n",
       " 'LP_STATUS_GROB_1.0': -0.065510535517311383,\n",
       " 'CAMEO_INTL_2015_Wealth_40.0': -0.064675736192350133,\n",
       " 'SEMIO_VERT': -0.063368834960522202,\n",
       " 'SEMIO_LUST': -0.063187168931700941,\n",
       " 'LP_FAMILIE_FEIN_3.0': -0.06171028347345503,\n",
       " 'GFK_URLAUBERTYP_2.0': -0.058600832610350234,\n",
       " 'ONLINE_AFFINITAET': -0.058488538240153681,\n",
       " 'SEMIO_SOZ': -0.057004128641901131,\n",
       " 'PRAEGENDE_JUGENDJAHRE_Date_90.0': -0.055558232718674216,\n",
       " 'MIN_GEBAEUDEJAHR': -0.051758824063428827,\n",
       " 'LP_STATUS_FEIN_1.0': -0.050466771774367612,\n",
       " 'GFK_URLAUBERTYP_12.0': -0.05034388376111823,\n",
       " 'PLZ8_GBZ': -0.049560534470017854,\n",
       " 'CAMEO_DEUG_2015_6': -0.048051531591696228,\n",
       " 'CJT_GESAMTTYP_1.0': -0.047697285012087011,\n",
       " 'CAMEO_DEUG_2015_9': -0.046133373564211565,\n",
       " 'SHOPPER_TYP_0.0': -0.042661700108649045,\n",
       " 'CAMEO_INTL_2015_Wealth_50.0': -0.039931975859557926,\n",
       " 'SEMIO_ERL': -0.036841000888586259,\n",
       " 'FINANZ_HAUSBAUER': -0.036127760304585151,\n",
       " 'FINANZ_SPARER': -0.035452234607515738,\n",
       " 'FINANZTYP_6': -0.034351247656334086,\n",
       " 'CAMEO_INTL_2015_LifeStage_1.0': -0.033251470654566906,\n",
       " 'LP_FAMILIE_FEIN_1.0': -0.033174967019138218,\n",
       " 'LP_FAMILIE_GROB_1.0': -0.033174967019138218,\n",
       " 'FINANZTYP_3': -0.030041295604433232,\n",
       " 'ANZ_HH_TITEL': -0.029973450868773757,\n",
       " 'PRAEGENDE_JUGENDJAHRE_Date_40.0': -0.028821915611425129,\n",
       " 'KONSUMNAEHE': -0.028788470488240507,\n",
       " 'LP_STATUS_FEIN_2.0': -0.028458804939858442,\n",
       " 'FINANZTYP_1': -0.028381180814090832,\n",
       " 'LP_STATUS_FEIN_5.0': -0.028295084945827453,\n",
       " 'CAMEO_DEUG_2015_7': -0.026298696281753287,\n",
       " 'PRAEGENDE_JUGENDJAHRE_Movement': -0.026255356649250855,\n",
       " 'PLZ8_ANTG4': -0.026036102074748244,\n",
       " 'CJT_GESAMTTYP_5.0': -0.026021890172536911,\n",
       " 'GREEN_AVANTGARDE': -0.025377649068033959,\n",
       " 'PLZ8_ANTG1': -0.021688323478514619,\n",
       " 'VERS_TYP_2.0': -0.019219545981001368,\n",
       " 'HH_EINKOMMEN_SCORE': -0.013268564729022922,\n",
       " 'CAMEO_DEUG_2015_8': -0.012047179766735191,\n",
       " 'GFK_URLAUBERTYP_4.0': -0.011134178796762694,\n",
       " 'LP_STATUS_GROB_2.0': -0.01112367963242401,\n",
       " 'ZABEOTYP_3': -0.0087422019695688608,\n",
       " 'CJT_GESAMTTYP_4.0': -0.0086520247100500478,\n",
       " 'CAMEO_INTL_2015_LifeStage_2.0': -0.0084234799324111251,\n",
       " 'GFK_URLAUBERTYP_3.0': -0.0082358800357225214,\n",
       " 'FINANZ_UNAUFFAELLIGER': -0.006297960884585123,\n",
       " 'PRAEGENDE_JUGENDJAHRE_Date_50.0': -0.0038451832772937828,\n",
       " 'GEBAEUDETYP_RASTER': -0.0029593964880953046,\n",
       " 'KKK': -0.0023069120351718931,\n",
       " 'PRAEGENDE_JUGENDJAHRE_Date_80.0': 0.0015182219387748668,\n",
       " 'KBA05_ANTG3': 0.002743030616557611,\n",
       " 'SOHO_KZ': 0.0037794075597635353,\n",
       " 'LP_LEBENSPHASE_FEIN': 0.0058235052109430734,\n",
       " 'VERS_TYP_1.0': 0.0059042563113875278,\n",
       " 'PLZ8_BAUMAX': 0.0059226933797375068,\n",
       " 'GFK_URLAUBERTYP_10.0': 0.0096300284254764688,\n",
       " 'LP_LEBENSPHASE_GROB': 0.010393716591355706,\n",
       " 'WOHNDAUER_2008': 0.012123040558696035,\n",
       " 'FINANZTYP_2': 0.01237460994852539,\n",
       " 'LP_FAMILIE_FEIN_11.0': 0.014285598082139634,\n",
       " 'ZABEOTYP_2': 0.015503144793776503,\n",
       " 'ZABEOTYP_1': 0.016318939854351719,\n",
       " 'SEMIO_FAM': 0.01658595359295258,\n",
       " 'REGIOTYP': 0.018677784504347077,\n",
       " 'FINANZTYP_4': 0.020180032404063016,\n",
       " 'FINANZ_VORSORGER': 0.021560386382695994,\n",
       " 'CJT_GESAMTTYP_3.0': 0.021639508020689494,\n",
       " 'CJT_GESAMTTYP_6.0': 0.021711506276277215,\n",
       " 'LP_FAMILIE_FEIN_9.0': 0.021716564113089479,\n",
       " 'PLZ8_ANTG3': 0.022409056262138845,\n",
       " 'ZABEOTYP_5': 0.024843305844032704,\n",
       " 'CAMEO_INTL_2015_LifeStage_5.0': 0.02603146717940065,\n",
       " 'SHOPPER_TYP_1.0': 0.029439009753775953,\n",
       " 'PRAEGENDE_JUGENDJAHRE_Date_60.0': 0.029441186694712431,\n",
       " 'ANZ_PERSONEN': 0.029441223932657162,\n",
       " 'GFK_URLAUBERTYP_1.0': 0.030385081092235009,\n",
       " 'GFK_URLAUBERTYP_7.0': 0.031439211284496393,\n",
       " 'GFK_URLAUBERTYP_5.0': 0.032283628807355969,\n",
       " 'CJT_GESAMTTYP_2.0': 0.032532202097975998,\n",
       " 'LP_STATUS_FEIN_8.0': 0.035246675716529688,\n",
       " 'GFK_URLAUBERTYP_6.0': 0.037991633004909792,\n",
       " 'GFK_URLAUBERTYP_11.0': 0.040934636358077515,\n",
       " 'ANREDE_KZ': 0.04244654338314615,\n",
       " 'KBA05_ANTG1': 0.045988181154500256,\n",
       " 'CAMEO_INTL_2015_Wealth_30.0': 0.046879105248739242,\n",
       " 'CAMEO_DEUG_2015_5': 0.047651901324286317,\n",
       " 'RETOURTYP_BK_S': 0.048983130281410499,\n",
       " 'NATIONALITAET_KZ_3.0': 0.049609523677969947,\n",
       " 'SEMIO_KULT': 0.049975218063307278,\n",
       " 'ANZ_TITEL': 0.050753521487352356,\n",
       " 'PRAEGENDE_JUGENDJAHRE_Date_70.0': 0.052698684703763737,\n",
       " 'HEALTH_TYP': 0.054665747481125494,\n",
       " 'FINANZ_MINIMALIST': 0.055122654444117805,\n",
       " 'SEMIO_KRIT': 0.06164222787223967,\n",
       " 'GFK_URLAUBERTYP_8.0': 0.061758794411017191,\n",
       " 'LP_STATUS_FEIN_7.0': 0.065577319601945544,\n",
       " 'NATIONALITAET_KZ_2.0': 0.066012135267831229,\n",
       " 'MOBI_REGIO': 0.071021201555366939,\n",
       " 'SEMIO_KAEM': 0.072002342099739075,\n",
       " 'ARBEIT': 0.072837835800822648,\n",
       " 'FINANZTYP_5': 0.07624544005514039,\n",
       " 'LP_STATUS_FEIN_6.0': 0.076371394336167339,\n",
       " 'LP_FAMILIE_FEIN_10.0': 0.077126073237884174,\n",
       " 'ORTSGR_KLS9': 0.080659890174201831,\n",
       " 'LP_FAMILIE_GROB_5.0': 0.080832093305585259,\n",
       " 'CAMEO_INTL_2015_LifeStage_4.0': 0.082692258167179233,\n",
       " 'LP_STATUS_FEIN_3.0': 0.083400347121593818,\n",
       " 'EWDICHTE': 0.085083582009502765,\n",
       " 'ZABEOTYP_6': 0.089398371396134685,\n",
       " 'PLZ8_ANTG2': 0.089619425957992785,\n",
       " 'SHOPPER_TYP_2.0': 0.0901923195655608,\n",
       " 'KBA05_GBZ': 0.094182655352447381,\n",
       " 'SEMIO_REL': 0.094354355877397336,\n",
       " 'SEMIO_DOM': 0.096161459435587321,\n",
       " 'RELAT_AB': 0.099363721239051531,\n",
       " 'LP_STATUS_GROB_3.0': 0.099781068360717179,\n",
       " 'LP_STATUS_FEIN_9.0': 0.10700435522990644,\n",
       " 'SEMIO_MAT': 0.10916889692355025,\n",
       " 'LP_STATUS_GROB_4.0': 0.11505395902630668,\n",
       " 'SEMIO_TRADV': 0.11877534217411652,\n",
       " 'W_KEIT_KIND_HH': 0.12088473618232594,\n",
       " 'SEMIO_PFLICHT': 0.12797079178899862,\n",
       " 'KBA05_ANTG2': 0.12859484366926985,\n",
       " 'CAMEO_DEUG_2015_3': 0.14646915434364036,\n",
       " 'SEMIO_RAT': 0.14676739977592537,\n",
       " 'CAMEO_DEUG_2015_4': 0.16348764806013358,\n",
       " 'LP_FAMILIE_FEIN_2.0': 0.22798886488535686,\n",
       " 'LP_FAMILIE_GROB_2.0': 0.22798886488535686,\n",
       " 'CAMEO_INTL_2015_Wealth_20.0': 0.23570917243396433}"
      ]
     },
     "execution_count": 308,
     "metadata": {},
     "output_type": "execute_result"
    }
   ],
   "source": [
    "#13th cluster\n",
    "\n",
    "mapping_weights(pca,12)"
   ]
  },
  {
   "cell_type": "code",
   "execution_count": 327,
   "metadata": {},
   "outputs": [
    {
     "data": {
      "text/plain": [
       "{'ANREDE_KZ': -0.33948547592697637,\n",
       " 'SEMIO_KAEM': -0.307302846624046,\n",
       " 'SEMIO_DOM': -0.27388255900167791,\n",
       " 'SEMIO_KRIT': -0.26387357724054217,\n",
       " 'SEMIO_ERL': -0.20608390786920452,\n",
       " 'FINANZ_ANLEGER': -0.15271218442958248,\n",
       " 'SEMIO_RAT': -0.14850627984069023,\n",
       " 'FINANZTYP_1': -0.098257336763275846,\n",
       " 'SHOPPER_TYP_2.0': -0.092796583589473874,\n",
       " 'LP_STATUS_FEIN_4.0': -0.082528600636945865,\n",
       " 'LP_STATUS_FEIN_2.0': -0.078176406939704096,\n",
       " 'FINANZ_HAUSBAUER': -0.066725360569357461,\n",
       " 'INNENSTADT': -0.065693844422767531,\n",
       " 'ZABEOTYP_4': -0.059756893197829584,\n",
       " 'BALLRAUM': -0.058525039314039878,\n",
       " 'WOHNLAGE': -0.053523238748645674,\n",
       " 'LP_FAMILIE_GROB_3.0': -0.052373518193362549,\n",
       " 'FINANZ_SPARER': -0.052151366510317286,\n",
       " 'KONSUMNAEHE': -0.051883678659602327,\n",
       " 'PLZ8_ANTG1': -0.050849520548397309,\n",
       " 'SHOPPER_TYP_3.0': -0.048683848648761976,\n",
       " 'HH_EINKOMMEN_SCORE': -0.047501373272632687,\n",
       " 'ZABEOTYP_3': -0.044140269344939462,\n",
       " 'KKK': -0.041478285776787201,\n",
       " 'FINANZ_UNAUFFAELLIGER': -0.041253738071170262,\n",
       " 'GEBAEUDETYP_RASTER': -0.038755230657094658,\n",
       " 'CAMEO_INTL_2015_Wealth_20.0': -0.038106504098081688,\n",
       " 'PRAEGENDE_JUGENDJAHRE_Date_90.0': -0.037988469937869689,\n",
       " 'LP_FAMILIE_FEIN_4.0': -0.037932035598255337,\n",
       " 'PLZ8_GBZ': -0.037776119659587361,\n",
       " 'LP_STATUS_GROB_2.0': -0.03615060054385192,\n",
       " 'CJT_GESAMTTYP_2.0': -0.032897973224169909,\n",
       " 'CAMEO_DEUG_2015_4': -0.031392373796146775,\n",
       " 'NATIONALITAET_KZ_3.0': -0.02880856388744454,\n",
       " 'FINANZTYP_2': -0.028801397038795144,\n",
       " 'ZABEOTYP_5': -0.026576047236516416,\n",
       " 'LP_FAMILIE_FEIN_5.0': -0.026358817417754865,\n",
       " 'LP_FAMILIE_FEIN_3.0': -0.025123762883573306,\n",
       " 'REGIOTYP': -0.024317284591286726,\n",
       " 'GFK_URLAUBERTYP_9.0': -0.024245243441998344,\n",
       " 'CJT_GESAMTTYP_6.0': -0.02314657143368341,\n",
       " 'MOBI_REGIO': -0.022824350290643683,\n",
       " 'KBA13_ANZAHL_PKW': -0.021919964195422172,\n",
       " 'SEMIO_PFLICHT': -0.020682177556240952,\n",
       " 'GFK_URLAUBERTYP_12.0': -0.02061309219775476,\n",
       " 'CAMEO_INTL_2015_LifeStage_2.0': -0.020339319771804178,\n",
       " 'LP_STATUS_FEIN_5.0': -0.02031222834698455,\n",
       " 'KBA05_GBZ': -0.0201482527964091,\n",
       " 'CAMEO_INTL_2015_LifeStage_3.0': -0.019038751883702208,\n",
       " 'CAMEO_DEUG_2015_3': -0.018274593908108476,\n",
       " 'LP_STATUS_GROB_4.0': -0.018183702509604469,\n",
       " 'LP_STATUS_GROB_1.0': -0.017087571380715056,\n",
       " 'LP_STATUS_FEIN_9.0': -0.01667222499716824,\n",
       " 'MIN_GEBAEUDEJAHR': -0.016370490554651149,\n",
       " 'SEMIO_TRADV': -0.013169054425865155,\n",
       " 'KBA05_ANTG1': -0.013136597489022822,\n",
       " 'LP_FAMILIE_FEIN_1.0': -0.013085944105240437,\n",
       " 'LP_FAMILIE_GROB_1.0': -0.013085944105240437,\n",
       " 'GFK_URLAUBERTYP_2.0': -0.012804603148599977,\n",
       " 'KBA05_ANTG2': -0.010757009770753183,\n",
       " 'LP_FAMILIE_FEIN_7.0': -0.010206989385946752,\n",
       " 'CAMEO_DEUG_2015_6': -0.0094955341401731334,\n",
       " 'ZABEOTYP_2': -0.0094353586425821433,\n",
       " 'LP_FAMILIE_GROB_4.0': -0.0090353855005615991,\n",
       " 'LP_FAMILIE_FEIN_6.0': -0.0087422270887827693,\n",
       " 'VERS_TYP_1.0': -0.0085239778112297122,\n",
       " 'LP_STATUS_FEIN_8.0': -0.0062035103793352678,\n",
       " 'FINANZTYP_6': -0.0056138509295006024,\n",
       " 'ONLINE_AFFINITAET': -0.0055491614943146044,\n",
       " 'CAMEO_INTL_2015_LifeStage_4.0': -0.0048426703767020024,\n",
       " 'HEALTH_TYP': -0.0048239571067307347,\n",
       " 'GFK_URLAUBERTYP_11.0': -0.0035219789221260871,\n",
       " 'CAMEO_INTL_2015_Wealth_40.0': -0.0006756569665900638,\n",
       " 'PRAEGENDE_JUGENDJAHRE_Date_70.0': -0.00065093770472691775,\n",
       " 'CAMEO_DEUG_2015_7': -0.00040060875345013079,\n",
       " 'OST_WEST_KZ': -0.0001281107620153734,\n",
       " 'CAMEO_INTL_2015_Wealth_30.0': 8.0031368603597792e-05,\n",
       " 'CAMEO_DEUG_2015_5': 0.00015419906207652794,\n",
       " 'SOHO_KZ': 0.00057571840130280654,\n",
       " 'KBA05_ANTG3': 0.0011105167027389922,\n",
       " 'GFK_URLAUBERTYP_1.0': 0.0015899709871432059,\n",
       " 'LP_FAMILIE_FEIN_8.0': 0.0016123673846687647,\n",
       " 'GFK_URLAUBERTYP_7.0': 0.0019128615696903551,\n",
       " 'GFK_URLAUBERTYP_3.0': 0.0019926807098184381,\n",
       " 'LP_FAMILIE_FEIN_9.0': 0.0026979669344711996,\n",
       " 'CAMEO_INTL_2015_LifeStage_5.0': 0.0035817632270876251,\n",
       " 'GFK_URLAUBERTYP_10.0': 0.0058841422355444695,\n",
       " 'GFK_URLAUBERTYP_6.0': 0.0064423736615690222,\n",
       " 'PRAEGENDE_JUGENDJAHRE_Date_80.0': 0.0065339518777110268,\n",
       " 'CAMEO_DEUG_2015_2': 0.0071776462366161505,\n",
       " 'GFK_URLAUBERTYP_5.0': 0.0092432886757364049,\n",
       " 'NATIONALITAET_KZ_1.0': 0.0098344262566463208,\n",
       " 'CJT_GESAMTTYP_5.0': 0.010791529521714808,\n",
       " 'PRAEGENDE_JUGENDJAHRE_Date_40.0': 0.011088817137610297,\n",
       " 'LP_FAMILIE_FEIN_11.0': 0.011394485963151025,\n",
       " 'ALTERSKATEGORIE_GROB': 0.011550870945128362,\n",
       " 'GFK_URLAUBERTYP_8.0': 0.011681984027929155,\n",
       " 'FINANZTYP_4': 0.012864820068166891,\n",
       " 'CJT_GESAMTTYP_1.0': 0.012918316951481053,\n",
       " 'ANZ_HH_TITEL': 0.013622673900103249,\n",
       " 'CAMEO_DEUG_2015_8': 0.013700152791926982,\n",
       " 'ANZ_TITEL': 0.014541441482651581,\n",
       " 'CJT_GESAMTTYP_3.0': 0.014681125444482272,\n",
       " 'CJT_GESAMTTYP_4.0': 0.015567802125681211,\n",
       " 'PLZ8_HHZ': 0.015904469402754896,\n",
       " 'LP_FAMILIE_FEIN_10.0': 0.016113485274875373,\n",
       " 'CAMEO_INTL_2015_Wealth_10.0': 0.018604142367501346,\n",
       " 'ANZ_HAUSHALTE_AKTIV': 0.020192532846447332,\n",
       " 'SEMIO_LUST': 0.020464289178781101,\n",
       " 'LP_FAMILIE_GROB_5.0': 0.021156444979242621,\n",
       " 'CAMEO_DEUG_2015_1': 0.021281890475012083,\n",
       " 'WOHNDAUER_2008': 0.021466220252359312,\n",
       " 'VERS_TYP_2.0': 0.021598853146523937,\n",
       " 'LP_LEBENSPHASE_GROB': 0.021709667239618386,\n",
       " 'ANZ_PERSONEN': 0.021953956472748153,\n",
       " 'CAMEO_INTL_2015_Wealth_50.0': 0.021984347147835755,\n",
       " 'LP_LEBENSPHASE_FEIN': 0.022193982844806923,\n",
       " 'LP_STATUS_FEIN_6.0': 0.022223190437561921,\n",
       " 'CAMEO_DEUG_2015_9': 0.022657170837025373,\n",
       " 'KBA05_ANTG4': 0.022818676556281083,\n",
       " 'FINANZTYP_3': 0.022839321298565064,\n",
       " 'LP_STATUS_FEIN_7.0': 0.025539078848914713,\n",
       " 'LP_FAMILIE_FEIN_2.0': 0.026002305436763642,\n",
       " 'LP_FAMILIE_GROB_2.0': 0.026002305436763642,\n",
       " 'GFK_URLAUBERTYP_4.0': 0.026140582614745878,\n",
       " 'PRAEGENDE_JUGENDJAHRE_Date_50.0': 0.026233533037923633,\n",
       " 'PRAEGENDE_JUGENDJAHRE_Date_60.0': 0.027849738867769053,\n",
       " 'CAMEO_INTL_2015_LifeStage_1.0': 0.029832198112808413,\n",
       " 'NATIONALITAET_KZ_2.0': 0.030898584308111293,\n",
       " 'LP_STATUS_GROB_3.0': 0.032275113415689512,\n",
       " 'ARBEIT': 0.039504131609621247,\n",
       " 'PLZ8_ANTG2': 0.040423617339401044,\n",
       " 'RELAT_AB': 0.040966644848665183,\n",
       " 'LP_STATUS_FEIN_1.0': 0.042683831703194168,\n",
       " 'FINANZ_VORSORGER': 0.043772035377350325,\n",
       " 'LP_STATUS_FEIN_3.0': 0.045546943667123523,\n",
       " 'ZABEOTYP_6': 0.04756241196810046,\n",
       " 'SHOPPER_TYP_1.0': 0.049102713942707363,\n",
       " 'W_KEIT_KIND_HH': 0.05300251610361198,\n",
       " 'PLZ8_ANTG4': 0.055306342293755487,\n",
       " 'PLZ8_ANTG3': 0.055638883104845986,\n",
       " 'PLZ8_BAUMAX': 0.056398002491275398,\n",
       " 'LP_STATUS_FEIN_10.0': 0.067424762210294406,\n",
       " 'LP_STATUS_GROB_5.0': 0.067424762210294406,\n",
       " 'RETOURTYP_BK_S': 0.072853064721054545,\n",
       " 'EWDICHTE': 0.075461130513756927,\n",
       " 'ORTSGR_KLS9': 0.075952256128661397,\n",
       " 'SEMIO_MAT': 0.087477928820620582,\n",
       " 'PRAEGENDE_JUGENDJAHRE_Movement': 0.088336351062603902,\n",
       " 'GREEN_AVANTGARDE': 0.090528677131263308,\n",
       " 'SEMIO_REL': 0.11472398720246979,\n",
       " 'ZABEOTYP_1': 0.12122293201459684,\n",
       " 'SHOPPER_TYP_0.0': 0.1219730151468143,\n",
       " 'FINANZ_MINIMALIST': 0.12968512514010153,\n",
       " 'FINANZTYP_5': 0.13656018374113874,\n",
       " 'SEMIO_KULT': 0.24818378242425221,\n",
       " 'SEMIO_SOZ': 0.2557638727088109,\n",
       " 'SEMIO_FAM': 0.25694314910653426,\n",
       " 'SEMIO_VERT': 0.31536566625022061}"
      ]
     },
     "execution_count": 327,
     "metadata": {},
     "output_type": "execute_result"
    }
   ],
   "source": [
    "#3rd clusrer\n",
    "mapping_weights(pca,2)"
   ]
  },
  {
   "cell_type": "markdown",
   "metadata": {},
   "source": [
    "### Discussion 3.3: Compare Customer Data to Demographics Data\n",
    "\n",
    "By evaluating the count and bar plots above, we can see that the company's customer base is not universal. There is some mismatch between segments of population. \n",
    "\n",
    "Some of those segments seem to be overrepresented in the customer data which indicates that they are groups that the company should target.\n",
    "\n",
    "While other segments appear to be underrepresented in the customer data which indicate that these groups of people are outside the company's target demographics.\n",
    "\n",
    "One particular group that seems to be overrepresented in the customer data and the company should target is being represented by the 13th cluster (12), in the customer data and seems to have a difference of 10% from the people of the general population.\n",
    "\n",
    "By looking into the the dictionary that we created at 2.3 we can easily see that this group of people has some prevalent characteristics: \n",
    "-Positive ones are: -Are Prosperous - Are Couples -Consumption-oriented MiddleClass\n",
    "-Most negative ones: -Are Families -Housholds -are Wealthy -Upper Middle Class\n",
    "We can indeed notice that there is a negative correlation between them.\n",
    "\n",
    "Now, one group that seems to be underrepresented in the customer data and lies outside the company's target group is represented by the third cluster (2) and shows significant difference in percentage to the general population.\n",
    "\n",
    "The characteristics of this group seem to be mostly about personality types\n",
    "\n",
    "-Are dreamful -Are family-oriented -Are socially minded -Culturally Minded -Investors\n",
    "\n",
    "Their negative attributes are:\n",
    "\n",
    "-Gender. Which likely shows that their personality types are independent of their gender\n",
    "-Combative attitude -Dominant minded -Critical minded -Event oriented -Low investors\n",
    "\n",
    "We can verify the negative correlation of the characteristics.\n",
    "\n",
    "\n",
    "\n",
    "\n",
    "\n",
    "\n",
    "\n",
    "(Double-click this cell and replace this text with your own text, reporting findings and conclusions from the clustering analysis. Can we describe segments of the population that are relatively popular with the mail-order company, or relatively unpopular with the company?)"
   ]
  },
  {
   "cell_type": "markdown",
   "metadata": {},
   "source": [
    "> Congratulations on making it this far in the project! Before you finish, make sure to check through the entire notebook from top to bottom to make sure that your analysis follows a logical flow and all of your findings are documented in **Discussion** cells. Once you've checked over all of your work, you should export the notebook as an HTML document to submit for evaluation. You can do this from the menu, navigating to **File -> Download as -> HTML (.html)**. You will submit both that document and this notebook for your project submission."
   ]
  },
  {
   "cell_type": "code",
   "execution_count": null,
   "metadata": {},
   "outputs": [],
   "source": []
  }
 ],
 "metadata": {
  "kernelspec": {
   "display_name": "Python 3",
   "language": "python",
   "name": "python3"
  },
  "language_info": {
   "codemirror_mode": {
    "name": "ipython",
    "version": 3
   },
   "file_extension": ".py",
   "mimetype": "text/x-python",
   "name": "python",
   "nbconvert_exporter": "python",
   "pygments_lexer": "ipython3",
   "version": "3.6.3"
  }
 },
 "nbformat": 4,
 "nbformat_minor": 2
}
