{
 "cells": [
  {
   "cell_type": "markdown",
   "metadata": {},
   "source": [
    "# Project: Identify Customer Segments\n",
    "\n",
    "In this project, I will apply unsupervised learning techniques to identify segments of the population that form the core customer base for a mail-order sales company in Germany. These segments can then be used to direct marketing campaigns towards audiences that will have the highest expected rate of returns. The data that I will use has been provided by at Bertelsmann Arvato Analytics, and represents a real-life data science task."
   ]
  },
  {
   "cell_type": "code",
   "execution_count": 122,
   "metadata": {},
   "outputs": [],
   "source": [
    "# import libraries here; add more as necessary\n",
    "import numpy as np\n",
    "import pandas as pd\n",
    "import matplotlib.pyplot as plt\n",
    "import seaborn as sns\n",
    "from sklearn.impute import SimpleImputer\n",
    "from sklearn.preprocessing import StandardScaler\n",
    "from sklearn.decomposition import PCA\n",
    "from sklearn.cluster import KMeans\n",
    "\n",
    "\n",
    "%matplotlib inline"
   ]
  },
  {
   "cell_type": "markdown",
   "metadata": {},
   "source": [
    "### The Data\n",
    "\n",
    "There are four files associated with this project:\n",
    "\n",
    "- `Udacity_AZDIAS_Subset.csv`: Demographics data for the general population of Germany; 891211 persons (rows) x 85 features (columns).\n",
    "- `Udacity_CUSTOMERS_Subset.csv`: Demographics data for customers of a mail-order company; 191652 persons (rows) x 85 features (columns).\n",
    "- `Data_Dictionary.md`: Detailed information file about the features in the provided datasets.\n",
    "- `AZDIAS_Feature_Summary.csv`: Summary of feature attributes for demographics data; 85 features (rows) x 4 columns\n",
    "\n",
    "Each row of the demographics files represents a single person, but also includes information outside of individuals, including information about their household, building, and neighborhood. I will use this information to cluster the general population into groups with similar demographic properties. Then, I will see how the people in the customers dataset fit into those created clusters. The hope here is that certain clusters are over-represented in the customers data, as compared to the general population; those over-represented clusters will be assumed to be part of the core userbase. This information can then be used for further applications, such as targeting for a marketing campaign.\n"
   ]
  },
  {
   "cell_type": "code",
   "execution_count": 123,
   "metadata": {},
   "outputs": [],
   "source": [
    "# Load in the general demographics data.\n",
    "azdias = pd.read_csv('Udacity_AZDIAS_Subset.csv',sep=';',)\n",
    "\n",
    "# Load in the feature summary file.\n",
    "feat_info = pd.read_csv('AZDIAS_Feature_Summary.csv',sep=';')"
   ]
  },
  {
   "cell_type": "code",
   "execution_count": 124,
   "metadata": {},
   "outputs": [
    {
     "name": "stdout",
     "output_type": "stream",
     "text": [
      "Shape of Demographic data for general population: (891221, 85)\n",
      "Shape of Feature Summary for degmographic data: (85, 4)\n"
     ]
    }
   ],
   "source": [
    "print(\"Shape of Demographic data for general population:\", azdias.shape)\n",
    "print(\"Shape of Feature Summary for degmographic data:\", feat_info.shape)"
   ]
  },
  {
   "cell_type": "code",
   "execution_count": 125,
   "metadata": {},
   "outputs": [
    {
     "data": {
      "text/html": [
       "<div>\n",
       "<style scoped>\n",
       "    .dataframe tbody tr th:only-of-type {\n",
       "        vertical-align: middle;\n",
       "    }\n",
       "\n",
       "    .dataframe tbody tr th {\n",
       "        vertical-align: top;\n",
       "    }\n",
       "\n",
       "    .dataframe thead th {\n",
       "        text-align: right;\n",
       "    }\n",
       "</style>\n",
       "<table border=\"1\" class=\"dataframe\">\n",
       "  <thead>\n",
       "    <tr style=\"text-align: right;\">\n",
       "      <th></th>\n",
       "      <th>AGER_TYP</th>\n",
       "      <th>ALTERSKATEGORIE_GROB</th>\n",
       "      <th>ANREDE_KZ</th>\n",
       "      <th>CJT_GESAMTTYP</th>\n",
       "      <th>FINANZ_MINIMALIST</th>\n",
       "      <th>FINANZ_SPARER</th>\n",
       "      <th>FINANZ_VORSORGER</th>\n",
       "      <th>FINANZ_ANLEGER</th>\n",
       "      <th>FINANZ_UNAUFFAELLIGER</th>\n",
       "      <th>FINANZ_HAUSBAUER</th>\n",
       "      <th>...</th>\n",
       "      <th>PLZ8_ANTG1</th>\n",
       "      <th>PLZ8_ANTG2</th>\n",
       "      <th>PLZ8_ANTG3</th>\n",
       "      <th>PLZ8_ANTG4</th>\n",
       "      <th>PLZ8_BAUMAX</th>\n",
       "      <th>PLZ8_HHZ</th>\n",
       "      <th>PLZ8_GBZ</th>\n",
       "      <th>ARBEIT</th>\n",
       "      <th>ORTSGR_KLS9</th>\n",
       "      <th>RELAT_AB</th>\n",
       "    </tr>\n",
       "  </thead>\n",
       "  <tbody>\n",
       "    <tr>\n",
       "      <th>0</th>\n",
       "      <td>-1</td>\n",
       "      <td>2</td>\n",
       "      <td>1</td>\n",
       "      <td>2.0</td>\n",
       "      <td>3</td>\n",
       "      <td>4</td>\n",
       "      <td>3</td>\n",
       "      <td>5</td>\n",
       "      <td>5</td>\n",
       "      <td>3</td>\n",
       "      <td>...</td>\n",
       "      <td>NaN</td>\n",
       "      <td>NaN</td>\n",
       "      <td>NaN</td>\n",
       "      <td>NaN</td>\n",
       "      <td>NaN</td>\n",
       "      <td>NaN</td>\n",
       "      <td>NaN</td>\n",
       "      <td>NaN</td>\n",
       "      <td>NaN</td>\n",
       "      <td>NaN</td>\n",
       "    </tr>\n",
       "    <tr>\n",
       "      <th>1</th>\n",
       "      <td>-1</td>\n",
       "      <td>1</td>\n",
       "      <td>2</td>\n",
       "      <td>5.0</td>\n",
       "      <td>1</td>\n",
       "      <td>5</td>\n",
       "      <td>2</td>\n",
       "      <td>5</td>\n",
       "      <td>4</td>\n",
       "      <td>5</td>\n",
       "      <td>...</td>\n",
       "      <td>2.0</td>\n",
       "      <td>3.0</td>\n",
       "      <td>2.0</td>\n",
       "      <td>1.0</td>\n",
       "      <td>1.0</td>\n",
       "      <td>5.0</td>\n",
       "      <td>4.0</td>\n",
       "      <td>3.0</td>\n",
       "      <td>5.0</td>\n",
       "      <td>4.0</td>\n",
       "    </tr>\n",
       "    <tr>\n",
       "      <th>2</th>\n",
       "      <td>-1</td>\n",
       "      <td>3</td>\n",
       "      <td>2</td>\n",
       "      <td>3.0</td>\n",
       "      <td>1</td>\n",
       "      <td>4</td>\n",
       "      <td>1</td>\n",
       "      <td>2</td>\n",
       "      <td>3</td>\n",
       "      <td>5</td>\n",
       "      <td>...</td>\n",
       "      <td>3.0</td>\n",
       "      <td>3.0</td>\n",
       "      <td>1.0</td>\n",
       "      <td>0.0</td>\n",
       "      <td>1.0</td>\n",
       "      <td>4.0</td>\n",
       "      <td>4.0</td>\n",
       "      <td>3.0</td>\n",
       "      <td>5.0</td>\n",
       "      <td>2.0</td>\n",
       "    </tr>\n",
       "    <tr>\n",
       "      <th>3</th>\n",
       "      <td>2</td>\n",
       "      <td>4</td>\n",
       "      <td>2</td>\n",
       "      <td>2.0</td>\n",
       "      <td>4</td>\n",
       "      <td>2</td>\n",
       "      <td>5</td>\n",
       "      <td>2</td>\n",
       "      <td>1</td>\n",
       "      <td>2</td>\n",
       "      <td>...</td>\n",
       "      <td>2.0</td>\n",
       "      <td>2.0</td>\n",
       "      <td>2.0</td>\n",
       "      <td>0.0</td>\n",
       "      <td>1.0</td>\n",
       "      <td>3.0</td>\n",
       "      <td>4.0</td>\n",
       "      <td>2.0</td>\n",
       "      <td>3.0</td>\n",
       "      <td>3.0</td>\n",
       "    </tr>\n",
       "    <tr>\n",
       "      <th>4</th>\n",
       "      <td>-1</td>\n",
       "      <td>3</td>\n",
       "      <td>1</td>\n",
       "      <td>5.0</td>\n",
       "      <td>4</td>\n",
       "      <td>3</td>\n",
       "      <td>4</td>\n",
       "      <td>1</td>\n",
       "      <td>3</td>\n",
       "      <td>2</td>\n",
       "      <td>...</td>\n",
       "      <td>2.0</td>\n",
       "      <td>4.0</td>\n",
       "      <td>2.0</td>\n",
       "      <td>1.0</td>\n",
       "      <td>2.0</td>\n",
       "      <td>3.0</td>\n",
       "      <td>3.0</td>\n",
       "      <td>4.0</td>\n",
       "      <td>6.0</td>\n",
       "      <td>5.0</td>\n",
       "    </tr>\n",
       "  </tbody>\n",
       "</table>\n",
       "<p>5 rows × 85 columns</p>\n",
       "</div>"
      ],
      "text/plain": [
       "   AGER_TYP  ALTERSKATEGORIE_GROB  ANREDE_KZ  CJT_GESAMTTYP  \\\n",
       "0        -1                     2          1            2.0   \n",
       "1        -1                     1          2            5.0   \n",
       "2        -1                     3          2            3.0   \n",
       "3         2                     4          2            2.0   \n",
       "4        -1                     3          1            5.0   \n",
       "\n",
       "   FINANZ_MINIMALIST  FINANZ_SPARER  FINANZ_VORSORGER  FINANZ_ANLEGER  \\\n",
       "0                  3              4                 3               5   \n",
       "1                  1              5                 2               5   \n",
       "2                  1              4                 1               2   \n",
       "3                  4              2                 5               2   \n",
       "4                  4              3                 4               1   \n",
       "\n",
       "   FINANZ_UNAUFFAELLIGER  FINANZ_HAUSBAUER  ...  PLZ8_ANTG1  PLZ8_ANTG2  \\\n",
       "0                      5                 3  ...         NaN         NaN   \n",
       "1                      4                 5  ...         2.0         3.0   \n",
       "2                      3                 5  ...         3.0         3.0   \n",
       "3                      1                 2  ...         2.0         2.0   \n",
       "4                      3                 2  ...         2.0         4.0   \n",
       "\n",
       "   PLZ8_ANTG3  PLZ8_ANTG4  PLZ8_BAUMAX  PLZ8_HHZ  PLZ8_GBZ  ARBEIT  \\\n",
       "0         NaN         NaN          NaN       NaN       NaN     NaN   \n",
       "1         2.0         1.0          1.0       5.0       4.0     3.0   \n",
       "2         1.0         0.0          1.0       4.0       4.0     3.0   \n",
       "3         2.0         0.0          1.0       3.0       4.0     2.0   \n",
       "4         2.0         1.0          2.0       3.0       3.0     4.0   \n",
       "\n",
       "   ORTSGR_KLS9  RELAT_AB  \n",
       "0          NaN       NaN  \n",
       "1          5.0       4.0  \n",
       "2          5.0       2.0  \n",
       "3          3.0       3.0  \n",
       "4          6.0       5.0  \n",
       "\n",
       "[5 rows x 85 columns]"
      ]
     },
     "execution_count": 125,
     "metadata": {},
     "output_type": "execute_result"
    }
   ],
   "source": [
    "azdias.head()"
   ]
  },
  {
   "cell_type": "code",
   "execution_count": 126,
   "metadata": {},
   "outputs": [
    {
     "data": {
      "text/html": [
       "<div>\n",
       "<style scoped>\n",
       "    .dataframe tbody tr th:only-of-type {\n",
       "        vertical-align: middle;\n",
       "    }\n",
       "\n",
       "    .dataframe tbody tr th {\n",
       "        vertical-align: top;\n",
       "    }\n",
       "\n",
       "    .dataframe thead th {\n",
       "        text-align: right;\n",
       "    }\n",
       "</style>\n",
       "<table border=\"1\" class=\"dataframe\">\n",
       "  <thead>\n",
       "    <tr style=\"text-align: right;\">\n",
       "      <th></th>\n",
       "      <th>AGER_TYP</th>\n",
       "      <th>ALTERSKATEGORIE_GROB</th>\n",
       "      <th>ANREDE_KZ</th>\n",
       "      <th>CJT_GESAMTTYP</th>\n",
       "      <th>FINANZ_MINIMALIST</th>\n",
       "      <th>FINANZ_SPARER</th>\n",
       "      <th>FINANZ_VORSORGER</th>\n",
       "      <th>FINANZ_ANLEGER</th>\n",
       "      <th>FINANZ_UNAUFFAELLIGER</th>\n",
       "      <th>FINANZ_HAUSBAUER</th>\n",
       "      <th>...</th>\n",
       "      <th>PLZ8_ANTG1</th>\n",
       "      <th>PLZ8_ANTG2</th>\n",
       "      <th>PLZ8_ANTG3</th>\n",
       "      <th>PLZ8_ANTG4</th>\n",
       "      <th>PLZ8_BAUMAX</th>\n",
       "      <th>PLZ8_HHZ</th>\n",
       "      <th>PLZ8_GBZ</th>\n",
       "      <th>ARBEIT</th>\n",
       "      <th>ORTSGR_KLS9</th>\n",
       "      <th>RELAT_AB</th>\n",
       "    </tr>\n",
       "  </thead>\n",
       "  <tbody>\n",
       "    <tr>\n",
       "      <th>count</th>\n",
       "      <td>891221.000000</td>\n",
       "      <td>891221.000000</td>\n",
       "      <td>891221.000000</td>\n",
       "      <td>886367.000000</td>\n",
       "      <td>891221.000000</td>\n",
       "      <td>891221.000000</td>\n",
       "      <td>891221.000000</td>\n",
       "      <td>891221.000000</td>\n",
       "      <td>891221.000000</td>\n",
       "      <td>891221.000000</td>\n",
       "      <td>...</td>\n",
       "      <td>774706.000000</td>\n",
       "      <td>774706.000000</td>\n",
       "      <td>774706.000000</td>\n",
       "      <td>774706.000000</td>\n",
       "      <td>774706.000000</td>\n",
       "      <td>774706.000000</td>\n",
       "      <td>774706.000000</td>\n",
       "      <td>794005.000000</td>\n",
       "      <td>794005.000000</td>\n",
       "      <td>794005.00000</td>\n",
       "    </tr>\n",
       "    <tr>\n",
       "      <th>mean</th>\n",
       "      <td>-0.358435</td>\n",
       "      <td>2.777398</td>\n",
       "      <td>1.522098</td>\n",
       "      <td>3.632838</td>\n",
       "      <td>3.074528</td>\n",
       "      <td>2.821039</td>\n",
       "      <td>3.401106</td>\n",
       "      <td>3.033328</td>\n",
       "      <td>2.874167</td>\n",
       "      <td>3.075121</td>\n",
       "      <td>...</td>\n",
       "      <td>2.253330</td>\n",
       "      <td>2.801858</td>\n",
       "      <td>1.595426</td>\n",
       "      <td>0.699166</td>\n",
       "      <td>1.943913</td>\n",
       "      <td>3.612821</td>\n",
       "      <td>3.381087</td>\n",
       "      <td>3.167854</td>\n",
       "      <td>5.293002</td>\n",
       "      <td>3.07222</td>\n",
       "    </tr>\n",
       "    <tr>\n",
       "      <th>std</th>\n",
       "      <td>1.198724</td>\n",
       "      <td>1.068775</td>\n",
       "      <td>0.499512</td>\n",
       "      <td>1.595021</td>\n",
       "      <td>1.321055</td>\n",
       "      <td>1.464749</td>\n",
       "      <td>1.322134</td>\n",
       "      <td>1.529603</td>\n",
       "      <td>1.486731</td>\n",
       "      <td>1.353248</td>\n",
       "      <td>...</td>\n",
       "      <td>0.972008</td>\n",
       "      <td>0.920309</td>\n",
       "      <td>0.986736</td>\n",
       "      <td>0.727137</td>\n",
       "      <td>1.459654</td>\n",
       "      <td>0.973967</td>\n",
       "      <td>1.111598</td>\n",
       "      <td>1.002376</td>\n",
       "      <td>2.303739</td>\n",
       "      <td>1.36298</td>\n",
       "    </tr>\n",
       "    <tr>\n",
       "      <th>min</th>\n",
       "      <td>-1.000000</td>\n",
       "      <td>1.000000</td>\n",
       "      <td>1.000000</td>\n",
       "      <td>1.000000</td>\n",
       "      <td>1.000000</td>\n",
       "      <td>1.000000</td>\n",
       "      <td>1.000000</td>\n",
       "      <td>1.000000</td>\n",
       "      <td>1.000000</td>\n",
       "      <td>1.000000</td>\n",
       "      <td>...</td>\n",
       "      <td>0.000000</td>\n",
       "      <td>0.000000</td>\n",
       "      <td>0.000000</td>\n",
       "      <td>0.000000</td>\n",
       "      <td>1.000000</td>\n",
       "      <td>1.000000</td>\n",
       "      <td>1.000000</td>\n",
       "      <td>1.000000</td>\n",
       "      <td>0.000000</td>\n",
       "      <td>1.00000</td>\n",
       "    </tr>\n",
       "    <tr>\n",
       "      <th>25%</th>\n",
       "      <td>-1.000000</td>\n",
       "      <td>2.000000</td>\n",
       "      <td>1.000000</td>\n",
       "      <td>2.000000</td>\n",
       "      <td>2.000000</td>\n",
       "      <td>1.000000</td>\n",
       "      <td>3.000000</td>\n",
       "      <td>2.000000</td>\n",
       "      <td>2.000000</td>\n",
       "      <td>2.000000</td>\n",
       "      <td>...</td>\n",
       "      <td>1.000000</td>\n",
       "      <td>2.000000</td>\n",
       "      <td>1.000000</td>\n",
       "      <td>0.000000</td>\n",
       "      <td>1.000000</td>\n",
       "      <td>3.000000</td>\n",
       "      <td>3.000000</td>\n",
       "      <td>3.000000</td>\n",
       "      <td>4.000000</td>\n",
       "      <td>2.00000</td>\n",
       "    </tr>\n",
       "    <tr>\n",
       "      <th>50%</th>\n",
       "      <td>-1.000000</td>\n",
       "      <td>3.000000</td>\n",
       "      <td>2.000000</td>\n",
       "      <td>4.000000</td>\n",
       "      <td>3.000000</td>\n",
       "      <td>3.000000</td>\n",
       "      <td>3.000000</td>\n",
       "      <td>3.000000</td>\n",
       "      <td>3.000000</td>\n",
       "      <td>3.000000</td>\n",
       "      <td>...</td>\n",
       "      <td>2.000000</td>\n",
       "      <td>3.000000</td>\n",
       "      <td>2.000000</td>\n",
       "      <td>1.000000</td>\n",
       "      <td>1.000000</td>\n",
       "      <td>4.000000</td>\n",
       "      <td>3.000000</td>\n",
       "      <td>3.000000</td>\n",
       "      <td>5.000000</td>\n",
       "      <td>3.00000</td>\n",
       "    </tr>\n",
       "    <tr>\n",
       "      <th>75%</th>\n",
       "      <td>-1.000000</td>\n",
       "      <td>4.000000</td>\n",
       "      <td>2.000000</td>\n",
       "      <td>5.000000</td>\n",
       "      <td>4.000000</td>\n",
       "      <td>4.000000</td>\n",
       "      <td>5.000000</td>\n",
       "      <td>5.000000</td>\n",
       "      <td>4.000000</td>\n",
       "      <td>4.000000</td>\n",
       "      <td>...</td>\n",
       "      <td>3.000000</td>\n",
       "      <td>3.000000</td>\n",
       "      <td>2.000000</td>\n",
       "      <td>1.000000</td>\n",
       "      <td>3.000000</td>\n",
       "      <td>4.000000</td>\n",
       "      <td>4.000000</td>\n",
       "      <td>4.000000</td>\n",
       "      <td>7.000000</td>\n",
       "      <td>4.00000</td>\n",
       "    </tr>\n",
       "    <tr>\n",
       "      <th>max</th>\n",
       "      <td>3.000000</td>\n",
       "      <td>9.000000</td>\n",
       "      <td>2.000000</td>\n",
       "      <td>6.000000</td>\n",
       "      <td>5.000000</td>\n",
       "      <td>5.000000</td>\n",
       "      <td>5.000000</td>\n",
       "      <td>5.000000</td>\n",
       "      <td>5.000000</td>\n",
       "      <td>5.000000</td>\n",
       "      <td>...</td>\n",
       "      <td>4.000000</td>\n",
       "      <td>4.000000</td>\n",
       "      <td>3.000000</td>\n",
       "      <td>2.000000</td>\n",
       "      <td>5.000000</td>\n",
       "      <td>5.000000</td>\n",
       "      <td>5.000000</td>\n",
       "      <td>9.000000</td>\n",
       "      <td>9.000000</td>\n",
       "      <td>9.00000</td>\n",
       "    </tr>\n",
       "  </tbody>\n",
       "</table>\n",
       "<p>8 rows × 81 columns</p>\n",
       "</div>"
      ],
      "text/plain": [
       "            AGER_TYP  ALTERSKATEGORIE_GROB      ANREDE_KZ  CJT_GESAMTTYP  \\\n",
       "count  891221.000000         891221.000000  891221.000000  886367.000000   \n",
       "mean       -0.358435              2.777398       1.522098       3.632838   \n",
       "std         1.198724              1.068775       0.499512       1.595021   \n",
       "min        -1.000000              1.000000       1.000000       1.000000   \n",
       "25%        -1.000000              2.000000       1.000000       2.000000   \n",
       "50%        -1.000000              3.000000       2.000000       4.000000   \n",
       "75%        -1.000000              4.000000       2.000000       5.000000   \n",
       "max         3.000000              9.000000       2.000000       6.000000   \n",
       "\n",
       "       FINANZ_MINIMALIST  FINANZ_SPARER  FINANZ_VORSORGER  FINANZ_ANLEGER  \\\n",
       "count      891221.000000  891221.000000     891221.000000   891221.000000   \n",
       "mean            3.074528       2.821039          3.401106        3.033328   \n",
       "std             1.321055       1.464749          1.322134        1.529603   \n",
       "min             1.000000       1.000000          1.000000        1.000000   \n",
       "25%             2.000000       1.000000          3.000000        2.000000   \n",
       "50%             3.000000       3.000000          3.000000        3.000000   \n",
       "75%             4.000000       4.000000          5.000000        5.000000   \n",
       "max             5.000000       5.000000          5.000000        5.000000   \n",
       "\n",
       "       FINANZ_UNAUFFAELLIGER  FINANZ_HAUSBAUER  ...     PLZ8_ANTG1  \\\n",
       "count          891221.000000     891221.000000  ...  774706.000000   \n",
       "mean                2.874167          3.075121  ...       2.253330   \n",
       "std                 1.486731          1.353248  ...       0.972008   \n",
       "min                 1.000000          1.000000  ...       0.000000   \n",
       "25%                 2.000000          2.000000  ...       1.000000   \n",
       "50%                 3.000000          3.000000  ...       2.000000   \n",
       "75%                 4.000000          4.000000  ...       3.000000   \n",
       "max                 5.000000          5.000000  ...       4.000000   \n",
       "\n",
       "          PLZ8_ANTG2     PLZ8_ANTG3     PLZ8_ANTG4    PLZ8_BAUMAX  \\\n",
       "count  774706.000000  774706.000000  774706.000000  774706.000000   \n",
       "mean        2.801858       1.595426       0.699166       1.943913   \n",
       "std         0.920309       0.986736       0.727137       1.459654   \n",
       "min         0.000000       0.000000       0.000000       1.000000   \n",
       "25%         2.000000       1.000000       0.000000       1.000000   \n",
       "50%         3.000000       2.000000       1.000000       1.000000   \n",
       "75%         3.000000       2.000000       1.000000       3.000000   \n",
       "max         4.000000       3.000000       2.000000       5.000000   \n",
       "\n",
       "            PLZ8_HHZ       PLZ8_GBZ         ARBEIT    ORTSGR_KLS9  \\\n",
       "count  774706.000000  774706.000000  794005.000000  794005.000000   \n",
       "mean        3.612821       3.381087       3.167854       5.293002   \n",
       "std         0.973967       1.111598       1.002376       2.303739   \n",
       "min         1.000000       1.000000       1.000000       0.000000   \n",
       "25%         3.000000       3.000000       3.000000       4.000000   \n",
       "50%         4.000000       3.000000       3.000000       5.000000   \n",
       "75%         4.000000       4.000000       4.000000       7.000000   \n",
       "max         5.000000       5.000000       9.000000       9.000000   \n",
       "\n",
       "           RELAT_AB  \n",
       "count  794005.00000  \n",
       "mean        3.07222  \n",
       "std         1.36298  \n",
       "min         1.00000  \n",
       "25%         2.00000  \n",
       "50%         3.00000  \n",
       "75%         4.00000  \n",
       "max         9.00000  \n",
       "\n",
       "[8 rows x 81 columns]"
      ]
     },
     "execution_count": 126,
     "metadata": {},
     "output_type": "execute_result"
    }
   ],
   "source": [
    "azdias.describe()"
   ]
  },
  {
   "cell_type": "code",
   "execution_count": 127,
   "metadata": {},
   "outputs": [
    {
     "data": {
      "text/html": [
       "<div>\n",
       "<style scoped>\n",
       "    .dataframe tbody tr th:only-of-type {\n",
       "        vertical-align: middle;\n",
       "    }\n",
       "\n",
       "    .dataframe tbody tr th {\n",
       "        vertical-align: top;\n",
       "    }\n",
       "\n",
       "    .dataframe thead th {\n",
       "        text-align: right;\n",
       "    }\n",
       "</style>\n",
       "<table border=\"1\" class=\"dataframe\">\n",
       "  <thead>\n",
       "    <tr style=\"text-align: right;\">\n",
       "      <th></th>\n",
       "      <th>attribute</th>\n",
       "      <th>information_level</th>\n",
       "      <th>type</th>\n",
       "      <th>missing_or_unknown</th>\n",
       "    </tr>\n",
       "  </thead>\n",
       "  <tbody>\n",
       "    <tr>\n",
       "      <th>count</th>\n",
       "      <td>85</td>\n",
       "      <td>85</td>\n",
       "      <td>85</td>\n",
       "      <td>85</td>\n",
       "    </tr>\n",
       "    <tr>\n",
       "      <th>unique</th>\n",
       "      <td>85</td>\n",
       "      <td>9</td>\n",
       "      <td>5</td>\n",
       "      <td>9</td>\n",
       "    </tr>\n",
       "    <tr>\n",
       "      <th>top</th>\n",
       "      <td>ANZ_TITEL</td>\n",
       "      <td>person</td>\n",
       "      <td>ordinal</td>\n",
       "      <td>[-1]</td>\n",
       "    </tr>\n",
       "    <tr>\n",
       "      <th>freq</th>\n",
       "      <td>1</td>\n",
       "      <td>43</td>\n",
       "      <td>49</td>\n",
       "      <td>26</td>\n",
       "    </tr>\n",
       "  </tbody>\n",
       "</table>\n",
       "</div>"
      ],
      "text/plain": [
       "        attribute information_level     type missing_or_unknown\n",
       "count          85                85       85                 85\n",
       "unique         85                 9        5                  9\n",
       "top     ANZ_TITEL            person  ordinal               [-1]\n",
       "freq            1                43       49                 26"
      ]
     },
     "execution_count": 127,
     "metadata": {},
     "output_type": "execute_result"
    }
   ],
   "source": [
    "feat_info.describe()"
   ]
  },
  {
   "cell_type": "code",
   "execution_count": 128,
   "metadata": {},
   "outputs": [
    {
     "data": {
      "text/html": [
       "<div>\n",
       "<style scoped>\n",
       "    .dataframe tbody tr th:only-of-type {\n",
       "        vertical-align: middle;\n",
       "    }\n",
       "\n",
       "    .dataframe tbody tr th {\n",
       "        vertical-align: top;\n",
       "    }\n",
       "\n",
       "    .dataframe thead th {\n",
       "        text-align: right;\n",
       "    }\n",
       "</style>\n",
       "<table border=\"1\" class=\"dataframe\">\n",
       "  <thead>\n",
       "    <tr style=\"text-align: right;\">\n",
       "      <th></th>\n",
       "      <th>attribute</th>\n",
       "      <th>information_level</th>\n",
       "      <th>type</th>\n",
       "      <th>missing_or_unknown</th>\n",
       "    </tr>\n",
       "  </thead>\n",
       "  <tbody>\n",
       "    <tr>\n",
       "      <th>0</th>\n",
       "      <td>AGER_TYP</td>\n",
       "      <td>person</td>\n",
       "      <td>categorical</td>\n",
       "      <td>[-1,0]</td>\n",
       "    </tr>\n",
       "    <tr>\n",
       "      <th>1</th>\n",
       "      <td>ALTERSKATEGORIE_GROB</td>\n",
       "      <td>person</td>\n",
       "      <td>ordinal</td>\n",
       "      <td>[-1,0,9]</td>\n",
       "    </tr>\n",
       "    <tr>\n",
       "      <th>2</th>\n",
       "      <td>ANREDE_KZ</td>\n",
       "      <td>person</td>\n",
       "      <td>categorical</td>\n",
       "      <td>[-1,0]</td>\n",
       "    </tr>\n",
       "    <tr>\n",
       "      <th>3</th>\n",
       "      <td>CJT_GESAMTTYP</td>\n",
       "      <td>person</td>\n",
       "      <td>categorical</td>\n",
       "      <td>[0]</td>\n",
       "    </tr>\n",
       "    <tr>\n",
       "      <th>4</th>\n",
       "      <td>FINANZ_MINIMALIST</td>\n",
       "      <td>person</td>\n",
       "      <td>ordinal</td>\n",
       "      <td>[-1]</td>\n",
       "    </tr>\n",
       "  </tbody>\n",
       "</table>\n",
       "</div>"
      ],
      "text/plain": [
       "              attribute information_level         type missing_or_unknown\n",
       "0              AGER_TYP            person  categorical             [-1,0]\n",
       "1  ALTERSKATEGORIE_GROB            person      ordinal           [-1,0,9]\n",
       "2             ANREDE_KZ            person  categorical             [-1,0]\n",
       "3         CJT_GESAMTTYP            person  categorical                [0]\n",
       "4     FINANZ_MINIMALIST            person      ordinal               [-1]"
      ]
     },
     "execution_count": 128,
     "metadata": {},
     "output_type": "execute_result"
    }
   ],
   "source": [
    "feat_info.head()"
   ]
  },
  {
   "cell_type": "markdown",
   "metadata": {},
   "source": [
    "\n",
    "## Step 1: Preprocessing\n",
    "\n",
    "### Assessing Missing Data\n",
    "\n",
    "The feature summary file contains a summary of properties for each demographics data column. We will use this file to help you make cleaning decisions during this stage of the project. \n",
    "\n",
    "#### Step 1.1.1: Convert Missing Value Codes to NaNs\n",
    "The fourth column of the feature attributes summary (loaded in above as `feat_info`) documents the codes from the data dictionary that indicate missing or unknown data. While the file encodes this as a list (e.g. `[-1,0]`), this will get read in as a string object. We'll need to do a little bit of parsing to make use of it to identify and clean the data. Convert data that matches a 'missing' or 'unknown' value code into a numpy NaN value. We might want to see how much data takes on a 'missing' or 'unknown' code, and how much data is naturally missing, as a point of interest."
   ]
  },
  {
   "cell_type": "code",
   "execution_count": 130,
   "metadata": {},
   "outputs": [],
   "source": [
    "for i in range(len(feat_info)):\n",
    "    string=feat_info[\"missing_or_unknown\"][i][1:len(feat_info[\"missing_or_unknown\"][i])-1]\n",
    "    List=string.split(',')\n",
    "    \n",
    "    manual_list=[]\n",
    "        \n",
    "        \n",
    "    for j in List:\n",
    "        try:\n",
    "            x=int(j)\n",
    "            manual_list.append(x)\n",
    "        except:\n",
    "            manual_list.append(j)\n",
    "    feat_info[\"missing_or_unknown\"][i]=manual_list\n",
    "                "
   ]
  },
  {
   "cell_type": "code",
   "execution_count": 131,
   "metadata": {},
   "outputs": [],
   "source": [
    "for i in range(len(feat_info)):\n",
    "    for j in feat_info[\"missing_or_unknown\"][i]:\n",
    "        azdias[azdias.columns[i]]=azdias[azdias.columns[i]].replace(j,np.nan)"
   ]
  },
  {
   "cell_type": "code",
   "execution_count": 132,
   "metadata": {},
   "outputs": [
    {
     "name": "stdout",
     "output_type": "stream",
     "text": [
      "Total number of missing values after conversion is 8373929\n"
     ]
    }
   ],
   "source": [
    "print('Total number of missing values after conversion is {}'.format(azdias.isnull().sum().sum()))"
   ]
  },
  {
   "cell_type": "code",
   "execution_count": 133,
   "metadata": {
    "scrolled": true
   },
   "outputs": [
    {
     "data": {
      "text/plain": [
       "AGER_TYP                685843\n",
       "ALTERSKATEGORIE_GROB      2881\n",
       "ANREDE_KZ                    0\n",
       "CJT_GESAMTTYP             4854\n",
       "FINANZ_MINIMALIST            0\n",
       "                         ...  \n",
       "PLZ8_HHZ                116515\n",
       "PLZ8_GBZ                116515\n",
       "ARBEIT                   97375\n",
       "ORTSGR_KLS9              97274\n",
       "RELAT_AB                 97375\n",
       "Length: 85, dtype: int64"
      ]
     },
     "execution_count": 133,
     "metadata": {},
     "output_type": "execute_result"
    }
   ],
   "source": [
    "# Performing an assessment of how much missing data there is in each column of the\n",
    "# dataset.\n",
    "azdias.isna().sum()\n"
   ]
  },
  {
   "cell_type": "code",
   "execution_count": 134,
   "metadata": {},
   "outputs": [],
   "source": [
    "# Investigate patterns in the amount of missing data in each column."
   ]
  },
  {
   "cell_type": "code",
   "execution_count": 139,
   "metadata": {
    "scrolled": false
   },
   "outputs": [
    {
     "data": {
      "image/png": "[encoded data removed]",
      "text/plain": [
       "<Figure size 3960x1440 with 1 Axes>"
      ]
     },
     "metadata": {
      "needs_background": "light"
     },
     "output_type": "display_data"
    }
   ],
   "source": [
    "x=azdias.isna().sum()\n",
    "plt.figure(figsize=(55,20))\n",
    "plt.bar(x.sort_values(ascending=False).index,x.sort_values(ascending=False).values)\n",
    "plt.xticks(rotation=90,size=35)\n",
    "plt.title('Missing Values in each Column',size=50)\n",
    "plt.tight_layout()\n",
    "plt.show();"
   ]
  },
  {
   "cell_type": "code",
   "execution_count": 140,
   "metadata": {},
   "outputs": [
    {
     "data": {
      "image/png": "[encoded data removed]",
      "text/plain": [
       "<Figure size 432x288 with 1 Axes>"
      ]
     },
     "metadata": {
      "needs_background": "light"
     },
     "output_type": "display_data"
    }
   ],
   "source": [
    "plt.hist(x.values,bins=30,range=(0,900000));"
   ]
  },
  {
   "cell_type": "code",
   "execution_count": 141,
   "metadata": {},
   "outputs": [
    {
     "name": "stdout",
     "output_type": "stream",
     "text": [
      "TITEL_KZ        889061\n",
      "AGER_TYP        685843\n",
      "KK_KUNDENTYP    584612\n",
      "KBA05_BAUMAX    476524\n",
      "GEBURTSJAHR     392318\n",
      "ALTER_HH        310267\n",
      "dtype: int64\n"
     ]
    }
   ],
   "source": [
    "Most_Missing=x.nlargest(6)\n",
    "print(Most_Missing)"
   ]
  },
  {
   "cell_type": "code",
   "execution_count": 142,
   "metadata": {},
   "outputs": [],
   "source": [
    "#I am double checking those findings by creating a sorted dictionary with the percentage of missing values\n",
    "#per column\n",
    "\n",
    "percentage_of_nans={}\n",
    "for i in azdias.columns:\n",
    "    percentage_of_nans[i]=azdias[i].isna().sum()/len(azdias[i])\n",
    "sorted_keys=sorted(percentage_of_nans,key=percentage_of_nans.get)\n",
    "sorted_percentage={}\n",
    "for w in sorted_keys:\n",
    "    sorted_percentage[w]=percentage_of_nans[w]"
   ]
  },
  {
   "cell_type": "code",
   "execution_count": 143,
   "metadata": {},
   "outputs": [
    {
     "data": {
      "text/plain": [
       "{'ANREDE_KZ': 0.0,\n",
       " 'FINANZ_MINIMALIST': 0.0,\n",
       " 'FINANZ_SPARER': 0.0,\n",
       " 'FINANZ_VORSORGER': 0.0,\n",
       " 'FINANZ_ANLEGER': 0.0,\n",
       " 'FINANZ_UNAUFFAELLIGER': 0.0,\n",
       " 'FINANZ_HAUSBAUER': 0.0,\n",
       " 'FINANZTYP': 0.0,\n",
       " 'GREEN_AVANTGARDE': 0.0,\n",
       " 'SEMIO_SOZ': 0.0,\n",
       " 'SEMIO_FAM': 0.0,\n",
       " 'SEMIO_REL': 0.0,\n",
       " 'SEMIO_MAT': 0.0,\n",
       " 'SEMIO_VERT': 0.0,\n",
       " 'SEMIO_LUST': 0.0,\n",
       " 'SEMIO_ERL': 0.0,\n",
       " 'SEMIO_KULT': 0.0,\n",
       " 'SEMIO_RAT': 0.0,\n",
       " 'SEMIO_KRIT': 0.0,\n",
       " 'SEMIO_DOM': 0.0,\n",
       " 'SEMIO_KAEM': 0.0,\n",
       " 'SEMIO_PFLICHT': 0.0,\n",
       " 'SEMIO_TRADV': 0.0,\n",
       " 'ZABEOTYP': 0.0,\n",
       " 'ALTERSKATEGORIE_GROB': 0.0032326437550282143,\n",
       " 'CJT_GESAMTTYP': 0.005446460529992,\n",
       " 'GFK_URLAUBERTYP': 0.005446460529992,\n",
       " 'LP_STATUS_FEIN': 0.005446460529992,\n",
       " 'LP_STATUS_GROB': 0.005446460529992,\n",
       " 'RETOURTYP_BK_S': 0.005446460529992,\n",
       " 'ONLINE_AFFINITAET': 0.005446460529992,\n",
       " 'HH_EINKOMMEN_SCORE': 0.020587486156632306,\n",
       " 'SOHO_KZ': 0.08247000463409188,\n",
       " 'ANZ_PERSONEN': 0.08247000463409188,\n",
       " 'ANZ_TITEL': 0.08247000463409188,\n",
       " 'WOHNDAUER_2008': 0.08247000463409188,\n",
       " 'KONSUMNAEHE': 0.08299737102245122,\n",
       " 'LP_FAMILIE_FEIN': 0.08728699166648901,\n",
       " 'LP_FAMILIE_GROB': 0.08728699166648901,\n",
       " 'GEBAEUDETYP': 0.10451728583594866,\n",
       " 'MIN_GEBAEUDEJAHR': 0.10451728583594866,\n",
       " 'OST_WEST_KZ': 0.10451728583594866,\n",
       " 'WOHNLAGE': 0.10451728583594866,\n",
       " 'GEBAEUDETYP_RASTER': 0.10452514022896678,\n",
       " 'BALLRAUM': 0.10518154307405234,\n",
       " 'EWDICHTE': 0.10518154307405234,\n",
       " 'INNENSTADT': 0.10518154307405234,\n",
       " 'LP_LEBENSPHASE_GROB': 0.10611509378706292,\n",
       " 'ANZ_HH_TITEL': 0.10884842255736793,\n",
       " 'ORTSGR_KLS9': 0.1091468894920564,\n",
       " 'ARBEIT': 0.10926021716274639,\n",
       " 'RELAT_AB': 0.10926021716274639,\n",
       " 'LP_LEBENSPHASE_FEIN': 0.10954858559212585,\n",
       " 'CAMEO_DEUG_2015': 0.11147852216229195,\n",
       " 'CAMEO_DEU_2015': 0.11147852216229195,\n",
       " 'CAMEO_INTL_2015': 0.11147852216229195,\n",
       " 'ANZ_HAUSHALTE_AKTIV': 0.11176913470396231,\n",
       " 'KBA13_ANZAHL_PKW': 0.11871354018812394,\n",
       " 'PRAEGENDE_JUGENDJAHRE': 0.12136608091595687,\n",
       " 'NATIONALITAET_KZ': 0.12153551139391913,\n",
       " 'HEALTH_TYP': 0.12476815514894735,\n",
       " 'SHOPPER_TYP': 0.12476815514894735,\n",
       " 'VERS_TYP': 0.12476815514894735,\n",
       " 'PLZ8_ANTG1': 0.13073637178657146,\n",
       " 'PLZ8_ANTG2': 0.13073637178657146,\n",
       " 'PLZ8_ANTG3': 0.13073637178657146,\n",
       " 'PLZ8_ANTG4': 0.13073637178657146,\n",
       " 'PLZ8_BAUMAX': 0.13073637178657146,\n",
       " 'PLZ8_HHZ': 0.13073637178657146,\n",
       " 'PLZ8_GBZ': 0.13073637178657146,\n",
       " 'KBA05_ANTG1': 0.14959701353536328,\n",
       " 'KBA05_ANTG2': 0.14959701353536328,\n",
       " 'KBA05_ANTG3': 0.14959701353536328,\n",
       " 'KBA05_ANTG4': 0.14959701353536328,\n",
       " 'KBA05_GBZ': 0.14959701353536328,\n",
       " 'MOBI_REGIO': 0.14959701353536328,\n",
       " 'W_KEIT_KIND_HH': 0.16605084485217472,\n",
       " 'KKK': 0.17735668257368262,\n",
       " 'REGIOTYP': 0.17735668257368262,\n",
       " 'ALTER_HH': 0.34813699407890975,\n",
       " 'GEBURTSJAHR': 0.4402028228688507,\n",
       " 'KBA05_BAUMAX': 0.5346866826522265,\n",
       " 'KK_KUNDENTYP': 0.6559674873011295,\n",
       " 'AGER_TYP': 0.7695543529607134,\n",
       " 'TITEL_KZ': 0.9975763587258379}"
      ]
     },
     "execution_count": 143,
     "metadata": {},
     "output_type": "execute_result"
    }
   ],
   "source": [
    "#showing the dictionary. As we can see, the highest % columns are the same with the outliers\n",
    "#that we found before.\n",
    "sorted_percentage"
   ]
  },
  {
   "cell_type": "code",
   "execution_count": 144,
   "metadata": {},
   "outputs": [
    {
     "data": {
      "text/plain": [
       "count        85.000000\n",
       "mean      98516.811765\n",
       "std      146604.203317\n",
       "min           0.000000\n",
       "25%           0.000000\n",
       "50%       93148.000000\n",
       "75%      116515.000000\n",
       "max      889061.000000\n",
       "dtype: float64"
      ]
     },
     "execution_count": 144,
     "metadata": {},
     "output_type": "execute_result"
    }
   ],
   "source": [
    "x.describe()"
   ]
  },
  {
   "cell_type": "code",
   "execution_count": 145,
   "metadata": {},
   "outputs": [],
   "source": [
    "# Remove the outlier columns from the dataset. (You'll perform other data\n",
    "# engineering tasks such as re-encoding and imputation later.)\n",
    "\n"
   ]
  },
  {
   "cell_type": "code",
   "execution_count": 146,
   "metadata": {},
   "outputs": [
    {
     "data": {
      "text/plain": [
       "(891221, 79)"
      ]
     },
     "execution_count": 146,
     "metadata": {},
     "output_type": "execute_result"
    }
   ],
   "source": [
    "#Drop the outliers\n",
    "\n",
    "for column in Most_Missing.index:\n",
    "    azdias.drop(labels=column,axis=1,inplace=True)\n",
    "azdias.shape"
   ]
  },
  {
   "cell_type": "code",
   "execution_count": 147,
   "metadata": {},
   "outputs": [],
   "source": [
    "m=azdias.isnull().sum()"
   ]
  },
  {
   "cell_type": "code",
   "execution_count": 148,
   "metadata": {},
   "outputs": [
    {
     "data": {
      "image/png": "[encoded data removed]",
      "text/plain": [
       "<Figure size 432x288 with 1 Axes>"
      ]
     },
     "metadata": {
      "needs_background": "light"
     },
     "output_type": "display_data"
    }
   ],
   "source": [
    "m.hist();"
   ]
  },
  {
   "cell_type": "code",
   "execution_count": 149,
   "metadata": {},
   "outputs": [
    {
     "name": "stdout",
     "output_type": "stream",
     "text": [
      "0         24\n",
      "116515     7\n",
      "133324     6\n",
      "4854       6\n",
      "93148      4\n",
      "73499      4\n",
      "99352      3\n",
      "93740      3\n",
      "111196     3\n",
      "97375      2\n",
      "77792      2\n",
      "158064     2\n",
      "2881       1\n",
      "108164     1\n",
      "99611      1\n",
      "18348      1\n",
      "97632      1\n",
      "93155      1\n",
      "108315     1\n",
      "94572      1\n",
      "97008      1\n",
      "73969      1\n",
      "147988     1\n",
      "97274      1\n",
      "105800     1\n",
      "dtype: int64\n"
     ]
    }
   ],
   "source": [
    "y=m.value_counts()\n",
    "print(y)"
   ]
  },
  {
   "cell_type": "code",
   "execution_count": 150,
   "metadata": {},
   "outputs": [],
   "source": [
    "#I create a dictionary with the groups of features that appear to have the same amount of missing values\n",
    "# Just in case I may need to refer to it later\n",
    "\n",
    "dict_of_missing={}\n",
    "for index in y.head(12).index:\n",
    "    for i in range(len(x)):\n",
    "        if index==x.values[i]:\n",
    "            if index not in dict_of_missing:\n",
    "                dict_of_missing[index]=[]\n",
    "                dict_of_missing[index].append(x.index[i])\n",
    "            else:\n",
    "                dict_of_missing[index].append(x.index[i])"
   ]
  },
  {
   "cell_type": "code",
   "execution_count": 151,
   "metadata": {},
   "outputs": [
    {
     "data": {
      "text/plain": [
       "{0: ['ANREDE_KZ',\n",
       "  'FINANZ_MINIMALIST',\n",
       "  'FINANZ_SPARER',\n",
       "  'FINANZ_VORSORGER',\n",
       "  'FINANZ_ANLEGER',\n",
       "  'FINANZ_UNAUFFAELLIGER',\n",
       "  'FINANZ_HAUSBAUER',\n",
       "  'FINANZTYP',\n",
       "  'GREEN_AVANTGARDE',\n",
       "  'SEMIO_SOZ',\n",
       "  'SEMIO_FAM',\n",
       "  'SEMIO_REL',\n",
       "  'SEMIO_MAT',\n",
       "  'SEMIO_VERT',\n",
       "  'SEMIO_LUST',\n",
       "  'SEMIO_ERL',\n",
       "  'SEMIO_KULT',\n",
       "  'SEMIO_RAT',\n",
       "  'SEMIO_KRIT',\n",
       "  'SEMIO_DOM',\n",
       "  'SEMIO_KAEM',\n",
       "  'SEMIO_PFLICHT',\n",
       "  'SEMIO_TRADV',\n",
       "  'ZABEOTYP'],\n",
       " 116515: ['PLZ8_ANTG1',\n",
       "  'PLZ8_ANTG2',\n",
       "  'PLZ8_ANTG3',\n",
       "  'PLZ8_ANTG4',\n",
       "  'PLZ8_BAUMAX',\n",
       "  'PLZ8_HHZ',\n",
       "  'PLZ8_GBZ'],\n",
       " 133324: ['KBA05_ANTG1',\n",
       "  'KBA05_ANTG2',\n",
       "  'KBA05_ANTG3',\n",
       "  'KBA05_ANTG4',\n",
       "  'KBA05_GBZ',\n",
       "  'MOBI_REGIO'],\n",
       " 4854: ['CJT_GESAMTTYP',\n",
       "  'GFK_URLAUBERTYP',\n",
       "  'LP_STATUS_FEIN',\n",
       "  'LP_STATUS_GROB',\n",
       "  'RETOURTYP_BK_S',\n",
       "  'ONLINE_AFFINITAET'],\n",
       " 93148: ['GEBAEUDETYP', 'MIN_GEBAEUDEJAHR', 'OST_WEST_KZ', 'WOHNLAGE'],\n",
       " 73499: ['SOHO_KZ', 'ANZ_PERSONEN', 'ANZ_TITEL', 'WOHNDAUER_2008'],\n",
       " 99352: ['CAMEO_DEUG_2015', 'CAMEO_DEU_2015', 'CAMEO_INTL_2015'],\n",
       " 93740: ['BALLRAUM', 'EWDICHTE', 'INNENSTADT'],\n",
       " 111196: ['HEALTH_TYP', 'SHOPPER_TYP', 'VERS_TYP'],\n",
       " 97375: ['ARBEIT', 'RELAT_AB'],\n",
       " 77792: ['LP_FAMILIE_FEIN', 'LP_FAMILIE_GROB'],\n",
       " 158064: ['KKK', 'REGIOTYP']}"
      ]
     },
     "execution_count": 151,
     "metadata": {},
     "output_type": "execute_result"
    }
   ],
   "source": [
    "dict_of_missing"
   ]
  },
  {
   "cell_type": "markdown",
   "metadata": {},
   "source": [
    "#### Discussion: Assess Missing Data in Each Column\n",
    "\n",
    "From the bar graph above we notice that there are 6 columns/features with significantly more missing values than the rest. Those are the outliers that will be removed: \n",
    "\n",
    "TITEL_KZ        889061, \n",
    "AGER_TYP        685843, \n",
    "KK_KUNDENTYP    584612, \n",
    "KBA05_BAUMAX    476524, \n",
    "GEBURTSJAHR     392318, \n",
    "ALTER_HH        310267\n",
    "\n",
    "In addition, from the first histogram and the examination of the data we are able to see that most labels have missing values up to ~117.000 and their distribution is positively skewd. The 6 outliers are again visible towards the tail of the distribution.\n",
    "\n",
    "After dropping the outliers, we notice in the second histogram that there's a dense group of labels around 0 missing values and a group around 60000-160000 that seem to follow a normal distribution and then they are being verified by checking their percentages\n",
    "\n",
    "By looking further into them we notice that there are several clusters of features with the same exact number of missing values. Those are features that may have something in common and we stored them in the dictionary dict_of_missing just in case we need them later.\n",
    "24 of them appear to have exact 0 missing values which mostly explains the first dense group in the second histogram.\n",
    "We also notice that their names in each group are very similar and by checking the data_dictionary file we can verify that they are talking about the same thing (eg financial,family,personality typologies etc).\n",
    "\n"
   ]
  },
  {
   "cell_type": "markdown",
   "metadata": {},
   "source": [
    "#### Assessing Missing Data in Each Row\n",
    "\n",
    "Now, we'll perform a similar assessment for the rows of the dataset. \n",
    "\n",
    "Depending on what we observe in our comparison, this will have implications on how we approach our conclusions later in the analysis. If the distributions of non-missing features look similar between the data with many missing values and the data with few or no missing values, then we could argue that simply dropping those points from the analysis won't present a major issue. On the other hand, if the data with many missing values looks very different from the data with few or no missing values, then we should make a note on those data as special."
   ]
  },
  {
   "cell_type": "code",
   "execution_count": 152,
   "metadata": {
    "scrolled": false
   },
   "outputs": [
    {
     "name": "stdout",
     "output_type": "stream",
     "text": [
      "0    43\n",
      "1     0\n",
      "2     0\n",
      "3     7\n",
      "4     0\n",
      "dtype: int64\n"
     ]
    },
    {
     "data": {
      "image/png": "[encoded data removed]",
      "text/plain": [
       "<Figure size 432x288 with 1 Axes>"
      ]
     },
     "metadata": {
      "needs_background": "light"
     },
     "output_type": "display_data"
    }
   ],
   "source": [
    "# How much data is missing in each row of the dataset?\n",
    "rm=azdias.isna().sum(axis=1)\n",
    "rm.hist()\n",
    "print(rm.head())"
   ]
  },
  {
   "cell_type": "code",
   "execution_count": 153,
   "metadata": {},
   "outputs": [
    {
     "name": "stdout",
     "output_type": "stream",
     "text": [
      "69.9275488346886\n",
      "71.69344079639058\n",
      "74.82689478816141\n",
      "76.80496756696712\n",
      "78.21954374953015\n",
      "80.74585316100047\n",
      "82.29103667889333\n",
      "83.82982447675717\n",
      "86.5891849496365\n",
      "Rows with less than 9  missing values, include 86.5891849496365 of the total data\n"
     ]
    }
   ],
   "source": [
    "#Finding out at how many missing values per row, we can include a certain % of the data.\n",
    "\n",
    "threshold=1\n",
    "while True:\n",
    "    percentage=0\n",
    "    count=0\n",
    "    for i in rm:\n",
    "        if i<threshold:\n",
    "            count+=1\n",
    "    percentage=(count/len(rm))*100\n",
    "    print(percentage)\n",
    "    if percentage>85:\n",
    "        print(\"Rows with less than\", threshold, ' missing values, include',percentage,'of the total data')\n",
    "        break\n",
    "    else:\n",
    "        threshold=threshold+1"
   ]
  },
  {
   "cell_type": "code",
   "execution_count": 154,
   "metadata": {},
   "outputs": [],
   "source": [
    "# Write code to divide the data into two subsets based on the number of missing\n",
    "# values in each row.\n",
    "subset1=azdias[rm<threshold]\n",
    "subset2=azdias[rm>=threshold]"
   ]
  },
  {
   "cell_type": "code",
   "execution_count": 155,
   "metadata": {},
   "outputs": [
    {
     "data": {
      "text/plain": [
       "(771701, 79)"
      ]
     },
     "execution_count": 155,
     "metadata": {},
     "output_type": "execute_result"
    }
   ],
   "source": [
    "subset1.shape"
   ]
  },
  {
   "cell_type": "code",
   "execution_count": 156,
   "metadata": {},
   "outputs": [],
   "source": [
    "# Compare the distribution of values for at least five columns where there are\n",
    "# no or few missing values, between the two subsets.\n"
   ]
  },
  {
   "cell_type": "code",
   "execution_count": 157,
   "metadata": {
    "scrolled": true
   },
   "outputs": [
    {
     "data": {
      "image/png": "[encoded data removed]",
      "text/plain": [
       "<Figure size 432x288 with 2 Axes>"
      ]
     },
     "metadata": {
      "needs_background": "light"
     },
     "output_type": "display_data"
    },
    {
     "data": {
      "image/png": "[encoded data removed]",
      "text/plain": [
       "<Figure size 432x288 with 2 Axes>"
      ]
     },
     "metadata": {
      "needs_background": "light"
     },
     "output_type": "display_data"
    },
    {
     "data": {
      "image/png": "[encoded data removed]",
      "text/plain": [
       "<Figure size 432x288 with 2 Axes>"
      ]
     },
     "metadata": {
      "needs_background": "light"
     },
     "output_type": "display_data"
    },
    {
     "data": {
      "image/png": "[encoded data removed]",
      "text/plain": [
       "<Figure size 432x288 with 2 Axes>"
      ]
     },
     "metadata": {
      "needs_background": "light"
     },
     "output_type": "display_data"
    },
    {
     "data": {
      "image/png": "[encoded data removed]",
      "text/plain": [
       "<Figure size 432x288 with 2 Axes>"
      ]
     },
     "metadata": {
      "needs_background": "light"
     },
     "output_type": "display_data"
    },
    {
     "data": {
      "image/png": "[encoded data removed]",
      "text/plain": [
       "<Figure size 432x288 with 2 Axes>"
      ]
     },
     "metadata": {
      "needs_background": "light"
     },
     "output_type": "display_data"
    },
    {
     "data": {
      "image/png": "[encoded data removed]",
      "text/plain": [
       "<Figure size 432x288 with 2 Axes>"
      ]
     },
     "metadata": {
      "needs_background": "light"
     },
     "output_type": "display_data"
    },
    {
     "data": {
      "image/png": "[encoded data removed]",
      "text/plain": [
       "<Figure size 432x288 with 2 Axes>"
      ]
     },
     "metadata": {
      "needs_background": "light"
     },
     "output_type": "display_data"
    },
    {
     "data": {
      "image/png": "[encoded data removed]",
      "text/plain": [
       "<Figure size 432x288 with 2 Axes>"
      ]
     },
     "metadata": {
      "needs_background": "light"
     },
     "output_type": "display_data"
    },
    {
     "data": {
      "image/png": "[encoded data removed]",
      "text/plain": [
       "<Figure size 432x288 with 2 Axes>"
      ]
     },
     "metadata": {
      "needs_background": "light"
     },
     "output_type": "display_data"
    }
   ],
   "source": [
    "for i in dict_of_missing[0][0:10]:\n",
    "    fig,ax=plt.subplots(1,2)\n",
    "    ax[0].title.set_text(\"Subset1\")\n",
    "    ax[1].title.set_text(\"Subset2\")\n",
    "    sns.countplot(x=subset1[i],data=subset1,ax=ax[0])\n",
    "    sns.countplot(x=subset2[i],data=subset2,ax=ax[1])\n",
    "    plt.tight_layout()"
   ]
  },
  {
   "cell_type": "markdown",
   "metadata": {},
   "source": [
    "#### Discussion: Assess Missing Data in Each Row\n",
    "\n",
    "As we saw, rows with less than 11 missing values are able to include more than 87% of the data. Therefore we divided the data into two subsets with ~87% of the data being the subset of no or few missing values, and ~13% of the data points being the subset of more missing values.\n",
    "\n",
    "Then we compared the distributions on each subset of 10 features that have zero missing values. For that purpose we used the dictionary dict_of_missing where groups of features with the same amount of missing values were stored.\n",
    "\n",
    "By observing the results we can see that for most features the distributions show significant differences between the two subsets. 2 of them are very similar, like the GREEN_AVANTGARDE and the ANREDE_KZ. While some others show some similarities like the high Green column of FINANZ_MINIMALIST."
   ]
  },
  {
   "cell_type": "markdown",
   "metadata": {},
   "source": [
    "###  Select and Re-Encode Features\n",
    "\n",
    "We need to make a few encoding changes or additional assumptions to be able to make progress. In addition, while almost all of the values in the dataset are encoded using numbers, not all of them represent numeric values\n",
    "\n",
    "- For numeric and interval data, these features can be kept without changes.\n",
    "- Most of the variables in the dataset are ordinal in nature. While ordinal values may technically be non-linear in spacing, make the simplifying assumption that the ordinal variables can be treated as being interval in nature (that is, kept without any changes).\n",
    "- Special handling may be necessary for the remaining two variable types: categorical, and 'mixed'.\n",
    "\n",
    "In the first two parts of this sub-step, we will perform an investigation of the categorical and mixed-type features and make a decision on each of them, whether we will keep, drop, or re-encode each. Then, in the last part, we will create a new data frame with only the selected and engineered columns."
   ]
  },
  {
   "cell_type": "code",
   "execution_count": 158,
   "metadata": {},
   "outputs": [
    {
     "data": {
      "text/plain": [
       "array(['categorical', 'ordinal', 'numeric', 'mixed', 'interval'],\n",
       "      dtype=object)"
      ]
     },
     "execution_count": 158,
     "metadata": {},
     "output_type": "execute_result"
    }
   ],
   "source": [
    "#Checking all the different kinds of types:\n",
    "\n",
    "feat_info[\"type\"].unique()"
   ]
  },
  {
   "cell_type": "code",
   "execution_count": 159,
   "metadata": {},
   "outputs": [
    {
     "data": {
      "text/plain": [
       "ordinal        49\n",
       "categorical    21\n",
       "mixed           7\n",
       "numeric         7\n",
       "interval        1\n",
       "Name: type, dtype: int64"
      ]
     },
     "execution_count": 159,
     "metadata": {},
     "output_type": "execute_result"
    }
   ],
   "source": [
    "# How many features are there of each data type?\n",
    "\n",
    "feat_info[\"type\"].value_counts()\n"
   ]
  },
  {
   "cell_type": "markdown",
   "metadata": {},
   "source": [
    "####  Re-Encode Categorical Features\n",
    "\n",
    "For categorical data, we would ordinarily need to encode the levels as dummy variables. Depending on the number of categories, we will perform one of the following:\n",
    "- For binary (two-level) categoricals that take numeric values, we can keep them without needing to do anything.\n",
    "- There is one binary variable that takes on non-numeric values. For this one, we need to re-encode the values as numbers or create a dummy variable.\n",
    "- For multi-level categoricals (three or more values), we can choose to encode the values using multiple dummy variables (e.g. via [OneHotEncoder](http://scikit-learn.org/stable/modules/generated/sklearn.preprocessing.OneHotEncoder.html)), or (to keep things straightforward) just drop them from the analysis. "
   ]
  },
  {
   "cell_type": "code",
   "execution_count": 161,
   "metadata": {},
   "outputs": [
    {
     "data": {
      "text/html": [
       "<div>\n",
       "<style scoped>\n",
       "    .dataframe tbody tr th:only-of-type {\n",
       "        vertical-align: middle;\n",
       "    }\n",
       "\n",
       "    .dataframe tbody tr th {\n",
       "        vertical-align: top;\n",
       "    }\n",
       "\n",
       "    .dataframe thead th {\n",
       "        text-align: right;\n",
       "    }\n",
       "</style>\n",
       "<table border=\"1\" class=\"dataframe\">\n",
       "  <thead>\n",
       "    <tr style=\"text-align: right;\">\n",
       "      <th></th>\n",
       "      <th>attribute</th>\n",
       "      <th>information_level</th>\n",
       "      <th>type</th>\n",
       "      <th>missing_or_unknown</th>\n",
       "    </tr>\n",
       "  </thead>\n",
       "  <tbody>\n",
       "    <tr>\n",
       "      <th>0</th>\n",
       "      <td>AGER_TYP</td>\n",
       "      <td>person</td>\n",
       "      <td>categorical</td>\n",
       "      <td>[-1, 0]</td>\n",
       "    </tr>\n",
       "    <tr>\n",
       "      <th>2</th>\n",
       "      <td>ANREDE_KZ</td>\n",
       "      <td>person</td>\n",
       "      <td>categorical</td>\n",
       "      <td>[-1, 0]</td>\n",
       "    </tr>\n",
       "    <tr>\n",
       "      <th>3</th>\n",
       "      <td>CJT_GESAMTTYP</td>\n",
       "      <td>person</td>\n",
       "      <td>categorical</td>\n",
       "      <td>[0]</td>\n",
       "    </tr>\n",
       "    <tr>\n",
       "      <th>10</th>\n",
       "      <td>FINANZTYP</td>\n",
       "      <td>person</td>\n",
       "      <td>categorical</td>\n",
       "      <td>[-1]</td>\n",
       "    </tr>\n",
       "    <tr>\n",
       "      <th>12</th>\n",
       "      <td>GFK_URLAUBERTYP</td>\n",
       "      <td>person</td>\n",
       "      <td>categorical</td>\n",
       "      <td>[]</td>\n",
       "    </tr>\n",
       "    <tr>\n",
       "      <th>13</th>\n",
       "      <td>GREEN_AVANTGARDE</td>\n",
       "      <td>person</td>\n",
       "      <td>categorical</td>\n",
       "      <td>[]</td>\n",
       "    </tr>\n",
       "    <tr>\n",
       "      <th>17</th>\n",
       "      <td>LP_FAMILIE_FEIN</td>\n",
       "      <td>person</td>\n",
       "      <td>categorical</td>\n",
       "      <td>[0]</td>\n",
       "    </tr>\n",
       "    <tr>\n",
       "      <th>18</th>\n",
       "      <td>LP_FAMILIE_GROB</td>\n",
       "      <td>person</td>\n",
       "      <td>categorical</td>\n",
       "      <td>[0]</td>\n",
       "    </tr>\n",
       "    <tr>\n",
       "      <th>19</th>\n",
       "      <td>LP_STATUS_FEIN</td>\n",
       "      <td>person</td>\n",
       "      <td>categorical</td>\n",
       "      <td>[0]</td>\n",
       "    </tr>\n",
       "    <tr>\n",
       "      <th>20</th>\n",
       "      <td>LP_STATUS_GROB</td>\n",
       "      <td>person</td>\n",
       "      <td>categorical</td>\n",
       "      <td>[0]</td>\n",
       "    </tr>\n",
       "    <tr>\n",
       "      <th>21</th>\n",
       "      <td>NATIONALITAET_KZ</td>\n",
       "      <td>person</td>\n",
       "      <td>categorical</td>\n",
       "      <td>[-1, 0]</td>\n",
       "    </tr>\n",
       "    <tr>\n",
       "      <th>38</th>\n",
       "      <td>SHOPPER_TYP</td>\n",
       "      <td>person</td>\n",
       "      <td>categorical</td>\n",
       "      <td>[-1]</td>\n",
       "    </tr>\n",
       "    <tr>\n",
       "      <th>39</th>\n",
       "      <td>SOHO_KZ</td>\n",
       "      <td>person</td>\n",
       "      <td>categorical</td>\n",
       "      <td>[-1]</td>\n",
       "    </tr>\n",
       "    <tr>\n",
       "      <th>40</th>\n",
       "      <td>TITEL_KZ</td>\n",
       "      <td>person</td>\n",
       "      <td>categorical</td>\n",
       "      <td>[-1, 0]</td>\n",
       "    </tr>\n",
       "    <tr>\n",
       "      <th>41</th>\n",
       "      <td>VERS_TYP</td>\n",
       "      <td>person</td>\n",
       "      <td>categorical</td>\n",
       "      <td>[-1]</td>\n",
       "    </tr>\n",
       "    <tr>\n",
       "      <th>42</th>\n",
       "      <td>ZABEOTYP</td>\n",
       "      <td>person</td>\n",
       "      <td>categorical</td>\n",
       "      <td>[-1, 9]</td>\n",
       "    </tr>\n",
       "    <tr>\n",
       "      <th>47</th>\n",
       "      <td>KK_KUNDENTYP</td>\n",
       "      <td>household</td>\n",
       "      <td>categorical</td>\n",
       "      <td>[-1]</td>\n",
       "    </tr>\n",
       "    <tr>\n",
       "      <th>52</th>\n",
       "      <td>GEBAEUDETYP</td>\n",
       "      <td>building</td>\n",
       "      <td>categorical</td>\n",
       "      <td>[-1, 0]</td>\n",
       "    </tr>\n",
       "    <tr>\n",
       "      <th>55</th>\n",
       "      <td>OST_WEST_KZ</td>\n",
       "      <td>building</td>\n",
       "      <td>categorical</td>\n",
       "      <td>[-1]</td>\n",
       "    </tr>\n",
       "    <tr>\n",
       "      <th>57</th>\n",
       "      <td>CAMEO_DEUG_2015</td>\n",
       "      <td>microcell_rr4</td>\n",
       "      <td>categorical</td>\n",
       "      <td>[-1, X]</td>\n",
       "    </tr>\n",
       "    <tr>\n",
       "      <th>58</th>\n",
       "      <td>CAMEO_DEU_2015</td>\n",
       "      <td>microcell_rr4</td>\n",
       "      <td>categorical</td>\n",
       "      <td>[XX]</td>\n",
       "    </tr>\n",
       "  </tbody>\n",
       "</table>\n",
       "</div>"
      ],
      "text/plain": [
       "           attribute information_level         type missing_or_unknown\n",
       "0           AGER_TYP            person  categorical            [-1, 0]\n",
       "2          ANREDE_KZ            person  categorical            [-1, 0]\n",
       "3      CJT_GESAMTTYP            person  categorical                [0]\n",
       "10         FINANZTYP            person  categorical               [-1]\n",
       "12   GFK_URLAUBERTYP            person  categorical                 []\n",
       "13  GREEN_AVANTGARDE            person  categorical                 []\n",
       "17   LP_FAMILIE_FEIN            person  categorical                [0]\n",
       "18   LP_FAMILIE_GROB            person  categorical                [0]\n",
       "19    LP_STATUS_FEIN            person  categorical                [0]\n",
       "20    LP_STATUS_GROB            person  categorical                [0]\n",
       "21  NATIONALITAET_KZ            person  categorical            [-1, 0]\n",
       "38       SHOPPER_TYP            person  categorical               [-1]\n",
       "39           SOHO_KZ            person  categorical               [-1]\n",
       "40          TITEL_KZ            person  categorical            [-1, 0]\n",
       "41          VERS_TYP            person  categorical               [-1]\n",
       "42          ZABEOTYP            person  categorical            [-1, 9]\n",
       "47      KK_KUNDENTYP         household  categorical               [-1]\n",
       "52       GEBAEUDETYP          building  categorical            [-1, 0]\n",
       "55       OST_WEST_KZ          building  categorical               [-1]\n",
       "57   CAMEO_DEUG_2015     microcell_rr4  categorical            [-1, X]\n",
       "58    CAMEO_DEU_2015     microcell_rr4  categorical               [XX]"
      ]
     },
     "execution_count": 161,
     "metadata": {},
     "output_type": "execute_result"
    }
   ],
   "source": [
    "#storing all categorical attributes from feat_info to a variable called categoricals\n",
    "\n",
    "categoricals=feat_info[feat_info[\"type\"]=='categorical']\n",
    "categoricals"
   ]
  },
  {
   "cell_type": "code",
   "execution_count": 162,
   "metadata": {},
   "outputs": [
    {
     "name": "stderr",
     "output_type": "stream",
     "text": [
      "C:\\Users\\lefteris\\anaconda3\\lib\\site-packages\\pandas\\core\\frame.py:4308: SettingWithCopyWarning: \n",
      "A value is trying to be set on a copy of a slice from a DataFrame\n",
      "\n",
      "See the caveats in the documentation: https://pandas.pydata.org/pandas-docs/stable/user_guide/indexing.html#returning-a-view-versus-a-copy\n",
      "  return super().drop(\n"
     ]
    },
    {
     "name": "stdout",
     "output_type": "stream",
     "text": [
      "ANREDE_KZ [2 1]\n",
      "CJT_GESAMTTYP [5. 3. 2. 4. 1. 6.]\n",
      "FINANZTYP [1 6 5 2 4 3]\n",
      "GFK_URLAUBERTYP [10.  1.  5. 12.  9.  3.  8. 11.  4.  7.  2.  6.]\n",
      "GREEN_AVANTGARDE [0 1]\n",
      "LP_FAMILIE_FEIN [ 5.  1. nan 10.  2.  7. 11.  8.  4.  6.  9.  3.]\n",
      "LP_FAMILIE_GROB [ 3.  1. nan  5.  2.  4.]\n",
      "LP_STATUS_FEIN [ 2.  3.  9.  4.  1. 10.  5.  8.  6.  7.]\n",
      "LP_STATUS_GROB [1. 2. 4. 5. 3.]\n",
      "NATIONALITAET_KZ [ 1.  3.  2. nan]\n",
      "SHOPPER_TYP [ 3.  2.  1.  0. nan]\n",
      "SOHO_KZ [1. 0.]\n",
      "VERS_TYP [ 2.  1. nan]\n",
      "ZABEOTYP [5 3 4 1 6 2]\n",
      "GEBAEUDETYP [8. 1. 3. 2. 6. 4. 5.]\n",
      "OST_WEST_KZ ['W' 'O']\n",
      "CAMEO_DEUG_2015 ['8' '4' '2' '6' '1' '9' '5' '7' '3' nan]\n",
      "CAMEO_DEU_2015 ['8A' '4C' '2A' '6B' '8C' '4A' '2D' '1A' '1E' '9D' '5C' '8B' '7A' '5D'\n",
      " '9E' '9B' '1B' '3D' nan '4E' '4B' '3C' '5A' '7B' '9A' '6D' '6E' '2C' '7C'\n",
      " '9C' '7D' '5E' '1D' '8D' '6C' '6A' '5B' '4D' '3A' '2B' '7E' '3B' '6F'\n",
      " '5F' '1C']\n",
      "\n",
      "List of categorical features in subset1: ['ANREDE_KZ', 'CJT_GESAMTTYP', 'FINANZTYP', 'GFK_URLAUBERTYP', 'GREEN_AVANTGARDE', 'LP_FAMILIE_FEIN', 'LP_FAMILIE_GROB', 'LP_STATUS_FEIN', 'LP_STATUS_GROB', 'NATIONALITAET_KZ', 'SHOPPER_TYP', 'SOHO_KZ', 'VERS_TYP', 'ZABEOTYP', 'GEBAEUDETYP', 'OST_WEST_KZ', 'CAMEO_DEUG_2015', 'CAMEO_DEU_2015']\n"
     ]
    }
   ],
   "source": [
    "#Checking the kind of categoricals that exist in subset1 (subset without or few missing values) and storing them\n",
    "#in a list.\n",
    "\n",
    "categoricals_subset1=[]\n",
    "for i in categoricals[\"attribute\"]:\n",
    "    if i not in subset1.columns:\n",
    "        categoricals.drop(categoricals[categoricals[\"attribute\"]==i].index.values[0],axis=0,inplace=True)\n",
    "    else:\n",
    "        print(i,subset1[i].unique())\n",
    "        categoricals_subset1.append(i)\n",
    "print(\"\\nList of categorical features in subset1:\",categoricals_subset1)"
   ]
  },
  {
   "cell_type": "code",
   "execution_count": 163,
   "metadata": {},
   "outputs": [],
   "source": [
    "#We will drop the attribute \"CAMEO_DEU_2015\" for the shake of simplicity\n",
    "#as it appears to have too many levels in comparison to the rest\n",
    "#of the features\n",
    "\n",
    "subset1.drop(\"CAMEO_DEU_2015\",axis=1,inplace=True)"
   ]
  },
  {
   "cell_type": "code",
   "execution_count": 164,
   "metadata": {
    "scrolled": true
   },
   "outputs": [],
   "source": [
    "#We will also drop the feature \"GEBAUDETYP\" as by looking into the customer's data, it turned out that it included\n",
    "#at least one level (5) that is no available in the customers' data\n",
    "\n",
    "subset1.drop(\"GEBAEUDETYP\",axis=1,inplace=True)"
   ]
  },
  {
   "cell_type": "code",
   "execution_count": 165,
   "metadata": {},
   "outputs": [
    {
     "data": {
      "text/plain": [
       "(771701, 77)"
      ]
     },
     "execution_count": 165,
     "metadata": {},
     "output_type": "execute_result"
    }
   ],
   "source": [
    "subset1.shape"
   ]
  },
  {
   "cell_type": "code",
   "execution_count": 166,
   "metadata": {},
   "outputs": [],
   "source": [
    "#we will also remove these two features it from our list\n",
    "categoricals_subset1.remove('CAMEO_DEU_2015')\n",
    "categoricals_subset1.remove('GEBAEUDETYP')"
   ]
  },
  {
   "cell_type": "code",
   "execution_count": 167,
   "metadata": {},
   "outputs": [
    {
     "name": "stderr",
     "output_type": "stream",
     "text": [
      "<ipython-input-167-5f0c2cb92d6c>:4: SettingWithCopyWarning: \n",
      "A value is trying to be set on a copy of a slice from a DataFrame.\n",
      "Try using .loc[row_indexer,col_indexer] = value instead\n",
      "\n",
      "See the caveats in the documentation: https://pandas.pydata.org/pandas-docs/stable/user_guide/indexing.html#returning-a-view-versus-a-copy\n",
      "  subset1[\"OST_WEST_KZ\"]=subset1[\"OST_WEST_KZ\"].map({'W':0,'O':1})\n"
     ]
    }
   ],
   "source": [
    "#We notice that there is one binary categorical feature that doesn't take numerical values\n",
    "#We will re encode it.\n",
    "\n",
    "subset1[\"OST_WEST_KZ\"]=subset1[\"OST_WEST_KZ\"].map({'W':0,'O':1})"
   ]
  },
  {
   "cell_type": "code",
   "execution_count": 168,
   "metadata": {},
   "outputs": [
    {
     "data": {
      "text/plain": [
       "(771701, 77)"
      ]
     },
     "execution_count": 168,
     "metadata": {},
     "output_type": "execute_result"
    }
   ],
   "source": [
    "subset1.shape"
   ]
  },
  {
   "cell_type": "code",
   "execution_count": 169,
   "metadata": {},
   "outputs": [
    {
     "data": {
      "text/plain": [
       "array([0, 1], dtype=int64)"
      ]
     },
     "execution_count": 169,
     "metadata": {},
     "output_type": "execute_result"
    }
   ],
   "source": [
    "#checking\n",
    "\n",
    "subset1[\"OST_WEST_KZ\"].unique()"
   ]
  },
  {
   "cell_type": "code",
   "execution_count": 170,
   "metadata": {},
   "outputs": [],
   "source": [
    "#Storing the multi level categories present in subset1 to a list\n",
    "\n",
    "list_of_multi_cat=[]\n",
    "for i in categoricals_subset1:\n",
    "    if len(subset1[i].unique())>2:\n",
    "        list_of_multi_cat.append(i)\n",
    "        "
   ]
  },
  {
   "cell_type": "code",
   "execution_count": 171,
   "metadata": {},
   "outputs": [
    {
     "data": {
      "text/plain": [
       "['CJT_GESAMTTYP',\n",
       " 'FINANZTYP',\n",
       " 'GFK_URLAUBERTYP',\n",
       " 'LP_FAMILIE_FEIN',\n",
       " 'LP_FAMILIE_GROB',\n",
       " 'LP_STATUS_FEIN',\n",
       " 'LP_STATUS_GROB',\n",
       " 'NATIONALITAET_KZ',\n",
       " 'SHOPPER_TYP',\n",
       " 'VERS_TYP',\n",
       " 'ZABEOTYP',\n",
       " 'CAMEO_DEUG_2015']"
      ]
     },
     "execution_count": 171,
     "metadata": {},
     "output_type": "execute_result"
    }
   ],
   "source": [
    "list_of_multi_cat"
   ]
  },
  {
   "cell_type": "code",
   "execution_count": 172,
   "metadata": {},
   "outputs": [],
   "source": [
    "#re encoding the multi level categorical features\n",
    "\n",
    "subset1=pd.get_dummies(subset1,columns=list_of_multi_cat)"
   ]
  },
  {
   "cell_type": "code",
   "execution_count": 173,
   "metadata": {},
   "outputs": [
    {
     "data": {
      "text/plain": [
       "(771701, 144)"
      ]
     },
     "execution_count": 173,
     "metadata": {},
     "output_type": "execute_result"
    }
   ],
   "source": [
    "subset1.shape"
   ]
  },
  {
   "cell_type": "markdown",
   "metadata": {},
   "source": [
    "#### Discussion: Re-Encode Categorical Features\n",
    "\n",
    "There are 4 binary categorical features. One of them that did not contain numerical values was re encoded to values 0 and 1.\n",
    "Out of the multi level categorical features, one was dropped for the shake of simplicity of the analysis as it appeared to have a significantly larger number of levels than the rest of the multi level features.\n",
    "\n",
    "Finally, the attribute \"GEBAUDETYP\" was also dropped for the shake of simplicity as it is causing issues further into the analysis. At least one of the levels of this categorical variable (5) does not exist in the customer's data. Therefore when this attribute is being one hot encoded, we end up with an extra feature that has no meaning.\n",
    "\n",
    "The rest of the multi level attributes were re encoded into the dataframe of none or few missing values, subset1, using pd.get_dummies()"
   ]
  },
  {
   "cell_type": "markdown",
   "metadata": {},
   "source": [
    "#### Step: Engineer Mixed-Type Features\n",
    "\n",
    "There are a handful of features that are marked as \"mixed\" in the feature summary that require special treatment in order to be included in the analysis. There are two in particular that deserve attention; the handling of the rest are up to your own choices:\n",
    "- \"PRAEGENDE_JUGENDJAHRE\" combines information on three dimensions: generation by decade, movement (mainstream vs. avantgarde), and nation (east vs. west). While there aren't enough levels to disentangle east from west, we should create two new variables to capture the other two dimensions: an interval-type variable for decade, and a binary variable for movement.\n",
    "- \"CAMEO_INTL_2015\" combines information on two axes: wealth and life stage. We will break up the two-digit codes by their 'tens'-place and 'ones'-place digits into two new ordinal variables (which, for the purposes of this project, is equivalent to just treating them as their raw numeric values)."
   ]
  },
  {
   "cell_type": "code",
   "execution_count": 174,
   "metadata": {},
   "outputs": [
    {
     "data": {
      "text/html": [
       "<div>\n",
       "<style scoped>\n",
       "    .dataframe tbody tr th:only-of-type {\n",
       "        vertical-align: middle;\n",
       "    }\n",
       "\n",
       "    .dataframe tbody tr th {\n",
       "        vertical-align: top;\n",
       "    }\n",
       "\n",
       "    .dataframe thead th {\n",
       "        text-align: right;\n",
       "    }\n",
       "</style>\n",
       "<table border=\"1\" class=\"dataframe\">\n",
       "  <thead>\n",
       "    <tr style=\"text-align: right;\">\n",
       "      <th></th>\n",
       "      <th>attribute</th>\n",
       "      <th>information_level</th>\n",
       "      <th>type</th>\n",
       "      <th>missing_or_unknown</th>\n",
       "    </tr>\n",
       "  </thead>\n",
       "  <tbody>\n",
       "    <tr>\n",
       "      <th>15</th>\n",
       "      <td>LP_LEBENSPHASE_FEIN</td>\n",
       "      <td>person</td>\n",
       "      <td>mixed</td>\n",
       "      <td>[0]</td>\n",
       "    </tr>\n",
       "    <tr>\n",
       "      <th>16</th>\n",
       "      <td>LP_LEBENSPHASE_GROB</td>\n",
       "      <td>person</td>\n",
       "      <td>mixed</td>\n",
       "      <td>[0]</td>\n",
       "    </tr>\n",
       "    <tr>\n",
       "      <th>22</th>\n",
       "      <td>PRAEGENDE_JUGENDJAHRE</td>\n",
       "      <td>person</td>\n",
       "      <td>mixed</td>\n",
       "      <td>[-1, 0]</td>\n",
       "    </tr>\n",
       "    <tr>\n",
       "      <th>56</th>\n",
       "      <td>WOHNLAGE</td>\n",
       "      <td>building</td>\n",
       "      <td>mixed</td>\n",
       "      <td>[-1]</td>\n",
       "    </tr>\n",
       "    <tr>\n",
       "      <th>59</th>\n",
       "      <td>CAMEO_INTL_2015</td>\n",
       "      <td>microcell_rr4</td>\n",
       "      <td>mixed</td>\n",
       "      <td>[-1, XX]</td>\n",
       "    </tr>\n",
       "    <tr>\n",
       "      <th>64</th>\n",
       "      <td>KBA05_BAUMAX</td>\n",
       "      <td>microcell_rr3</td>\n",
       "      <td>mixed</td>\n",
       "      <td>[-1, 0]</td>\n",
       "    </tr>\n",
       "    <tr>\n",
       "      <th>79</th>\n",
       "      <td>PLZ8_BAUMAX</td>\n",
       "      <td>macrocell_plz8</td>\n",
       "      <td>mixed</td>\n",
       "      <td>[-1, 0]</td>\n",
       "    </tr>\n",
       "  </tbody>\n",
       "</table>\n",
       "</div>"
      ],
      "text/plain": [
       "                attribute information_level   type missing_or_unknown\n",
       "15    LP_LEBENSPHASE_FEIN            person  mixed                [0]\n",
       "16    LP_LEBENSPHASE_GROB            person  mixed                [0]\n",
       "22  PRAEGENDE_JUGENDJAHRE            person  mixed            [-1, 0]\n",
       "56               WOHNLAGE          building  mixed               [-1]\n",
       "59        CAMEO_INTL_2015     microcell_rr4  mixed           [-1, XX]\n",
       "64           KBA05_BAUMAX     microcell_rr3  mixed            [-1, 0]\n",
       "79            PLZ8_BAUMAX    macrocell_plz8  mixed            [-1, 0]"
      ]
     },
     "execution_count": 174,
     "metadata": {},
     "output_type": "execute_result"
    }
   ],
   "source": [
    "#Finding out which attributes are of mixed type\n",
    "\n",
    "mixed=feat_info[feat_info[\"type\"]=='mixed']\n",
    "mixed"
   ]
  },
  {
   "cell_type": "code",
   "execution_count": 175,
   "metadata": {},
   "outputs": [
    {
     "data": {
      "text/plain": [
       "14.0    177055\n",
       "8.0     137517\n",
       "10.0     83180\n",
       "5.0      82984\n",
       "3.0      52645\n",
       "15.0     40684\n",
       "11.0     34300\n",
       "9.0      32901\n",
       "6.0      25293\n",
       "12.0     23861\n",
       "4.0      20175\n",
       "1.0      19974\n",
       "2.0       7372\n",
       "13.0      5497\n",
       "7.0       3934\n",
       "Name: PRAEGENDE_JUGENDJAHRE, dtype: int64"
      ]
     },
     "execution_count": 175,
     "metadata": {},
     "output_type": "execute_result"
    }
   ],
   "source": [
    "subset1[\"PRAEGENDE_JUGENDJAHRE\"].value_counts()"
   ]
  },
  {
   "cell_type": "code",
   "execution_count": 176,
   "metadata": {},
   "outputs": [],
   "source": [
    "#By looking into the details of Data_Dictionary.md, we create a new column by replacing\n",
    "#the corresponding values to the integer part of the decade (eg 40 from 40s)\n",
    "\n",
    "subset1[\"PRAEGENDE_JUGENDJAHRE_Date\"]=subset1[\"PRAEGENDE_JUGENDJAHRE\"].replace([1,2],40)\n",
    "subset1[\"PRAEGENDE_JUGENDJAHRE_Date\"]=subset1[\"PRAEGENDE_JUGENDJAHRE_Date\"].replace([3,4],50)\n",
    "subset1[\"PRAEGENDE_JUGENDJAHRE_Date\"]=subset1[\"PRAEGENDE_JUGENDJAHRE_Date\"].replace([5,6,7],60)\n",
    "subset1[\"PRAEGENDE_JUGENDJAHRE_Date\"]=subset1[\"PRAEGENDE_JUGENDJAHRE_Date\"].replace([8,9],70)\n",
    "subset1[\"PRAEGENDE_JUGENDJAHRE_Date\"]=subset1[\"PRAEGENDE_JUGENDJAHRE_Date\"].replace([10,11,12,13],80)\n",
    "subset1[\"PRAEGENDE_JUGENDJAHRE_Date\"]=subset1[\"PRAEGENDE_JUGENDJAHRE_Date\"].replace([14,15],90)"
   ]
  },
  {
   "cell_type": "code",
   "execution_count": 177,
   "metadata": {},
   "outputs": [
    {
     "data": {
      "text/plain": [
       "90.0    217739\n",
       "70.0    170418\n",
       "80.0    146838\n",
       "60.0    112211\n",
       "50.0     72820\n",
       "40.0     27346\n",
       "Name: PRAEGENDE_JUGENDJAHRE_Date, dtype: int64"
      ]
     },
     "execution_count": 177,
     "metadata": {},
     "output_type": "execute_result"
    }
   ],
   "source": [
    "#checking\n",
    "\n",
    "subset1[\"PRAEGENDE_JUGENDJAHRE_Date\"].value_counts()"
   ]
  },
  {
   "cell_type": "code",
   "execution_count": 178,
   "metadata": {},
   "outputs": [],
   "source": [
    "#we do the same thing by creating a column for the movement. \n",
    "#This is a binary variable so we will replace the values with 0 and 1\n",
    "\n",
    "subset1[\"PRAEGENDE_JUGENDJAHRE_Movement\"]=subset1[\"PRAEGENDE_JUGENDJAHRE\"].replace([1,3,5,8,10,12,14],0)\n",
    "subset1[\"PRAEGENDE_JUGENDJAHRE_Movement\"]=subset1[\"PRAEGENDE_JUGENDJAHRE_Movement\"].replace([2,4,6,7,9,11,13,15],1)"
   ]
  },
  {
   "cell_type": "code",
   "execution_count": 179,
   "metadata": {},
   "outputs": [
    {
     "data": {
      "text/plain": [
       "0.0    577216\n",
       "1.0    170156\n",
       "Name: PRAEGENDE_JUGENDJAHRE_Movement, dtype: int64"
      ]
     },
     "execution_count": 179,
     "metadata": {},
     "output_type": "execute_result"
    }
   ],
   "source": [
    "#checking\n",
    "\n",
    "subset1[\"PRAEGENDE_JUGENDJAHRE_Movement\"].value_counts()"
   ]
  },
  {
   "cell_type": "code",
   "execution_count": 180,
   "metadata": {},
   "outputs": [
    {
     "data": {
      "text/plain": [
       "(771701, 146)"
      ]
     },
     "execution_count": 180,
     "metadata": {},
     "output_type": "execute_result"
    }
   ],
   "source": [
    "subset1.shape"
   ]
  },
  {
   "cell_type": "code",
   "execution_count": 181,
   "metadata": {},
   "outputs": [],
   "source": [
    "#we will now drop the feature \"PRAEGENDE_JUGENDJAHRE\" as we do not need it anymore\n",
    "\n",
    "subset1.drop(\"PRAEGENDE_JUGENDJAHRE\",axis=1,inplace=True)"
   ]
  },
  {
   "cell_type": "code",
   "execution_count": 182,
   "metadata": {},
   "outputs": [],
   "source": [
    "#By looking into the data_dictionary, we see that the tens digits correspond to wealth and ones digits to life stage\n",
    "#We replace them accordingly to new columns/features\n",
    "\n",
    "subset1[\"CAMEO_INTL_2015_Wealth\"]=subset1[\"CAMEO_INTL_2015\"].replace(['11','12','13','14','15'],10)\n",
    "subset1[\"CAMEO_INTL_2015_Wealth\"]=subset1[\"CAMEO_INTL_2015_Wealth\"].replace(['21','22','23','24','25'],20)\n",
    "subset1[\"CAMEO_INTL_2015_Wealth\"]=subset1[\"CAMEO_INTL_2015_Wealth\"].replace(['31','32','33','34','35'],30)\n",
    "subset1[\"CAMEO_INTL_2015_Wealth\"]=subset1[\"CAMEO_INTL_2015_Wealth\"].replace(['41','42','43','44','44','45'],40)\n",
    "subset1[\"CAMEO_INTL_2015_Wealth\"]=subset1[\"CAMEO_INTL_2015_Wealth\"].replace(['51','52','53','54','55'],50)"
   ]
  },
  {
   "cell_type": "code",
   "execution_count": 183,
   "metadata": {},
   "outputs": [
    {
     "data": {
      "text/plain": [
       "50.0    219852\n",
       "40.0    185463\n",
       "20.0    182423\n",
       "10.0    115294\n",
       "30.0     65330\n",
       "Name: CAMEO_INTL_2015_Wealth, dtype: int64"
      ]
     },
     "execution_count": 183,
     "metadata": {},
     "output_type": "execute_result"
    }
   ],
   "source": [
    "#checking\n",
    "subset1[\"CAMEO_INTL_2015_Wealth\"].value_counts()"
   ]
  },
  {
   "cell_type": "code",
   "execution_count": 184,
   "metadata": {},
   "outputs": [],
   "source": [
    "subset1[\"CAMEO_INTL_2015_LifeStage\"]=subset1[\"CAMEO_INTL_2015\"].replace(['11','21','31','41','51'],1)\n",
    "subset1[\"CAMEO_INTL_2015_LifeStage\"]=subset1[\"CAMEO_INTL_2015_LifeStage\"].replace(['12','22','32','42','52'],2)\n",
    "subset1[\"CAMEO_INTL_2015_LifeStage\"]=subset1[\"CAMEO_INTL_2015_LifeStage\"].replace(['13','23','33','43','53'],3)\n",
    "subset1[\"CAMEO_INTL_2015_LifeStage\"]=subset1[\"CAMEO_INTL_2015_LifeStage\"].replace(['14','24','34','44','54'],4)\n",
    "subset1[\"CAMEO_INTL_2015_LifeStage\"]=subset1[\"CAMEO_INTL_2015_LifeStage\"].replace(['15','25','35','45','55'],5)"
   ]
  },
  {
   "cell_type": "code",
   "execution_count": 185,
   "metadata": {},
   "outputs": [
    {
     "data": {
      "text/plain": [
       "1.0    239595\n",
       "4.0    226171\n",
       "3.0    114036\n",
       "5.0    113856\n",
       "2.0     74704\n",
       "Name: CAMEO_INTL_2015_LifeStage, dtype: int64"
      ]
     },
     "execution_count": 185,
     "metadata": {},
     "output_type": "execute_result"
    }
   ],
   "source": [
    "#checking\n",
    "subset1[\"CAMEO_INTL_2015_LifeStage\"].value_counts()"
   ]
  },
  {
   "cell_type": "code",
   "execution_count": 186,
   "metadata": {},
   "outputs": [],
   "source": [
    "#We'll now drop the column \"CAMEO_INTL_2015\" as we do not need it\n",
    "subset1.drop(\"CAMEO_INTL_2015\",axis=1,inplace=True)"
   ]
  },
  {
   "cell_type": "markdown",
   "metadata": {},
   "source": [
    "#### Discussion: Engineer Mixed-Type Features\n",
    "\n",
    "By looking into the details of Data_Dictionary.md, we create a new column by replacing the values that correspond to each decade with the integer part of the decade (eg 40 for 40s)\n",
    "Then we replace the rest of the values by modifying the same column for the rest of the decades.\n",
    "\n",
    "The same process is followed for the movement variable but since it is binary so we just replace the values with 0 and 1.\n",
    "\n",
    "Similarly for the CAMEO_INTL_2015, we divide into Wealth and LifeStage columns. \n",
    "We notice that the data in this feature are strings.\n",
    "Since the tens of the values correspond to wealth, we replace each bunch of tens for each wealth category and the ones for each Life Stage.\n",
    "\n",
    "Then the two initial columns are dropped since we do not need them anymore and they will interfere with the analysis later.\n",
    "\n",
    "Every other mixed feature is kept as is."
   ]
  },
  {
   "cell_type": "markdown",
   "metadata": {},
   "source": [
    "####  Complete Feature Selection\n",
    "\n",
    "In order to finish this step up, we need to make sure that our data frame now only has the columns that we want to keep. To summarize, the dataframe should consist of the following:\n",
    "- All numeric, interval, and ordinal type columns from the original dataset.\n",
    "- Binary categorical features (all numerically-encoded).\n",
    "- Engineered features from other multi-level categorical features and mixed features."
   ]
  },
  {
   "cell_type": "code",
   "execution_count": 187,
   "metadata": {},
   "outputs": [],
   "source": [
    "#we will one hot encode the new feature columns\n",
    "subset1=pd.get_dummies(subset1,columns=[\"PRAEGENDE_JUGENDJAHRE_Date\",\"CAMEO_INTL_2015_Wealth\",\n",
    "                                        \"CAMEO_INTL_2015_LifeStage\"])"
   ]
  },
  {
   "cell_type": "code",
   "execution_count": 188,
   "metadata": {},
   "outputs": [
    {
     "data": {
      "text/plain": [
       "(771701, 159)"
      ]
     },
     "execution_count": 188,
     "metadata": {},
     "output_type": "execute_result"
    }
   ],
   "source": [
    "subset1.shape"
   ]
  },
  {
   "cell_type": "markdown",
   "metadata": {},
   "source": [
    "### Creating a Cleaning Function"
   ]
  },
  {
   "cell_type": "code",
   "execution_count": 189,
   "metadata": {},
   "outputs": [],
   "source": [
    "def clean_data(df):\n",
    "    \"\"\"\n",
    "    Perform feature trimming, re-encoding, and engineering for demographics\n",
    "    data\n",
    "    \n",
    "    INPUT: Demographics DataFrame\n",
    "    OUTPUT: Trimmed and cleaned demographics DataFrame\n",
    "    \"\"\"\n",
    "    \n",
    "    # Put in code here to execute all main cleaning steps:\n",
    "    # convert missing value codes into NaNs, ...\n",
    "    \n",
    "    \n",
    "    feat_info = pd.read_csv('AZDIAS_Feature_Summary.csv',sep=';')\n",
    "    \n",
    "    \n",
    "    \n",
    "    for i in range(len(feat_info)):\n",
    "        string=feat_info[\"missing_or_unknown\"][i][1:len(feat_info[\"missing_or_unknown\"][i])-1]\n",
    "        List=string.split(',')\n",
    "        \n",
    "        manual_list=[]\n",
    "        \n",
    "        for j in List:\n",
    "            try:\n",
    "                x=int(j)\n",
    "                manual_list.append(x)\n",
    "            except:\n",
    "                manual_list.append(j)\n",
    "        feat_info[\"missing_or_unknown\"][i]=manual_list\n",
    "\n",
    "    \n",
    "    \n",
    "    for i in range(len(feat_info)):\n",
    "        for j in feat_info[\"missing_or_unknown\"][i]:\n",
    "            df[df.columns[i]]=df[df.columns[i]].replace(j,np.nan)\n",
    "            \n",
    "    \n",
    "    \n",
    "    print('Total number of missing values after conversion is {}'.format(df.isnull().sum().sum()))\n",
    "        \n",
    "    \n",
    "    # remove selected columns and rows, ...\n",
    "    \n",
    "    drop_columns=['TITEL_KZ','AGER_TYP','KK_KUNDENTYP','KBA05_BAUMAX','GEBURTSJAHR','ALTER_HH']\n",
    "    \n",
    "    for column in drop_columns:\n",
    "        df.drop(labels=column,axis=1,inplace=True)\n",
    "    \n",
    "    \n",
    "    \n",
    "    \n",
    "    rm=df.isna().sum(axis=1)\n",
    "    \n",
    "    threshold=1\n",
    "    while True:\n",
    "        percentage=0\n",
    "        count=0\n",
    "        for i in rm:\n",
    "            if i<threshold:\n",
    "                count+=1\n",
    "        percentage=(count/len(rm))*100\n",
    "        if percentage>85:\n",
    "            break\n",
    "        else:\n",
    "            threshold=threshold+1\n",
    "    \n",
    "    new_subset1=df[rm<threshold]\n",
    "    new_subset2=df[rm>=threshold]\n",
    "    \n",
    "    \n",
    "\n",
    "    \n",
    "    new_subset1.dropna(axis=0,subset=[\"SOHO_KZ\"],inplace=True)\n",
    "    new_subset1.dropna(axis=0,subset=[\"OST_WEST_KZ\"],inplace=True)\n",
    "    \n",
    "    \n",
    "        \n",
    "    \n",
    "    # select, re-encode, and engineer column values.\n",
    "    \n",
    "    new_categoricals=feat_info[feat_info[\"type\"]=='categorical']\n",
    "    \n",
    "    new_categoricals_subset1=[]\n",
    "    for i in new_categoricals[\"attribute\"]:\n",
    "        if i not in new_subset1.columns:\n",
    "            new_categoricals.drop(new_categoricals[new_categoricals[\"attribute\"]==i].index.values[0],axis=0,inplace=True)\n",
    "        else:\n",
    "            new_categoricals_subset1.append(i)\n",
    "    \n",
    "    new_subset1=new_subset1.drop(\"CAMEO_DEU_2015\",axis=1)\n",
    "    \n",
    "    new_subset1.drop(\"GEBAEUDETYP\",axis=1,inplace=True)\n",
    "    \n",
    "    \n",
    "    new_categoricals_subset1.remove('CAMEO_DEU_2015')\n",
    "    new_categoricals_subset1.remove('GEBAEUDETYP')\n",
    "    \n",
    "    new_subset1[\"OST_WEST_KZ\"]=new_subset1[\"OST_WEST_KZ\"].map({'W':0,'O':1})\n",
    "    \n",
    "    \n",
    "    new_list_of_multi_cat=[]\n",
    "    for i in new_categoricals_subset1:\n",
    "        if len(new_subset1[i].unique())>2:\n",
    "            new_list_of_multi_cat.append(i)\n",
    "            \n",
    "    new_subset1=pd.get_dummies(new_subset1,columns=new_list_of_multi_cat)\n",
    "    \n",
    "    \n",
    "    new_subset1[\"PRAEGENDE_JUGENDJAHRE_Date\"]=new_subset1[\"PRAEGENDE_JUGENDJAHRE\"].replace([1,2],40)\n",
    "    new_subset1[\"PRAEGENDE_JUGENDJAHRE_Date\"]=new_subset1[\"PRAEGENDE_JUGENDJAHRE_Date\"].replace([3,4],50)\n",
    "    new_subset1[\"PRAEGENDE_JUGENDJAHRE_Date\"]=new_subset1[\"PRAEGENDE_JUGENDJAHRE_Date\"].replace([5,6,7],60)\n",
    "    new_subset1[\"PRAEGENDE_JUGENDJAHRE_Date\"]=new_subset1[\"PRAEGENDE_JUGENDJAHRE_Date\"].replace([8,9],70)\n",
    "    new_subset1[\"PRAEGENDE_JUGENDJAHRE_Date\"]=new_subset1[\"PRAEGENDE_JUGENDJAHRE_Date\"].replace([10,11,12,13],80)\n",
    "    new_subset1[\"PRAEGENDE_JUGENDJAHRE_Date\"]=new_subset1[\"PRAEGENDE_JUGENDJAHRE_Date\"].replace([14,15],90)\n",
    "    \n",
    "    new_subset1[\"PRAEGENDE_JUGENDJAHRE_Movement\"]=new_subset1[\"PRAEGENDE_JUGENDJAHRE\"].replace([1,3,5,8,10,12,14],0)\n",
    "    new_subset1[\"PRAEGENDE_JUGENDJAHRE_Movement\"]=new_subset1[\"PRAEGENDE_JUGENDJAHRE_Movement\"].replace([2,4,6,7,9,11,13,15],1)\n",
    "    \n",
    "    new_subset1.drop(\"PRAEGENDE_JUGENDJAHRE\",axis=1,inplace=True)\n",
    "    \n",
    "    \n",
    "    new_subset1[\"CAMEO_INTL_2015_Wealth\"]=new_subset1[\"CAMEO_INTL_2015\"].replace(['11','12','13','14','15'],10)\n",
    "    new_subset1[\"CAMEO_INTL_2015_Wealth\"]=new_subset1[\"CAMEO_INTL_2015_Wealth\"].replace(['21','22','23','24','25'],20)\n",
    "    new_subset1[\"CAMEO_INTL_2015_Wealth\"]=new_subset1[\"CAMEO_INTL_2015_Wealth\"].replace(['31','32','33','34','35'],30)\n",
    "    new_subset1[\"CAMEO_INTL_2015_Wealth\"]=new_subset1[\"CAMEO_INTL_2015_Wealth\"].replace(['41','42','43','44','44','45'],40)\n",
    "    new_subset1[\"CAMEO_INTL_2015_Wealth\"]=new_subset1[\"CAMEO_INTL_2015_Wealth\"].replace(['51','52','53','54','55'],50)\n",
    "    \n",
    "    new_subset1[\"CAMEO_INTL_2015_LifeStage\"]=new_subset1[\"CAMEO_INTL_2015\"].replace(['11','21','31','41','51'],1)\n",
    "    new_subset1[\"CAMEO_INTL_2015_LifeStage\"]=new_subset1[\"CAMEO_INTL_2015_LifeStage\"].replace(['12','22','32','42','52'],2)\n",
    "    new_subset1[\"CAMEO_INTL_2015_LifeStage\"]=new_subset1[\"CAMEO_INTL_2015_LifeStage\"].replace(['13','23','33','43','53'],3)\n",
    "    new_subset1[\"CAMEO_INTL_2015_LifeStage\"]=new_subset1[\"CAMEO_INTL_2015_LifeStage\"].replace(['14','24','34','44','54'],4)\n",
    "    new_subset1[\"CAMEO_INTL_2015_LifeStage\"]=new_subset1[\"CAMEO_INTL_2015_LifeStage\"].replace(['15','25','35','45','55'],5)\n",
    "    \n",
    "    new_subset1.drop(\"CAMEO_INTL_2015\",axis=1,inplace=True)\n",
    "    \n",
    "    \n",
    "    new_subset1=pd.get_dummies(new_subset1,columns=[\"PRAEGENDE_JUGENDJAHRE_Date\",\"CAMEO_INTL_2015_Wealth\",\"CAMEO_INTL_2015_LifeStage\"])\n",
    "    \n",
    "    \n",
    "    new_subset1.dropna(axis=1,how='all',inplace=True)\n",
    "    \n",
    "    \n",
    "    # Return the cleaned dataframe.\n",
    "    \n",
    "    return new_subset1\n",
    "    \n",
    "    "
   ]
  },
  {
   "cell_type": "markdown",
   "metadata": {},
   "source": [
    "##  Feature Transformation\n",
    "\n",
    "### Applying Feature Scaling\n",
    "\n",
    "Before we apply dimensionality reduction techniques to the data, we need to perform feature scaling so that the principal component vectors are not influenced by the natural differences in scale for features. "
   ]
  },
  {
   "cell_type": "code",
   "execution_count": 190,
   "metadata": {},
   "outputs": [
    {
     "data": {
      "text/plain": [
       "510446"
      ]
     },
     "execution_count": 190,
     "metadata": {},
     "output_type": "execute_result"
    }
   ],
   "source": [
    "subset1.isna().sum().sum()"
   ]
  },
  {
   "cell_type": "code",
   "execution_count": 191,
   "metadata": {},
   "outputs": [
    {
     "data": {
      "text/plain": [
       "(771701, 159)"
      ]
     },
     "execution_count": 191,
     "metadata": {},
     "output_type": "execute_result"
    }
   ],
   "source": [
    "subset1.shape"
   ]
  },
  {
   "cell_type": "code",
   "execution_count": 192,
   "metadata": {},
   "outputs": [],
   "source": [
    "subset1.dropna(axis=1,how='all',inplace=True)\n",
    "subset1.dropna(axis=0,how='all',inplace=True)"
   ]
  },
  {
   "cell_type": "code",
   "execution_count": 193,
   "metadata": {},
   "outputs": [],
   "source": [
    "# If you've not yet cleaned the dataset of all NaN values, then investigate and\n",
    "# do that now.\n",
    "Imp_mean=SimpleImputer(strategy='mean')\n",
    "X=Imp_mean.fit_transform(subset1)\n",
    "X=pd.DataFrame(X,columns=subset1.columns)"
   ]
  },
  {
   "cell_type": "code",
   "execution_count": 194,
   "metadata": {},
   "outputs": [],
   "source": [
    "# Apply feature scaling to the general population demographics data.\n",
    "scaler=StandardScaler()\n",
    "X_ss=scaler.fit_transform(X)"
   ]
  },
  {
   "cell_type": "code",
   "execution_count": 195,
   "metadata": {},
   "outputs": [],
   "source": [
    "X_ss=pd.DataFrame(X_ss,columns=subset1.columns)"
   ]
  },
  {
   "cell_type": "markdown",
   "metadata": {},
   "source": [
    "### Discussion: Apply Feature Scaling\n",
    "\n",
    "First we tried dropna to drop rows and columns that potentially could have remained with only nan values.\n",
    "Then the rest of the missing values are filled with the mean, along columns, using an Imputer. It is probably a better decision as dropping completely the data points would have negative repercusions in our analysis.\n",
    "\n",
    "We also use the subset1 data set which is already the set with reduced missing values.\n",
    "\n",
    "Then the features are scaled, using a Standard Scaler"
   ]
  },
  {
   "cell_type": "markdown",
   "metadata": {},
   "source": [
    "### Performing Dimensionality Reduction\n"
   ]
  },
  {
   "cell_type": "code",
   "execution_count": 196,
   "metadata": {},
   "outputs": [],
   "source": [
    "# Apply PCA to the data.\n",
    "pca=PCA()\n",
    "X_pca=pca.fit_transform(X_ss)\n"
   ]
  },
  {
   "cell_type": "code",
   "execution_count": 197,
   "metadata": {},
   "outputs": [
    {
     "data": {
      "text/plain": [
       "(771701, 159)"
      ]
     },
     "execution_count": 197,
     "metadata": {},
     "output_type": "execute_result"
    }
   ],
   "source": [
    "X_pca.shape"
   ]
  },
  {
   "cell_type": "code",
   "execution_count": 198,
   "metadata": {},
   "outputs": [],
   "source": [
    "# Investigate the variance accounted for by each principal component.\n",
    "\n",
    "def scree_plot(pca):\n",
    "    num_components=len(pca.explained_variance_ratio_)\n",
    "    ind = np.arange(num_components)\n",
    "    vals = pca.explained_variance_ratio_\n",
    " \n",
    "    plt.figure(figsize=(10, 6))\n",
    "    ax = plt.subplot(111)\n",
    "    cumvals = np.cumsum(vals)\n",
    "    ax.bar(ind, vals)\n",
    "    ax.plot(ind, cumvals)\n",
    "    ax.xaxis.set_tick_params(width=0)\n",
    "    ax.yaxis.set_tick_params(width=2, length=12)\n",
    " \n",
    "    ax.set_xlabel(\"Principal Component\")\n",
    "    ax.set_ylabel(\"Variance Explained (%)\")\n",
    "    plt.title('Explained Variance Per Principal Component')"
   ]
  },
  {
   "cell_type": "code",
   "execution_count": 199,
   "metadata": {},
   "outputs": [
    {
     "data": {
      "image/png": "[encoded data removed]",
      "text/plain": [
       "<Figure size 720x432 with 1 Axes>"
      ]
     },
     "metadata": {
      "needs_background": "light"
     },
     "output_type": "display_data"
    }
   ],
   "source": [
    "scree_plot(pca)"
   ]
  },
  {
   "cell_type": "code",
   "execution_count": 200,
   "metadata": {},
   "outputs": [],
   "source": [
    "# Re-apply PCA to the data while selecting for number of components to retain.\n",
    "pca=PCA(n_components=65)\n",
    "X_pca=pca.fit_transform(X_ss)\n"
   ]
  },
  {
   "cell_type": "code",
   "execution_count": 201,
   "metadata": {},
   "outputs": [
    {
     "data": {
      "image/png": "[encoded data removed]",
      "text/plain": [
       "<Figure size 720x432 with 1 Axes>"
      ]
     },
     "metadata": {
      "needs_background": "light"
     },
     "output_type": "display_data"
    }
   ],
   "source": [
    "scree_plot(pca)"
   ]
  },
  {
   "cell_type": "markdown",
   "metadata": {},
   "source": [
    "### Discussion: Perform Dimensionality Reduction\n",
    "\n",
    "From the 2 scree plots we can see that 100% of the variance is explained at around 130 principal components. While more than 80% could be explained with just 65 variables. Therefore we decided to reduce the components by half."
   ]
  },
  {
   "cell_type": "markdown",
   "metadata": {},
   "source": [
    "### Interpret Principal Components\n",
    "\n",
    "Now that we have our transformed principal components, it's a nice idea to check out the weight of each variable on the first few components to see if they can be interpreted in some fashion.\n",
    "\n",
    "\n",
    "- To investigate the features, we should map each weight to their corresponding feature name, then sort the features according to weight. The most interesting features for each principal component, then, will be those at the beginning and end of the sorted list. We will use the data dictionary document to help us understand these most prominent features, their relationships, and what a positive or negative value on the principal component might indicate.\n",
    "- We should investigate and interpret feature associations from the first three principal components in this substep. To help facilitate this, we should write a function that we can call at any time to print the sorted list of feature weights, for the *i*-th principal component."
   ]
  },
  {
   "cell_type": "code",
   "execution_count": 202,
   "metadata": {},
   "outputs": [],
   "source": [
    "\n",
    "def mapping_weights(pca,number):\n",
    "    components=pca.components_\n",
    "    components_df=pd.DataFrame(components,columns=X_ss.keys())\n",
    "    map_dict={}\n",
    "    for j in range(len(components_df.columns)):\n",
    "        map_dict[components_df.columns[j]]= components_df.iloc[number,j]\n",
    "    sorted_keys=sorted(map_dict,key=map_dict.get)\n",
    "    sorted_dict={}\n",
    "    for w in sorted_keys:\n",
    "        sorted_dict[w]=map_dict[w]\n",
    "    return sorted_dict"
   ]
  },
  {
   "cell_type": "code",
   "execution_count": 203,
   "metadata": {},
   "outputs": [],
   "source": [
    "#calculating explained variance\n",
    "\n",
    "ratios=pca.explained_variance_ratio_\n",
    "ratios_pd=pd.DataFrame(ratios)"
   ]
  },
  {
   "cell_type": "code",
   "execution_count": 204,
   "metadata": {},
   "outputs": [
    {
     "data": {
      "text/html": [
       "<div>\n",
       "<style scoped>\n",
       "    .dataframe tbody tr th:only-of-type {\n",
       "        vertical-align: middle;\n",
       "    }\n",
       "\n",
       "    .dataframe tbody tr th {\n",
       "        vertical-align: top;\n",
       "    }\n",
       "\n",
       "    .dataframe thead th {\n",
       "        text-align: right;\n",
       "    }\n",
       "</style>\n",
       "<table border=\"1\" class=\"dataframe\">\n",
       "  <thead>\n",
       "    <tr style=\"text-align: right;\">\n",
       "      <th></th>\n",
       "      <th>0</th>\n",
       "    </tr>\n",
       "  </thead>\n",
       "  <tbody>\n",
       "    <tr>\n",
       "      <th>0</th>\n",
       "      <td>0.100865</td>\n",
       "    </tr>\n",
       "    <tr>\n",
       "      <th>1</th>\n",
       "      <td>0.071859</td>\n",
       "    </tr>\n",
       "    <tr>\n",
       "      <th>2</th>\n",
       "      <td>0.043178</td>\n",
       "    </tr>\n",
       "    <tr>\n",
       "      <th>3</th>\n",
       "      <td>0.037085</td>\n",
       "    </tr>\n",
       "    <tr>\n",
       "      <th>4</th>\n",
       "      <td>0.029269</td>\n",
       "    </tr>\n",
       "  </tbody>\n",
       "</table>\n",
       "</div>"
      ],
      "text/plain": [
       "          0\n",
       "0  0.100865\n",
       "1  0.071859\n",
       "2  0.043178\n",
       "3  0.037085\n",
       "4  0.029269"
      ]
     },
     "execution_count": 204,
     "metadata": {},
     "output_type": "execute_result"
    }
   ],
   "source": [
    "ratios_pd.head()"
   ]
  },
  {
   "cell_type": "code",
   "execution_count": 205,
   "metadata": {},
   "outputs": [
    {
     "data": {
      "text/plain": [
       "{'MOBI_REGIO': -0.1994931784694649,\n",
       " 'KBA05_ANTG1': -0.18643440243974668,\n",
       " 'FINANZ_MINIMALIST': -0.1840598913228152,\n",
       " 'PLZ8_ANTG1': -0.179979218671149,\n",
       " 'KBA05_GBZ': -0.17723013590142705,\n",
       " 'LP_LEBENSPHASE_FEIN': -0.1437543707763474,\n",
       " 'KONSUMNAEHE': -0.13341030721665634,\n",
       " 'PLZ8_GBZ': -0.13192123152269866,\n",
       " 'LP_LEBENSPHASE_GROB': -0.13037696413149222,\n",
       " 'INNENSTADT': -0.1261359258147457,\n",
       " 'LP_STATUS_FEIN_10.0': -0.11122198579889542,\n",
       " 'LP_STATUS_GROB_5.0': -0.11122198579889542,\n",
       " 'LP_STATUS_GROB_4.0': -0.10927223715800022,\n",
       " 'LP_STATUS_FEIN_9.0': -0.10789750712649457,\n",
       " 'CAMEO_INTL_2015_Wealth_20.0': -0.10318529603877065,\n",
       " 'GREEN_AVANTGARDE': -0.10143754252381422,\n",
       " 'PRAEGENDE_JUGENDJAHRE_Movement': -0.09922044527695338,\n",
       " 'CAMEO_INTL_2015_Wealth_10.0': -0.09751938060157446,\n",
       " 'ZABEOTYP_1': -0.09548156415154459,\n",
       " 'ANZ_PERSONEN': -0.09522922115051517,\n",
       " 'BALLRAUM': -0.09509487061048141,\n",
       " 'GEBAEUDETYP_RASTER': -0.09266277552681433,\n",
       " 'CAMEO_DEUG_2015_2': -0.08385152879668335,\n",
       " 'LP_FAMILIE_GROB_5.0': -0.08014143337378343,\n",
       " 'FINANZ_VORSORGER': -0.07830394398948319,\n",
       " 'ALTERSKATEGORIE_GROB': -0.07804393788561848,\n",
       " 'FINANZTYP_2': -0.07386475767049364,\n",
       " 'CAMEO_DEUG_2015_4': -0.0724833967728207,\n",
       " 'WOHNLAGE': -0.0637716099322077,\n",
       " 'CAMEO_DEUG_2015_3': -0.06312332131262603,\n",
       " 'NATIONALITAET_KZ_1.0': -0.061558634251930026,\n",
       " 'KBA13_ANZAHL_PKW': -0.06091244662332325,\n",
       " 'CAMEO_INTL_2015_LifeStage_4.0': -0.06043113808364158,\n",
       " 'ONLINE_AFFINITAET': -0.05984449751683102,\n",
       " 'LP_FAMILIE_FEIN_10.0': -0.055224197233723994,\n",
       " 'WOHNDAUER_2008': -0.054603667748674777,\n",
       " 'LP_FAMILIE_FEIN_11.0': -0.053431001610256525,\n",
       " 'FINANZTYP_3': -0.05195606038038697,\n",
       " 'CAMEO_INTL_2015_LifeStage_3.0': -0.051641694021531105,\n",
       " 'MIN_GEBAEUDEJAHR': -0.05128525184454976,\n",
       " 'ZABEOTYP_2': -0.049872692112568784,\n",
       " 'SEMIO_LUST': -0.047649960567694195,\n",
       " 'SEMIO_ERL': -0.044468779091763215,\n",
       " 'CAMEO_DEUG_2015_1': -0.04405326375866464,\n",
       " 'PRAEGENDE_JUGENDJAHRE_Date_60.0': -0.04121378419454623,\n",
       " 'SEMIO_VERT': -0.04067039438376599,\n",
       " 'CJT_GESAMTTYP_2.0': -0.04005144837527774,\n",
       " 'GFK_URLAUBERTYP_7.0': -0.037002875611916425,\n",
       " 'CAMEO_INTL_2015_LifeStage_2.0': -0.033675069446594076,\n",
       " 'LP_FAMILIE_GROB_4.0': -0.03323803453979067,\n",
       " 'SHOPPER_TYP_3.0': -0.0316567086160497,\n",
       " 'LP_STATUS_GROB_3.0': -0.03144932140402611,\n",
       " 'FINANZTYP_6': -0.029400623057185174,\n",
       " 'VERS_TYP_1.0': -0.02882645181037632,\n",
       " 'LP_FAMILIE_FEIN_8.0': -0.028536942872019615,\n",
       " 'LP_STATUS_FEIN_6.0': -0.028193736841109967,\n",
       " 'LP_FAMILIE_FEIN_2.0': -0.027916421653499755,\n",
       " 'LP_FAMILIE_GROB_2.0': -0.027916421653499755,\n",
       " 'PRAEGENDE_JUGENDJAHRE_Date_50.0': -0.027094709078498366,\n",
       " 'GFK_URLAUBERTYP_6.0': -0.026947709901206804,\n",
       " 'GFK_URLAUBERTYP_5.0': -0.02481739469232532,\n",
       " 'PRAEGENDE_JUGENDJAHRE_Date_70.0': -0.021903063864559664,\n",
       " 'LP_STATUS_FEIN_5.0': -0.021243106593648534,\n",
       " 'SHOPPER_TYP_0.0': -0.020484505220641477,\n",
       " 'LP_STATUS_FEIN_4.0': -0.019869454256259984,\n",
       " 'CAMEO_INTL_2015_LifeStage_5.0': -0.019051116621266503,\n",
       " 'GFK_URLAUBERTYP_2.0': -0.01829388261323122,\n",
       " 'LP_FAMILIE_FEIN_7.0': -0.017893925041225903,\n",
       " 'GFK_URLAUBERTYP_1.0': -0.01714022585131044,\n",
       " 'LP_STATUS_FEIN_8.0': -0.016888779259751692,\n",
       " 'LP_STATUS_GROB_2.0': -0.013794856371993106,\n",
       " 'LP_STATUS_FEIN_7.0': -0.01347441410422054,\n",
       " 'CJT_GESAMTTYP_1.0': -0.013333893220745791,\n",
       " 'GFK_URLAUBERTYP_3.0': -0.01233736580252736,\n",
       " 'PRAEGENDE_JUGENDJAHRE_Date_40.0': -0.012255905911890822,\n",
       " 'CAMEO_DEUG_2015_5': -0.010921310651844807,\n",
       " 'CAMEO_INTL_2015_Wealth_30.0': -0.00744369017213895,\n",
       " 'LP_FAMILIE_FEIN_9.0': -0.007351110361581984,\n",
       " 'ZABEOTYP_3': -0.007041172592327013,\n",
       " 'RETOURTYP_BK_S': -0.006396201444200609,\n",
       " 'GFK_URLAUBERTYP_9.0': -0.006120727488920118,\n",
       " 'LP_FAMILIE_FEIN_6.0': -0.005837384309346115,\n",
       " 'ANZ_TITEL': -0.005387308281395852,\n",
       " 'GFK_URLAUBERTYP_10.0': -0.0036472768709767036,\n",
       " 'LP_FAMILIE_FEIN_5.0': -0.002521040523980786,\n",
       " 'SOHO_KZ': -0.0023899872981037905,\n",
       " 'CAMEO_DEUG_2015_6': 0.00017287215009935167,\n",
       " 'SHOPPER_TYP_1.0': 0.0003421708432202718,\n",
       " 'PRAEGENDE_JUGENDJAHRE_Date_80.0': 0.0018840163035089023,\n",
       " 'LP_FAMILIE_GROB_3.0': 0.0030202579109662275,\n",
       " 'LP_FAMILIE_FEIN_4.0': 0.0038815590547268738,\n",
       " 'GFK_URLAUBERTYP_8.0': 0.004249647927959652,\n",
       " 'CJT_GESAMTTYP_5.0': 0.004886925978330387,\n",
       " 'LP_FAMILIE_FEIN_3.0': 0.005106554438062427,\n",
       " 'FINANZTYP_4': 0.005150531404074728,\n",
       " 'FINANZTYP_5': 0.007798476286265691,\n",
       " 'KBA05_ANTG2': 0.01115921115362577,\n",
       " 'CJT_GESAMTTYP_6.0': 0.012084325334847223,\n",
       " 'ANREDE_KZ': 0.013610347106232157,\n",
       " 'LP_STATUS_FEIN_3.0': 0.013979167470500167,\n",
       " 'GFK_URLAUBERTYP_4.0': 0.014430804999881282,\n",
       " 'CJT_GESAMTTYP_3.0': 0.016006272307149228,\n",
       " 'VERS_TYP_2.0': 0.016583468779921163,\n",
       " 'CJT_GESAMTTYP_4.0': 0.01786455877359498,\n",
       " 'SEMIO_KRIT': 0.018039868922907494,\n",
       " 'SEMIO_SOZ': 0.023051567948916094,\n",
       " 'HEALTH_TYP': 0.023268347636500597,\n",
       " 'SEMIO_DOM': 0.023815007283622958,\n",
       " 'GFK_URLAUBERTYP_11.0': 0.023954566431341844,\n",
       " 'NATIONALITAET_KZ_3.0': 0.024319852599440063,\n",
       " 'ANZ_HH_TITEL': 0.025828574277114536,\n",
       " 'ZABEOTYP_4': 0.0313745041196673,\n",
       " 'SHOPPER_TYP_2.0': 0.03301741666128971,\n",
       " 'CAMEO_DEUG_2015_7': 0.03375086700812372,\n",
       " 'PLZ8_HHZ': 0.0344123055537663,\n",
       " 'CAMEO_INTL_2015_Wealth_40.0': 0.03556411587946446,\n",
       " 'KKK': 0.036937416104776494,\n",
       " 'SEMIO_KAEM': 0.03779057312755859,\n",
       " 'ZABEOTYP_6': 0.03835432284083884,\n",
       " 'SEMIO_KULT': 0.04117253403381678,\n",
       " 'OST_WEST_KZ': 0.04200906643477228,\n",
       " 'NATIONALITAET_KZ_2.0': 0.044098489092670605,\n",
       " 'FINANZ_ANLEGER': 0.04819158570622082,\n",
       " 'FINANZ_UNAUFFAELLIGER': 0.0485547416523442,\n",
       " 'SEMIO_FAM': 0.0492003495550152,\n",
       " 'SEMIO_MAT': 0.05184794403150478,\n",
       " 'SEMIO_TRADV': 0.054582853073187054,\n",
       " 'W_KEIT_KIND_HH': 0.05496895036941114,\n",
       " 'REGIOTYP': 0.05978159484756092,\n",
       " 'GFK_URLAUBERTYP_12.0': 0.05986071444329523,\n",
       " 'PRAEGENDE_JUGENDJAHRE_Date_90.0': 0.06263761326258947,\n",
       " 'SEMIO_RAT': 0.06385203738154678,\n",
       " 'SEMIO_REL': 0.07277447870181306,\n",
       " 'ZABEOTYP_5': 0.07508136404728724,\n",
       " 'SEMIO_PFLICHT': 0.07674777402265774,\n",
       " 'CAMEO_DEUG_2015_8': 0.09003113507846544,\n",
       " 'LP_FAMILIE_FEIN_1.0': 0.10014420826694376,\n",
       " 'LP_FAMILIE_GROB_1.0': 0.10014420826694376,\n",
       " 'RELAT_AB': 0.10551241320025023,\n",
       " 'FINANZTYP_1': 0.10747233435338295,\n",
       " 'FINANZ_SPARER': 0.10760543909336559,\n",
       " 'CAMEO_DEUG_2015_9': 0.10902835189083797,\n",
       " 'LP_STATUS_FEIN_2.0': 0.11038913207611852,\n",
       " 'ANZ_HAUSHALTE_AKTIV': 0.11130389767913874,\n",
       " 'ARBEIT': 0.11242736183947337,\n",
       " 'KBA05_ANTG3': 0.11269967640011479,\n",
       " 'PLZ8_ANTG2': 0.12312914322767111,\n",
       " 'KBA05_ANTG4': 0.12336145637972894,\n",
       " 'LP_STATUS_FEIN_1.0': 0.1257808514878083,\n",
       " 'CAMEO_INTL_2015_LifeStage_1.0': 0.13573143238490873,\n",
       " 'CAMEO_INTL_2015_Wealth_50.0': 0.14563586781204288,\n",
       " 'FINANZ_HAUSBAUER': 0.1468793731998026,\n",
       " 'EWDICHTE': 0.15204562731541083,\n",
       " 'ORTSGR_KLS9': 0.15360751685020224,\n",
       " 'PLZ8_BAUMAX': 0.1697040746922804,\n",
       " 'PLZ8_ANTG4': 0.17415613514652561,\n",
       " 'PLZ8_ANTG3': 0.17986230639835604,\n",
       " 'HH_EINKOMMEN_SCORE': 0.18027008257262372,\n",
       " 'LP_STATUS_GROB_1.0': 0.19125315684658198}"
      ]
     },
     "execution_count": 205,
     "metadata": {},
     "output_type": "execute_result"
    }
   ],
   "source": [
    "#First component\n",
    "\n",
    "mapping_weights(pca,0)"
   ]
  },
  {
   "cell_type": "code",
   "execution_count": 206,
   "metadata": {},
   "outputs": [
    {
     "data": {
      "text/plain": [
       "0    0.83304\n",
       "dtype: float64"
      ]
     },
     "execution_count": 206,
     "metadata": {},
     "output_type": "execute_result"
    }
   ],
   "source": [
    "ratios_pd.sum()"
   ]
  },
  {
   "cell_type": "code",
   "execution_count": 207,
   "metadata": {},
   "outputs": [
    {
     "data": {
      "text/plain": [
       "{'FINANZ_SPARER': -0.2284535393671529,\n",
       " 'FINANZ_UNAUFFAELLIGER': -0.21451256880256483,\n",
       " 'SEMIO_REL': -0.21307469204637638,\n",
       " 'SEMIO_TRADV': -0.20647065749629454,\n",
       " 'SEMIO_PFLICHT': -0.2059238074684193,\n",
       " 'FINANZ_ANLEGER': -0.20476497213291592,\n",
       " 'PRAEGENDE_JUGENDJAHRE_Date_90.0': -0.20285066305966076,\n",
       " 'SEMIO_RAT': -0.16936664093765258,\n",
       " 'SEMIO_KULT': -0.16171456098893366,\n",
       " 'ONLINE_AFFINITAET': -0.15971509212266408,\n",
       " 'FINANZTYP_1': -0.1364585910990685,\n",
       " 'SEMIO_FAM': -0.13048800937051908,\n",
       " 'SEMIO_MAT': -0.12868504638418704,\n",
       " 'ZABEOTYP_4': -0.10767957943337986,\n",
       " 'LP_STATUS_FEIN_2.0': -0.09880777783381717,\n",
       " 'ZABEOTYP_5': -0.09355586648457803,\n",
       " 'FINANZTYP_4': -0.08872283256693474,\n",
       " 'LP_STATUS_FEIN_5.0': -0.08011942934551441,\n",
       " 'GFK_URLAUBERTYP_9.0': -0.07364687236355101,\n",
       " 'FINANZTYP_3': -0.07118182896096609,\n",
       " 'LP_FAMILIE_GROB_4.0': -0.06783308381055556,\n",
       " 'ANZ_PERSONEN': -0.0671279945568266,\n",
       " 'SEMIO_SOZ': -0.06014627221106628,\n",
       " 'PLZ8_ANTG1': -0.05761377251082992,\n",
       " 'KBA05_GBZ': -0.054304653342372534,\n",
       " 'MOBI_REGIO': -0.0541680022405195,\n",
       " 'CJT_GESAMTTYP_4.0': -0.05390799918480675,\n",
       " 'ZABEOTYP_1': -0.05379062140553624,\n",
       " 'LP_LEBENSPHASE_GROB': -0.051781619892012014,\n",
       " 'PRAEGENDE_JUGENDJAHRE_Date_80.0': -0.050692020065404256,\n",
       " 'HEALTH_TYP': -0.04942418092833294,\n",
       " 'NATIONALITAET_KZ_3.0': -0.048915174506975564,\n",
       " 'LP_FAMILIE_GROB_5.0': -0.04884548532736864,\n",
       " 'SHOPPER_TYP_0.0': -0.04883032598165766,\n",
       " 'LP_FAMILIE_GROB_3.0': -0.048014225617568816,\n",
       " 'KBA05_ANTG1': -0.047493581859193036,\n",
       " 'INNENSTADT': -0.04623390414581212,\n",
       " 'PLZ8_GBZ': -0.04564958540189018,\n",
       " 'LP_LEBENSPHASE_FEIN': -0.044948996422629055,\n",
       " 'KONSUMNAEHE': -0.04461404721582191,\n",
       " 'NATIONALITAET_KZ_2.0': -0.04454060772867605,\n",
       " 'LP_FAMILIE_FEIN_7.0': -0.04305366197786253,\n",
       " 'CJT_GESAMTTYP_6.0': -0.04300788817731991,\n",
       " 'GFK_URLAUBERTYP_2.0': -0.04259794758711797,\n",
       " 'CAMEO_INTL_2015_Wealth_20.0': -0.039437736487739884,\n",
       " 'GFK_URLAUBERTYP_12.0': -0.03915907467890877,\n",
       " 'MIN_GEBAEUDEJAHR': -0.03898250494957595,\n",
       " 'WOHNLAGE': -0.03793212104321932,\n",
       " 'BALLRAUM': -0.03754363609585986,\n",
       " 'LP_FAMILIE_FEIN_8.0': -0.03730520013056036,\n",
       " 'LP_FAMILIE_FEIN_11.0': -0.03645280843321497,\n",
       " 'LP_FAMILIE_FEIN_6.0': -0.03621920450529798,\n",
       " 'CJT_GESAMTTYP_3.0': -0.035325537531571145,\n",
       " 'CJT_GESAMTTYP_5.0': -0.03524581303673997,\n",
       " 'CAMEO_INTL_2015_LifeStage_2.0': -0.03429730056402842,\n",
       " 'CAMEO_DEUG_2015_4': -0.033022032260785664,\n",
       " 'LP_FAMILIE_FEIN_4.0': -0.03124622928157203,\n",
       " 'ZABEOTYP_2': -0.030649658702705827,\n",
       " 'LP_FAMILIE_FEIN_10.0': -0.028787758078609917,\n",
       " 'GEBAEUDETYP_RASTER': -0.02757481880940135,\n",
       " 'LP_FAMILIE_FEIN_5.0': -0.02647955359885533,\n",
       " 'LP_FAMILIE_FEIN_3.0': -0.02501078171317936,\n",
       " 'CAMEO_INTL_2015_LifeStage_3.0': -0.024348686444404983,\n",
       " 'KBA13_ANZAHL_PKW': -0.02380090702795831,\n",
       " 'SHOPPER_TYP_1.0': -0.021606640401618735,\n",
       " 'CAMEO_DEUG_2015_2': -0.021517519450400615,\n",
       " 'VERS_TYP_1.0': -0.021227310492771215,\n",
       " 'GFK_URLAUBERTYP_1.0': -0.019477992185116408,\n",
       " 'LP_STATUS_FEIN_4.0': -0.019293553085206794,\n",
       " 'CAMEO_DEUG_2015_3': -0.018332444862701552,\n",
       " 'LP_STATUS_FEIN_8.0': -0.017923427018891293,\n",
       " 'CAMEO_INTL_2015_Wealth_10.0': -0.017741868835745307,\n",
       " 'SEMIO_VERT': -0.017536828257066074,\n",
       " 'GFK_URLAUBERTYP_11.0': -0.014995968764670235,\n",
       " 'LP_STATUS_GROB_2.0': -0.014623154687923998,\n",
       " 'LP_FAMILIE_FEIN_9.0': -0.012030556258863172,\n",
       " 'LP_STATUS_GROB_4.0': -0.009591966688052655,\n",
       " 'LP_STATUS_FEIN_6.0': -0.008590930730696403,\n",
       " 'CAMEO_INTL_2015_LifeStage_4.0': -0.00788360066197373,\n",
       " 'KBA05_ANTG2': -0.006710242221759509,\n",
       " 'CAMEO_DEUG_2015_5': -0.005410179485357735,\n",
       " 'KKK': -0.004269249023380652,\n",
       " 'LP_STATUS_FEIN_9.0': -0.003256027684698844,\n",
       " 'CAMEO_INTL_2015_Wealth_30.0': -0.0032183902357562602,\n",
       " 'LP_STATUS_GROB_3.0': -0.002574832402791284,\n",
       " 'GREEN_AVANTGARDE': -0.002497086030058065,\n",
       " 'SOHO_KZ': -0.001872234297090529,\n",
       " 'PRAEGENDE_JUGENDJAHRE_Movement': -0.0016753417775193585,\n",
       " 'SHOPPER_TYP_2.0': 0.0010344211761724965,\n",
       " 'CAMEO_DEUG_2015_1': 0.0011295727424126783,\n",
       " 'ANZ_TITEL': 0.006608662491033993,\n",
       " 'GFK_URLAUBERTYP_10.0': 0.007456028799344652,\n",
       " 'PLZ8_HHZ': 0.007634425445503884,\n",
       " 'REGIOTYP': 0.009733054318972987,\n",
       " 'LP_STATUS_FEIN_7.0': 0.009860414565392848,\n",
       " 'CAMEO_DEUG_2015_7': 0.010056555306904904,\n",
       " 'CAMEO_DEUG_2015_6': 0.011266104860112865,\n",
       " 'LP_STATUS_GROB_1.0': 0.012210635012596324,\n",
       " 'LP_STATUS_FEIN_10.0': 0.012431130333958464,\n",
       " 'LP_STATUS_GROB_5.0': 0.012431130333958464,\n",
       " 'CAMEO_INTL_2015_Wealth_40.0': 0.014709328826192091,\n",
       " 'CAMEO_DEUG_2015_9': 0.015008472092857912,\n",
       " 'OST_WEST_KZ': 0.018198300622555355,\n",
       " 'CAMEO_INTL_2015_LifeStage_1.0': 0.018494735151451037,\n",
       " 'GFK_URLAUBERTYP_6.0': 0.01987923918306758,\n",
       " 'GFK_URLAUBERTYP_8.0': 0.021112597350106836,\n",
       " 'ANZ_HH_TITEL': 0.02272829231557001,\n",
       " 'ZABEOTYP_6': 0.023720232623497258,\n",
       " 'SEMIO_DOM': 0.024071351251699673,\n",
       " 'KBA05_ANTG3': 0.024884617646035972,\n",
       " 'GFK_URLAUBERTYP_5.0': 0.025277245811795242,\n",
       " 'VERS_TYP_2.0': 0.027227404645969018,\n",
       " 'HH_EINKOMMEN_SCORE': 0.029504610619419037,\n",
       " 'GFK_URLAUBERTYP_3.0': 0.029900998298360154,\n",
       " 'CAMEO_DEUG_2015_8': 0.03299691601796908,\n",
       " 'ANREDE_KZ': 0.03432346007240594,\n",
       " 'LP_FAMILIE_FEIN_2.0': 0.03798002025951259,\n",
       " 'LP_FAMILIE_GROB_2.0': 0.03798002025951259,\n",
       " 'CAMEO_INTL_2015_LifeStage_5.0': 0.03893447847029692,\n",
       " 'CAMEO_INTL_2015_Wealth_50.0': 0.03918314895753594,\n",
       " 'ANZ_HAUSHALTE_AKTIV': 0.0405487612961144,\n",
       " 'PLZ8_ANTG2': 0.041585306375448994,\n",
       " 'RELAT_AB': 0.041889693443460885,\n",
       " 'GFK_URLAUBERTYP_7.0': 0.04216082051038644,\n",
       " 'KBA05_ANTG4': 0.0434578638241796,\n",
       " 'ARBEIT': 0.04448793724769624,\n",
       " 'LP_STATUS_FEIN_3.0': 0.049648217215875416,\n",
       " 'PLZ8_BAUMAX': 0.052316127611384974,\n",
       " 'SEMIO_KAEM': 0.05246188949562941,\n",
       " 'WOHNDAUER_2008': 0.05374415123243488,\n",
       " 'PLZ8_ANTG4': 0.055771274399892115,\n",
       " 'GFK_URLAUBERTYP_4.0': 0.05722438138521039,\n",
       " 'ORTSGR_KLS9': 0.057713999058176375,\n",
       " 'EWDICHTE': 0.05874067551471115,\n",
       " 'PLZ8_ANTG3': 0.0591142255498375,\n",
       " 'LP_FAMILIE_FEIN_1.0': 0.06252379617056313,\n",
       " 'LP_FAMILIE_GROB_1.0': 0.06252379617056313,\n",
       " 'PRAEGENDE_JUGENDJAHRE_Date_70.0': 0.06382556980122658,\n",
       " 'PRAEGENDE_JUGENDJAHRE_Date_40.0': 0.06532275623029134,\n",
       " 'NATIONALITAET_KZ_1.0': 0.06721510727928269,\n",
       " 'FINANZTYP_6': 0.06876448590952498,\n",
       " 'CJT_GESAMTTYP_1.0': 0.06961806597691385,\n",
       " 'SEMIO_KRIT': 0.07172209364559959,\n",
       " 'SHOPPER_TYP_3.0': 0.0733474579894039,\n",
       " 'FINANZ_HAUSBAUER': 0.07589328411986306,\n",
       " 'FINANZTYP_2': 0.0913909352257247,\n",
       " 'LP_STATUS_FEIN_1.0': 0.09158514274101248,\n",
       " 'FINANZ_MINIMALIST': 0.09640317348223564,\n",
       " 'FINANZTYP_5': 0.0968911746899951,\n",
       " 'PRAEGENDE_JUGENDJAHRE_Date_50.0': 0.10391629487381887,\n",
       " 'CJT_GESAMTTYP_2.0': 0.10730885273144576,\n",
       " 'PRAEGENDE_JUGENDJAHRE_Date_60.0': 0.11559753976357574,\n",
       " 'W_KEIT_KIND_HH': 0.1265720569430807,\n",
       " 'RETOURTYP_BK_S': 0.1563390771797202,\n",
       " 'SEMIO_LUST': 0.16104161645426723,\n",
       " 'SEMIO_ERL': 0.1772900436910983,\n",
       " 'ZABEOTYP_3': 0.1969937692376684,\n",
       " 'FINANZ_VORSORGER': 0.21947304274623838,\n",
       " 'ALTERSKATEGORIE_GROB': 0.23244131435678214}"
      ]
     },
     "execution_count": 207,
     "metadata": {},
     "output_type": "execute_result"
    }
   ],
   "source": [
    "# Map weights for the second principal component to corresponding feature names\n",
    "# and then print the linked values, sorted by weight.\n",
    "\n",
    "mapping_weights(pca,1)\n",
    "\n"
   ]
  },
  {
   "cell_type": "code",
   "execution_count": 208,
   "metadata": {},
   "outputs": [
    {
     "data": {
      "text/plain": [
       "{'ANREDE_KZ': -0.3394851777835403,\n",
       " 'SEMIO_KAEM': -0.30730288652988863,\n",
       " 'SEMIO_DOM': -0.2738828956377651,\n",
       " 'SEMIO_KRIT': -0.26387387554157293,\n",
       " 'SEMIO_ERL': -0.2060840896713539,\n",
       " 'FINANZ_ANLEGER': -0.15271072092366647,\n",
       " 'SEMIO_RAT': -0.14850698409464283,\n",
       " 'FINANZTYP_1': -0.09825847339628418,\n",
       " 'SHOPPER_TYP_2.0': -0.09279836395914205,\n",
       " 'LP_STATUS_FEIN_4.0': -0.08252887146968871,\n",
       " 'LP_STATUS_FEIN_2.0': -0.07817393385375274,\n",
       " 'FINANZ_HAUSBAUER': -0.06672609358235947,\n",
       " 'INNENSTADT': -0.06569326351885948,\n",
       " 'ZABEOTYP_4': -0.059757125115144624,\n",
       " 'BALLRAUM': -0.05852409405013635,\n",
       " 'WOHNLAGE': -0.053523175102989054,\n",
       " 'LP_FAMILIE_GROB_3.0': -0.05237412104068694,\n",
       " 'FINANZ_SPARER': -0.05215106731398356,\n",
       " 'KONSUMNAEHE': -0.051885697699714614,\n",
       " 'PLZ8_ANTG1': -0.05084933247746686,\n",
       " 'SHOPPER_TYP_3.0': -0.04868514069761994,\n",
       " 'HH_EINKOMMEN_SCORE': -0.0475015807759348,\n",
       " 'ZABEOTYP_3': -0.044140696383023384,\n",
       " 'KKK': -0.041477808751737434,\n",
       " 'FINANZ_UNAUFFAELLIGER': -0.04125287324139426,\n",
       " 'GEBAEUDETYP_RASTER': -0.03875670475912048,\n",
       " 'CAMEO_INTL_2015_Wealth_20.0': -0.038106942080114684,\n",
       " 'PRAEGENDE_JUGENDJAHRE_Date_90.0': -0.0379893661154912,\n",
       " 'LP_FAMILIE_FEIN_4.0': -0.037932669728200134,\n",
       " 'PLZ8_GBZ': -0.037775988954502196,\n",
       " 'LP_STATUS_GROB_2.0': -0.03615129584441386,\n",
       " 'CJT_GESAMTTYP_2.0': -0.032898360344547746,\n",
       " 'CAMEO_DEUG_2015_4': -0.0313944480075614,\n",
       " 'NATIONALITAET_KZ_3.0': -0.028809011753751047,\n",
       " 'FINANZTYP_2': -0.028802087152706324,\n",
       " 'ZABEOTYP_5': -0.02657733747326879,\n",
       " 'LP_FAMILIE_FEIN_5.0': -0.026358452889320712,\n",
       " 'LP_FAMILIE_FEIN_3.0': -0.025124788000119504,\n",
       " 'REGIOTYP': -0.024317455331624285,\n",
       " 'GFK_URLAUBERTYP_9.0': -0.024241926335276418,\n",
       " 'CJT_GESAMTTYP_6.0': -0.023145892603505535,\n",
       " 'MOBI_REGIO': -0.02282597745894732,\n",
       " 'KBA13_ANZAHL_PKW': -0.021920326798363143,\n",
       " 'SEMIO_PFLICHT': -0.020683737959855907,\n",
       " 'GFK_URLAUBERTYP_12.0': -0.020613432744359537,\n",
       " 'CAMEO_INTL_2015_LifeStage_2.0': -0.020337793911860927,\n",
       " 'LP_STATUS_FEIN_5.0': -0.02031121312390031,\n",
       " 'KBA05_GBZ': -0.020150128510072328,\n",
       " 'CAMEO_INTL_2015_LifeStage_3.0': -0.019038737622649137,\n",
       " 'CAMEO_DEUG_2015_3': -0.018272937585651534,\n",
       " 'LP_STATUS_GROB_4.0': -0.01818271600791457,\n",
       " 'LP_STATUS_GROB_1.0': -0.01708813131255972,\n",
       " 'LP_STATUS_FEIN_9.0': -0.016670683445628286,\n",
       " 'MIN_GEBAEUDEJAHR': -0.01636895479809119,\n",
       " 'SEMIO_TRADV': -0.013169934793639013,\n",
       " 'KBA05_ANTG1': -0.0131379357882954,\n",
       " 'LP_FAMILIE_FEIN_1.0': -0.0130856529815472,\n",
       " 'LP_FAMILIE_GROB_1.0': -0.0130856529815472,\n",
       " 'GFK_URLAUBERTYP_2.0': -0.012805618531290325,\n",
       " 'KBA05_ANTG2': -0.010757411553920303,\n",
       " 'LP_FAMILIE_FEIN_7.0': -0.010210584170997475,\n",
       " 'CAMEO_DEUG_2015_6': -0.009495391006067042,\n",
       " 'ZABEOTYP_2': -0.009432455602372226,\n",
       " 'LP_FAMILIE_GROB_4.0': -0.009036033310970311,\n",
       " 'LP_FAMILIE_FEIN_6.0': -0.008740098450866096,\n",
       " 'VERS_TYP_1.0': -0.00852337039763147,\n",
       " 'LP_STATUS_FEIN_8.0': -0.006204858983816714,\n",
       " 'FINANZTYP_6': -0.005614253937232197,\n",
       " 'ONLINE_AFFINITAET': -0.005549472031607493,\n",
       " 'CAMEO_INTL_2015_LifeStage_4.0': -0.004841320051617082,\n",
       " 'HEALTH_TYP': -0.004824698830849905,\n",
       " 'GFK_URLAUBERTYP_11.0': -0.003519982295303452,\n",
       " 'CAMEO_INTL_2015_Wealth_40.0': -0.0006756963005573817,\n",
       " 'PRAEGENDE_JUGENDJAHRE_Date_70.0': -0.0006514268010444142,\n",
       " 'CAMEO_DEUG_2015_7': -0.000398806892643618,\n",
       " 'OST_WEST_KZ': -0.0001299187352838747,\n",
       " 'CAMEO_INTL_2015_Wealth_30.0': 7.960027085398561e-05,\n",
       " 'CAMEO_DEUG_2015_5': 0.00015408689507633033,\n",
       " 'SOHO_KZ': 0.0005755212653131149,\n",
       " 'KBA05_ANTG3': 0.0011110831231479288,\n",
       " 'GFK_URLAUBERTYP_1.0': 0.0015886488517650476,\n",
       " 'LP_FAMILIE_FEIN_8.0': 0.0016134905932358968,\n",
       " 'GFK_URLAUBERTYP_7.0': 0.0019112191290014935,\n",
       " 'GFK_URLAUBERTYP_3.0': 0.001992855711052389,\n",
       " 'LP_FAMILIE_FEIN_9.0': 0.0026994740201923186,\n",
       " 'CAMEO_INTL_2015_LifeStage_5.0': 0.0035807974207883427,\n",
       " 'GFK_URLAUBERTYP_10.0': 0.005882483735483085,\n",
       " 'GFK_URLAUBERTYP_6.0': 0.0064405566279110305,\n",
       " 'PRAEGENDE_JUGENDJAHRE_Date_80.0': 0.006535855543351213,\n",
       " 'CAMEO_DEUG_2015_2': 0.007177100399774141,\n",
       " 'GFK_URLAUBERTYP_5.0': 0.009244638529879645,\n",
       " 'NATIONALITAET_KZ_1.0': 0.009833729966656612,\n",
       " 'CJT_GESAMTTYP_5.0': 0.010789886453514325,\n",
       " 'PRAEGENDE_JUGENDJAHRE_Date_40.0': 0.01108827934433438,\n",
       " 'LP_FAMILIE_FEIN_11.0': 0.011394231456911213,\n",
       " 'ALTERSKATEGORIE_GROB': 0.011551381023553934,\n",
       " 'GFK_URLAUBERTYP_8.0': 0.011681513382672417,\n",
       " 'FINANZTYP_4': 0.012870054481543013,\n",
       " 'CJT_GESAMTTYP_1.0': 0.012919875458838766,\n",
       " 'ANZ_HH_TITEL': 0.013621525852806807,\n",
       " 'CAMEO_DEUG_2015_8': 0.013698524153458002,\n",
       " 'ANZ_TITEL': 0.014542808366678754,\n",
       " 'CJT_GESAMTTYP_3.0': 0.014680013958920475,\n",
       " 'CJT_GESAMTTYP_4.0': 0.015568779387594425,\n",
       " 'PLZ8_HHZ': 0.01590377483893986,\n",
       " 'LP_FAMILIE_FEIN_10.0': 0.01611330644636816,\n",
       " 'CAMEO_INTL_2015_Wealth_10.0': 0.018603886073606683,\n",
       " 'ANZ_HAUSHALTE_AKTIV': 0.02019103075706631,\n",
       " 'SEMIO_LUST': 0.02046162930023861,\n",
       " 'LP_FAMILIE_GROB_5.0': 0.021156549956574504,\n",
       " 'CAMEO_DEUG_2015_1': 0.021282249944598826,\n",
       " 'WOHNDAUER_2008': 0.021464580118516135,\n",
       " 'VERS_TYP_2.0': 0.02159835434268398,\n",
       " 'LP_LEBENSPHASE_GROB': 0.02170966012994032,\n",
       " 'ANZ_PERSONEN': 0.02195395209579286,\n",
       " 'CAMEO_INTL_2015_Wealth_50.0': 0.021985275702918763,\n",
       " 'LP_LEBENSPHASE_FEIN': 0.02219404697208712,\n",
       " 'LP_STATUS_FEIN_6.0': 0.02222332118646686,\n",
       " 'CAMEO_DEUG_2015_9': 0.022658154147409067,\n",
       " 'KBA05_ANTG4': 0.022820215236334564,\n",
       " 'FINANZTYP_3': 0.022835326557892048,\n",
       " 'LP_STATUS_FEIN_7.0': 0.025538490559428733,\n",
       " 'LP_FAMILIE_FEIN_2.0': 0.026002506933488868,\n",
       " 'LP_FAMILIE_GROB_2.0': 0.026002506933488868,\n",
       " 'GFK_URLAUBERTYP_4.0': 0.02614129535405452,\n",
       " 'PRAEGENDE_JUGENDJAHRE_Date_50.0': 0.026232668646334015,\n",
       " 'PRAEGENDE_JUGENDJAHRE_Date_60.0': 0.027849965795355494,\n",
       " 'CAMEO_INTL_2015_LifeStage_1.0': 0.029830634411206505,\n",
       " 'NATIONALITAET_KZ_2.0': 0.03090018630877834,\n",
       " 'LP_STATUS_GROB_3.0': 0.03227493270868372,\n",
       " 'ARBEIT': 0.03950369908557987,\n",
       " 'PLZ8_ANTG2': 0.040425001643547974,\n",
       " 'RELAT_AB': 0.0409678979867429,\n",
       " 'LP_STATUS_FEIN_1.0': 0.04268125628364861,\n",
       " 'FINANZ_VORSORGER': 0.04377238251849802,\n",
       " 'LP_STATUS_FEIN_3.0': 0.04554556735829892,\n",
       " 'ZABEOTYP_6': 0.047562691463792,\n",
       " 'SHOPPER_TYP_1.0': 0.04910320668760772,\n",
       " 'W_KEIT_KIND_HH': 0.05300257805022375,\n",
       " 'PLZ8_ANTG4': 0.05530567980533652,\n",
       " 'PLZ8_ANTG3': 0.05563894815929763,\n",
       " 'PLZ8_BAUMAX': 0.056397169308946324,\n",
       " 'LP_STATUS_FEIN_10.0': 0.06742537618366641,\n",
       " 'LP_STATUS_GROB_5.0': 0.06742537618366641,\n",
       " 'RETOURTYP_BK_S': 0.07285576595932947,\n",
       " 'EWDICHTE': 0.07546106946156653,\n",
       " 'ORTSGR_KLS9': 0.07595146479535213,\n",
       " 'SEMIO_MAT': 0.08747659418536885,\n",
       " 'PRAEGENDE_JUGENDJAHRE_Movement': 0.08833665139440636,\n",
       " 'GREEN_AVANTGARDE': 0.09052890408234324,\n",
       " 'SEMIO_REL': 0.11472304043339844,\n",
       " 'ZABEOTYP_1': 0.12122307968509909,\n",
       " 'SHOPPER_TYP_0.0': 0.12197612628146637,\n",
       " 'FINANZ_MINIMALIST': 0.12968529791048056,\n",
       " 'FINANZTYP_5': 0.13656147838839847,\n",
       " 'SEMIO_KULT': 0.24818288736795233,\n",
       " 'SEMIO_SOZ': 0.25576264071148236,\n",
       " 'SEMIO_FAM': 0.25694224158614254,\n",
       " 'SEMIO_VERT': 0.31536538822736404}"
      ]
     },
     "execution_count": 208,
     "metadata": {},
     "output_type": "execute_result"
    }
   ],
   "source": [
    "# Map weights for the third principal component to corresponding feature names\n",
    "# and then print the linked values, sorted by weight.\n",
    "mapping_weights(pca,2)\n"
   ]
  },
  {
   "cell_type": "markdown",
   "metadata": {},
   "source": [
    "### Discussion: Interpret Principal Components\n",
    "\n",
    "By investigating the explained variance ratios, we are able to see that 83.27% total variance is explained by the 65 components.\n",
    "\n",
    "The first component explains 10.13% of total variance.\n",
    "The second component explains 7.22% of total variance.\n",
    "The third component explains 4.3% of total variance.\n",
    "\n",
    "1st component:\n",
    "\n",
    "By investigating further the weights of the first component, we are able to see that the top features are;\n",
    "\n",
    "  'PLZ8_BAUMAX': 0.16970407813741156,\n",
    " 'PLZ8_ANTG4': 0.17415614009797303,\n",
    " 'PLZ8_ANTG3': 0.17986230971142672,\n",
    " 'HH_EINKOMMEN_SCORE': 0.18027008915851428,\n",
    " 'LP_STATUS_GROB_1.0': 0.19125316225073657}\n",
    "\n",
    "Which mostly translate to Social status, size of family and their estimated incomes. Specifically, LP_STATUS_GROB_1 PLZ8_ANTG3 and 4 are about 6-10 and 10+ family homes. While the PLZ8_BAUMAX feature is about the the type of buildings in the region, whether they are family ones or business buildings.\n",
    "So, we can see that for the first component, features related to Family and their income/status are the most positively weighted.\n",
    "\n",
    "On the other hand, the top negatively weighted features are:\n",
    "\n",
    "\n",
    " 'MOBI_REGIO': -0.19949317867641753,\n",
    " 'KBA05_ANTG1': -0.18643440526260691,\n",
    " 'FINANZ_MINIMALIST': -0.1840598944135835,\n",
    " 'PLZ8_ANTG1': -0.179979224123442,\n",
    " 'KBA05_GBZ': -0.17723013529878878,\n",
    " \n",
    " Which are about movement patterns, number of 1-2 family houses in the microcell, number of 1-2 family houses in the PLZ8 region, number of buildings in the region and financial typology. By comparing their respective values with the top positively weighted features, we can see that there's probably a prevalence of buildings of smaller family capacity.\n",
    " \n",
    " \n",
    " 2nd component:\n",
    " \n",
    " For the second component, the top positively weighted features are \n",
    " \n",
    "  'SEMIO_LUST': 0.16104166037958709,\n",
    " 'SEMIO_ERL': 0.17729004052549063,\n",
    " 'ZABEOTYP_3': 0.19699362335442594,\n",
    " 'FINANZ_VORSORGER': 0.21947309153577058,\n",
    " 'ALTERSKATEGORIE_GROB': 0.23244130256013731}\n",
    " \n",
    " Which translate to estimated age, financial typology for vorosrger, energy consumption typology 3, and personality typology 'LUST'.\n",
    " \n",
    " Top negatively weighted features:\n",
    " \n",
    " 'FINANZ_SPARER': -0.22845355156095645,\n",
    " 'FINANZ_UNAUFFAELLIGER': -0.21451260764500632,\n",
    " 'SEMIO_REL': -0.2130747359507652,\n",
    " 'SEMIO_TRADV': -0.20647057621291645,\n",
    " 'SEMIO_PFLICHT': -0.20592384270766689,\n",
    " 'FINANZ_ANLEGER': -0.20476503303026469,\n",
    " \n",
    " Again here, the most negatively weighted features are about financial typology and personality typology.\n",
    " \n",
    " \n",
    " 3rd component:\n",
    " \n",
    " Top positive:\n",
    " \n",
    " 'FINANZ_MINIMALIST': 0.12968512514010153,\n",
    " 'FINANZTYP_5': 0.13656018374113874,\n",
    " 'SEMIO_KULT': 0.24818378242425221,\n",
    " 'SEMIO_SOZ': 0.2557638727088109,\n",
    " 'SEMIO_FAM': 0.25694314910653426,\n",
    " 'SEMIO_VERT': 0.31536566625022061}\n",
    " \n",
    " Similarly to the second component, the top positively weighted features are about the personality typology and financial typology.\n",
    " \n",
    " Top negative:\n",
    " \n",
    "'ANREDE_KZ': -0.33948547592697637,\n",
    " 'SEMIO_KAEM': -0.307302846624046,\n",
    " 'SEMIO_DOM': -0.27388255900167791,\n",
    " 'SEMIO_KRIT': -0.26387357724054217,\n",
    " 'SEMIO_ERL': -0.20608390786920452,\n",
    " 'FINANZ_ANLEGER': -0.15271218442958248,\n",
    " 'SEMIO_RAT': -0.14850627984069023,\n",
    " 'FINANZTYP_1': -0.098257336763275846,\n",
    " \n",
    " The top negative feature is about gender while the rest ones are again about personality and financial types.\n",
    " \n",
    " \n",
    "We can conclude by the examination of those principal components that they can indeed be interpreted in a meaningful way. The positive and negative weights show the negative correlations between the attributes which in those components had mostly to do with family types, personality and financial typology. Specific groups of features seem to contribute more in explaining the variance of those components.\n",
    " \n",
    " \n",
    " \n",
    " \n",
    " \n",
    " \n",
    " \n",
    " \n",
    " \n",
    "\n",
    "\n",
    "\n",
    "(Double-click this cell and replace this text with your own text, reporting your observations from detailed investigation of the first few principal components generated. Can we interpret positive and negative values from them in a meaningful way?)"
   ]
  },
  {
   "cell_type": "markdown",
   "metadata": {},
   "source": [
    "## Clustering\n",
    "\n",
    "###  Apply Clustering to General Population\n",
    "\n",
    "We've assessed and cleaned the demographics data, then scaled and transformed them. Now, it's time to see how the data clusters in the principal components space. In this substep, we will apply k-means clustering to the dataset and use the average within-cluster distances from each point to their assigned cluster's centroid to decide on a number of clusters to keep.\n"
   ]
  },
  {
   "cell_type": "code",
   "execution_count": 209,
   "metadata": {
    "scrolled": true
   },
   "outputs": [
    {
     "name": "stdout",
     "output_type": "stream",
     "text": [
      "132.4533036621436 for n_clusters= 1\n",
      "114.30016578173668 for n_clusters= 3\n",
      "107.38596990500706 for n_clusters= 5\n",
      "103.77864964649595 for n_clusters= 7\n",
      "101.16083583390558 for n_clusters= 9\n",
      "98.70934559008245 for n_clusters= 11\n",
      "96.14951010282238 for n_clusters= 13\n",
      "95.00331199569686 for n_clusters= 15\n",
      "92.98300386518609 for n_clusters= 17\n",
      "92.08550147351606 for n_clusters= 19\n"
     ]
    }
   ],
   "source": [
    "# Over a number of different cluster counts...\n",
    "\n",
    "\n",
    "    # run k-means clustering on the data and...\n",
    "    \n",
    "    \n",
    "    # compute the average within-cluster distances.\n",
    "    \n",
    "scores=[]\n",
    "for i in range(1,20,2):\n",
    "    kmeans=KMeans(n_clusters=i)\n",
    "    model=kmeans.fit(X_pca)\n",
    "    score=np.abs(model.score(X_pca))\n",
    "    print(score/X_pca.shape[0], \"for n_clusters=\",i)\n",
    "    scores.append(score)\n",
    "    \n",
    "    \n",
    "    "
   ]
  },
  {
   "cell_type": "code",
   "execution_count": 210,
   "metadata": {},
   "outputs": [
    {
     "data": {
      "text/plain": [
       "Text(0.5, 1.0, 'SSE vs K')"
      ]
     },
     "execution_count": 210,
     "metadata": {},
     "output_type": "execute_result"
    },
    {
     "data": {
      "image/png": "[encoded data removed]",
      "text/plain": [
       "<Figure size 432x288 with 1 Axes>"
      ]
     },
     "metadata": {
      "needs_background": "light"
     },
     "output_type": "display_data"
    }
   ],
   "source": [
    "# Investigate the change in within-cluster distance across number of clusters.\n",
    "# HINT: Use matplotlib's plot function to visualize this relationship.\n",
    "clusters=[1,3,5,7,9,11,13,15,17,19]\n",
    "plt.plot(clusters,scores,linestyle='--',marker='o',color='r')\n",
    "plt.xlabel('K')\n",
    "plt.ylabel('SSE')\n",
    "plt.title('SSE vs K')\n"
   ]
  },
  {
   "cell_type": "code",
   "execution_count": 211,
   "metadata": {},
   "outputs": [],
   "source": [
    "# Re-fit the k-means model with the selected number of clusters and obtain\n",
    "# cluster predictions for the general population demographics data.\n",
    "new_kmeans=KMeans(n_clusters=19)\n",
    "new_model=new_kmeans.fit(X_pca)\n",
    "\n",
    "predictions=new_model.predict(X_pca)\n"
   ]
  },
  {
   "cell_type": "code",
   "execution_count": 212,
   "metadata": {},
   "outputs": [
    {
     "data": {
      "text/plain": [
       "array([10, 18, 15, ..., 13,  2,  7])"
      ]
     },
     "execution_count": 212,
     "metadata": {},
     "output_type": "execute_result"
    }
   ],
   "source": [
    "predictions"
   ]
  },
  {
   "cell_type": "markdown",
   "metadata": {},
   "source": [
    "### Discussion Apply Clustering to General Population\n",
    "\n",
    "We can see from the graph that as K points increases, the distance from the centers are decreased. By the elbow method we can see that after 5 clusters the distance decreases significantly less with every extra cluster. However, after 13 clusters we notice that the slope slightly increases again.\n",
    "We will pick 19 clusters to re fit the k means model.\n",
    "\n",
    "(Double-click this cell and replace this text with your own text, reporting your findings and decisions regarding clustering. Into how many clusters have you decided to segment the population?)"
   ]
  },
  {
   "cell_type": "markdown",
   "metadata": {},
   "source": [
    "### Applying All Steps to the Customer Data\n",
    "\n",
    "Now that we have clusters and cluster centers for the general population, it's time to see how the customer data maps on to those clusters. "
   ]
  },
  {
   "cell_type": "code",
   "execution_count": 213,
   "metadata": {},
   "outputs": [],
   "source": [
    "# Loading in the customer demographics data.\n",
    "customers = pd.read_csv('Udacity_CUSTOMERS_Subset.csv',sep=';')"
   ]
  },
  {
   "cell_type": "code",
   "execution_count": 214,
   "metadata": {},
   "outputs": [
    {
     "name": "stdout",
     "output_type": "stream",
     "text": [
      "Total number of missing values after conversion is 3112918\n"
     ]
    },
    {
     "name": "stderr",
     "output_type": "stream",
     "text": [
      "<ipython-input-189-a25963727e51>:74: SettingWithCopyWarning: \n",
      "A value is trying to be set on a copy of a slice from a DataFrame\n",
      "\n",
      "See the caveats in the documentation: https://pandas.pydata.org/pandas-docs/stable/user_guide/indexing.html#returning-a-view-versus-a-copy\n",
      "  new_subset1.dropna(axis=0,subset=[\"SOHO_KZ\"],inplace=True)\n",
      "<ipython-input-189-a25963727e51>:75: SettingWithCopyWarning: \n",
      "A value is trying to be set on a copy of a slice from a DataFrame\n",
      "\n",
      "See the caveats in the documentation: https://pandas.pydata.org/pandas-docs/stable/user_guide/indexing.html#returning-a-view-versus-a-copy\n",
      "  new_subset1.dropna(axis=0,subset=[\"OST_WEST_KZ\"],inplace=True)\n",
      "C:\\Users\\lefteris\\anaconda3\\lib\\site-packages\\pandas\\core\\frame.py:4308: SettingWithCopyWarning: \n",
      "A value is trying to be set on a copy of a slice from a DataFrame\n",
      "\n",
      "See the caveats in the documentation: https://pandas.pydata.org/pandas-docs/stable/user_guide/indexing.html#returning-a-view-versus-a-copy\n",
      "  return super().drop(\n"
     ]
    }
   ],
   "source": [
    "# Applying preprocessing, feature transformation, and clustering from the general\n",
    "# demographics onto the customer data, obtaining cluster predictions for the\n",
    "# customer demographics data.\n",
    "\n",
    "clean_customers=clean_data(customers)"
   ]
  },
  {
   "cell_type": "code",
   "execution_count": 215,
   "metadata": {},
   "outputs": [
    {
     "data": {
      "text/plain": [
       "(141725, 159)"
      ]
     },
     "execution_count": 215,
     "metadata": {},
     "output_type": "execute_result"
    }
   ],
   "source": [
    "clean_customers.shape"
   ]
  },
  {
   "cell_type": "code",
   "execution_count": 216,
   "metadata": {},
   "outputs": [
    {
     "data": {
      "text/plain": [
       "121873"
      ]
     },
     "execution_count": 216,
     "metadata": {},
     "output_type": "execute_result"
    }
   ],
   "source": [
    "clean_customers.isna().sum().sum()"
   ]
  },
  {
   "cell_type": "code",
   "execution_count": 217,
   "metadata": {},
   "outputs": [],
   "source": [
    "Imputed_clean_customers=Imp_mean.transform(clean_customers)"
   ]
  },
  {
   "cell_type": "code",
   "execution_count": 218,
   "metadata": {},
   "outputs": [],
   "source": [
    "scaled_imputed_clean_customers= scaler.transform(Imputed_clean_customers)"
   ]
  },
  {
   "cell_type": "code",
   "execution_count": 219,
   "metadata": {},
   "outputs": [],
   "source": [
    "pca_customers=pca.transform(scaled_imputed_clean_customers)"
   ]
  },
  {
   "cell_type": "code",
   "execution_count": 220,
   "metadata": {},
   "outputs": [],
   "source": [
    "predictions_customers=new_model.predict(pca_customers)"
   ]
  },
  {
   "cell_type": "code",
   "execution_count": 221,
   "metadata": {},
   "outputs": [
    {
     "data": {
      "text/plain": [
       "array([ 0,  0, 15, ...,  6, 11,  4])"
      ]
     },
     "execution_count": 221,
     "metadata": {},
     "output_type": "execute_result"
    }
   ],
   "source": [
    "predictions_customers"
   ]
  },
  {
   "cell_type": "markdown",
   "metadata": {},
   "source": [
    "###  Comparing Customer Data to Demographics Data\n",
    "\n",
    "At this point, we have clustered data based on demographics of the general population of Germany, and seen how the customer data for a mail-order sales company maps onto those demographic clusters. In this final step, we will compare the two cluster distributions to see where the strongest customer base for the company is.\n"
   ]
  },
  {
   "cell_type": "code",
   "execution_count": 222,
   "metadata": {},
   "outputs": [
    {
     "data": {
      "text/plain": [
       "(771701,)"
      ]
     },
     "execution_count": 222,
     "metadata": {},
     "output_type": "execute_result"
    }
   ],
   "source": [
    "predictions.shape"
   ]
  },
  {
   "cell_type": "code",
   "execution_count": 252,
   "metadata": {},
   "outputs": [
    {
     "data": {
      "text/plain": [
       "<AxesSubplot:ylabel='count'>"
      ]
     },
     "execution_count": 252,
     "metadata": {},
     "output_type": "execute_result"
    },
    {
     "data": {
      "image/png": "[encoded data removed]",
      "text/plain": [
       "<Figure size 432x288 with 1 Axes>"
      ]
     },
     "metadata": {
      "needs_background": "light"
     },
     "output_type": "display_data"
    }
   ],
   "source": [
    "#countplot for population\n",
    "\n",
    "sns.countplot(x=predictions)"
   ]
  },
  {
   "cell_type": "code",
   "execution_count": 251,
   "metadata": {},
   "outputs": [
    {
     "data": {
      "image/png": "[encoded data removed]",
      "text/plain": [
       "<Figure size 432x288 with 1 Axes>"
      ]
     },
     "metadata": {
      "needs_background": "light"
     },
     "output_type": "display_data"
    }
   ],
   "source": [
    "#countplot for customers\n",
    "\n",
    "sns.countplot(x=predictions_customers);"
   ]
  },
  {
   "cell_type": "code",
   "execution_count": 225,
   "metadata": {},
   "outputs": [],
   "source": [
    "preds_pop=pd.Series(predictions).value_counts().sort_index()"
   ]
  },
  {
   "cell_type": "code",
   "execution_count": 226,
   "metadata": {},
   "outputs": [
    {
     "data": {
      "text/plain": [
       "0     50885\n",
       "1      8875\n",
       "2     50117\n",
       "3     63521\n",
       "4     45336\n",
       "5     45123\n",
       "6     44706\n",
       "7     67897\n",
       "8     31830\n",
       "9     37646\n",
       "10    25500\n",
       "11    31269\n",
       "12    51848\n",
       "13    28315\n",
       "14    39319\n",
       "15    66323\n",
       "16    15012\n",
       "17    23239\n",
       "18    44940\n",
       "dtype: int64"
      ]
     },
     "execution_count": 226,
     "metadata": {},
     "output_type": "execute_result"
    }
   ],
   "source": [
    "preds_pop"
   ]
  },
  {
   "cell_type": "code",
   "execution_count": 227,
   "metadata": {},
   "outputs": [],
   "source": [
    "preds_customers=pd.Series(predictions_customers).value_counts().sort_index()"
   ]
  },
  {
   "cell_type": "code",
   "execution_count": 228,
   "metadata": {},
   "outputs": [
    {
     "data": {
      "text/plain": [
       "0     24355\n",
       "1      9739\n",
       "2       741\n",
       "3      7723\n",
       "4     15519\n",
       "5     11940\n",
       "6     26875\n",
       "7      6704\n",
       "8      6802\n",
       "9      1099\n",
       "10     1328\n",
       "11     5072\n",
       "12      791\n",
       "13      508\n",
       "14     4285\n",
       "15    15994\n",
       "16      791\n",
       "17      803\n",
       "18      656\n",
       "dtype: int64"
      ]
     },
     "execution_count": 228,
     "metadata": {},
     "output_type": "execute_result"
    }
   ],
   "source": [
    "preds_customers"
   ]
  },
  {
   "cell_type": "code",
   "execution_count": 229,
   "metadata": {},
   "outputs": [],
   "source": [
    "dataframe=pd.DataFrame({'Predictions on Population':preds_pop,'Predictions on Customers':preds_customers})"
   ]
  },
  {
   "cell_type": "code",
   "execution_count": 230,
   "metadata": {},
   "outputs": [],
   "source": [
    "dataframe['Pop_ratio']=dataframe[\"Predictions on Population\"]/dataframe[\"Predictions on Population\"].sum()\n",
    "dataframe['Customer_ratios']=dataframe[\"Predictions on Customers\"]/dataframe[\"Predictions on Customers\"].sum()"
   ]
  },
  {
   "cell_type": "code",
   "execution_count": 231,
   "metadata": {},
   "outputs": [
    {
     "data": {
      "text/html": [
       "<div>\n",
       "<style scoped>\n",
       "    .dataframe tbody tr th:only-of-type {\n",
       "        vertical-align: middle;\n",
       "    }\n",
       "\n",
       "    .dataframe tbody tr th {\n",
       "        vertical-align: top;\n",
       "    }\n",
       "\n",
       "    .dataframe thead th {\n",
       "        text-align: right;\n",
       "    }\n",
       "</style>\n",
       "<table border=\"1\" class=\"dataframe\">\n",
       "  <thead>\n",
       "    <tr style=\"text-align: right;\">\n",
       "      <th></th>\n",
       "      <th>Predictions on Population</th>\n",
       "      <th>Predictions on Customers</th>\n",
       "      <th>Pop_ratio</th>\n",
       "      <th>Customer_ratios</th>\n",
       "    </tr>\n",
       "  </thead>\n",
       "  <tbody>\n",
       "    <tr>\n",
       "      <th>0</th>\n",
       "      <td>50885</td>\n",
       "      <td>24355</td>\n",
       "      <td>0.065939</td>\n",
       "      <td>0.171847</td>\n",
       "    </tr>\n",
       "    <tr>\n",
       "      <th>1</th>\n",
       "      <td>8875</td>\n",
       "      <td>9739</td>\n",
       "      <td>0.011501</td>\n",
       "      <td>0.068718</td>\n",
       "    </tr>\n",
       "    <tr>\n",
       "      <th>2</th>\n",
       "      <td>50117</td>\n",
       "      <td>741</td>\n",
       "      <td>0.064944</td>\n",
       "      <td>0.005228</td>\n",
       "    </tr>\n",
       "    <tr>\n",
       "      <th>3</th>\n",
       "      <td>63521</td>\n",
       "      <td>7723</td>\n",
       "      <td>0.082313</td>\n",
       "      <td>0.054493</td>\n",
       "    </tr>\n",
       "    <tr>\n",
       "      <th>4</th>\n",
       "      <td>45336</td>\n",
       "      <td>15519</td>\n",
       "      <td>0.058748</td>\n",
       "      <td>0.109501</td>\n",
       "    </tr>\n",
       "  </tbody>\n",
       "</table>\n",
       "</div>"
      ],
      "text/plain": [
       "   Predictions on Population  Predictions on Customers  Pop_ratio  \\\n",
       "0                      50885                     24355   0.065939   \n",
       "1                       8875                      9739   0.011501   \n",
       "2                      50117                       741   0.064944   \n",
       "3                      63521                      7723   0.082313   \n",
       "4                      45336                     15519   0.058748   \n",
       "\n",
       "   Customer_ratios  \n",
       "0         0.171847  \n",
       "1         0.068718  \n",
       "2         0.005228  \n",
       "3         0.054493  \n",
       "4         0.109501  "
      ]
     },
     "execution_count": 231,
     "metadata": {},
     "output_type": "execute_result"
    }
   ],
   "source": [
    "dataframe.head()"
   ]
  },
  {
   "cell_type": "code",
   "execution_count": 253,
   "metadata": {},
   "outputs": [
    {
     "data": {
      "text/plain": [
       "<AxesSubplot:ylabel='Pop_ratio'>"
      ]
     },
     "execution_count": 253,
     "metadata": {},
     "output_type": "execute_result"
    },
    {
     "data": {
      "image/png": "[encoded data removed]",
      "text/plain": [
       "<Figure size 432x288 with 1 Axes>"
      ]
     },
     "metadata": {
      "needs_background": "light"
     },
     "output_type": "display_data"
    }
   ],
   "source": [
    "#barplot of the ratios for the population\n",
    "\n",
    "sns.barplot(x=dataframe.index, y=dataframe['Pop_ratio'])"
   ]
  },
  {
   "cell_type": "code",
   "execution_count": 233,
   "metadata": {},
   "outputs": [
    {
     "data": {
      "text/plain": [
       "<AxesSubplot:ylabel='Customer_ratios'>"
      ]
     },
     "execution_count": 233,
     "metadata": {},
     "output_type": "execute_result"
    },
    {
     "data": {
      "image/png": "[encoded data removed]",
      "text/plain": [
       "<Figure size 432x288 with 1 Axes>"
      ]
     },
     "metadata": {
      "needs_background": "light"
     },
     "output_type": "display_data"
    }
   ],
   "source": [
    "#barplot of the rations for customers\n",
    "\n",
    "sns.barplot(x=dataframe.index,y=dataframe['Customer_ratios'])"
   ]
  },
  {
   "cell_type": "code",
   "execution_count": 255,
   "metadata": {},
   "outputs": [],
   "source": [
    "# Compare the proportion of data in each cluster for the customer data to the\n",
    "# proportion of data in each cluster for the general population."
   ]
  },
  {
   "cell_type": "code",
   "execution_count": 235,
   "metadata": {},
   "outputs": [],
   "source": [
    "# What kinds of people are part of a cluster that is overrepresented in the\n",
    "# customer data compared to the general population?\n",
    "\n",
    "inversed=scaler.inverse_transform(pca.inverse_transform(new_model.cluster_centers_))\n",
    "\n",
    "\n",
    "#REFERENCE: https://stackoverflow.com/questions/49885007/how-to-use-scikit-learn-inverse-transform-with-new-values"
   ]
  },
  {
   "cell_type": "code",
   "execution_count": 236,
   "metadata": {},
   "outputs": [
    {
     "data": {
      "text/plain": [
       "(19, 159)"
      ]
     },
     "execution_count": 236,
     "metadata": {},
     "output_type": "execute_result"
    }
   ],
   "source": [
    "inversed.shape"
   ]
  },
  {
   "cell_type": "code",
   "execution_count": 237,
   "metadata": {},
   "outputs": [],
   "source": [
    "inversed=pd.DataFrame(inversed,columns=subset1.columns)"
   ]
  },
  {
   "cell_type": "code",
   "execution_count": 238,
   "metadata": {},
   "outputs": [
    {
     "data": {
      "text/html": [
       "<div>\n",
       "<style scoped>\n",
       "    .dataframe tbody tr th:only-of-type {\n",
       "        vertical-align: middle;\n",
       "    }\n",
       "\n",
       "    .dataframe tbody tr th {\n",
       "        vertical-align: top;\n",
       "    }\n",
       "\n",
       "    .dataframe thead th {\n",
       "        text-align: right;\n",
       "    }\n",
       "</style>\n",
       "<table border=\"1\" class=\"dataframe\">\n",
       "  <thead>\n",
       "    <tr style=\"text-align: right;\">\n",
       "      <th></th>\n",
       "      <th>ALTERSKATEGORIE_GROB</th>\n",
       "      <th>ANREDE_KZ</th>\n",
       "      <th>FINANZ_MINIMALIST</th>\n",
       "      <th>FINANZ_SPARER</th>\n",
       "      <th>FINANZ_VORSORGER</th>\n",
       "      <th>FINANZ_ANLEGER</th>\n",
       "      <th>FINANZ_UNAUFFAELLIGER</th>\n",
       "      <th>FINANZ_HAUSBAUER</th>\n",
       "      <th>GREEN_AVANTGARDE</th>\n",
       "      <th>HEALTH_TYP</th>\n",
       "      <th>...</th>\n",
       "      <th>CAMEO_INTL_2015_Wealth_10.0</th>\n",
       "      <th>CAMEO_INTL_2015_Wealth_20.0</th>\n",
       "      <th>CAMEO_INTL_2015_Wealth_30.0</th>\n",
       "      <th>CAMEO_INTL_2015_Wealth_40.0</th>\n",
       "      <th>CAMEO_INTL_2015_Wealth_50.0</th>\n",
       "      <th>CAMEO_INTL_2015_LifeStage_1.0</th>\n",
       "      <th>CAMEO_INTL_2015_LifeStage_2.0</th>\n",
       "      <th>CAMEO_INTL_2015_LifeStage_3.0</th>\n",
       "      <th>CAMEO_INTL_2015_LifeStage_4.0</th>\n",
       "      <th>CAMEO_INTL_2015_LifeStage_5.0</th>\n",
       "    </tr>\n",
       "  </thead>\n",
       "  <tbody>\n",
       "    <tr>\n",
       "      <th>0</th>\n",
       "      <td>3.392618</td>\n",
       "      <td>1.476288</td>\n",
       "      <td>4.567672</td>\n",
       "      <td>1.506687</td>\n",
       "      <td>4.321688</td>\n",
       "      <td>1.651948</td>\n",
       "      <td>2.077066</td>\n",
       "      <td>2.263793</td>\n",
       "      <td>0.980693</td>\n",
       "      <td>2.113024</td>\n",
       "      <td>...</td>\n",
       "      <td>0.427192</td>\n",
       "      <td>0.317746</td>\n",
       "      <td>0.074889</td>\n",
       "      <td>0.137396</td>\n",
       "      <td>0.038065</td>\n",
       "      <td>0.077819</td>\n",
       "      <td>0.087304</td>\n",
       "      <td>0.157756</td>\n",
       "      <td>0.450194</td>\n",
       "      <td>0.222216</td>\n",
       "    </tr>\n",
       "    <tr>\n",
       "      <th>1</th>\n",
       "      <td>3.124891</td>\n",
       "      <td>1.425353</td>\n",
       "      <td>3.821897</td>\n",
       "      <td>1.880039</td>\n",
       "      <td>4.088477</td>\n",
       "      <td>2.001133</td>\n",
       "      <td>2.208365</td>\n",
       "      <td>3.016814</td>\n",
       "      <td>0.603318</td>\n",
       "      <td>2.149067</td>\n",
       "      <td>...</td>\n",
       "      <td>0.366437</td>\n",
       "      <td>0.179899</td>\n",
       "      <td>0.165894</td>\n",
       "      <td>0.195633</td>\n",
       "      <td>0.088884</td>\n",
       "      <td>0.211752</td>\n",
       "      <td>0.053730</td>\n",
       "      <td>0.172630</td>\n",
       "      <td>0.373489</td>\n",
       "      <td>0.185147</td>\n",
       "    </tr>\n",
       "    <tr>\n",
       "      <th>2</th>\n",
       "      <td>1.855014</td>\n",
       "      <td>0.962571</td>\n",
       "      <td>1.767446</td>\n",
       "      <td>4.518976</td>\n",
       "      <td>1.903867</td>\n",
       "      <td>3.641510</td>\n",
       "      <td>3.862029</td>\n",
       "      <td>3.749042</td>\n",
       "      <td>0.094514</td>\n",
       "      <td>2.350168</td>\n",
       "      <td>...</td>\n",
       "      <td>0.008460</td>\n",
       "      <td>0.019063</td>\n",
       "      <td>0.054139</td>\n",
       "      <td>0.255857</td>\n",
       "      <td>0.659056</td>\n",
       "      <td>0.681178</td>\n",
       "      <td>0.066059</td>\n",
       "      <td>0.047004</td>\n",
       "      <td>0.132516</td>\n",
       "      <td>0.069817</td>\n",
       "    </tr>\n",
       "    <tr>\n",
       "      <th>3</th>\n",
       "      <td>3.566259</td>\n",
       "      <td>1.966688</td>\n",
       "      <td>2.447038</td>\n",
       "      <td>1.872043</td>\n",
       "      <td>4.304297</td>\n",
       "      <td>2.112043</td>\n",
       "      <td>1.651735</td>\n",
       "      <td>4.235807</td>\n",
       "      <td>-0.006800</td>\n",
       "      <td>2.039370</td>\n",
       "      <td>...</td>\n",
       "      <td>0.021939</td>\n",
       "      <td>0.051553</td>\n",
       "      <td>0.060786</td>\n",
       "      <td>0.285249</td>\n",
       "      <td>0.577643</td>\n",
       "      <td>0.483081</td>\n",
       "      <td>0.044091</td>\n",
       "      <td>0.057654</td>\n",
       "      <td>0.205135</td>\n",
       "      <td>0.207209</td>\n",
       "    </tr>\n",
       "    <tr>\n",
       "      <th>4</th>\n",
       "      <td>3.154822</td>\n",
       "      <td>1.481730</td>\n",
       "      <td>4.412452</td>\n",
       "      <td>2.042312</td>\n",
       "      <td>3.827067</td>\n",
       "      <td>2.812863</td>\n",
       "      <td>2.115075</td>\n",
       "      <td>1.965248</td>\n",
       "      <td>0.030807</td>\n",
       "      <td>2.136047</td>\n",
       "      <td>...</td>\n",
       "      <td>0.207376</td>\n",
       "      <td>0.472718</td>\n",
       "      <td>0.092819</td>\n",
       "      <td>0.173460</td>\n",
       "      <td>0.047040</td>\n",
       "      <td>0.094186</td>\n",
       "      <td>0.167330</td>\n",
       "      <td>0.242360</td>\n",
       "      <td>0.349009</td>\n",
       "      <td>0.140529</td>\n",
       "    </tr>\n",
       "    <tr>\n",
       "      <th>5</th>\n",
       "      <td>3.341954</td>\n",
       "      <td>1.445104</td>\n",
       "      <td>3.382931</td>\n",
       "      <td>1.598727</td>\n",
       "      <td>4.387945</td>\n",
       "      <td>1.314944</td>\n",
       "      <td>1.993778</td>\n",
       "      <td>3.849244</td>\n",
       "      <td>0.460404</td>\n",
       "      <td>2.119337</td>\n",
       "      <td>...</td>\n",
       "      <td>0.100052</td>\n",
       "      <td>0.161519</td>\n",
       "      <td>0.170545</td>\n",
       "      <td>0.373271</td>\n",
       "      <td>0.192430</td>\n",
       "      <td>0.327545</td>\n",
       "      <td>0.030929</td>\n",
       "      <td>0.119012</td>\n",
       "      <td>0.324972</td>\n",
       "      <td>0.195360</td>\n",
       "    </tr>\n",
       "    <tr>\n",
       "      <th>6</th>\n",
       "      <td>3.096378</td>\n",
       "      <td>1.495726</td>\n",
       "      <td>4.477458</td>\n",
       "      <td>2.008369</td>\n",
       "      <td>3.820530</td>\n",
       "      <td>2.182642</td>\n",
       "      <td>2.442358</td>\n",
       "      <td>1.874904</td>\n",
       "      <td>0.985701</td>\n",
       "      <td>2.091261</td>\n",
       "      <td>...</td>\n",
       "      <td>0.415558</td>\n",
       "      <td>0.336874</td>\n",
       "      <td>0.071233</td>\n",
       "      <td>0.128674</td>\n",
       "      <td>0.044893</td>\n",
       "      <td>0.059129</td>\n",
       "      <td>0.120842</td>\n",
       "      <td>0.171729</td>\n",
       "      <td>0.450842</td>\n",
       "      <td>0.194691</td>\n",
       "    </tr>\n",
       "    <tr>\n",
       "      <th>7</th>\n",
       "      <td>3.203165</td>\n",
       "      <td>1.046198</td>\n",
       "      <td>3.098323</td>\n",
       "      <td>2.058776</td>\n",
       "      <td>4.178249</td>\n",
       "      <td>1.679204</td>\n",
       "      <td>1.691957</td>\n",
       "      <td>3.551440</td>\n",
       "      <td>-0.007905</td>\n",
       "      <td>2.418689</td>\n",
       "      <td>...</td>\n",
       "      <td>0.017282</td>\n",
       "      <td>0.049597</td>\n",
       "      <td>0.051922</td>\n",
       "      <td>0.272210</td>\n",
       "      <td>0.605187</td>\n",
       "      <td>0.574868</td>\n",
       "      <td>0.056117</td>\n",
       "      <td>0.071431</td>\n",
       "      <td>0.169305</td>\n",
       "      <td>0.124477</td>\n",
       "    </tr>\n",
       "    <tr>\n",
       "      <th>8</th>\n",
       "      <td>2.724903</td>\n",
       "      <td>1.479279</td>\n",
       "      <td>3.974192</td>\n",
       "      <td>2.775708</td>\n",
       "      <td>3.190144</td>\n",
       "      <td>3.114188</td>\n",
       "      <td>2.919579</td>\n",
       "      <td>1.572538</td>\n",
       "      <td>0.405388</td>\n",
       "      <td>2.281328</td>\n",
       "      <td>...</td>\n",
       "      <td>0.251473</td>\n",
       "      <td>0.412930</td>\n",
       "      <td>0.091644</td>\n",
       "      <td>0.161758</td>\n",
       "      <td>0.079134</td>\n",
       "      <td>0.103036</td>\n",
       "      <td>0.183293</td>\n",
       "      <td>0.244469</td>\n",
       "      <td>0.350108</td>\n",
       "      <td>0.116035</td>\n",
       "    </tr>\n",
       "    <tr>\n",
       "      <th>9</th>\n",
       "      <td>1.866963</td>\n",
       "      <td>0.955605</td>\n",
       "      <td>2.896051</td>\n",
       "      <td>4.064522</td>\n",
       "      <td>1.941393</td>\n",
       "      <td>3.659226</td>\n",
       "      <td>4.007933</td>\n",
       "      <td>2.490236</td>\n",
       "      <td>0.219373</td>\n",
       "      <td>2.264061</td>\n",
       "      <td>...</td>\n",
       "      <td>0.146812</td>\n",
       "      <td>0.356171</td>\n",
       "      <td>0.105101</td>\n",
       "      <td>0.283773</td>\n",
       "      <td>0.103091</td>\n",
       "      <td>0.185095</td>\n",
       "      <td>0.094160</td>\n",
       "      <td>0.217680</td>\n",
       "      <td>0.375883</td>\n",
       "      <td>0.122129</td>\n",
       "    </tr>\n",
       "    <tr>\n",
       "      <th>10</th>\n",
       "      <td>2.302203</td>\n",
       "      <td>1.726198</td>\n",
       "      <td>2.435854</td>\n",
       "      <td>3.519972</td>\n",
       "      <td>2.776480</td>\n",
       "      <td>3.803193</td>\n",
       "      <td>3.248694</td>\n",
       "      <td>3.012658</td>\n",
       "      <td>0.169493</td>\n",
       "      <td>2.267820</td>\n",
       "      <td>...</td>\n",
       "      <td>0.134820</td>\n",
       "      <td>0.254469</td>\n",
       "      <td>0.112160</td>\n",
       "      <td>0.230103</td>\n",
       "      <td>0.264971</td>\n",
       "      <td>0.277247</td>\n",
       "      <td>0.140878</td>\n",
       "      <td>0.190615</td>\n",
       "      <td>0.281732</td>\n",
       "      <td>0.106052</td>\n",
       "    </tr>\n",
       "    <tr>\n",
       "      <th>11</th>\n",
       "      <td>3.236240</td>\n",
       "      <td>1.534349</td>\n",
       "      <td>2.761694</td>\n",
       "      <td>2.190253</td>\n",
       "      <td>4.060175</td>\n",
       "      <td>2.220412</td>\n",
       "      <td>1.781548</td>\n",
       "      <td>3.812066</td>\n",
       "      <td>0.031003</td>\n",
       "      <td>2.201897</td>\n",
       "      <td>...</td>\n",
       "      <td>0.015518</td>\n",
       "      <td>0.057117</td>\n",
       "      <td>0.066846</td>\n",
       "      <td>0.294493</td>\n",
       "      <td>0.564491</td>\n",
       "      <td>0.493380</td>\n",
       "      <td>0.074679</td>\n",
       "      <td>0.077456</td>\n",
       "      <td>0.199969</td>\n",
       "      <td>0.152982</td>\n",
       "    </tr>\n",
       "    <tr>\n",
       "      <th>12</th>\n",
       "      <td>1.785225</td>\n",
       "      <td>1.982740</td>\n",
       "      <td>1.089714</td>\n",
       "      <td>4.427837</td>\n",
       "      <td>2.150887</td>\n",
       "      <td>4.267991</td>\n",
       "      <td>3.695944</td>\n",
       "      <td>4.444571</td>\n",
       "      <td>0.035142</td>\n",
       "      <td>2.211150</td>\n",
       "      <td>...</td>\n",
       "      <td>0.004858</td>\n",
       "      <td>0.004198</td>\n",
       "      <td>0.051451</td>\n",
       "      <td>0.206376</td>\n",
       "      <td>0.730258</td>\n",
       "      <td>0.712796</td>\n",
       "      <td>0.084285</td>\n",
       "      <td>0.003480</td>\n",
       "      <td>0.119939</td>\n",
       "      <td>0.076642</td>\n",
       "    </tr>\n",
       "    <tr>\n",
       "      <th>13</th>\n",
       "      <td>1.920229</td>\n",
       "      <td>1.932947</td>\n",
       "      <td>2.168322</td>\n",
       "      <td>3.908798</td>\n",
       "      <td>2.076505</td>\n",
       "      <td>4.401548</td>\n",
       "      <td>3.881130</td>\n",
       "      <td>3.098901</td>\n",
       "      <td>0.043974</td>\n",
       "      <td>2.243564</td>\n",
       "      <td>...</td>\n",
       "      <td>0.137490</td>\n",
       "      <td>0.408369</td>\n",
       "      <td>0.105965</td>\n",
       "      <td>0.243378</td>\n",
       "      <td>0.097956</td>\n",
       "      <td>0.158943</td>\n",
       "      <td>0.146689</td>\n",
       "      <td>0.170327</td>\n",
       "      <td>0.377606</td>\n",
       "      <td>0.139594</td>\n",
       "    </tr>\n",
       "    <tr>\n",
       "      <th>14</th>\n",
       "      <td>3.480002</td>\n",
       "      <td>1.738625</td>\n",
       "      <td>3.012864</td>\n",
       "      <td>1.758999</td>\n",
       "      <td>4.278275</td>\n",
       "      <td>2.811047</td>\n",
       "      <td>1.585859</td>\n",
       "      <td>4.013953</td>\n",
       "      <td>0.018336</td>\n",
       "      <td>2.057898</td>\n",
       "      <td>...</td>\n",
       "      <td>0.103120</td>\n",
       "      <td>0.299463</td>\n",
       "      <td>0.079769</td>\n",
       "      <td>0.301603</td>\n",
       "      <td>0.208500</td>\n",
       "      <td>0.177246</td>\n",
       "      <td>0.088009</td>\n",
       "      <td>0.167994</td>\n",
       "      <td>0.352504</td>\n",
       "      <td>0.206702</td>\n",
       "    </tr>\n",
       "    <tr>\n",
       "      <th>15</th>\n",
       "      <td>3.396391</td>\n",
       "      <td>1.424444</td>\n",
       "      <td>4.580884</td>\n",
       "      <td>1.583624</td>\n",
       "      <td>4.282248</td>\n",
       "      <td>2.302913</td>\n",
       "      <td>1.793261</td>\n",
       "      <td>2.192648</td>\n",
       "      <td>-0.007007</td>\n",
       "      <td>2.221215</td>\n",
       "      <td>...</td>\n",
       "      <td>0.206959</td>\n",
       "      <td>0.448524</td>\n",
       "      <td>0.094813</td>\n",
       "      <td>0.193268</td>\n",
       "      <td>0.047562</td>\n",
       "      <td>0.128038</td>\n",
       "      <td>0.127475</td>\n",
       "      <td>0.242844</td>\n",
       "      <td>0.339654</td>\n",
       "      <td>0.153116</td>\n",
       "    </tr>\n",
       "    <tr>\n",
       "      <th>16</th>\n",
       "      <td>2.597068</td>\n",
       "      <td>1.438676</td>\n",
       "      <td>3.946411</td>\n",
       "      <td>2.605434</td>\n",
       "      <td>3.124340</td>\n",
       "      <td>2.925968</td>\n",
       "      <td>2.939985</td>\n",
       "      <td>1.631629</td>\n",
       "      <td>0.146953</td>\n",
       "      <td>2.215467</td>\n",
       "      <td>...</td>\n",
       "      <td>0.204105</td>\n",
       "      <td>0.349785</td>\n",
       "      <td>0.093985</td>\n",
       "      <td>0.240236</td>\n",
       "      <td>0.106261</td>\n",
       "      <td>0.120552</td>\n",
       "      <td>0.153233</td>\n",
       "      <td>0.143105</td>\n",
       "      <td>0.354643</td>\n",
       "      <td>0.222839</td>\n",
       "    </tr>\n",
       "    <tr>\n",
       "      <th>17</th>\n",
       "      <td>1.662072</td>\n",
       "      <td>1.607268</td>\n",
       "      <td>1.876950</td>\n",
       "      <td>4.508697</td>\n",
       "      <td>2.422108</td>\n",
       "      <td>4.926530</td>\n",
       "      <td>4.612458</td>\n",
       "      <td>2.877248</td>\n",
       "      <td>0.446902</td>\n",
       "      <td>2.174143</td>\n",
       "      <td>...</td>\n",
       "      <td>0.377980</td>\n",
       "      <td>0.444661</td>\n",
       "      <td>0.074069</td>\n",
       "      <td>0.106896</td>\n",
       "      <td>-0.008885</td>\n",
       "      <td>0.126318</td>\n",
       "      <td>0.187725</td>\n",
       "      <td>0.320762</td>\n",
       "      <td>0.285944</td>\n",
       "      <td>0.073971</td>\n",
       "    </tr>\n",
       "    <tr>\n",
       "      <th>18</th>\n",
       "      <td>1.877614</td>\n",
       "      <td>1.959486</td>\n",
       "      <td>1.169888</td>\n",
       "      <td>4.495990</td>\n",
       "      <td>2.308173</td>\n",
       "      <td>4.508840</td>\n",
       "      <td>4.024622</td>\n",
       "      <td>4.182988</td>\n",
       "      <td>0.055985</td>\n",
       "      <td>2.280881</td>\n",
       "      <td>...</td>\n",
       "      <td>0.079647</td>\n",
       "      <td>0.212415</td>\n",
       "      <td>0.107002</td>\n",
       "      <td>0.391393</td>\n",
       "      <td>0.207736</td>\n",
       "      <td>0.307666</td>\n",
       "      <td>0.068247</td>\n",
       "      <td>0.200014</td>\n",
       "      <td>0.314423</td>\n",
       "      <td>0.107844</td>\n",
       "    </tr>\n",
       "  </tbody>\n",
       "</table>\n",
       "<p>19 rows × 159 columns</p>\n",
       "</div>"
      ],
      "text/plain": [
       "    ALTERSKATEGORIE_GROB  ANREDE_KZ  FINANZ_MINIMALIST  FINANZ_SPARER  \\\n",
       "0               3.392618   1.476288           4.567672       1.506687   \n",
       "1               3.124891   1.425353           3.821897       1.880039   \n",
       "2               1.855014   0.962571           1.767446       4.518976   \n",
       "3               3.566259   1.966688           2.447038       1.872043   \n",
       "4               3.154822   1.481730           4.412452       2.042312   \n",
       "5               3.341954   1.445104           3.382931       1.598727   \n",
       "6               3.096378   1.495726           4.477458       2.008369   \n",
       "7               3.203165   1.046198           3.098323       2.058776   \n",
       "8               2.724903   1.479279           3.974192       2.775708   \n",
       "9               1.866963   0.955605           2.896051       4.064522   \n",
       "10              2.302203   1.726198           2.435854       3.519972   \n",
       "11              3.236240   1.534349           2.761694       2.190253   \n",
       "12              1.785225   1.982740           1.089714       4.427837   \n",
       "13              1.920229   1.932947           2.168322       3.908798   \n",
       "14              3.480002   1.738625           3.012864       1.758999   \n",
       "15              3.396391   1.424444           4.580884       1.583624   \n",
       "16              2.597068   1.438676           3.946411       2.605434   \n",
       "17              1.662072   1.607268           1.876950       4.508697   \n",
       "18              1.877614   1.959486           1.169888       4.495990   \n",
       "\n",
       "    FINANZ_VORSORGER  FINANZ_ANLEGER  FINANZ_UNAUFFAELLIGER  FINANZ_HAUSBAUER  \\\n",
       "0           4.321688        1.651948               2.077066          2.263793   \n",
       "1           4.088477        2.001133               2.208365          3.016814   \n",
       "2           1.903867        3.641510               3.862029          3.749042   \n",
       "3           4.304297        2.112043               1.651735          4.235807   \n",
       "4           3.827067        2.812863               2.115075          1.965248   \n",
       "5           4.387945        1.314944               1.993778          3.849244   \n",
       "6           3.820530        2.182642               2.442358          1.874904   \n",
       "7           4.178249        1.679204               1.691957          3.551440   \n",
       "8           3.190144        3.114188               2.919579          1.572538   \n",
       "9           1.941393        3.659226               4.007933          2.490236   \n",
       "10          2.776480        3.803193               3.248694          3.012658   \n",
       "11          4.060175        2.220412               1.781548          3.812066   \n",
       "12          2.150887        4.267991               3.695944          4.444571   \n",
       "13          2.076505        4.401548               3.881130          3.098901   \n",
       "14          4.278275        2.811047               1.585859          4.013953   \n",
       "15          4.282248        2.302913               1.793261          2.192648   \n",
       "16          3.124340        2.925968               2.939985          1.631629   \n",
       "17          2.422108        4.926530               4.612458          2.877248   \n",
       "18          2.308173        4.508840               4.024622          4.182988   \n",
       "\n",
       "    GREEN_AVANTGARDE  HEALTH_TYP  ...  CAMEO_INTL_2015_Wealth_10.0  \\\n",
       "0           0.980693    2.113024  ...                     0.427192   \n",
       "1           0.603318    2.149067  ...                     0.366437   \n",
       "2           0.094514    2.350168  ...                     0.008460   \n",
       "3          -0.006800    2.039370  ...                     0.021939   \n",
       "4           0.030807    2.136047  ...                     0.207376   \n",
       "5           0.460404    2.119337  ...                     0.100052   \n",
       "6           0.985701    2.091261  ...                     0.415558   \n",
       "7          -0.007905    2.418689  ...                     0.017282   \n",
       "8           0.405388    2.281328  ...                     0.251473   \n",
       "9           0.219373    2.264061  ...                     0.146812   \n",
       "10          0.169493    2.267820  ...                     0.134820   \n",
       "11          0.031003    2.201897  ...                     0.015518   \n",
       "12          0.035142    2.211150  ...                     0.004858   \n",
       "13          0.043974    2.243564  ...                     0.137490   \n",
       "14          0.018336    2.057898  ...                     0.103120   \n",
       "15         -0.007007    2.221215  ...                     0.206959   \n",
       "16          0.146953    2.215467  ...                     0.204105   \n",
       "17          0.446902    2.174143  ...                     0.377980   \n",
       "18          0.055985    2.280881  ...                     0.079647   \n",
       "\n",
       "    CAMEO_INTL_2015_Wealth_20.0  CAMEO_INTL_2015_Wealth_30.0  \\\n",
       "0                      0.317746                     0.074889   \n",
       "1                      0.179899                     0.165894   \n",
       "2                      0.019063                     0.054139   \n",
       "3                      0.051553                     0.060786   \n",
       "4                      0.472718                     0.092819   \n",
       "5                      0.161519                     0.170545   \n",
       "6                      0.336874                     0.071233   \n",
       "7                      0.049597                     0.051922   \n",
       "8                      0.412930                     0.091644   \n",
       "9                      0.356171                     0.105101   \n",
       "10                     0.254469                     0.112160   \n",
       "11                     0.057117                     0.066846   \n",
       "12                     0.004198                     0.051451   \n",
       "13                     0.408369                     0.105965   \n",
       "14                     0.299463                     0.079769   \n",
       "15                     0.448524                     0.094813   \n",
       "16                     0.349785                     0.093985   \n",
       "17                     0.444661                     0.074069   \n",
       "18                     0.212415                     0.107002   \n",
       "\n",
       "    CAMEO_INTL_2015_Wealth_40.0  CAMEO_INTL_2015_Wealth_50.0  \\\n",
       "0                      0.137396                     0.038065   \n",
       "1                      0.195633                     0.088884   \n",
       "2                      0.255857                     0.659056   \n",
       "3                      0.285249                     0.577643   \n",
       "4                      0.173460                     0.047040   \n",
       "5                      0.373271                     0.192430   \n",
       "6                      0.128674                     0.044893   \n",
       "7                      0.272210                     0.605187   \n",
       "8                      0.161758                     0.079134   \n",
       "9                      0.283773                     0.103091   \n",
       "10                     0.230103                     0.264971   \n",
       "11                     0.294493                     0.564491   \n",
       "12                     0.206376                     0.730258   \n",
       "13                     0.243378                     0.097956   \n",
       "14                     0.301603                     0.208500   \n",
       "15                     0.193268                     0.047562   \n",
       "16                     0.240236                     0.106261   \n",
       "17                     0.106896                    -0.008885   \n",
       "18                     0.391393                     0.207736   \n",
       "\n",
       "    CAMEO_INTL_2015_LifeStage_1.0  CAMEO_INTL_2015_LifeStage_2.0  \\\n",
       "0                        0.077819                       0.087304   \n",
       "1                        0.211752                       0.053730   \n",
       "2                        0.681178                       0.066059   \n",
       "3                        0.483081                       0.044091   \n",
       "4                        0.094186                       0.167330   \n",
       "5                        0.327545                       0.030929   \n",
       "6                        0.059129                       0.120842   \n",
       "7                        0.574868                       0.056117   \n",
       "8                        0.103036                       0.183293   \n",
       "9                        0.185095                       0.094160   \n",
       "10                       0.277247                       0.140878   \n",
       "11                       0.493380                       0.074679   \n",
       "12                       0.712796                       0.084285   \n",
       "13                       0.158943                       0.146689   \n",
       "14                       0.177246                       0.088009   \n",
       "15                       0.128038                       0.127475   \n",
       "16                       0.120552                       0.153233   \n",
       "17                       0.126318                       0.187725   \n",
       "18                       0.307666                       0.068247   \n",
       "\n",
       "    CAMEO_INTL_2015_LifeStage_3.0  CAMEO_INTL_2015_LifeStage_4.0  \\\n",
       "0                        0.157756                       0.450194   \n",
       "1                        0.172630                       0.373489   \n",
       "2                        0.047004                       0.132516   \n",
       "3                        0.057654                       0.205135   \n",
       "4                        0.242360                       0.349009   \n",
       "5                        0.119012                       0.324972   \n",
       "6                        0.171729                       0.450842   \n",
       "7                        0.071431                       0.169305   \n",
       "8                        0.244469                       0.350108   \n",
       "9                        0.217680                       0.375883   \n",
       "10                       0.190615                       0.281732   \n",
       "11                       0.077456                       0.199969   \n",
       "12                       0.003480                       0.119939   \n",
       "13                       0.170327                       0.377606   \n",
       "14                       0.167994                       0.352504   \n",
       "15                       0.242844                       0.339654   \n",
       "16                       0.143105                       0.354643   \n",
       "17                       0.320762                       0.285944   \n",
       "18                       0.200014                       0.314423   \n",
       "\n",
       "    CAMEO_INTL_2015_LifeStage_5.0  \n",
       "0                        0.222216  \n",
       "1                        0.185147  \n",
       "2                        0.069817  \n",
       "3                        0.207209  \n",
       "4                        0.140529  \n",
       "5                        0.195360  \n",
       "6                        0.194691  \n",
       "7                        0.124477  \n",
       "8                        0.116035  \n",
       "9                        0.122129  \n",
       "10                       0.106052  \n",
       "11                       0.152982  \n",
       "12                       0.076642  \n",
       "13                       0.139594  \n",
       "14                       0.206702  \n",
       "15                       0.153116  \n",
       "16                       0.222839  \n",
       "17                       0.073971  \n",
       "18                       0.107844  \n",
       "\n",
       "[19 rows x 159 columns]"
      ]
     },
     "execution_count": 238,
     "metadata": {},
     "output_type": "execute_result"
    }
   ],
   "source": [
    "#From the bar plots above and the data frame that matches each cluster with the features it encompasses, we can see\n",
    "# that there are a few clusters that are overrepresented in the customers' set\n",
    "#two of those clusters are the 6th (5) and 13th (12) clusters.\n",
    "\n",
    "inversed"
   ]
  },
  {
   "cell_type": "code",
   "execution_count": 239,
   "metadata": {},
   "outputs": [],
   "source": [
    "# What kinds of people are part of a cluster that is underrepresented in the\n",
    "# customer data compared to the general population?\n",
    "\n",
    "#Many clusters are underrepresented in the customer data, two of those clusters are the third (2) \n",
    "#and fifth (4) clusters.\n",
    "\n"
   ]
  },
  {
   "cell_type": "code",
   "execution_count": 240,
   "metadata": {},
   "outputs": [
    {
     "data": {
      "text/plain": [
       "{'LP_FAMILIE_GROB_4.0': -0.2660589990551941,\n",
       " 'CAMEO_INTL_2015_Wealth_10.0': -0.18938293310988139,\n",
       " 'LP_FAMILIE_FEIN_7.0': -0.17255227552181232,\n",
       " 'CAMEO_DEUG_2015_2': -0.17080375747569443,\n",
       " 'LP_FAMILIE_FEIN_8.0': -0.1625372795877354,\n",
       " 'KBA05_ANTG4': -0.14835280202682247,\n",
       " 'LP_FAMILIE_GROB_3.0': -0.14499343851050342,\n",
       " 'ANZ_HAUSHALTE_AKTIV': -0.11750963918995286,\n",
       " 'GFK_URLAUBERTYP_9.0': -0.110361188410791,\n",
       " 'LP_FAMILIE_FEIN_6.0': -0.10975865724835654,\n",
       " 'SHOPPER_TYP_3.0': -0.10611418388495686,\n",
       " 'KBA13_ANZAHL_PKW': -0.10427531598638269,\n",
       " 'LP_FAMILIE_FEIN_4.0': -0.10314322574556517,\n",
       " 'ALTERSKATEGORIE_GROB': -0.09577242891687573,\n",
       " 'NATIONALITAET_KZ_1.0': -0.09432385176396164,\n",
       " 'ZABEOTYP_4': -0.0862290390987762,\n",
       " 'LP_STATUS_FEIN_10.0': -0.08486738867454538,\n",
       " 'LP_STATUS_GROB_5.0': -0.08486738867454538,\n",
       " 'CAMEO_INTL_2015_LifeStage_3.0': -0.08166704115649007,\n",
       " 'PLZ8_HHZ': -0.0800612017565349,\n",
       " 'LP_FAMILIE_FEIN_5.0': -0.07987430461728438,\n",
       " 'LP_STATUS_FEIN_4.0': -0.0788244908758341,\n",
       " 'WOHNLAGE': -0.07422809448971407,\n",
       " 'CAMEO_DEUG_2015_1': -0.07392265752856082,\n",
       " 'INNENSTADT': -0.0695872174038515,\n",
       " 'OST_WEST_KZ': -0.06891076349168268,\n",
       " 'BALLRAUM': -0.06580374615239176,\n",
       " 'FINANZ_ANLEGER': -0.06572436307450537,\n",
       " 'LP_STATUS_GROB_1.0': -0.0655005355502652,\n",
       " 'CAMEO_INTL_2015_Wealth_40.0': -0.06482964244899575,\n",
       " 'SEMIO_LUST': -0.06352835941324103,\n",
       " 'SEMIO_VERT': -0.06346193120410419,\n",
       " 'LP_FAMILIE_FEIN_3.0': -0.06167771609120667,\n",
       " 'GFK_URLAUBERTYP_2.0': -0.059461232307172256,\n",
       " 'ONLINE_AFFINITAET': -0.05833774383853127,\n",
       " 'SEMIO_SOZ': -0.05682832015631456,\n",
       " 'PRAEGENDE_JUGENDJAHRE_Date_90.0': -0.05547858557814915,\n",
       " 'MIN_GEBAEUDEJAHR': -0.05191653787148018,\n",
       " 'GFK_URLAUBERTYP_12.0': -0.05064087686754322,\n",
       " 'LP_STATUS_FEIN_1.0': -0.050439911377969854,\n",
       " 'PLZ8_GBZ': -0.04953217957160656,\n",
       " 'CAMEO_DEUG_2015_6': -0.04827118032336397,\n",
       " 'CJT_GESAMTTYP_1.0': -0.04762461458220742,\n",
       " 'CAMEO_DEUG_2015_9': -0.046214699418810345,\n",
       " 'SHOPPER_TYP_0.0': -0.042828555815577804,\n",
       " 'CAMEO_INTL_2015_Wealth_50.0': -0.03964759066907083,\n",
       " 'SEMIO_ERL': -0.036984596492749114,\n",
       " 'FINANZ_HAUSBAUER': -0.03603012936780098,\n",
       " 'FINANZ_SPARER': -0.03543897799228664,\n",
       " 'FINANZTYP_6': -0.03368405609359629,\n",
       " 'LP_FAMILIE_FEIN_1.0': -0.03329176133408297,\n",
       " 'LP_FAMILIE_GROB_1.0': -0.03329176133408297,\n",
       " 'CAMEO_INTL_2015_LifeStage_1.0': -0.0331369021894613,\n",
       " 'ANZ_HH_TITEL': -0.03035853342667382,\n",
       " 'FINANZTYP_3': -0.029683886344492566,\n",
       " 'KONSUMNAEHE': -0.0289010752802177,\n",
       " 'PRAEGENDE_JUGENDJAHRE_Date_40.0': -0.028891471833625785,\n",
       " 'FINANZTYP_1': -0.02869939961235621,\n",
       " 'LP_STATUS_FEIN_2.0': -0.028478730623536584,\n",
       " 'LP_STATUS_FEIN_5.0': -0.028381777478165233,\n",
       " 'CAMEO_DEUG_2015_7': -0.026267775322188387,\n",
       " 'PRAEGENDE_JUGENDJAHRE_Movement': -0.02625047460784946,\n",
       " 'PLZ8_ANTG4': -0.026112086953634844,\n",
       " 'CJT_GESAMTTYP_5.0': -0.02587477330742945,\n",
       " 'GREEN_AVANTGARDE': -0.025358858118582274,\n",
       " 'PLZ8_ANTG1': -0.021526134962968294,\n",
       " 'VERS_TYP_2.0': -0.019044983555801906,\n",
       " 'HH_EINKOMMEN_SCORE': -0.013221792817852518,\n",
       " 'CAMEO_DEUG_2015_8': -0.011669466159028257,\n",
       " 'GFK_URLAUBERTYP_4.0': -0.010974954529510694,\n",
       " 'LP_STATUS_GROB_2.0': -0.010806911861462251,\n",
       " 'CJT_GESAMTTYP_4.0': -0.008875855961983724,\n",
       " 'ZABEOTYP_3': -0.00874111841958089,\n",
       " 'CAMEO_INTL_2015_LifeStage_2.0': -0.008554358329589423,\n",
       " 'GFK_URLAUBERTYP_3.0': -0.007483807781321563,\n",
       " 'FINANZ_UNAUFFAELLIGER': -0.006448758173466211,\n",
       " 'PRAEGENDE_JUGENDJAHRE_Date_50.0': -0.003839947845238169,\n",
       " 'GEBAEUDETYP_RASTER': -0.002924942709594487,\n",
       " 'KKK': -0.002281901105976515,\n",
       " 'PRAEGENDE_JUGENDJAHRE_Date_80.0': 0.0012407597036973408,\n",
       " 'KBA05_ANTG3': 0.003228279115548429,\n",
       " 'SOHO_KZ': 0.0038675503667351813,\n",
       " 'VERS_TYP_1.0': 0.005782208552008575,\n",
       " 'PLZ8_BAUMAX': 0.0058428248525773455,\n",
       " 'LP_LEBENSPHASE_FEIN': 0.005853508935702856,\n",
       " 'GFK_URLAUBERTYP_10.0': 0.009692269332617218,\n",
       " 'LP_LEBENSPHASE_GROB': 0.010405284426784595,\n",
       " 'WOHNDAUER_2008': 0.011398328401548176,\n",
       " 'FINANZTYP_2': 0.011904808330414334,\n",
       " 'LP_FAMILIE_FEIN_11.0': 0.01445959363238472,\n",
       " 'ZABEOTYP_2': 0.015770654821454202,\n",
       " 'SEMIO_FAM': 0.0165310012434366,\n",
       " 'ZABEOTYP_1': 0.016546404089829835,\n",
       " 'REGIOTYP': 0.018681617013662118,\n",
       " 'FINANZTYP_4': 0.02029823773931045,\n",
       " 'LP_FAMILIE_FEIN_9.0': 0.021509232090548305,\n",
       " 'CJT_GESAMTTYP_3.0': 0.021520879675299493,\n",
       " 'FINANZ_VORSORGER': 0.021531056431415077,\n",
       " 'CJT_GESAMTTYP_6.0': 0.021626446597962413,\n",
       " 'PLZ8_ANTG3': 0.022295392381845316,\n",
       " 'ZABEOTYP_5': 0.024292781657513265,\n",
       " 'CAMEO_INTL_2015_LifeStage_5.0': 0.025947888325696538,\n",
       " 'PRAEGENDE_JUGENDJAHRE_Date_60.0': 0.029384097057190542,\n",
       " 'ANZ_PERSONEN': 0.029501701198662404,\n",
       " 'SHOPPER_TYP_1.0': 0.02951897164471671,\n",
       " 'GFK_URLAUBERTYP_1.0': 0.03036143859170236,\n",
       " 'GFK_URLAUBERTYP_7.0': 0.032132779533984704,\n",
       " 'GFK_URLAUBERTYP_5.0': 0.03250507820972262,\n",
       " 'CJT_GESAMTTYP_2.0': 0.032784347111718966,\n",
       " 'LP_STATUS_FEIN_8.0': 0.034487000512080965,\n",
       " 'GFK_URLAUBERTYP_6.0': 0.03802334635988269,\n",
       " 'GFK_URLAUBERTYP_11.0': 0.04104738794918094,\n",
       " 'ANREDE_KZ': 0.04250350475073731,\n",
       " 'KBA05_ANTG1': 0.045759284624771954,\n",
       " 'CAMEO_INTL_2015_Wealth_30.0': 0.0466578916077935,\n",
       " 'CAMEO_DEUG_2015_5': 0.0474628368508559,\n",
       " 'RETOURTYP_BK_S': 0.04928041406846112,\n",
       " 'NATIONALITAET_KZ_3.0': 0.049940156714798234,\n",
       " 'SEMIO_KULT': 0.050005691303262025,\n",
       " 'ANZ_TITEL': 0.05101182580031978,\n",
       " 'PRAEGENDE_JUGENDJAHRE_Date_70.0': 0.05301180911746128,\n",
       " 'HEALTH_TYP': 0.05465956238954934,\n",
       " 'FINANZ_MINIMALIST': 0.05511077060555061,\n",
       " 'SEMIO_KRIT': 0.06169009841696886,\n",
       " 'GFK_URLAUBERTYP_8.0': 0.061842394284051624,\n",
       " 'LP_STATUS_FEIN_7.0': 0.06547987888656695,\n",
       " 'NATIONALITAET_KZ_2.0': 0.06605074071007686,\n",
       " 'MOBI_REGIO': 0.0708349790944574,\n",
       " 'SEMIO_KAEM': 0.07204393927105654,\n",
       " 'ARBEIT': 0.07276581747170514,\n",
       " 'FINANZTYP_5': 0.07585165418048272,\n",
       " 'LP_STATUS_FEIN_6.0': 0.07620477392517339,\n",
       " 'LP_FAMILIE_FEIN_10.0': 0.07706065271061137,\n",
       " 'ORTSGR_KLS9': 0.08047624041630023,\n",
       " 'LP_FAMILIE_GROB_5.0': 0.08081824157441439,\n",
       " 'CAMEO_INTL_2015_LifeStage_4.0': 0.08257437689595692,\n",
       " 'LP_STATUS_FEIN_3.0': 0.08366136865265399,\n",
       " 'EWDICHTE': 0.08497308687580998,\n",
       " 'PLZ8_ANTG2': 0.08928485998121131,\n",
       " 'ZABEOTYP_6': 0.09005603682056053,\n",
       " 'SHOPPER_TYP_2.0': 0.09035039087324995,\n",
       " 'KBA05_GBZ': 0.09398455999119044,\n",
       " 'SEMIO_REL': 0.09439539208213396,\n",
       " 'SEMIO_DOM': 0.09613348347626673,\n",
       " 'RELAT_AB': 0.09929782573606774,\n",
       " 'LP_STATUS_GROB_3.0': 0.09958627153244706,\n",
       " 'LP_STATUS_FEIN_9.0': 0.10685762837685743,\n",
       " 'SEMIO_MAT': 0.10939526181182227,\n",
       " 'LP_STATUS_GROB_4.0': 0.11463906901030588,\n",
       " 'SEMIO_TRADV': 0.1189148368822868,\n",
       " 'W_KEIT_KIND_HH': 0.12089441161454162,\n",
       " 'SEMIO_PFLICHT': 0.12806540498803196,\n",
       " 'KBA05_ANTG2': 0.12844343627858398,\n",
       " 'CAMEO_DEUG_2015_3': 0.14625785295628901,\n",
       " 'SEMIO_RAT': 0.14695407926274168,\n",
       " 'CAMEO_DEUG_2015_4': 0.16344512934387023,\n",
       " 'LP_FAMILIE_FEIN_2.0': 0.2281166599831782,\n",
       " 'LP_FAMILIE_GROB_2.0': 0.2281166599831782,\n",
       " 'CAMEO_INTL_2015_Wealth_20.0': 0.23552207636855624}"
      ]
     },
     "execution_count": 240,
     "metadata": {},
     "output_type": "execute_result"
    }
   ],
   "source": [
    "#13th cluster\n",
    "\n",
    "mapping_weights(pca,12)"
   ]
  },
  {
   "cell_type": "code",
   "execution_count": 241,
   "metadata": {},
   "outputs": [
    {
     "data": {
      "text/plain": [
       "{'ANREDE_KZ': -0.3394851777835403,\n",
       " 'SEMIO_KAEM': -0.30730288652988863,\n",
       " 'SEMIO_DOM': -0.2738828956377651,\n",
       " 'SEMIO_KRIT': -0.26387387554157293,\n",
       " 'SEMIO_ERL': -0.2060840896713539,\n",
       " 'FINANZ_ANLEGER': -0.15271072092366647,\n",
       " 'SEMIO_RAT': -0.14850698409464283,\n",
       " 'FINANZTYP_1': -0.09825847339628418,\n",
       " 'SHOPPER_TYP_2.0': -0.09279836395914205,\n",
       " 'LP_STATUS_FEIN_4.0': -0.08252887146968871,\n",
       " 'LP_STATUS_FEIN_2.0': -0.07817393385375274,\n",
       " 'FINANZ_HAUSBAUER': -0.06672609358235947,\n",
       " 'INNENSTADT': -0.06569326351885948,\n",
       " 'ZABEOTYP_4': -0.059757125115144624,\n",
       " 'BALLRAUM': -0.05852409405013635,\n",
       " 'WOHNLAGE': -0.053523175102989054,\n",
       " 'LP_FAMILIE_GROB_3.0': -0.05237412104068694,\n",
       " 'FINANZ_SPARER': -0.05215106731398356,\n",
       " 'KONSUMNAEHE': -0.051885697699714614,\n",
       " 'PLZ8_ANTG1': -0.05084933247746686,\n",
       " 'SHOPPER_TYP_3.0': -0.04868514069761994,\n",
       " 'HH_EINKOMMEN_SCORE': -0.0475015807759348,\n",
       " 'ZABEOTYP_3': -0.044140696383023384,\n",
       " 'KKK': -0.041477808751737434,\n",
       " 'FINANZ_UNAUFFAELLIGER': -0.04125287324139426,\n",
       " 'GEBAEUDETYP_RASTER': -0.03875670475912048,\n",
       " 'CAMEO_INTL_2015_Wealth_20.0': -0.038106942080114684,\n",
       " 'PRAEGENDE_JUGENDJAHRE_Date_90.0': -0.0379893661154912,\n",
       " 'LP_FAMILIE_FEIN_4.0': -0.037932669728200134,\n",
       " 'PLZ8_GBZ': -0.037775988954502196,\n",
       " 'LP_STATUS_GROB_2.0': -0.03615129584441386,\n",
       " 'CJT_GESAMTTYP_2.0': -0.032898360344547746,\n",
       " 'CAMEO_DEUG_2015_4': -0.0313944480075614,\n",
       " 'NATIONALITAET_KZ_3.0': -0.028809011753751047,\n",
       " 'FINANZTYP_2': -0.028802087152706324,\n",
       " 'ZABEOTYP_5': -0.02657733747326879,\n",
       " 'LP_FAMILIE_FEIN_5.0': -0.026358452889320712,\n",
       " 'LP_FAMILIE_FEIN_3.0': -0.025124788000119504,\n",
       " 'REGIOTYP': -0.024317455331624285,\n",
       " 'GFK_URLAUBERTYP_9.0': -0.024241926335276418,\n",
       " 'CJT_GESAMTTYP_6.0': -0.023145892603505535,\n",
       " 'MOBI_REGIO': -0.02282597745894732,\n",
       " 'KBA13_ANZAHL_PKW': -0.021920326798363143,\n",
       " 'SEMIO_PFLICHT': -0.020683737959855907,\n",
       " 'GFK_URLAUBERTYP_12.0': -0.020613432744359537,\n",
       " 'CAMEO_INTL_2015_LifeStage_2.0': -0.020337793911860927,\n",
       " 'LP_STATUS_FEIN_5.0': -0.02031121312390031,\n",
       " 'KBA05_GBZ': -0.020150128510072328,\n",
       " 'CAMEO_INTL_2015_LifeStage_3.0': -0.019038737622649137,\n",
       " 'CAMEO_DEUG_2015_3': -0.018272937585651534,\n",
       " 'LP_STATUS_GROB_4.0': -0.01818271600791457,\n",
       " 'LP_STATUS_GROB_1.0': -0.01708813131255972,\n",
       " 'LP_STATUS_FEIN_9.0': -0.016670683445628286,\n",
       " 'MIN_GEBAEUDEJAHR': -0.01636895479809119,\n",
       " 'SEMIO_TRADV': -0.013169934793639013,\n",
       " 'KBA05_ANTG1': -0.0131379357882954,\n",
       " 'LP_FAMILIE_FEIN_1.0': -0.0130856529815472,\n",
       " 'LP_FAMILIE_GROB_1.0': -0.0130856529815472,\n",
       " 'GFK_URLAUBERTYP_2.0': -0.012805618531290325,\n",
       " 'KBA05_ANTG2': -0.010757411553920303,\n",
       " 'LP_FAMILIE_FEIN_7.0': -0.010210584170997475,\n",
       " 'CAMEO_DEUG_2015_6': -0.009495391006067042,\n",
       " 'ZABEOTYP_2': -0.009432455602372226,\n",
       " 'LP_FAMILIE_GROB_4.0': -0.009036033310970311,\n",
       " 'LP_FAMILIE_FEIN_6.0': -0.008740098450866096,\n",
       " 'VERS_TYP_1.0': -0.00852337039763147,\n",
       " 'LP_STATUS_FEIN_8.0': -0.006204858983816714,\n",
       " 'FINANZTYP_6': -0.005614253937232197,\n",
       " 'ONLINE_AFFINITAET': -0.005549472031607493,\n",
       " 'CAMEO_INTL_2015_LifeStage_4.0': -0.004841320051617082,\n",
       " 'HEALTH_TYP': -0.004824698830849905,\n",
       " 'GFK_URLAUBERTYP_11.0': -0.003519982295303452,\n",
       " 'CAMEO_INTL_2015_Wealth_40.0': -0.0006756963005573817,\n",
       " 'PRAEGENDE_JUGENDJAHRE_Date_70.0': -0.0006514268010444142,\n",
       " 'CAMEO_DEUG_2015_7': -0.000398806892643618,\n",
       " 'OST_WEST_KZ': -0.0001299187352838747,\n",
       " 'CAMEO_INTL_2015_Wealth_30.0': 7.960027085398561e-05,\n",
       " 'CAMEO_DEUG_2015_5': 0.00015408689507633033,\n",
       " 'SOHO_KZ': 0.0005755212653131149,\n",
       " 'KBA05_ANTG3': 0.0011110831231479288,\n",
       " 'GFK_URLAUBERTYP_1.0': 0.0015886488517650476,\n",
       " 'LP_FAMILIE_FEIN_8.0': 0.0016134905932358968,\n",
       " 'GFK_URLAUBERTYP_7.0': 0.0019112191290014935,\n",
       " 'GFK_URLAUBERTYP_3.0': 0.001992855711052389,\n",
       " 'LP_FAMILIE_FEIN_9.0': 0.0026994740201923186,\n",
       " 'CAMEO_INTL_2015_LifeStage_5.0': 0.0035807974207883427,\n",
       " 'GFK_URLAUBERTYP_10.0': 0.005882483735483085,\n",
       " 'GFK_URLAUBERTYP_6.0': 0.0064405566279110305,\n",
       " 'PRAEGENDE_JUGENDJAHRE_Date_80.0': 0.006535855543351213,\n",
       " 'CAMEO_DEUG_2015_2': 0.007177100399774141,\n",
       " 'GFK_URLAUBERTYP_5.0': 0.009244638529879645,\n",
       " 'NATIONALITAET_KZ_1.0': 0.009833729966656612,\n",
       " 'CJT_GESAMTTYP_5.0': 0.010789886453514325,\n",
       " 'PRAEGENDE_JUGENDJAHRE_Date_40.0': 0.01108827934433438,\n",
       " 'LP_FAMILIE_FEIN_11.0': 0.011394231456911213,\n",
       " 'ALTERSKATEGORIE_GROB': 0.011551381023553934,\n",
       " 'GFK_URLAUBERTYP_8.0': 0.011681513382672417,\n",
       " 'FINANZTYP_4': 0.012870054481543013,\n",
       " 'CJT_GESAMTTYP_1.0': 0.012919875458838766,\n",
       " 'ANZ_HH_TITEL': 0.013621525852806807,\n",
       " 'CAMEO_DEUG_2015_8': 0.013698524153458002,\n",
       " 'ANZ_TITEL': 0.014542808366678754,\n",
       " 'CJT_GESAMTTYP_3.0': 0.014680013958920475,\n",
       " 'CJT_GESAMTTYP_4.0': 0.015568779387594425,\n",
       " 'PLZ8_HHZ': 0.01590377483893986,\n",
       " 'LP_FAMILIE_FEIN_10.0': 0.01611330644636816,\n",
       " 'CAMEO_INTL_2015_Wealth_10.0': 0.018603886073606683,\n",
       " 'ANZ_HAUSHALTE_AKTIV': 0.02019103075706631,\n",
       " 'SEMIO_LUST': 0.02046162930023861,\n",
       " 'LP_FAMILIE_GROB_5.0': 0.021156549956574504,\n",
       " 'CAMEO_DEUG_2015_1': 0.021282249944598826,\n",
       " 'WOHNDAUER_2008': 0.021464580118516135,\n",
       " 'VERS_TYP_2.0': 0.02159835434268398,\n",
       " 'LP_LEBENSPHASE_GROB': 0.02170966012994032,\n",
       " 'ANZ_PERSONEN': 0.02195395209579286,\n",
       " 'CAMEO_INTL_2015_Wealth_50.0': 0.021985275702918763,\n",
       " 'LP_LEBENSPHASE_FEIN': 0.02219404697208712,\n",
       " 'LP_STATUS_FEIN_6.0': 0.02222332118646686,\n",
       " 'CAMEO_DEUG_2015_9': 0.022658154147409067,\n",
       " 'KBA05_ANTG4': 0.022820215236334564,\n",
       " 'FINANZTYP_3': 0.022835326557892048,\n",
       " 'LP_STATUS_FEIN_7.0': 0.025538490559428733,\n",
       " 'LP_FAMILIE_FEIN_2.0': 0.026002506933488868,\n",
       " 'LP_FAMILIE_GROB_2.0': 0.026002506933488868,\n",
       " 'GFK_URLAUBERTYP_4.0': 0.02614129535405452,\n",
       " 'PRAEGENDE_JUGENDJAHRE_Date_50.0': 0.026232668646334015,\n",
       " 'PRAEGENDE_JUGENDJAHRE_Date_60.0': 0.027849965795355494,\n",
       " 'CAMEO_INTL_2015_LifeStage_1.0': 0.029830634411206505,\n",
       " 'NATIONALITAET_KZ_2.0': 0.03090018630877834,\n",
       " 'LP_STATUS_GROB_3.0': 0.03227493270868372,\n",
       " 'ARBEIT': 0.03950369908557987,\n",
       " 'PLZ8_ANTG2': 0.040425001643547974,\n",
       " 'RELAT_AB': 0.0409678979867429,\n",
       " 'LP_STATUS_FEIN_1.0': 0.04268125628364861,\n",
       " 'FINANZ_VORSORGER': 0.04377238251849802,\n",
       " 'LP_STATUS_FEIN_3.0': 0.04554556735829892,\n",
       " 'ZABEOTYP_6': 0.047562691463792,\n",
       " 'SHOPPER_TYP_1.0': 0.04910320668760772,\n",
       " 'W_KEIT_KIND_HH': 0.05300257805022375,\n",
       " 'PLZ8_ANTG4': 0.05530567980533652,\n",
       " 'PLZ8_ANTG3': 0.05563894815929763,\n",
       " 'PLZ8_BAUMAX': 0.056397169308946324,\n",
       " 'LP_STATUS_FEIN_10.0': 0.06742537618366641,\n",
       " 'LP_STATUS_GROB_5.0': 0.06742537618366641,\n",
       " 'RETOURTYP_BK_S': 0.07285576595932947,\n",
       " 'EWDICHTE': 0.07546106946156653,\n",
       " 'ORTSGR_KLS9': 0.07595146479535213,\n",
       " 'SEMIO_MAT': 0.08747659418536885,\n",
       " 'PRAEGENDE_JUGENDJAHRE_Movement': 0.08833665139440636,\n",
       " 'GREEN_AVANTGARDE': 0.09052890408234324,\n",
       " 'SEMIO_REL': 0.11472304043339844,\n",
       " 'ZABEOTYP_1': 0.12122307968509909,\n",
       " 'SHOPPER_TYP_0.0': 0.12197612628146637,\n",
       " 'FINANZ_MINIMALIST': 0.12968529791048056,\n",
       " 'FINANZTYP_5': 0.13656147838839847,\n",
       " 'SEMIO_KULT': 0.24818288736795233,\n",
       " 'SEMIO_SOZ': 0.25576264071148236,\n",
       " 'SEMIO_FAM': 0.25694224158614254,\n",
       " 'SEMIO_VERT': 0.31536538822736404}"
      ]
     },
     "execution_count": 241,
     "metadata": {},
     "output_type": "execute_result"
    }
   ],
   "source": [
    "#3rd clusrer\n",
    "mapping_weights(pca,2)"
   ]
  },
  {
   "cell_type": "markdown",
   "metadata": {},
   "source": [
    "### Discussion: Compare Customer Data to Demographics Data\n",
    "\n",
    "By evaluating the count and bar plots above, we can see that the company's customer base is not universal. There is some mismatch between segments of population. \n",
    "\n",
    "Some of those segments seem to be overrepresented in the customer data which indicates that they are groups that the company should target.\n",
    "\n",
    "While other segments appear to be underrepresented in the customer data which indicate that these groups of people are outside the company's target demographics.\n",
    "\n",
    "One particular group that seems to be overrepresented in the customer data and the company should target is being represented by the 13th cluster (12), in the customer data and seems to have a difference of 10% from the people of the general population.\n",
    "\n",
    "By looking into the the dictionary that we created at 2.3 we can easily see that this group of people has some prevalent characteristics: \n",
    "-Positive ones are: -Are Prosperous - Are Couples -Consumption-oriented MiddleClass\n",
    "-Most negative ones: -Are Families -Housholds -are Wealthy -Upper Middle Class\n",
    "We can indeed notice that there is a negative correlation between them.\n",
    "\n",
    "Now, one group that seems to be underrepresented in the customer data and lies outside the company's target group is represented by the third cluster (2) and shows significant difference in percentage to the general population.\n",
    "\n",
    "The characteristics of this group seem to be mostly about personality types\n",
    "\n",
    "-Are dreamful -Are family-oriented -Are socially minded -Culturally Minded -Investors\n",
    "\n",
    "Their negative attributes are:\n",
    "\n",
    "-Gender. Which likely shows that their personality types are independent of their gender\n",
    "-Combative attitude -Dominant minded -Critical minded -Event oriented -Low investors\n",
    "\n",
    "We can verify the negative correlation of the characteristics.\n",
    "\n",
    "\n",
    "\n",
    "\n",
    "\n",
    "\n",
    "\n",
    "(Double-click this cell and replace this text with your own text, reporting findings and conclusions from the clustering analysis. Can we describe segments of the population that are relatively popular with the mail-order company, or relatively unpopular with the company?)"
   ]
  }
 ],
 "metadata": {
  "kernelspec": {
   "display_name": "Python 3",
   "language": "python",
   "name": "python3"
  },
  "language_info": {
   "codemirror_mode": {
    "name": "ipython",
    "version": 3
   },
   "file_extension": ".py",
   "mimetype": "text/x-python",
   "name": "python",
   "nbconvert_exporter": "python",
   "pygments_lexer": "ipython3",
   "version": "3.8.10"
  }
 },
 "nbformat": 4,
 "nbformat_minor": 2
}
